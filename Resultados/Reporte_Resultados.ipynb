{
 "cells": [
  {
   "cell_type": "markdown",
   "metadata": {},
   "source": [
    "# Reporte de resultados "
   ]
  },
  {
   "cell_type": "markdown",
   "metadata": {},
   "source": [
    "A continuación, este Notebook presentará el reporte de los resultados obtenidos del proyecto de investigación de la librería LIBMF."
   ]
  },
  {
   "cell_type": "markdown",
   "metadata": {},
   "source": [
    "# Base utilizada"
   ]
  },
  {
   "cell_type": "markdown",
   "metadata": {},
   "source": [
    "Para probar la librería utilizamos un extracto de la base de datos original que proviene del concurso de Netflix o Netflix Price que se llevó a cabo en 2009 y fue tomada de la clase de Métodos Analíticos del ITAM impartida por el profesor Felipe González. La base completa contiene más de 100 millones de calificaciones de 480,189 usuarios de la plataforma seleccionados aleatoriamente y más de 17,770 títulos de películas. Las calificaciones obtenidas van en una escala del 1 al 5 y las evaluaciones fueron entre Octubre 1998 a Diciembre 2005."
   ]
  },
  {
   "cell_type": "markdown",
   "metadata": {},
   "source": [
    "Para la evaluación del desempeño de libmf en la predicción de las calificaciones, se separó el dataset original en una muestra de entrenamiento y validación a partir de las columnas peli_id, y usuario_id. Seleccionando aleatoriamente el 20% de los usuarios y películas en validación y el resto en entrenamiento."
   ]
  },
  {
   "cell_type": "markdown",
   "metadata": {},
   "source": [
    "A continuación se muestra un ejemplo de la base utilizada:"
   ]
  },
  {
   "cell_type": "code",
   "execution_count": null,
   "metadata": {},
   "outputs": [],
   "source": [
    "# **Foto de la base**"
   ]
  },
  {
   "cell_type": "markdown",
   "metadata": {},
   "source": [
    "## Requerimientos de infraestructura\n",
    "Con el propósito de reproducibilidad del proyecto y para que todos los equipos (**P-Team**, **R-Team** y **PM**) tuvieran un entorno común de trabajo, se empleó la imagen de docker basada en Python del curso MNO 2020 (palmoreck/jupyterlab_numerical:1.1.0) así como una instancia de AWS. A continuación, se describen los pasos utilizados para la creación de la instancia en AWS para poder trabajar de manera más rápida y eficiente. \n",
    "\n",
    "### Crear la maquina EC2\n",
    "Se utilizó una cuenta de AWS Educate lo cual limitó un poco la opciones a elegir de máquinas EC2.\n",
    "**Paso 1**: Se lanzó una instancia de AWS de tipo EC2, la Amazon Machine Image (AMI) que se eligió fue una del tipo  **ubuntu/images/hvm-ssd/ubuntu-bionic-18.04-amd64-server-20200408**  \n",
    "\n",
    "![AMI](Imagenes/AMI.png)\n",
    "\n",
    "**Paso 2**: El tipo de instancia que se eligió fue una t2.2xlarge que cuenta con 8 VCPUs y tiene 32 GB de memoria RAM y 32GB de memoria en disco duro, originalmente habíamos elegido usar una máquina de tipo p2.xlarge que cuenta con GPUs disponibles pero debido a las restricciones de la cuenta AWS Educate no fue posible.\n",
    "![InstanceType](Imagenes/instance-type.png)\n",
    "\n",
    "```\n",
    "Infraestructura: AWS \n",
    "\n",
    "+ AMI: ubuntu/images/hvm-ssd/ubuntu-bionic-18.04-amd64-server-20200408 (ami-085925f297f89fce1)\n",
    "+ EC2 instance:\n",
    "  + GPU: 1\n",
    "  + vCPU: 8\n",
    "  + RAM: 32 GB\n",
    "  + OS: Linux AMI 2018.03.0\n",
    "  + Storage: 32 GB\n",
    "```\n",
    "**Paso 3**: Se configuró la instancia siguiendo los pasos de la wiki  de AWS del curso de MNO situados en esta liga web https://github.com/ITAM-DS/analisis-numerico-computo-cientifico/wiki/1.1.Configuracion-de-servicios-basicos-para-uso-de-AWS\n",
    "En resumen, se tuvo que configurar una VPC, una subnet pública, un grupo de seguridad, una IP elástica para no tener que cambiar el comando de conexión cada vez que quisiéramos conectarnos a la EC2.\n",
    "**Grupo de seguridad**\n",
    "Se hicieron algunas modificaciones al grupo de seguridad estándar para permitir que todos los miembros del equipo se pudieran conectar de manera fácil al servidor de la EC2  \n",
    "\n",
    "![AMI](Imagenes/securitygroup.png)\n",
    "![AMI](Imagenes/inboundrules.png)\n",
    "\n",
    "**Paso 4**: Se creó un key-pair llamado \"key-mno-2020.pem\"  \n",
    "\n",
    "![AMI](Imagenes/keypair.png)\n",
    "\n",
    "El resultado final fue esta EC2  \n",
    "\n",
    "![AMI](Imagenes/ec2.png)\n",
    "\n",
    "### Instalación de herramientas de trabajo en la EC2\n",
    "\n",
    "Inicialmente se instaló Anaconda en la EC2 pero al final se decidió trabajar con un contenedor de Docker que contiene todos los requerimientos necesarios para ejecutar el código del proyecto.\n",
    "Se corrió un bash script que estaba en la wiki de AWS del repositorio de MNO para instalar git y docker   \n",
    "\n",
    "![AMI](Imagenes/bash-docker.png)\n",
    "\n",
    "Se descargó y utilizó la imagen de docker jupyter_numerical para correr nuestro proyecto.  \n",
    "\n",
    "![AMI](Imagenes/docker-image.png)\n",
    "El comando usado para correr la imagen fue el siguiente\n",
    "Correr docker imagen jupyter_numerical\n",
    "```bash\n",
    "sudo docker run --rm -v /home/ubuntu:/datos --name jupyterlab_numerical -p 8888:8888 -d palmoreck/jupyterlab_numerical:1.1.0 --ip=0.0.0.0 --no-browser\n",
    "```\n",
    "### Conexión a la EC2 y al servidor de Jupyter Lab\n",
    "\n",
    "Para conectarse a la EC2 se usó el siguiente comando en la dirección donde estaba la llave.pem :\n",
    "```bash\n",
    "ssh -i key-mno-2020.pem ubuntu@18.205.126.183\n",
    "```\n",
    "También al inicio del proyecto antes de configurar correctamente el security group fue necesario usar un comando para hacer portforwarding de la EC2 a nuestra computadora y así visualizar el puerto con el Jupyter Notebook:\n",
    "```bash\n",
    "ssh -i \"key-mno-2020.pem\" -NL localhost:5555:localhost:8888 ubuntu@18.205.126.183\n",
    "```\n",
    "\n",
    "Finalmente una vez configurado el security group fue posible conectarse al servidor de Jupyter Lab usando una dirección IP e introduciendo el password: querty\n",
    "http://18.205.126.183:8888/\n",
    "![AMI](Imagenes/login.png)\n",
    "![AMI](Imagenes/jupyterlab.png)"
   ]
  },
  {
   "cell_type": "markdown",
   "metadata": {},
   "source": [
    "# Filtrado de la base"
   ]
  },
  {
   "cell_type": "markdown",
   "metadata": {},
   "source": [
    "Para filtrado de los datos de la base completa, se determinan los siguientes criterios:"
   ]
  },
  {
   "cell_type": "code",
   "execution_count": 2,
   "metadata": {},
   "outputs": [
    {
     "ename": "SyntaxError",
     "evalue": "invalid syntax (<ipython-input-2-c53e856cfcce>, line 1)",
     "output_type": "error",
     "traceback": [
      "\u001b[0;36m  File \u001b[0;32m\"<ipython-input-2-c53e856cfcce>\"\u001b[0;36m, line \u001b[0;32m1\u001b[0m\n\u001b[0;31m    **Desarrollo de criterios y código**\u001b[0m\n\u001b[0m     ^\u001b[0m\n\u001b[0;31mSyntaxError\u001b[0m\u001b[0;31m:\u001b[0m invalid syntax\n"
     ]
    }
   ],
   "source": [
    "# **Desarrollo de criterios y código**"
   ]
  },
  {
   "cell_type": "markdown",
   "metadata": {},
   "source": [
    "# Algortimos utilizados"
   ]
  },
  {
   "cell_type": "markdown",
   "metadata": {},
   "source": [
    "*Introducción a los Algorimos utilizados*"
   ]
  },
  {
   "cell_type": "code",
   "execution_count": 3,
   "metadata": {},
   "outputs": [],
   "source": [
    "# Código de los algoritmos"
   ]
  },
  {
   "cell_type": "markdown",
   "metadata": {},
   "source": [
    "# Análisis de Performance"
   ]
  },
  {
   "cell_type": "markdown",
   "metadata": {},
   "source": [
    "*Con el método ... observamos que ... El tiempo empleado con este método fue...*"
   ]
  },
  {
   "cell_type": "code",
   "execution_count": 6,
   "metadata": {},
   "outputs": [],
   "source": [
    "# Código del método 1 "
   ]
  },
  {
   "cell_type": "code",
   "execution_count": null,
   "metadata": {},
   "outputs": [],
   "source": [
    "# Tablas/Outputs obtenidos"
   ]
  },
  {
   "cell_type": "code",
   "execution_count": null,
   "metadata": {},
   "outputs": [],
   "source": [
    "*Con el método ... observamos que ... El tiempo empleado con este método fue...*"
   ]
  },
  {
   "cell_type": "code",
   "execution_count": 5,
   "metadata": {},
   "outputs": [],
   "source": [
    "# Código del método 2"
   ]
  },
  {
   "cell_type": "code",
   "execution_count": 7,
   "metadata": {},
   "outputs": [],
   "source": [
    "# Tablas/Outputs obtenidos"
   ]
  },
  {
   "cell_type": "markdown",
   "metadata": {},
   "source": [
    "# Conclusiones"
   ]
  },
  {
   "cell_type": "code",
   "execution_count": null,
   "metadata": {},
   "outputs": [],
   "source": []
  }
 ],
 "metadata": {
  "kernelspec": {
   "display_name": "Python 3",
   "language": "python",
   "name": "python3"
  },
  "language_info": {
   "codemirror_mode": {
    "name": "ipython",
    "version": 3
   },
   "file_extension": ".py",
   "mimetype": "text/x-python",
   "name": "python",
   "nbconvert_exporter": "python",
   "pygments_lexer": "ipython3",
   "version": "3.6.9"
  }
 },
 "nbformat": 4,
 "nbformat_minor": 4
}
