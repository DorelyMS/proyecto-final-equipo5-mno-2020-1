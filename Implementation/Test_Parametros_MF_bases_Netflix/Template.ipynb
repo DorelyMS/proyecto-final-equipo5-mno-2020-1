{
 "cells": [
  {
   "cell_type": "markdown",
   "metadata": {},
   "source": [
    "# Pruebas de parámetros en libmf"
   ]
  },
  {
   "cell_type": "markdown",
   "metadata": {},
   "source": [
    "**Fecha:** 18 de Mayo de 2020"
   ]
  },
  {
   "cell_type": "markdown",
   "metadata": {},
   "source": [
    "**Responsables de revisión:** Nombre Completo"
   ]
  },
  {
   "cell_type": "markdown",
   "metadata": {},
   "source": [
    "**Tipo de factorización:** RVMF o NMF (Indicar cuál)"
   ]
  },
  {
   "cell_type": "markdown",
   "metadata": {},
   "source": [
    "**Código implementado:**"
   ]
  },
  {
   "cell_type": "code",
   "execution_count": 5,
   "metadata": {},
   "outputs": [],
   "source": [
    "#Aquí se colocará la sección lista para jugar con los modelos"
   ]
  },
  {
   "cell_type": "markdown",
   "metadata": {},
   "source": [
<<<<<<< HEAD
    "A continuación se presentan los resultados de las pruebas variando los parámetros que recibe el código la función en diferentes rangos para evaluar su comportamiento y/o detectar posibles fallos."
=======
    "A continuación se presentan los de las pruebas variando los parámetros que recibe el código la función en diferentes rangos para evaluar su comportamiento y/o detectar posibles fallos."
   ]
  },
  {
   "cell_type": "code",
   "execution_count": 10,
   "metadata": {},
   "outputs": [],
   "source": [
    "#Revisar página 16 de paper de referencia con los parámetros sugeridos para la base completa del concurso de Netflix con pérdida cuadrática: \n",
    "#https://www.csie.ntu.edu.tw/~cjlin/papers/libmf/libmf_journal.pdf"
>>>>>>> 178fdb2a610bb18c471b9c76d1d63c5779f07eda
   ]
  },
  {
   "cell_type": "markdown",
   "metadata": {},
   "source": [
    "**Test 1**"
   ]
  },
  {
   "cell_type": "markdown",
   "metadata": {},
   "source": [
<<<<<<< HEAD
    "**Objetivo del test 1:** Verificar que la predicción se comporta correctamente con los parámetros por default de la librería y el tipo de factorización indicada"
=======
    "**Objetivo del test 1:** Verificar que la función se comporta correctamente con los parámetros por default de la librería"
>>>>>>> 178fdb2a610bb18c471b9c76d1d63c5779f07eda
   ]
  },
  {
   "cell_type": "markdown",
   "metadata": {},
   "source": [
    "**Implementación del test 1:**"
   ]
  },
  {
   "cell_type": "code",
<<<<<<< HEAD
   "execution_count": 8,
=======
   "execution_count": 1,
>>>>>>> 178fdb2a610bb18c471b9c76d1d63c5779f07eda
   "metadata": {},
   "outputs": [],
   "source": [
    "#Aquí de coloca el código con los parámetros indicados para el Test"
   ]
  },
  {
   "cell_type": "markdown",
   "metadata": {},
   "source": [
<<<<<<< HEAD
    "**Principales hallazos del test 1**"
   ]
  },
  {
   "cell_type": "markdown",
   "metadata": {},
   "source": [
    "Conclusiones Generales:\n",
    "\n",
    "* El algoritmo obtuvo convergencia rápidamente"
=======
    "**Principales hallazos del test 1:**"
>>>>>>> 178fdb2a610bb18c471b9c76d1d63c5779f07eda
   ]
  },
  {
   "cell_type": "markdown",
   "metadata": {},
   "source": [
    "**Test 2**"
   ]
  },
  {
   "cell_type": "markdown",
   "metadata": {},
   "source": [
<<<<<<< HEAD
    "**Objetivo del test 2:** Verificar que la predicción se comporta correctamente sólo incrementando k el número de factores latentes"
=======
    "**Objetivo del test 2:** Verificar que la predicción se comporta correctamente sólo incrementando k el número de factores latentes (k=40 es el sugerido por el paper para f=SE)"
>>>>>>> 178fdb2a610bb18c471b9c76d1d63c5779f07eda
   ]
  },
  {
   "cell_type": "markdown",
   "metadata": {},
   "source": [
    "**Implementación del test 2:**"
   ]
  },
  {
   "cell_type": "code",
<<<<<<< HEAD
   "execution_count": 8,
=======
   "execution_count": 7,
>>>>>>> 178fdb2a610bb18c471b9c76d1d63c5779f07eda
   "metadata": {},
   "outputs": [],
   "source": [
    "#Aquí de coloca el código con los parámetros indicados para el Test"
   ]
  },
  {
   "cell_type": "markdown",
   "metadata": {},
   "source": [
<<<<<<< HEAD
=======
    "**Principales hallazos del test 2:**"
   ]
  },
  {
   "cell_type": "markdown",
   "metadata": {},
   "source": [
>>>>>>> 178fdb2a610bb18c471b9c76d1d63c5779f07eda
    "**Cuadro Resumen de Resultados:**"
   ]
  },
  {
   "cell_type": "markdown",
   "metadata": {},
   "source": [
    "| Test | Parámetros                                         | Tiempo de ejecución (secs) |  Iteraciones | Error |\n",
<<<<<<< HEAD
    "|:-:|-------------------------------------------------------|-------------|-------------|:--------:|\n",
    "| 1 | f=SE, k=8, s=12, n=26, lp1=0.04, lp2=0                   | 1           | [Exp1] |\n",
    "| 2 | Algoritmo One-Sided Jacobi                   | 2           | [Exp2] |\n",
    "| 3 | Método de eliminación por bloques usando SVD | 3           | [Exp3] |\n",
    "| 4 | Método de eliminación por bloques usando SVD | 4           | [Exp4] |\n",
    "| 5 | Método de eliminación por bloques usando SVD | 5           | [Exp5] |\n",
    "| 6 | Método de eliminación por bloques usando SVD | 6           | [Exp6] |"
=======
    "|:-:|-------------------------------------------------------|----------------------------|--------------|:--------:|\n",
    "| 1 | f=SE, k=8, s=12, n=26, lp1=0.04, lp2=0, lq1=0.04, lq2=0, eta=0.1, do_nmf=T, t=20, v=0  | 30.5 secs           | 25           | MAE=0.7865 |\n",
    "| 2 | f=SE, k=8, s=12, n=26, lp1=0.04, lp2=0, lq1=0.04, lq2=0, eta=0.1, do_nmf=T, t=20, v=0  | 30.5 secs                  | 25           | MAE=0.7865 |\n",
    "| 3 | f=SE, k=8, s=12, n=26, lp1=0.04, lp2=0, lq1=0.04, lq2=0, eta=0.1, do_nmf=T, t=20, v=0  | 30.5 secs                  | 25           | MAE=0.7865 |\n",
    "| 4 | f=SE, k=8, s=12, n=26, lp1=0.04, lp2=0, lq1=0.04, lq2=0, eta=0.1, do_nmf=T, t=20, v=0  | 30.5 secs                  | 25           | MAE=0.7865 |\n",
    "| 5 | f=SE, k=8, s=12, n=26, lp1=0.04, lp2=0, lq1=0.04, lq2=0, eta=0.1, do_nmf=T, t=20, v=0  | 30.5 secs                  | 25           | MAE=0.7865 |\n",
    "| 6 | f=SE, k=8, s=12, n=26, lp1=0.04, lp2=0, lq1=0.04, lq2=0, eta=0.1, do_nmf=T, t=20, v=0  | 30.5 secs                  | 25           | MAE=0.7865 |"
>>>>>>> 178fdb2a610bb18c471b9c76d1d63c5779f07eda
   ]
  },
  {
   "cell_type": "markdown",
   "metadata": {},
   "source": [
<<<<<<< HEAD
    "**Conclusiones sobre la totalidad de las pruebas**"
=======
    "**Conclusiones y aprendizajes sobre la totalidad de las pruebas**\n",
    "\n",
    "* El mejor desempeño se obtuvo en el Test x\n",
    "* El número de iteraciones se reducen cuando...\n",
    "* El tiempo de ejecución aumenta significativamente si...\n",
    "* Al cambiar la función de pérdida..."
>>>>>>> 178fdb2a610bb18c471b9c76d1d63c5779f07eda
   ]
  }
 ],
 "metadata": {
  "kernelspec": {
   "display_name": "Python 3",
   "language": "python",
   "name": "python3"
  },
  "language_info": {
   "codemirror_mode": {
    "name": "ipython",
    "version": 3
   },
   "file_extension": ".py",
   "mimetype": "text/x-python",
   "name": "python",
   "nbconvert_exporter": "python",
   "pygments_lexer": "ipython3",
   "version": "3.6.9"
  }
 },
 "nbformat": 4,
 "nbformat_minor": 4
}
