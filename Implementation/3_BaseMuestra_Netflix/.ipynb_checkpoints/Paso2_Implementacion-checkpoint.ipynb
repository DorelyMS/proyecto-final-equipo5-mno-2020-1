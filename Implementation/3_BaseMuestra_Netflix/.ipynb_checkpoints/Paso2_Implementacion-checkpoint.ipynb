{
 "cells": [
  {
   "cell_type": "markdown",
   "metadata": {},
   "source": [
    "# Implementación de nuestro sistema de recomendación con base de datos de Netflix"
   ]
  },
  {
   "cell_type": "markdown",
   "metadata": {},
   "source": [
    "A continuación mostraremos todo el desarrollo de la implementación de nuestro modelo de sistemas de recomendación de películas bajo el enfoque colaborativo para nuestra base de datos de Netlflix que contiene las calificaciones ru,j en escala de 1 a 5 asignadas para una muestra de usuarios de la plataforma."
   ]
  },
  {
   "cell_type": "markdown",
   "metadata": {},
   "source": [
    "Este desarrollo se encuentra organizado de la siguiente manera:\n",
    "\n",
    "* En primer lugar, mostraremos la **Implementación del Sistema de Recomendación de películas a usuarios con una base de datos muestra** que se refiere a un extracto de la base original (Netflix Prize) con 20,968,941 de registros, X número de usuarios y Y número de películas misma que fue tomada de nuestras notas de referencia (AGREGAR LIGA). Para fines ilustrativos, se añade además un ejemplo con las recomendaciones de películas que genera nuestro sistema seleccionanddo un usuario al azar del conjunto de prueba.\n",
    "\n",
    "* Posteriormente y a modo de complemento, se incluye una **Implementación de un modelo predictivo con parámetros sin ajustar para estimar las calificaciones de usuarios a las películas con el dataset completo del Concurso Netflix Prize** que se conforma por (Agregar total de registros, número de usuarios y películas). Esto con el objetivo exhibir que la implementación dentro de libmf permite calcular estimaciones a una matriz R con datasets reales teniendo tiempos de ejecución menores a 1 minuto gracias a sus métodos FPSG (Fast Parallel Sthocastic Gradient) y RPCS (Reduced Per-Coordinate Schedule)."
   ]
  },
  {
   "cell_type": "markdown",
   "metadata": {},
   "source": [
    "## Implementación del Sistema de recomendación con base de datos muestra"
   ]
  },
  {
   "cell_type": "markdown",
   "metadata": {},
   "source": [
    "Como primer paso, se da lectura a la base y se muestra un **análisis exploratorio** de los datos para entender cuáles son sus características."
   ]
  },
  {
   "cell_type": "code",
   "execution_count": null,
   "metadata": {},
   "outputs": [],
   "source": [
    "# Leer los datos\n",
    "# Mostrar cómo está estructurada la base: variables incluidas\n",
    "# Mostrar dimensiones de la base, cuántos usuarios tiene y cuántas películas hay en total\n",
    "# Mostrar Tabla con las 10 películas con calificación más alta y añadir el número de evaluaciones\n",
    "# Comparar este número vs el total de usuarios de la base para resaltar que es muy chico\n",
    "# Calcular promedio de cuántas películas son calificadas por id de usuario\n",
    "# Mencionar que cada usuario sólo ha visto y calificado una proporción baja de películas\n",
    "# Mostrar conteo de películas con menos de 50 evaluaciones (Esto también son datos ralos pues hay películas con pocas vistas)"
   ]
  },
  {
   "cell_type": "markdown",
   "metadata": {},
   "source": [
    "**Filtración de películas y usuarios**"
   ]
  },
  {
   "cell_type": "markdown",
   "metadata": {},
   "source": [
    "De lo analizado anteriormente, si el número de calificaciones por persona en una película es muy chico, entonces nuestro sistema haría recomendaciones de películas poco relevantes. Por ello, se propuso filtrar películas que cuenten con al menos 500 evaluaciones pues representan (AÑADIR PORCENTAJE de cuántos quedan) del total de las películas y filtrar usuarios que hayan evaluado al menos 50 películas (AÑADIR PORCENTAJE de cuántos quedan)"
   ]
  },
  {
   "cell_type": "code",
   "execution_count": null,
   "metadata": {},
   "outputs": [],
   "source": [
    "#Se toma como referencia código de Javi donde filtran \n",
    "#películas por cuantiles y mínimo de reviewers\n",
    "#y se muestra cuántas películas nos quedan al final"
   ]
  },
  {
   "cell_type": "markdown",
   "metadata": {},
   "source": [
    "**Separación de muestras**"
   ]
  },
  {
   "cell_type": "code",
   "execution_count": null,
   "metadata": {},
   "outputs": [],
   "source": [
    "#Asegurarnos de que no haya películas/usuarios en validación que no tengan evaluaciones en entrenamiento"
   ]
  },
  {
   "cell_type": "markdown",
   "metadata": {},
   "source": [
    "#### Ajuste de Modelo\n",
    "\n",
    "¿Qué parámetros se ajustaron para encontrar el mejor modelo para nuestro sistema de recomendación?\n",
    "* k: Dimensiones latentes\n",
    "* Lambda P y Lambda Q usando norma l2: Coeficientes de Regularización para lambda P y lambda Q  \n",
    "* Tasa de Aprendizaje "
   ]
  },
  {
   "cell_type": "markdown",
   "metadata": {},
   "source": [
    "#### Benchmarks de Referencia"
   ]
  },
  {
   "cell_type": "markdown",
   "metadata": {},
   "source": [
    "Con el objetivo de tener una referencia en el desempeño de nuestra implementación, utilizamos los RMSE de referencia que se incluyeron en nuestras notas Base de Felipe.\n",
    "\n",
    "* Modelo trivial: algorithm that predicts for each movie in the quiz set its average grade from the training data produces an RMSE of 1.0540 on test.\n",
    "* Netflix’s own algorithm: Cinematch scored 0.9525 of RMSE on the test set and used \"straightforward statistical linear models with a lot of data conditioning\"."
   ]
  },
  {
   "cell_type": "markdown",
   "metadata": {},
   "source": [
    "**Modelo inicial de predicción de las calificaciones**"
   ]
  },
  {
   "cell_type": "markdown",
   "metadata": {},
   "source": [
    "Los parámetros que usamos para generar una factorización inicial con RVMF y NMF fueron:\n",
    "    \n",
    "* k=40\n",
    "* lampdaP=0.05 (ajusta los descriptores de los usuarios)\n",
    "* lambdaQ=0.05 (ajusta los descriptores de las películas)\n",
    "* Tasa de Aprendizaje (eta)=0.002\n",
    "\n",
    "Mismos que fueron tomados de los papers publicados por los desarrolladores de la librería libmf donde se exhiben resultados del desempeño de la librería con diferentes bases de datos (entre ellas la base de Netflix Prize) como referencia otros trabajos publicados."
   ]
  },
  {
   "cell_type": "code",
   "execution_count": null,
   "metadata": {},
   "outputs": [],
   "source": []
  },
  {
   "cell_type": "markdown",
   "metadata": {},
   "source": [
    "Como nuestro dataset consta de un extracto más pequeño que la base original es posible que el número de dimensiones sea demasiado elevado y en consecuencia debemos reducir el valor de k (puedes usar 30 o 20 como ejemplo) pues esto nos ayudará a lograr capturar regularidades en los datos y no sobreajustar."
   ]
  },
  {
   "cell_type": "code",
   "execution_count": null,
   "metadata": {},
   "outputs": [],
   "source": []
  },
  {
   "cell_type": "markdown",
   "metadata": {},
   "source": [
    "#Hacer un numpy array de cada prueba que contenga va_rmse e iter y graficar:\n",
    "\n",
    "#En eje Y: poner va_rmse que es el RMSE para test  \n",
    "#En eje X: poner iter que corresponde al número de iteración "
   ]
  },
  {
   "cell_type": "markdown",
   "metadata": {},
   "source": []
  },
  {
   "cell_type": "markdown",
   "metadata": {},
   "source": []
  },
  {
   "cell_type": "code",
   "execution_count": null,
   "metadata": {},
   "outputs": [],
   "source": [
    "Selección de Modelos"
   ]
  },
  {
   "cell_type": "code",
   "execution_count": null,
   "metadata": {},
   "outputs": [],
   "source": [
    "Para seleccionar el mejor modelo, se escoge aquel que minimice el error cuadrático medio o RMSE sobre el conjunto de validación RMSE utilizando como función de pérdida a la pérdida cuadrática bajo los tipos de factorización RVMF y NMF buscamos que el modelo final haga buenas predicciones r gorro de (u,j) para la calificación de los usuarios en la muestra de validación habiendo entrenado el modelo con usuarios de entrenamiento."
   ]
  },
  {
   "cell_type": "markdown",
   "metadata": {},
   "source": [
    "obteniendo un ranking de las películas recomendadas de acuerdo a nuestro modelo final"
   ]
  },
  {
   "cell_type": "markdown",
   "metadata": {},
   "source": [
    "#¿Qué tan bueno es la predicción de nuestro modelo?\n",
    "\n",
    "Tomar como referencia los resultados de los ganadores del concurso \n",
    "\n",
    "\n",
    "El ganador del concurso obtuvo 0.8572 de RMSE"
   ]
  },
  {
   "cell_type": "code",
   "execution_count": null,
   "metadata": {},
   "outputs": [],
   "source": []
  },
  {
   "cell_type": "code",
   "execution_count": null,
   "metadata": {},
   "outputs": [],
   "source": [
    "No hemos resulto el problema de películas o usarios con pocas evaluaciones. Como vimos arriba, hay gran variabilidad en los promedios de las películas con pocas evaluaciones, y esto produce error adicional en nuestras predicciones."
   ]
  },
  {
   "cell_type": "markdown",
   "metadata": {},
   "source": [
    "**Modelo inicial de predicción de las calificaciones**"
   ]
  },
  {
   "cell_type": "code",
   "execution_count": null,
   "metadata": {},
   "outputs": [],
   "source": [
    "El método devuelve  la estimación r i,j\n",
    "Número de iteraciones \n",
    "Error RMSE\n",
    "\n",
    "Finalmente, comprobamos la eficiencia del algoritmo para encontrar la convergencia agregando el tiempo que tardó en correr el mejor modelo."
   ]
  },
  {
   "cell_type": "markdown",
   "metadata": {},
   "source": [
    "Ejemplo ilustrativo:\n",
    "\n",
    "Tomar un usuario al azar en el conjunto de prueba que esté en entrenamiento, predecir sus calificaciones \n"
   ]
  },
  {
   "cell_type": "markdown",
   "metadata": {},
   "source": [
    "## Implementación de modelo predictivo no ajustado de las calificaciones de usuarios y películas con el dataset completo del Concurso Netflix Prize"
   ]
  },
  {
   "cell_type": "code",
   "execution_count": null,
   "metadata": {},
   "outputs": [],
   "source": [
    "#Aquí va el ejemplo de Javi tal cual"
   ]
  }
 ],
 "metadata": {
  "kernelspec": {
   "display_name": "Python 3",
   "language": "python",
   "name": "python3"
  },
  "language_info": {
   "codemirror_mode": {
    "name": "ipython",
    "version": 3
   },
   "file_extension": ".py",
   "mimetype": "text/x-python",
   "name": "python",
   "nbconvert_exporter": "python",
   "pygments_lexer": "ipython3",
   "version": "3.7.4"
  }
 },
 "nbformat": 4,
 "nbformat_minor": 4
}
