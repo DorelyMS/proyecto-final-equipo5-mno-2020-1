{
 "cells": [
  {
   "cell_type": "markdown",
   "metadata": {},
   "source": [
    "# Objetivo de este notebook\n",
    "\n",
    "#En este notebook se desarrollará todo el código necesario para establecer un modelo de recomendación de películas a partir la muestra de películas de Netflix conforme a las notas de referencia base:\n",
    "#https://heuristic-bhabha-ae33da.netlify.app/sistemas-de-recomendaci%C3%B3n-y-filtrado-colaborativo.html#ejemplo-datos-de-netflix"
   ]
  },
  {
   "cell_type": "code",
   "execution_count": 1,
   "metadata": {},
   "outputs": [],
   "source": [
    "# Requisitos\n",
    "\n",
    "#Para correr las funciones de la librería libmf de python de este notebook, \n",
    "#debes clonar el repo de https://github.com/PorkShoulderHolder/python-libmf.git\n",
    "#subir este notebook dentro de la carpeta /libmf/tests/\n",
    "\n",
    "#El clonar estos archivos es necesario porque contienen funciones programadas o\n",
    "#ejemplos construidos para exhibir el uso de estos paquetes\n",
    "\n",
    "#si queres correr este notebook a través de docker con la imagen de\n",
    "#jupyer numerical, debes instalar los paquetes libmf y colorama,\n",
    "#ejecutando los comandos de abajo, reiniciando el kernel (luego\n",
    "#puedes comentar con \"#\" los \"pip install\" para que no se vuelvan a ejecutar)\n",
    "\n",
    "#Se deben descargar y colocar en la ruta donde está ubicado este notebook todos los archivos\n",
    "#que se encuentran en este drive:\n",
    "#https://drive.google.com/open?id=1JDWVCH5aCmRW9dLKiht80u5u1sgodgQ8\n",
    "\n",
    "#A continuación se presentan las características de las películas, con el objeto\n",
    "#de conocer un poco más los datos utilizados (pero esta no será la base usada para el modelo)"
   ]
  },
  {
   "cell_type": "code",
   "execution_count": 2,
   "metadata": {},
   "outputs": [],
   "source": [
    "#pip install libmf"
   ]
  },
  {
   "cell_type": "code",
   "execution_count": 3,
   "metadata": {},
   "outputs": [],
   "source": [
    "#pip install colorama"
   ]
  },
  {
   "cell_type": "code",
   "execution_count": 4,
   "metadata": {},
   "outputs": [],
   "source": [
    "#import sys\n",
    "#import numpy as np\n",
    "#import types\n",
    "#import scipy\n",
    "#from scipy.sparse import random\n",
    "#from scipy import stats\n",
    "import pandas as pd\n",
    "#import copy\n",
    "#import random\n",
    "#from functools import partial\n",
    "#from colorama import init\n",
    "\n",
    "#import libmf\n",
    "#from libmf import mf"
   ]
  },
  {
   "cell_type": "markdown",
   "metadata": {},
   "source": [
    "# Funciones auxiliares\n",
    "Para explicar y ejemplificar el uso de libmf"
   ]
  },
  {
   "cell_type": "code",
   "execution_count": 14,
   "metadata": {},
   "outputs": [],
   "source": [
    "#Función auxiliar para obtención de muestras aletorias\n",
    "def muestra_val_ent(df,prop):\n",
    "    \"\"\"\n",
    "    Separa al azar una base dada en 2 bases acorde una proporción de elementos\n",
    "    dada\n",
    "    \n",
    "    params: df    pd.DataFrame (con 3 columnas=['usuario_id','peli_id',\n",
    "                  'calif_x'])\n",
    "            prop  float (0 < prop < 1) proporción de id_usuarios y\n",
    "                  proporción de id_peliculas que se seleccionarán\n",
    "    \n",
    "    return: data_test      pd.DataFrame que tiene base que se usará\n",
    "                           para prueba (por construcción el numero de\n",
    "                           elementos de esta base no necesariamente coincide\n",
    "                           con prop*total de elementos de df)\n",
    "            data_training  pd.DataFrame que tiene base que se usará\n",
    "                           para entrenamiento\n",
    "    \"\"\"\n",
    "    #Base de todos los usuarios\n",
    "    usuarios=pd.DataFrame(df['usuario_id'].unique(), columns=['usuario_id'])\n",
    "    #Muestreo de usuarios\n",
    "    valida_usuarios=usuarios.sample(frac=prop)  \n",
    "\n",
    "    #Base de todas las películas\n",
    "    peliculas=pd.DataFrame(df['peli_id'].unique(), columns=['peli_id'])\n",
    "    #Muestreo de películas\n",
    "    valida_pelis=peliculas.sample(frac=prop)\n",
    "    \n",
    "    #df_valida tiene las columnas usuario_id, peli_id y calif, pero\n",
    "    #sólo incluye los usuarios muestreados en valida_usuarios\n",
    "    df_valida=pd.merge(df,valida_usuarios, on ='usuario_id', how='inner')\n",
    "    #data_valida filtra de la base df_valida los pelis_id muestreas\n",
    "    #en valida_pelis\n",
    "    data_test=pd.merge(df_valida,valida_pelis, on ='peli_id', how='inner')\n",
    "    left=pd.merge(df, data_test, how='left',on=['usuario_id', 'peli_id'])\n",
    "    data_training=left[left.isnull().any(axis=1)][['usuario_id', 'peli_id','calif_x']]\n",
    "    return data_test, data_training"
   ]
  },
  {
   "cell_type": "code",
   "execution_count": null,
   "metadata": {},
   "outputs": [],
   "source": []
  },
  {
   "cell_type": "markdown",
   "metadata": {},
   "source": [
    "# Obtención de muestra base netflix"
   ]
  },
  {
   "cell_type": "code",
   "execution_count": null,
   "metadata": {},
   "outputs": [],
   "source": []
  },
  {
   "cell_type": "code",
   "execution_count": null,
   "metadata": {},
   "outputs": [],
   "source": []
  },
  {
   "cell_type": "code",
   "execution_count": 1,
   "metadata": {},
   "outputs": [
    {
     "data": {
      "text/plain": [
       "'/datos/proyecto-final-equipo5-mno-2020-1/Implementation/Implementacion_final_base_muestra_Netflix'"
      ]
     },
     "execution_count": 1,
     "metadata": {},
     "output_type": "execute_result"
    }
   ],
   "source": [
    "pwd"
   ]
  },
  {
   "cell_type": "code",
   "execution_count": 13,
   "metadata": {},
   "outputs": [
    {
     "name": "stdout",
     "output_type": "stream",
     "text": [
      "/datos/proyecto-final-equipo5-mno-2020-1/Implementation/Codigo_Exploratorio_LIBMF/Sampling_Design/Reference_Files\n"
     ]
    },
    {
     "data": {
      "text/html": [
       "<div>\n",
       "<style scoped>\n",
       "    .dataframe tbody tr th:only-of-type {\n",
       "        vertical-align: middle;\n",
       "    }\n",
       "\n",
       "    .dataframe tbody tr th {\n",
       "        vertical-align: top;\n",
       "    }\n",
       "\n",
       "    .dataframe thead th {\n",
       "        text-align: right;\n",
       "    }\n",
       "</style>\n",
       "<table border=\"1\" class=\"dataframe\">\n",
       "  <thead>\n",
       "    <tr style=\"text-align: right;\">\n",
       "      <th></th>\n",
       "      <th>peli_id</th>\n",
       "      <th>año</th>\n",
       "      <th>nombre</th>\n",
       "    </tr>\n",
       "  </thead>\n",
       "  <tbody>\n",
       "    <tr>\n",
       "      <th>0</th>\n",
       "      <td>1</td>\n",
       "      <td>2003.0</td>\n",
       "      <td>Dinosaur Planet</td>\n",
       "    </tr>\n",
       "    <tr>\n",
       "      <th>1</th>\n",
       "      <td>2</td>\n",
       "      <td>2004.0</td>\n",
       "      <td>Isle of Man TT 2004 Review</td>\n",
       "    </tr>\n",
       "    <tr>\n",
       "      <th>2</th>\n",
       "      <td>3</td>\n",
       "      <td>1997.0</td>\n",
       "      <td>Character</td>\n",
       "    </tr>\n",
       "    <tr>\n",
       "      <th>3</th>\n",
       "      <td>4</td>\n",
       "      <td>1994.0</td>\n",
       "      <td>Paula Abdul's Get Up &amp; Dance</td>\n",
       "    </tr>\n",
       "    <tr>\n",
       "      <th>4</th>\n",
       "      <td>5</td>\n",
       "      <td>2004.0</td>\n",
       "      <td>The Rise and Fall of ECW</td>\n",
       "    </tr>\n",
       "    <tr>\n",
       "      <th>5</th>\n",
       "      <td>6</td>\n",
       "      <td>1997.0</td>\n",
       "      <td>Sick</td>\n",
       "    </tr>\n",
       "    <tr>\n",
       "      <th>6</th>\n",
       "      <td>7</td>\n",
       "      <td>1992.0</td>\n",
       "      <td>8 Man</td>\n",
       "    </tr>\n",
       "    <tr>\n",
       "      <th>7</th>\n",
       "      <td>8</td>\n",
       "      <td>2004.0</td>\n",
       "      <td>What the #$*! Do We Know!?</td>\n",
       "    </tr>\n",
       "    <tr>\n",
       "      <th>8</th>\n",
       "      <td>9</td>\n",
       "      <td>1991.0</td>\n",
       "      <td>Class of Nuke 'Em High 2</td>\n",
       "    </tr>\n",
       "    <tr>\n",
       "      <th>9</th>\n",
       "      <td>10</td>\n",
       "      <td>2001.0</td>\n",
       "      <td>Fighter</td>\n",
       "    </tr>\n",
       "  </tbody>\n",
       "</table>\n",
       "</div>"
      ],
      "text/plain": [
       "   peli_id     año                        nombre\n",
       "0        1  2003.0               Dinosaur Planet\n",
       "1        2  2004.0    Isle of Man TT 2004 Review\n",
       "2        3  1997.0                     Character\n",
       "3        4  1994.0  Paula Abdul's Get Up & Dance\n",
       "4        5  2004.0      The Rise and Fall of ECW\n",
       "5        6  1997.0                          Sick\n",
       "6        7  1992.0                         8 Man\n",
       "7        8  2004.0    What the #$*! Do We Know!?\n",
       "8        9  1991.0      Class of Nuke 'Em High 2\n",
       "9       10  2001.0                       Fighter"
      ]
     },
     "execution_count": 13,
     "metadata": {},
     "output_type": "execute_result"
    }
   ],
   "source": [
    "#ruta instancia\n",
    "%cd /datos/proyecto-final-equipo5-mno-2020-1/Implementation/Codigo_Exploratorio_LIBMF/Sampling_Design/Reference_Files/\n",
    "\n",
    "pelis_nombres=pd.read_csv('movies_title_fix.csv',names=[\"peli_id\", \"año\", \"nombre\"])\n",
    "pelis_nombres.head(10) #para ver cómo se encuentran los datos"
   ]
  },
  {
   "cell_type": "code",
   "execution_count": 17,
   "metadata": {},
   "outputs": [
    {
     "data": {
      "text/plain": [
       "'/datos/proyecto-final-equipo5-mno-2020-1/Implementation/Codigo_Exploratorio_LIBMF/Sampling_Design/Reference_Files'"
      ]
     },
     "execution_count": 17,
     "metadata": {},
     "output_type": "execute_result"
    }
   ],
   "source": [
    "pwd"
   ]
  },
  {
   "cell_type": "code",
   "execution_count": 16,
   "metadata": {},
   "outputs": [
    {
     "name": "stdout",
     "output_type": "stream",
     "text": [
      "[Errno 2] No such file or directory: 'datos/datasets/dat_muestra_nflix.csv #RUTA DE BASE COMPLETA'\n",
      "/datos/proyecto-final-equipo5-mno-2020-1/Implementation/Codigo_Exploratorio_LIBMF/Sampling_Design/Reference_Files\n"
     ]
    },
    {
     "ename": "FileNotFoundError",
     "evalue": "[Errno 2] File dat_muestra_nflix.csv does not exist: 'dat_muestra_nflix.csv'",
     "output_type": "error",
     "traceback": [
      "\u001b[0;31m---------------------------------------------------------------------------\u001b[0m",
      "\u001b[0;31mFileNotFoundError\u001b[0m                         Traceback (most recent call last)",
      "\u001b[0;32m<ipython-input-16-4dfedd3a4d96>\u001b[0m in \u001b[0;36m<module>\u001b[0;34m\u001b[0m\n\u001b[1;32m      3\u001b[0m \u001b[0;34m\u001b[0m\u001b[0m\n\u001b[1;32m      4\u001b[0m \u001b[0mget_ipython\u001b[0m\u001b[0;34m(\u001b[0m\u001b[0;34m)\u001b[0m\u001b[0;34m.\u001b[0m\u001b[0mrun_line_magic\u001b[0m\u001b[0;34m(\u001b[0m\u001b[0;34m'cd'\u001b[0m\u001b[0;34m,\u001b[0m \u001b[0;34m'datos/datasets/dat_muestra_nflix.csv #RUTA DE BASE COMPLETA'\u001b[0m\u001b[0;34m)\u001b[0m\u001b[0;34m\u001b[0m\u001b[0;34m\u001b[0m\u001b[0m\n\u001b[0;32m----> 5\u001b[0;31m \u001b[0mdf_muestra_netflix\u001b[0m\u001b[0;34m=\u001b[0m\u001b[0mpd\u001b[0m\u001b[0;34m.\u001b[0m\u001b[0mread_csv\u001b[0m\u001b[0;34m(\u001b[0m\u001b[0;34m'dat_muestra_nflix.csv'\u001b[0m\u001b[0;34m)\u001b[0m\u001b[0;34m\u001b[0m\u001b[0;34m\u001b[0m\u001b[0m\n\u001b[0m\u001b[1;32m      6\u001b[0m \u001b[0mdf_muestra_netflix_libmf\u001b[0m\u001b[0;34m=\u001b[0m\u001b[0mdf_muestra_netflix\u001b[0m\u001b[0;34m[\u001b[0m\u001b[0;34m[\u001b[0m\u001b[0;34m'usuario_id'\u001b[0m\u001b[0;34m,\u001b[0m \u001b[0;34m'peli_id'\u001b[0m\u001b[0;34m,\u001b[0m \u001b[0;34m'calif'\u001b[0m\u001b[0;34m]\u001b[0m\u001b[0;34m]\u001b[0m\u001b[0;34m\u001b[0m\u001b[0;34m\u001b[0m\u001b[0m\n\u001b[1;32m      7\u001b[0m \u001b[0mdf_muestra_netflix_libmf\u001b[0m\u001b[0;34m.\u001b[0m\u001b[0mshape\u001b[0m\u001b[0;34m\u001b[0m\u001b[0;34m\u001b[0m\u001b[0m\n",
      "\u001b[0;32m~/.local/lib/python3.6/site-packages/pandas/io/parsers.py\u001b[0m in \u001b[0;36mparser_f\u001b[0;34m(filepath_or_buffer, sep, delimiter, header, names, index_col, usecols, squeeze, prefix, mangle_dupe_cols, dtype, engine, converters, true_values, false_values, skipinitialspace, skiprows, skipfooter, nrows, na_values, keep_default_na, na_filter, verbose, skip_blank_lines, parse_dates, infer_datetime_format, keep_date_col, date_parser, dayfirst, cache_dates, iterator, chunksize, compression, thousands, decimal, lineterminator, quotechar, quoting, doublequote, escapechar, comment, encoding, dialect, error_bad_lines, warn_bad_lines, delim_whitespace, low_memory, memory_map, float_precision)\u001b[0m\n\u001b[1;32m    674\u001b[0m         )\n\u001b[1;32m    675\u001b[0m \u001b[0;34m\u001b[0m\u001b[0m\n\u001b[0;32m--> 676\u001b[0;31m         \u001b[0;32mreturn\u001b[0m \u001b[0m_read\u001b[0m\u001b[0;34m(\u001b[0m\u001b[0mfilepath_or_buffer\u001b[0m\u001b[0;34m,\u001b[0m \u001b[0mkwds\u001b[0m\u001b[0;34m)\u001b[0m\u001b[0;34m\u001b[0m\u001b[0;34m\u001b[0m\u001b[0m\n\u001b[0m\u001b[1;32m    677\u001b[0m \u001b[0;34m\u001b[0m\u001b[0m\n\u001b[1;32m    678\u001b[0m     \u001b[0mparser_f\u001b[0m\u001b[0;34m.\u001b[0m\u001b[0m__name__\u001b[0m \u001b[0;34m=\u001b[0m \u001b[0mname\u001b[0m\u001b[0;34m\u001b[0m\u001b[0;34m\u001b[0m\u001b[0m\n",
      "\u001b[0;32m~/.local/lib/python3.6/site-packages/pandas/io/parsers.py\u001b[0m in \u001b[0;36m_read\u001b[0;34m(filepath_or_buffer, kwds)\u001b[0m\n\u001b[1;32m    446\u001b[0m \u001b[0;34m\u001b[0m\u001b[0m\n\u001b[1;32m    447\u001b[0m     \u001b[0;31m# Create the parser.\u001b[0m\u001b[0;34m\u001b[0m\u001b[0;34m\u001b[0m\u001b[0;34m\u001b[0m\u001b[0m\n\u001b[0;32m--> 448\u001b[0;31m     \u001b[0mparser\u001b[0m \u001b[0;34m=\u001b[0m \u001b[0mTextFileReader\u001b[0m\u001b[0;34m(\u001b[0m\u001b[0mfp_or_buf\u001b[0m\u001b[0;34m,\u001b[0m \u001b[0;34m**\u001b[0m\u001b[0mkwds\u001b[0m\u001b[0;34m)\u001b[0m\u001b[0;34m\u001b[0m\u001b[0;34m\u001b[0m\u001b[0m\n\u001b[0m\u001b[1;32m    449\u001b[0m \u001b[0;34m\u001b[0m\u001b[0m\n\u001b[1;32m    450\u001b[0m     \u001b[0;32mif\u001b[0m \u001b[0mchunksize\u001b[0m \u001b[0;32mor\u001b[0m \u001b[0miterator\u001b[0m\u001b[0;34m:\u001b[0m\u001b[0;34m\u001b[0m\u001b[0;34m\u001b[0m\u001b[0m\n",
      "\u001b[0;32m~/.local/lib/python3.6/site-packages/pandas/io/parsers.py\u001b[0m in \u001b[0;36m__init__\u001b[0;34m(self, f, engine, **kwds)\u001b[0m\n\u001b[1;32m    878\u001b[0m             \u001b[0mself\u001b[0m\u001b[0;34m.\u001b[0m\u001b[0moptions\u001b[0m\u001b[0;34m[\u001b[0m\u001b[0;34m\"has_index_names\"\u001b[0m\u001b[0;34m]\u001b[0m \u001b[0;34m=\u001b[0m \u001b[0mkwds\u001b[0m\u001b[0;34m[\u001b[0m\u001b[0;34m\"has_index_names\"\u001b[0m\u001b[0;34m]\u001b[0m\u001b[0;34m\u001b[0m\u001b[0;34m\u001b[0m\u001b[0m\n\u001b[1;32m    879\u001b[0m \u001b[0;34m\u001b[0m\u001b[0m\n\u001b[0;32m--> 880\u001b[0;31m         \u001b[0mself\u001b[0m\u001b[0;34m.\u001b[0m\u001b[0m_make_engine\u001b[0m\u001b[0;34m(\u001b[0m\u001b[0mself\u001b[0m\u001b[0;34m.\u001b[0m\u001b[0mengine\u001b[0m\u001b[0;34m)\u001b[0m\u001b[0;34m\u001b[0m\u001b[0;34m\u001b[0m\u001b[0m\n\u001b[0m\u001b[1;32m    881\u001b[0m \u001b[0;34m\u001b[0m\u001b[0m\n\u001b[1;32m    882\u001b[0m     \u001b[0;32mdef\u001b[0m \u001b[0mclose\u001b[0m\u001b[0;34m(\u001b[0m\u001b[0mself\u001b[0m\u001b[0;34m)\u001b[0m\u001b[0;34m:\u001b[0m\u001b[0;34m\u001b[0m\u001b[0;34m\u001b[0m\u001b[0m\n",
      "\u001b[0;32m~/.local/lib/python3.6/site-packages/pandas/io/parsers.py\u001b[0m in \u001b[0;36m_make_engine\u001b[0;34m(self, engine)\u001b[0m\n\u001b[1;32m   1112\u001b[0m     \u001b[0;32mdef\u001b[0m \u001b[0m_make_engine\u001b[0m\u001b[0;34m(\u001b[0m\u001b[0mself\u001b[0m\u001b[0;34m,\u001b[0m \u001b[0mengine\u001b[0m\u001b[0;34m=\u001b[0m\u001b[0;34m\"c\"\u001b[0m\u001b[0;34m)\u001b[0m\u001b[0;34m:\u001b[0m\u001b[0;34m\u001b[0m\u001b[0;34m\u001b[0m\u001b[0m\n\u001b[1;32m   1113\u001b[0m         \u001b[0;32mif\u001b[0m \u001b[0mengine\u001b[0m \u001b[0;34m==\u001b[0m \u001b[0;34m\"c\"\u001b[0m\u001b[0;34m:\u001b[0m\u001b[0;34m\u001b[0m\u001b[0;34m\u001b[0m\u001b[0m\n\u001b[0;32m-> 1114\u001b[0;31m             \u001b[0mself\u001b[0m\u001b[0;34m.\u001b[0m\u001b[0m_engine\u001b[0m \u001b[0;34m=\u001b[0m \u001b[0mCParserWrapper\u001b[0m\u001b[0;34m(\u001b[0m\u001b[0mself\u001b[0m\u001b[0;34m.\u001b[0m\u001b[0mf\u001b[0m\u001b[0;34m,\u001b[0m \u001b[0;34m**\u001b[0m\u001b[0mself\u001b[0m\u001b[0;34m.\u001b[0m\u001b[0moptions\u001b[0m\u001b[0;34m)\u001b[0m\u001b[0;34m\u001b[0m\u001b[0;34m\u001b[0m\u001b[0m\n\u001b[0m\u001b[1;32m   1115\u001b[0m         \u001b[0;32melse\u001b[0m\u001b[0;34m:\u001b[0m\u001b[0;34m\u001b[0m\u001b[0;34m\u001b[0m\u001b[0m\n\u001b[1;32m   1116\u001b[0m             \u001b[0;32mif\u001b[0m \u001b[0mengine\u001b[0m \u001b[0;34m==\u001b[0m \u001b[0;34m\"python\"\u001b[0m\u001b[0;34m:\u001b[0m\u001b[0;34m\u001b[0m\u001b[0;34m\u001b[0m\u001b[0m\n",
      "\u001b[0;32m~/.local/lib/python3.6/site-packages/pandas/io/parsers.py\u001b[0m in \u001b[0;36m__init__\u001b[0;34m(self, src, **kwds)\u001b[0m\n\u001b[1;32m   1889\u001b[0m         \u001b[0mkwds\u001b[0m\u001b[0;34m[\u001b[0m\u001b[0;34m\"usecols\"\u001b[0m\u001b[0;34m]\u001b[0m \u001b[0;34m=\u001b[0m \u001b[0mself\u001b[0m\u001b[0;34m.\u001b[0m\u001b[0musecols\u001b[0m\u001b[0;34m\u001b[0m\u001b[0;34m\u001b[0m\u001b[0m\n\u001b[1;32m   1890\u001b[0m \u001b[0;34m\u001b[0m\u001b[0m\n\u001b[0;32m-> 1891\u001b[0;31m         \u001b[0mself\u001b[0m\u001b[0;34m.\u001b[0m\u001b[0m_reader\u001b[0m \u001b[0;34m=\u001b[0m \u001b[0mparsers\u001b[0m\u001b[0;34m.\u001b[0m\u001b[0mTextReader\u001b[0m\u001b[0;34m(\u001b[0m\u001b[0msrc\u001b[0m\u001b[0;34m,\u001b[0m \u001b[0;34m**\u001b[0m\u001b[0mkwds\u001b[0m\u001b[0;34m)\u001b[0m\u001b[0;34m\u001b[0m\u001b[0;34m\u001b[0m\u001b[0m\n\u001b[0m\u001b[1;32m   1892\u001b[0m         \u001b[0mself\u001b[0m\u001b[0;34m.\u001b[0m\u001b[0munnamed_cols\u001b[0m \u001b[0;34m=\u001b[0m \u001b[0mself\u001b[0m\u001b[0;34m.\u001b[0m\u001b[0m_reader\u001b[0m\u001b[0;34m.\u001b[0m\u001b[0munnamed_cols\u001b[0m\u001b[0;34m\u001b[0m\u001b[0;34m\u001b[0m\u001b[0m\n\u001b[1;32m   1893\u001b[0m \u001b[0;34m\u001b[0m\u001b[0m\n",
      "\u001b[0;32mpandas/_libs/parsers.pyx\u001b[0m in \u001b[0;36mpandas._libs.parsers.TextReader.__cinit__\u001b[0;34m()\u001b[0m\n",
      "\u001b[0;32mpandas/_libs/parsers.pyx\u001b[0m in \u001b[0;36mpandas._libs.parsers.TextReader._setup_parser_source\u001b[0;34m()\u001b[0m\n",
      "\u001b[0;31mFileNotFoundError\u001b[0m: [Errno 2] File dat_muestra_nflix.csv does not exist: 'dat_muestra_nflix.csv'"
     ]
    }
   ],
   "source": [
    "#La base tiene peli_id, usuario_id_orig, calif, fecha y usuario_id. Se trabajará solo\n",
    "#con las columnas de usuario, pelicula y calificación\n",
    "\n",
    "%cd datos/datasets/dat_muestra_nflix.csv #RUTA DE BASE COMPLETA\n",
    "df_muestra_netflix=pd.read_csv('dat_muestra_nflix.csv')\n",
    "df_muestra_netflix_libmf=df_muestra_netflix[['usuario_id', 'peli_id', 'calif']]\n",
    "df_muestra_netflix_libmf.shape"
   ]
  },
  {
   "cell_type": "code",
   "execution_count": 46,
   "metadata": {},
   "outputs": [
    {
     "name": "stdout",
     "output_type": "stream",
     "text": [
      "/datos/datasets\n"
     ]
    }
   ],
   "source": [
    "#Se genera una base de validación que contendrá el 20% de los datos\n",
    "#y una base de entrenamiento que tendrá el restante 80%\n",
    "random.seed(28882)\n",
    "\n",
    "data_valida, data_entrena=muestra_val_ent(df_muestra_netflix_libmf,0.2)\n",
    "\n",
    "################################################################################################################\n",
    "#################### ESTO GUARDA LAS BASES QUE USA ESTE NOTEBOOK EN LA CARPETA DONDE ########################\n",
    "################################# ESTA GUARDADO ESTE NOTEBOOK ###############################################\n",
    "################################################################################################################\n",
    "#puedes guardar las bases como un .csv dentro del directorio donde está este notebook\n",
    "%cd /datos/datasets\n",
    "data_valida.to_csv(r'data_valida.csv', index = False)    \n",
    "data_entrena.to_csv(r'data_entrena.csv', index = False)    \n",
    "\n",
    "#Base de todos los usuarios\n",
    "usuarios=pd.DataFrame(df_muestra_netflix_libmf['usuario_id'].unique(), columns=['usuario_id'])\n",
    "#Muestreo de usuarios\n",
    "valida_usuarios=usuarios.sample(frac=0.2)  \n",
    "\n",
    "#Base de todas las películas\n",
    "peliculas=pd.DataFrame(df_muestra_netflix_libmf['peli_id'].unique(), columns=['peli_id'])\n",
    "#Muestreo de películas\n",
    "valida_pelis=peliculas.sample(frac=0.2)"
   ]
  },
  {
   "cell_type": "code",
   "execution_count": null,
   "metadata": {},
   "outputs": [],
   "source": []
  },
  {
   "cell_type": "code",
   "execution_count": 47,
   "metadata": {},
   "outputs": [],
   "source": [
    "#df_valida tiene las columnas usuario_id, peli_id y calif, pero\n",
    "#sólo incluye los usuarios muestreados en valida_usuarios\n",
    "df_valida=pd.merge(df_muestra_netflix_libmf,valida_usuarios, on ='usuario_id', how='inner')\n",
    "#data_valida filtra de la base df_valida los pelis_id muestreas\n",
    "#en valida_pelis\n",
    "data_valida=pd.merge(df_valida,valida_pelis, on ='peli_id', how='inner')\n",
    "#guardamos data_valida como un .csv dentro del directorio donde está este notebook\n",
    "data_valida.to_csv(r'muestra_valida.csv', index = False)\n",
    "left= pd.merge(df_muestra_netflix_libmf, data_valida, how='left',on=['usuario_id', 'peli_id'])\n",
    "data_entrena=left[left.isnull().any(axis=1)][['usuario_id', 'peli_id','calif_x']]"
   ]
  },
  {
   "cell_type": "code",
   "execution_count": 48,
   "metadata": {},
   "outputs": [
    {
     "data": {
      "text/html": [
       "<div>\n",
       "<style scoped>\n",
       "    .dataframe tbody tr th:only-of-type {\n",
       "        vertical-align: middle;\n",
       "    }\n",
       "\n",
       "    .dataframe tbody tr th {\n",
       "        vertical-align: top;\n",
       "    }\n",
       "\n",
       "    .dataframe thead th {\n",
       "        text-align: right;\n",
       "    }\n",
       "</style>\n",
       "<table border=\"1\" class=\"dataframe\">\n",
       "  <thead>\n",
       "    <tr style=\"text-align: right;\">\n",
       "      <th></th>\n",
       "      <th>usuario_id</th>\n",
       "      <th>peli_id</th>\n",
       "      <th>calif</th>\n",
       "    </tr>\n",
       "  </thead>\n",
       "  <tbody>\n",
       "    <tr>\n",
       "      <th>0</th>\n",
       "      <td>3</td>\n",
       "      <td>14686</td>\n",
       "      <td>4</td>\n",
       "    </tr>\n",
       "    <tr>\n",
       "      <th>1</th>\n",
       "      <td>125</td>\n",
       "      <td>14686</td>\n",
       "      <td>3</td>\n",
       "    </tr>\n",
       "    <tr>\n",
       "      <th>2</th>\n",
       "      <td>2036</td>\n",
       "      <td>14686</td>\n",
       "      <td>3</td>\n",
       "    </tr>\n",
       "    <tr>\n",
       "      <th>3</th>\n",
       "      <td>2729</td>\n",
       "      <td>14686</td>\n",
       "      <td>3</td>\n",
       "    </tr>\n",
       "    <tr>\n",
       "      <th>4</th>\n",
       "      <td>4054</td>\n",
       "      <td>14686</td>\n",
       "      <td>3</td>\n",
       "    </tr>\n",
       "  </tbody>\n",
       "</table>\n",
       "</div>"
      ],
      "text/plain": [
       "   usuario_id  peli_id  calif\n",
       "0           3    14686      4\n",
       "1         125    14686      3\n",
       "2        2036    14686      3\n",
       "3        2729    14686      3\n",
       "4        4054    14686      3"
      ]
     },
     "metadata": {},
     "output_type": "display_data"
    },
    {
     "data": {
      "text/plain": [
       "(855270, 3)"
      ]
     },
     "execution_count": 48,
     "metadata": {},
     "output_type": "execute_result"
    }
   ],
   "source": [
    "display(data_valida.head(5))\n",
    "data_valida.shape"
   ]
  },
  {
   "cell_type": "code",
   "execution_count": 49,
   "metadata": {},
   "outputs": [
    {
     "data": {
      "text/html": [
       "<div>\n",
       "<style scoped>\n",
       "    .dataframe tbody tr th:only-of-type {\n",
       "        vertical-align: middle;\n",
       "    }\n",
       "\n",
       "    .dataframe tbody tr th {\n",
       "        vertical-align: top;\n",
       "    }\n",
       "\n",
       "    .dataframe thead th {\n",
       "        text-align: right;\n",
       "    }\n",
       "</style>\n",
       "<table border=\"1\" class=\"dataframe\">\n",
       "  <thead>\n",
       "    <tr style=\"text-align: right;\">\n",
       "      <th></th>\n",
       "      <th>usuario_id</th>\n",
       "      <th>peli_id</th>\n",
       "      <th>calif_x</th>\n",
       "    </tr>\n",
       "  </thead>\n",
       "  <tbody>\n",
       "    <tr>\n",
       "      <th>0</th>\n",
       "      <td>1</td>\n",
       "      <td>1</td>\n",
       "      <td>3</td>\n",
       "    </tr>\n",
       "    <tr>\n",
       "      <th>1</th>\n",
       "      <td>2</td>\n",
       "      <td>1</td>\n",
       "      <td>3</td>\n",
       "    </tr>\n",
       "    <tr>\n",
       "      <th>2</th>\n",
       "      <td>3</td>\n",
       "      <td>1</td>\n",
       "      <td>4</td>\n",
       "    </tr>\n",
       "    <tr>\n",
       "      <th>3</th>\n",
       "      <td>4</td>\n",
       "      <td>1</td>\n",
       "      <td>4</td>\n",
       "    </tr>\n",
       "    <tr>\n",
       "      <th>4</th>\n",
       "      <td>5</td>\n",
       "      <td>1</td>\n",
       "      <td>4</td>\n",
       "    </tr>\n",
       "  </tbody>\n",
       "</table>\n",
       "</div>"
      ],
      "text/plain": [
       "   usuario_id  peli_id  calif_x\n",
       "0           1        1        3\n",
       "1           2        1        3\n",
       "2           3        1        4\n",
       "3           4        1        4\n",
       "4           5        1        4"
      ]
     },
     "metadata": {},
     "output_type": "display_data"
    },
    {
     "data": {
      "text/plain": [
       "(20113671, 3)"
      ]
     },
     "execution_count": 49,
     "metadata": {},
     "output_type": "execute_result"
    }
   ],
   "source": [
    "display(data_entrena.head(5))\n",
    "data_entrena.shape"
   ]
  },
  {
   "cell_type": "code",
   "execution_count": 55,
   "metadata": {},
   "outputs": [
    {
     "name": "stdout",
     "output_type": "stream",
     "text": [
      "/home/miuser/libmf/demo\n"
     ]
    }
   ],
   "source": [
    "#podemos cambiar el directorio para que se guarde la base\n",
    "#dentro del directorio donde están las funciones de libmf\n",
    "#se guarda con la extensión .tr.txt porque es la extensión\n",
    "#que requiere la paquetería de libmf\n",
    "\n",
    "################################################################################################################\n",
    "################# CON ESTE CÓDIGO GUARDA LAS BASES CREADAS DE data_valida.te.txt Y #############################\n",
    "################### data_entrena.tr.txt REQUERIDAS PARA CORRER UN MODELO EN LIBMF ##############################\n",
    "############ PERO IGUAL ESTO QUEDA DESECHADO SI SÓLO SE VA A OCUPAR LA LIBRERÍA LIBMF-PYTHON ###################\n",
    "################################################################################################################\n",
    "%cd /datos/miuser/libmf/demo\n",
    "np.savetxt('data_valida.te.txt', data_valida.to_numpy(), delimiter=' ', fmt=\"%.0f\")\n",
    "np.savetxt('data_entrena.tr.txt', data_entrena.to_numpy(), delimiter=' ', fmt=\"%.0f\")"
   ]
  },
  {
   "cell_type": "code",
   "execution_count": 56,
   "metadata": {},
   "outputs": [
    {
     "name": "stdout",
     "output_type": "stream",
     "text": [
      "La suma de elementos de data_valida + data_entrena: 20968941\n",
      "El total de elementos de df_muestra_netflix_libmf es: 20968941\n"
     ]
    }
   ],
   "source": [
    "#La base de df_muestra_valida_libmf ha quedado dividida por\n",
    "#dos dataframes exluyenntes: data_valida y data_entrena\n",
    "print(\"La suma de elementos de data_valida + data_entrena:\",data_valida.shape[0] + data_entrena.shape[0])\n",
    "print(\"El total de elementos de df_muestra_netflix_libmf es:\",df_muestra_netflix_libmf.shape[0])"
   ]
  },
  {
   "cell_type": "code",
   "execution_count": 57,
   "metadata": {},
   "outputs": [
    {
     "data": {
      "text/html": [
       "<div>\n",
       "<style scoped>\n",
       "    .dataframe tbody tr th:only-of-type {\n",
       "        vertical-align: middle;\n",
       "    }\n",
       "\n",
       "    .dataframe tbody tr th {\n",
       "        vertical-align: top;\n",
       "    }\n",
       "\n",
       "    .dataframe thead th {\n",
       "        text-align: right;\n",
       "    }\n",
       "</style>\n",
       "<table border=\"1\" class=\"dataframe\">\n",
       "  <thead>\n",
       "    <tr style=\"text-align: right;\">\n",
       "      <th></th>\n",
       "      <th>row</th>\n",
       "      <th>col</th>\n",
       "      <th>mean_score_by_row</th>\n",
       "      <th>mean_score_by_col</th>\n",
       "      <th>total_score_mean</th>\n",
       "    </tr>\n",
       "    <tr>\n",
       "      <th>row</th>\n",
       "      <th></th>\n",
       "      <th></th>\n",
       "      <th></th>\n",
       "      <th></th>\n",
       "      <th></th>\n",
       "    </tr>\n",
       "  </thead>\n",
       "  <tbody>\n",
       "    <tr>\n",
       "      <th>4</th>\n",
       "      <td>4</td>\n",
       "      <td>128</td>\n",
       "      <td>4.207792</td>\n",
       "      <td>2.954545</td>\n",
       "      <td>3.609339</td>\n",
       "    </tr>\n",
       "    <tr>\n",
       "      <th>4</th>\n",
       "      <td>4</td>\n",
       "      <td>187</td>\n",
       "      <td>4.207792</td>\n",
       "      <td>3.078089</td>\n",
       "      <td>3.609339</td>\n",
       "    </tr>\n",
       "    <tr>\n",
       "      <th>4</th>\n",
       "      <td>4</td>\n",
       "      <td>571</td>\n",
       "      <td>4.207792</td>\n",
       "      <td>3.953481</td>\n",
       "      <td>3.609339</td>\n",
       "    </tr>\n",
       "    <tr>\n",
       "      <th>4</th>\n",
       "      <td>4</td>\n",
       "      <td>586</td>\n",
       "      <td>4.207792</td>\n",
       "      <td>3.247706</td>\n",
       "      <td>3.609339</td>\n",
       "    </tr>\n",
       "    <tr>\n",
       "      <th>4</th>\n",
       "      <td>4</td>\n",
       "      <td>708</td>\n",
       "      <td>4.207792</td>\n",
       "      <td>3.371808</td>\n",
       "      <td>3.609339</td>\n",
       "    </tr>\n",
       "    <tr>\n",
       "      <th>...</th>\n",
       "      <td>...</td>\n",
       "      <td>...</td>\n",
       "      <td>...</td>\n",
       "      <td>...</td>\n",
       "      <td>...</td>\n",
       "    </tr>\n",
       "    <tr>\n",
       "      <th>99912</th>\n",
       "      <td>99912</td>\n",
       "      <td>17307</td>\n",
       "      <td>5.000000</td>\n",
       "      <td>4.521127</td>\n",
       "      <td>3.609339</td>\n",
       "    </tr>\n",
       "    <tr>\n",
       "      <th>99928</th>\n",
       "      <td>99928</td>\n",
       "      <td>16169</td>\n",
       "      <td>2.000000</td>\n",
       "      <td>3.131050</td>\n",
       "      <td>3.609339</td>\n",
       "    </tr>\n",
       "    <tr>\n",
       "      <th>99937</th>\n",
       "      <td>99937</td>\n",
       "      <td>17293</td>\n",
       "      <td>3.000000</td>\n",
       "      <td>2.980172</td>\n",
       "      <td>3.609339</td>\n",
       "    </tr>\n",
       "    <tr>\n",
       "      <th>99957</th>\n",
       "      <td>99957</td>\n",
       "      <td>16982</td>\n",
       "      <td>4.000000</td>\n",
       "      <td>3.658824</td>\n",
       "      <td>3.609339</td>\n",
       "    </tr>\n",
       "    <tr>\n",
       "      <th>99963</th>\n",
       "      <td>99963</td>\n",
       "      <td>17147</td>\n",
       "      <td>4.000000</td>\n",
       "      <td>3.312950</td>\n",
       "      <td>3.609339</td>\n",
       "    </tr>\n",
       "  </tbody>\n",
       "</table>\n",
       "<p>877113 rows × 5 columns</p>\n",
       "</div>"
      ],
      "text/plain": [
       "         row    col  mean_score_by_row  mean_score_by_col  total_score_mean\n",
       "row                                                                        \n",
       "4          4    128           4.207792           2.954545          3.609339\n",
       "4          4    187           4.207792           3.078089          3.609339\n",
       "4          4    571           4.207792           3.953481          3.609339\n",
       "4          4    586           4.207792           3.247706          3.609339\n",
       "4          4    708           4.207792           3.371808          3.609339\n",
       "...      ...    ...                ...                ...               ...\n",
       "99912  99912  17307           5.000000           4.521127          3.609339\n",
       "99928  99928  16169           2.000000           3.131050          3.609339\n",
       "99937  99937  17293           3.000000           2.980172          3.609339\n",
       "99957  99957  16982           4.000000           3.658824          3.609339\n",
       "99963  99963  17147           4.000000           3.312950          3.609339\n",
       "\n",
       "[877113 rows x 5 columns]"
      ]
     },
     "execution_count": 57,
     "metadata": {},
     "output_type": "execute_result"
    }
   ],
   "source": [
    "modelo_base_ref(data_valida.to_numpy())"
   ]
  },
  {
   "cell_type": "code",
   "execution_count": null,
   "metadata": {},
   "outputs": [],
   "source": [
    "################################################################################################################\n",
    "###################### ESTO CORRE UN MODELO SIMPLE CON LIBMF A PARTIR DE LA BASE ###############################\n",
    "############################### CREADAS ARRIBA, PERO ESTO YA NO SE CORRIÓ ######################################\n",
    "################################################################################################################\n",
    "\n",
    "#Pruebese los diferentes modelos ejemplo con data_entrena y data_valida\n",
    "#En general estos algoritmos corren muy rápido\n",
    "!/home/miuser/libmf/mf-train data_entrena.tr.txt model"
   ]
  },
  {
   "cell_type": "code",
   "execution_count": null,
   "metadata": {},
   "outputs": [],
   "source": []
  },
  {
   "cell_type": "code",
   "execution_count": null,
   "metadata": {},
   "outputs": [],
   "source": []
  },
  {
   "cell_type": "code",
   "execution_count": null,
   "metadata": {},
   "outputs": [],
   "source": []
  },
  {
   "cell_type": "markdown",
   "metadata": {},
   "source": [
    "# Funciones auxiliares\n",
    "Para explicar y ejemplificar el uso de libmf"
   ]
  },
  {
   "cell_type": "code",
   "execution_count": 7,
   "metadata": {},
   "outputs": [],
   "source": [
    "#Función auziliar para generar matrices ralas (sólo se usa para un ejemplo)\n",
    "def perform(fun, *args):\n",
    "    \"\"\"\n",
    "    Evalúa una función con los argumentos indicados\n",
    "    \n",
    "    params: fun         Una función\n",
    "            *args       Parámetros que utiliza la función \"fun\"\n",
    "                        (se pueden meter cuantos parámetros tenga \n",
    "                        dicha funcion)\n",
    "    return: fun(*args)  Valor de fun con parámetros *args\n",
    "    \"\"\"\n",
    "    return fun(*args)"
   ]
  },
  {
   "cell_type": "code",
   "execution_count": 8,
   "metadata": {},
   "outputs": [],
   "source": [
    "#Función auziliar para generar matrices ralas (sólo se usa para un ejemplo)\n",
    "def nan_or_value(x, f, *args):\n",
    "    \"\"\"\n",
    "    Devuelve el valor de una función evaluada con sus parámetros\n",
    "    *args acorde a la variable indicadora x\n",
    "    \n",
    "    params: x         boolean, si es 1 tómese valor de la función\n",
    "                      si no será nan o 0 según especifique nan_zero\n",
    "            fun       Una función\n",
    "            *args     Parámetros que utiliza la función \"fun\"\n",
    "                      (se pueden meter cuantos parámetros tenga \n",
    "                      dicha funcion)\n",
    "            nan_zero  Si no se especifica nan devuelve 0\n",
    "    return: fun(*args)  Valor de fun con parámetros *args\n",
    "    \"\"\"\n",
    "    if(x==1):\n",
    "        return perform(f,*args)\n",
    "    else:\n",
    "        return np.nan"
   ]
  },
  {
   "cell_type": "code",
   "execution_count": 9,
   "metadata": {},
   "outputs": [],
   "source": [
    "#Función auziliar para generar matrices ralas (sólo se usa para un ejemplo)\n",
    "\n",
    "#Con esta vectorización se podrá aplicar a todos los elementos\n",
    "#de un np.array la función nan_or_value\n",
    "nan_or_value_vec=np.vectorize(nan_or_value, otypes=[object])"
   ]
  },
  {
   "cell_type": "code",
   "execution_count": 10,
   "metadata": {},
   "outputs": [],
   "source": [
    "#Función para generar matrices ralas (sólo se usa para un ejemplo)\n",
    "#Por su forma de construcción esta función es bastante ineficiente para\n",
    "#ejemplos grandes\n",
    "def crear_matriz_rala(n_ren,m_col,prop_elem_difer_nan,func_rand,*args_func_rand):\n",
    "    \"\"\"\n",
    "    Construye matriz rala de n_renxm_col, seleccionando al azar los elementos\n",
    "    que serán nan cumpliendo que la proporción de éstos es de \n",
    "    1-prop_elem_difer_nan, donde los numeros diferentes de nan serán aleatorios\n",
    "    generados a partir de una funcion aletorea que se envíe como parámetro\n",
    "    (y sus argumentos)\n",
    "    \n",
    "    params: n_ren               int numero de renglones que tiene la matriz\n",
    "            m_col               int numero de columnas que tiene la matriz\n",
    "            prop_elem_difer_nan float (0 < prop_elem_difer_nan < 1) indica\n",
    "                                la proporción de elementos distintos de nan\n",
    "            func_rand           Función que genera un sólo no. aleatorio de\n",
    "                                tipo float (no arreglos)\n",
    "            *args_fun_rand      Argumentos necesarios para ejecutar la\n",
    "                                la funcoión fun_rand\n",
    "            nan_zero            Si no se especifica nan devuelve 0\n",
    "    return: nan_or_value_vec    np.ndarray que contiene matriz rala\n",
    "    \"\"\"\n",
    "    tot=int(n_ren*m_col)\n",
    "    k=int(tot*prop_elem_difer_nan)\n",
    "    #se juntan 2 arreglos, uno de ceros y otro de unos, para después\n",
    "    #reacomodarlos al azar\n",
    "    M=np.concatenate((np.zeros(tot-k).astype(int), np.ones(k).astype(int)))\n",
    "    M=np.array(random.sample(list(M),tot))\n",
    "    M=M.reshape(n_ren,m_col)\n",
    "    #Los unos se intercambias por numeros aleatorios y los ceros\n",
    "    #por nan (o se dejan como cero)\n",
    "    M=nan_or_value_vec(M,func_rand,*args_func_rand).astype(float)\n",
    "    return M"
   ]
  },
  {
   "cell_type": "code",
   "execution_count": 11,
   "metadata": {},
   "outputs": [],
   "source": [
    "#Función auziliar para generar matrices ralas (sólo se usa para un ejemplo)\n",
    "def compactar_matriz_rala(M):\n",
    "    \"\"\"\n",
    "    Pasa una matriz rala a su expresión compacta\n",
    "    \n",
    "    params: M  np.ndarray que representa matriz rala\n",
    "    return: MC np.ndarray matriz en expresión compacta\n",
    "               (no se reportarán los elementos con valor\n",
    "               nan)\n",
    "    \"\"\"\n",
    "    if type(M) is not np.ndarray:\n",
    "        sys.exit('M debe ser de tipo numpy.ndarray')\n",
    "    elif np.isnan(M).sum()==len(M):\n",
    "        sys.exit('Todos los elementos de M son nan')\n",
    "    MC=np.zeros((M[np.isnan(M)==False].size,3))\n",
    "    k = 0\n",
    "    n,m=M.shape\n",
    "    for i in range(n): \n",
    "        for j in range(m): \n",
    "            if (~np.isnan(M[i,j])): \n",
    "                MC[k,0] = i\n",
    "                MC[k,1] = j\n",
    "                MC[k,2] = M[i,j] \n",
    "                k += 1\n",
    "    return MC"
   ]
  },
  {
   "cell_type": "code",
   "execution_count": 13,
   "metadata": {},
   "outputs": [],
   "source": [
    "#Función para generar matrices ralas en su expresión compacta\n",
    "#Utilizada para varios ejemplos\n",
    "def crear_matriz_rala_compacta(n_ren, m_col, prop_elem_difer_nan):\n",
    "    \"\"\"\n",
    "    Construye matriz rala de n_renxm_col, seleccionando al azar los elementos\n",
    "    que serán distintos de nan. Éstos elementos distintos de nan serán\n",
    "    numero aleatorios entre 1 y 5 (uniforme discreta). Se dice compacta porque\n",
    "    es una matriz solo señala las coordenadas o entredas de la matriz que \n",
    "    son diferentes a nan\n",
    "    \n",
    "    params: n_ren               int numero de renglones que tiene la matriz\n",
    "            m_col               int numero de columnas que tiene la matriz\n",
    "            prop_elem_difer_nan float (0 < prop_elem_difer_nan < 1) indica\n",
    "                                la proporción de elementos distintos de nan\n",
    "    return: M  np.ndarray que contiene matriz rala \"compacta\"\n",
    "               (1era columna representa el índice de renglones,\n",
    "               2da columna representa el índice de columnas,\n",
    "               3era columna representa el valor del elemento\n",
    "               o calificación en el contexto de netflix)\n",
    "    \"\"\"\n",
    "    tot=int(n_ren*m_col)\n",
    "    k=int(tot*prop_elem_difer_nan)\n",
    "    M=random.sample(range(tot), k)\n",
    "    columnas=np.mod(M,m_col)\n",
    "    renglones=np.divide(M,m_col).astype(int)\n",
    "    aleatorios=np.random.randint(1, 6, k)\n",
    "    M=np.concatenate([renglones, columnas, aleatorios])\n",
    "    M=M.reshape(3,k).T\n",
    "    return M"
   ]
  },
  {
   "cell_type": "code",
   "execution_count": 13,
   "metadata": {},
   "outputs": [],
   "source": [
    "#Función auxiliar al procesamiento de datos para la aplicación de un\n",
    "#modelo de recomendación\n",
    "def modelo_base_ref(MC):\n",
    "    \"\"\"\n",
    "    Obtiene promedios por índices de renglón y columnas, así como del total\n",
    "    (o calificaciones en el contexto de películas netflix)\n",
    "    \n",
    "    params: MC np.ndarray (con 3 columnasm, la 1era se toma como la\n",
    "               de índices de renglon, la 2da como la de índices de columna\n",
    "               y la 3era como el valor de los elementos o calificaciones en\n",
    "               el contexto de netflix)\n",
    "    return: count_by  pd.DataFrame de 3 columnas que tiene sólo los índices de\n",
    "                      renglones o columnas que tienen al menos n elementos\n",
    "    \"\"\"\n",
    "    df=pd.DataFrame(MC,columns=['row','col','score'])\n",
    "    #Media total\n",
    "    c=df['score'].mean(axis=0)\n",
    "\n",
    "    #media por columna\n",
    "    mean_by_col=df[['col','score']].groupby(['col']).mean()\n",
    "    mean_by_col.rename(columns={'score':'mean_score_by_col'}, inplace=True)\n",
    "    #media por renglon\n",
    "    mean_by_row=df[['row','score']].groupby(['row']).mean()\n",
    "    mean_by_row.rename(columns={'score':'mean_score_by_row'}, inplace=True)\n",
    "\n",
    "    #se unen todas los resultados obtenidos, incluyendo la columna de\n",
    "    #índice de columnas y renglones\n",
    "    df=df.set_index('col').join(mean_by_col,how='left')\n",
    "    df['col']=df.index\n",
    "    df=df.set_index('row').join(mean_by_row,how='left')\n",
    "    df['row']=df.index\n",
    "    df=df[['row','col','mean_score_by_row','mean_score_by_col']]\n",
    "    df['total_score_mean']=c\n",
    "    \n",
    "    return df"
   ]
  },
  {
   "cell_type": "code",
   "execution_count": 14,
   "metadata": {},
   "outputs": [],
   "source": [
    "#Función auxiliar al procesamiento de datos para la aplicación de un\n",
    "#modelo de recomendación\n",
    "def filtrar(MC,ren_o_col,n):\n",
    "    \"\"\"\n",
    "    Filtra los índices de renglon o columna que tengan más de n elementos\n",
    "    (o calificaciones en el contexto de películas netflix)\n",
    "    \n",
    "    params: MC        np.ndarray (con 3 columnas, de nombre indistinto)\n",
    "            ren_o_col string igual a 'row' o 'col'\n",
    "            n         int no. elementos mínimos requeridos\n",
    "    \n",
    "    return: count_by  np.ndarray de 3 columnas que tiene sólo los índices de\n",
    "                      renglones o columnas que tienen al menos n elementos\n",
    "    \"\"\"\n",
    "    MC_df=pd.DataFrame(MC,columns=['row','col','score'])\n",
    "    \n",
    "    #este pequeño bloque calcula el total de elementos por columna o renglón\n",
    "    count_by=MC_df[[ren_o_col,'score']].groupby([ren_o_col]).count()\n",
    "    count_by.rename(columns={'score':'tot_counted'}, inplace=True)\n",
    "    count_by[ren_o_col]=count_by.index\n",
    "    count_by=count_by[[ren_o_col,'tot_counted']]\n",
    "    \n",
    "    #en este bloque se filtran los elementos de la matriz cuyo conteo por\n",
    "    #columna o renglón tienen más de n elementos\n",
    "    count_by=count_by[count_by.apply(lambda x: x['tot_counted'] >= n, axis=1)]\n",
    "    count_by=MC_df.set_index(ren_o_col).join(count_by.set_index(ren_o_col),how='inner')\n",
    "    count_by[ren_o_col]=count_by.index\n",
    "    count_by=count_by[['row','col','score']]\n",
    "    \n",
    "    return count_by.to_numpy()"
   ]
  },
  {
   "cell_type": "code",
   "execution_count": 28,
   "metadata": {},
   "outputs": [],
   "source": []
  },
  {
   "cell_type": "code",
   "execution_count": 7,
   "metadata": {},
   "outputs": [],
   "source": [
    "def imprime_atributos_MF(Obj):\n",
    "    \"\"\"\n",
    "    Imprime los parámetros utilizados para factorización de la matriz contenida\n",
    "    en Obj, mismos que son atributos del atributo _options\n",
    "    \n",
    "    params: Obj  libmf.mf.MF objeto de la librería libmf-python que contiene\n",
    "                 la información requerida para hacer la factorización deseada\n",
    "    \n",
    "    return: None No regresa nada, sólo imprime los parámetros utilizados para\n",
    "                 hacer la factorización\n",
    "    \"\"\"\n",
    "    if type(Obj) is not libmf.mf.MF:\n",
    "        sys.exit('A y b deben ser de tipo libmf.mf.MF')\n",
    "    print('Atributos del modelo:')\n",
    "    print('fun={0:d}'.format(Obj._options.fun))\n",
    "    print('k={0:d}'.format(Obj._options.k))\n",
    "    print('nr_threads={0:d}'.format(Obj._options.nr_threads))\n",
    "    print('nr_bins={0:d}'.format(Obj._options.nr_bins))\n",
    "    print('nr_iters={0:d}'.format(Obj._options.nr_iters))\n",
    "    print('lambda_p1={0:0.4f}'.format(Obj._options.lambda_p1))\n",
    "    print('lambda_p2={0:0.4f}'.format(Obj._options.lambda_p2))\n",
    "    print('lambda_q1={0:0.4f}'.format(Obj._options.lambda_q1))\n",
    "    print('lambda_q2={0:0.4f}'.format(Obj._options.lambda_q2))\n",
    "    print('eta={0:0.4f}'.format(Obj._options.eta))\n",
    "    print('do_nmf=',Obj._options.do_nmf)\n",
    "    print('quiet=',Obj._options.quiet)\n",
    "    print('copy_data=',Obj._options.copy_data)\n",
    "    return None"
   ]
  },
  {
   "cell_type": "code",
   "execution_count": 35,
   "metadata": {},
   "outputs": [],
   "source": [
    "def imprime_atributos_model(Obj):\n",
    "    \"\"\"\n",
    "    Imprime los atributos del objeto model (definido dentro dentro de la\n",
    "    librería libmf)\n",
    "    \n",
    "    params: Obj  libmf.mf.MFModel objeto de la librería libmf-python que\n",
    "                 contiene los resultados obtenidos de la corrida del\n",
    "                 modelo de factorización\n",
    "                 \n",
    "    return: None No regresa nada, sólo imprime los resultados contenidos\n",
    "            en el objeto model, generado con los métodos del objeto MF\n",
    "    \"\"\"\n",
    "    if type(Obj) is not libmf.mf.MFModel:\n",
    "        sys.exit('A y b deben ser de tipo libmf.mf.MF')\n",
    "    print('Resultados model:')\n",
    "    print('fun={0:d}'.format(Obj.fun))\n",
    "    print('m={0:d}'.format(Obj.m))\n",
    "    print('n={0:d}'.format(Obj.n))\n",
    "    print('k={0:d}'.format(Obj.m))\n",
    "    print('b={0:0.4f}'.format(Obj.b))\n",
    "    print('P={0:0.4f}'.format(Obj.P.contents.value))\n",
    "    print('Q={0:0.4f}'.format(Obj.Q.contents.value))\n",
    "    return None"
   ]
  },
  {
   "cell_type": "code",
   "execution_count": 18,
   "metadata": {},
   "outputs": [],
   "source": [
    "#Elegiremos un formato de general para visualizar las matrices exhibidas como ejemplo\n",
    "np.set_printoptions(sign=' ', precision=3)\n",
    "#np.set_printoptions(sign=' ',formatter={'float': lambda x: \"{0:0.3f}\".format(x)})"
   ]
  },
  {
   "cell_type": "markdown",
   "metadata": {},
   "source": [
    "# Matrices ralas (sparse)"
   ]
  },
  {
   "cell_type": "code",
   "execution_count": 19,
   "metadata": {},
   "outputs": [],
   "source": [
    "#En este proyecto se exhibe el uso de las funciones de la librería libmf\n",
    "#relacionadas a la factorización de matrices. El proyecto se enfoca al uso\n",
    "#de estos algoritmos/métodos para los sistemas de recomendación de películas\n",
    "#cuyo objetivo será obtener recomendaciones de películas para usuarios\n",
    "#contenidos dentro de una base de datos proporcionada por netflix\n",
    "\n",
    "#Si bien la base tiene datos como peli_id, usuario_id, calif, fecha, el\n",
    "#algoritmo solo trabajará con los datos de calificaciones. Si bien existen\n",
    "#diversos usuarios y películas, son pocas películas de las que se tienen\n",
    "#calificaciones (escala del 1 al 5) proporcionadas por usuarios, por lo que\n",
    "#la representación de estas calificaciones a través de una matriz (donde\n",
    "#los usuarios serán los índices de los rengloens, las películas los índices\n",
    "#de columnas y las calificaciones los valores de las entradas de la matriz),\n",
    "#contendrá muchos huecos o calificaciones inexistentes,\n",
    "#es decir, es una matriz rala (llena de ceros o valores no proporcionados)\n",
    "#No obstante lo anterior, debido al numero de usuarios y películas\n",
    "#existen muchos datos, y para no guardar todos los valores de cero (o NA)\n",
    "#se opta por expresar y guardar dicha matriz en una forma compacta,\n",
    "#la cual contiene por cada calificación el usuario que la generó y la película\n",
    "#a la que corrresponde (es decir, es una matriz con 3 columnas)"
   ]
  },
  {
   "cell_type": "markdown",
   "metadata": {},
   "source": [
    "# Procesos útiles para construcción de modelo\n",
    "### Calificaciones promedio por usuario y/o película, y filtrado"
   ]
  },
  {
   "cell_type": "code",
   "execution_count": 46,
   "metadata": {},
   "outputs": [
    {
     "ename": "NameError",
     "evalue": "name 'modelo_base_ref' is not defined",
     "output_type": "error",
     "traceback": [
      "\u001b[0;31m---------------------------------------------------------------------------\u001b[0m",
      "\u001b[0;31mNameError\u001b[0m                                 Traceback (most recent call last)",
      "\u001b[0;32m<ipython-input-46-aeb879591b39>\u001b[0m in \u001b[0;36m<module>\u001b[0;34m\u001b[0m\n\u001b[1;32m      7\u001b[0m \u001b[0;31m#para heterogenizar el uso de la escala (calificaciones)\u001b[0m\u001b[0;34m\u001b[0m\u001b[0;34m\u001b[0m\u001b[0;34m\u001b[0m\u001b[0m\n\u001b[1;32m      8\u001b[0m \u001b[0;34m\u001b[0m\u001b[0m\n\u001b[0;32m----> 9\u001b[0;31m \u001b[0mpromedios\u001b[0m\u001b[0;34m=\u001b[0m\u001b[0mmodelo_base_ref\u001b[0m\u001b[0;34m(\u001b[0m\u001b[0mMC\u001b[0m\u001b[0;34m)\u001b[0m\u001b[0;34m\u001b[0m\u001b[0;34m\u001b[0m\u001b[0m\n\u001b[0m\u001b[1;32m     10\u001b[0m \u001b[0mdisplay\u001b[0m\u001b[0;34m(\u001b[0m\u001b[0mpromedios\u001b[0m\u001b[0;34m.\u001b[0m\u001b[0mhead\u001b[0m\u001b[0;34m(\u001b[0m\u001b[0;34m)\u001b[0m\u001b[0;34m)\u001b[0m\u001b[0;34m\u001b[0m\u001b[0;34m\u001b[0m\u001b[0m\n\u001b[1;32m     11\u001b[0m \u001b[0;31m#podemos convertir a numpy array para realizar operaciones con\u001b[0m\u001b[0;34m\u001b[0m\u001b[0;34m\u001b[0m\u001b[0;34m\u001b[0m\u001b[0m\n",
      "\u001b[0;31mNameError\u001b[0m: name 'modelo_base_ref' is not defined"
     ]
    }
   ],
   "source": [
    "#Para plantear un \"modelo base de referencia\", se calculan los medias\n",
    "#por renglones (mean_ren) y por columnas (mean_col), así como \n",
    "#una media total (mean_tot), luego se sustituyen los valores de \n",
    "#la matriz (x_ij) por: mean_ren + mean_col - mean_tot\n",
    "#La función modelo_base_ref regresa los promedios por renglon,\n",
    "#columna y total. Con estos promedios se puede construir un modelo\n",
    "#para heterogenizar el uso de la escala (calificaciones)\n",
    "\n",
    "promedios=modelo_base_ref(MC)\n",
    "display(promedios.head())\n",
    "#podemos convertir a numpy array para realizar operaciones con\n",
    "#variables de este tipo\n",
    "\n",
    "#Recuerda pasa a np.array para hacer operaciones\n",
    "promedios=promedios.to_numpy()\n",
    "#el modelo base de ref quedaría así:\n",
    "print('\\n El modelo base de referencia es mean_ren + mean_col - mean_tot:') \n",
    "promedios[:,0]+promedios[:,1]-promedios[:,2]"
   ]
  },
  {
   "cell_type": "code",
   "execution_count": 26,
   "metadata": {},
   "outputs": [
    {
     "data": {
      "text/plain": [
       "array([[ 1,  2,  4],\n",
       "       [ 1,  0,  1],\n",
       "       [ 6,  3,  4],\n",
       "       [ 6,  2,  2],\n",
       "       [ 6,  0,  2],\n",
       "       [10,  4,  5],\n",
       "       [10,  3,  3],\n",
       "       [14,  0,  5],\n",
       "       [14,  3,  5],\n",
       "       [15,  0,  1],\n",
       "       [15,  2,  2],\n",
       "       [16,  2,  1],\n",
       "       [16,  1,  3],\n",
       "       [17,  0,  2],\n",
       "       [17,  1,  3]])"
      ]
     },
     "metadata": {},
     "output_type": "display_data"
    },
    {
     "data": {
      "text/plain": [
       "array([[17,  0,  2],\n",
       "       [15,  0,  1],\n",
       "       [ 1,  0,  1],\n",
       "       [18,  0,  1],\n",
       "       [14,  0,  5],\n",
       "       [ 6,  0,  2],\n",
       "       [ 3,  0,  3],\n",
       "       [12,  1,  3],\n",
       "       [ 7,  1,  4],\n",
       "       [16,  1,  3],\n",
       "       [17,  1,  3],\n",
       "       [ 1,  2,  4],\n",
       "       [15,  2,  2],\n",
       "       [ 6,  2,  2],\n",
       "       [ 5,  2,  1],\n",
       "       [16,  2,  1],\n",
       "       [13,  2,  5],\n",
       "       [ 2,  2,  2],\n",
       "       [ 6,  3,  4],\n",
       "       [ 8,  3,  2],\n",
       "       [10,  3,  3],\n",
       "       [14,  3,  5],\n",
       "       [10,  4,  5],\n",
       "       [ 0,  4,  2],\n",
       "       [ 4,  4,  1]])"
      ]
     },
     "metadata": {},
     "output_type": "display_data"
    }
   ],
   "source": [
    "#En el camino para construir modelos adecuados, puede ser de interés\n",
    "#o utilidad identificar los usuarios que tiene más películas calificadas\n",
    "#o las películas con más calificaciones, más precisamente, que tengan\n",
    "#más de \"n\" calificaciones.\n",
    "\n",
    "#Usuarios que calificaron más de 2 películas\n",
    "display(filtrar(MC,'row',2))\n",
    "#Películas que fueron calificadas por más de 2 usuarios\n",
    "display(filtrar(MC,'col',2))"
   ]
  },
  {
   "cell_type": "code",
   "execution_count": 327,
   "metadata": {},
   "outputs": [],
   "source": [
    "#AQUÍ HAY QUE PONER LO QUE PUSO JAVI RESPECTO A FILTRAR LAS PELIS Y USUARIOS QUE APARECEN MUCHO"
   ]
  },
  {
   "cell_type": "code",
   "execution_count": null,
   "metadata": {},
   "outputs": [],
   "source": [
    "#import sys\n",
    "#!{sys.executable} -m pip install keras"
   ]
  },
  {
   "cell_type": "code",
   "execution_count": null,
   "metadata": {},
   "outputs": [],
   "source": [
    "#import pandas as pd\n",
    "#import numpy as np\n",
    "#from keras.layers import Input, Embedding, Reshape, Dot, Concatenate, Dense, Dropout\n",
    "#from keras.models import Model\n",
    "#import random"
   ]
  },
  {
   "cell_type": "code",
   "execution_count": null,
   "metadata": {},
   "outputs": [],
   "source": [
    "#Leemos el dataset "
   ]
  },
  {
   "cell_type": "code",
   "execution_count": null,
   "metadata": {},
   "outputs": [],
   "source": [
    "#df = pd.read_csv('~/jupyter/datasets/netflix_complete_cleaned.txt',sep=' ', header = None, names = ['Cust_Id','Movie_Id','Rating'], usecols = [0,1,2])"
   ]
  },
  {
   "cell_type": "code",
   "execution_count": null,
   "metadata": {},
   "outputs": [],
   "source": [
    "#Hacemos un resumen \n",
    "print('Dataset shape: {}'.format(df.shape))\n",
    "print('Dataset types:')\n",
    "print(df.dtypes)\n",
    "print('Summary statistics from dataset:')\n",
    "df.describe()"
   ]
  },
  {
   "cell_type": "code",
   "execution_count": null,
   "metadata": {},
   "outputs": [],
   "source": [
    "#Filtramos películas y usuarios con pocas evaluaciones para reducir el tamaño del dataset y mejorar predicciones. (Prune dataset)\n",
    "#Filtramos deacuerdo al percentil 80: \n",
    "#Movie minimum times of review: 1799.0\n",
    "#Customer minimum times of review: 52.0"
   ]
  },
  {
   "cell_type": "code",
   "execution_count": null,
   "metadata": {},
   "outputs": [],
   "source": [
    "#f = ['count','mean']\n",
    "\n",
    "df_movie_summary = df.groupby('Movie_Id')['Rating'].agg(f)\n",
    "df_movie_summary.index = df_movie_summary.index.map(int)\n",
    "movie_benchmark = round(df_movie_summary['count'].quantile(0.9),0)\n",
    "drop_movie_list = df_movie_summary[df_movie_summary['count'] < movie_benchmark].index\n",
    "\n",
    "print('Movie minimum times of review: {}'.format(movie_benchmark))\n",
    "\n",
    "#df_cust_summary = df.groupby('Cust_Id')['Rating'].agg(f)\n",
    "#df_cust_summary.index = df_cust_summary.index.map(int)\n",
    "#cust_benchmark = round(df_cust_summary['count'].quantile(0.9),0)\n",
    "#drop_cust_list = df_cust_summary[df_cust_summary['count'] < cust_benchmark].index\n",
    "\n",
    "#print('Customer minimum times of review: {}'.format(cust_benchmark))"
   ]
  },
  {
   "cell_type": "code",
   "execution_count": null,
   "metadata": {},
   "outputs": [],
   "source": [
    "#Se filtra el dataset original de acuerdo a los criterios de filtrado. \n",
    "# Filter sparse movies\n",
    "min_movie_ratings = 1799\n",
    "filter_movies = (df['Movie_Id'].value_counts()>min_movie_ratings)\n",
    "filter_movies = filter_movies[filter_movies].index.tolist()\n",
    "\n",
    "# Filter sparse users\n",
    "min_user_ratings = 52\n",
    "filter_users = (df['Cust_Id'].value_counts()>min_user_ratings)\n",
    "filter_users = filter_users[filter_users].index.tolist()\n",
    "\n",
    "# Actual filtering\n",
    "df_filterd = df[(df['Movie_Id'].isin(filter_movies)) & (df['Cust_Id'].isin(filter_users))]\n",
    "del filter_movies, filter_users, min_movie_ratings, min_user_ratings\n",
    "print('Shape User-Ratings unfiltered:\\t{}'.format(df.shape))\n",
    "print('Shape User-Ratings filtered:\\t{}'.format(df_filterd.shape))"
   ]
  },
  {
   "cell_type": "code",
   "execution_count": null,
   "metadata": {},
   "outputs": [],
   "source": [
    "#Hacemos un shuffle del dataframe y lo dividimos en entrenamiento y prueba\n",
    "random.seed(28882)\n",
    "#random shuffle dataset\n",
    "df2=df.sample(frac=1).reset_index(drop=True)\n",
    "print(len(df2))\n",
    "\n",
    "#dividimos dataset en train y test\n",
    "n=round(len(df2)*.8) # Tamaño de muestra de entrenamiento (80% de los datos)\n",
    "df_train=df2[-n:]\n",
    "print(len(df_train)) # Número de valores en el dataset de entrenamiento\n",
    "df_test=df2[:-n]\n",
    "print(len(df_test)) # Número de valores en dataset de prueba"
   ]
  },
  {
   "cell_type": "code",
   "execution_count": null,
   "metadata": {},
   "outputs": [],
   "source": [
    "#Imprimimos ejemplos del dataset de entrenamiento. \n",
    "df_train.to_csv(r'../datasets/netflix_train.txt',header=False,sep = ' ',index=False)\n",
    "print('Full dataset shape: {}'.format(df_train.shape))\n",
    "print('-Dataset examples-')\n",
    "print(df.iloc[::5000000, :])"
   ]
  },
  {
   "cell_type": "code",
   "execution_count": null,
   "metadata": {},
   "outputs": [],
   "source": [
    "#Imprimimos ejemplos del dataset de prueba. "
   ]
  },
  {
   "cell_type": "code",
   "execution_count": null,
   "metadata": {},
   "outputs": [],
   "source": [
    "df_test.to_csv(r'../datasets/netflix_test.txt',header=False,sep = ' ',index=False)\n",
    "print('Full dataset shape: {}'.format(df_test.shape))\n",
    "print('-Dataset examples-')\n",
    "print(df.iloc[::5000000, :])"
   ]
  },
  {
   "cell_type": "code",
   "execution_count": null,
   "metadata": {},
   "outputs": [],
   "source": [
    "#Insertar en libreria libmf"
   ]
  },
  {
   "cell_type": "code",
   "execution_count": null,
   "metadata": {},
   "outputs": [],
   "source": [
    "!pwd"
   ]
  },
  {
   "cell_type": "markdown",
   "metadata": {},
   "source": [
    "# Librería libmf python"
   ]
  },
  {
   "cell_type": "code",
   "execution_count": 35,
   "metadata": {},
   "outputs": [],
   "source": [
    "# Python-libmf contiene de fondo el mismo código que el de la librería libmf, \n",
    "# aunque tiene programadas clases con atributos y métodos para poder ejecutar \n",
    "# los métodos de libmf. A continuación se señalan las principales \n",
    "# clases, atributos y métodos\n",
    "\n",
    "# Clase: MF\n",
    "# Atributos: .model\n",
    "#            ._options \n",
    "#            .i\n",
    "#            .j\n",
    "# Métodos: .fit -> < Objetivo: factorize the i x j data matrix X into (j, k) (k, i) \n",
    "#                  <           sized matrices stored in MF.model\n",
    "#                  < Parámetro X: (n, 3) shaped numpy array [known index and values \n",
    "#                  <              of the data matrix]\n",
    "#\n",
    "#          .predict -> < Objetivo: assuming we have already run the fit method, predict\n",
    "#                      <           the values at certain indices of the data matrix\n",
    "#                      < Parámetro X: (n, 2) shaped numpy array\n",
    "#                      < Regresa: numpy array of length n\n",
    "#\n",
    "#          .mf_cross_validation -> < Objetivo: Realizar cross-validation\n",
    "#                                  < Parámetro X: (n, 3)\n",
    "#                                  < Parámetro folds: number of train / test splits\n",
    "#                                  < Regresa: score across all folds \n",
    "#\n",
    "#          .q_factors -> < Objetivo: Obtener la matriz Q\n",
    "#\n",
    "#          .p_factors -> < Objetivo:  Obtener la matriz P\n",
    "\n",
    "\n",
    "# Clase: model\n",
    "# Atributos: .fun\n",
    "#            .m \n",
    "#            .n\n",
    "#            .k\n",
    "#            .b\n",
    "#            .P\n",
    "#            .Q\n",
    "# Métodos: NA\n",
    "\n",
    "\n",
    "# Clase: _options\n",
    "# Atributos: .fun\n",
    "#            .k\n",
    "#            .nr_threads\n",
    "#            .nr_bins\n",
    "#            .nr_iters\n",
    "#            .lambda_p1\n",
    "#            .lambda_p2\n",
    "#            .lambda_q1\n",
    "#            .lambda_q2\n",
    "#            .eta\n",
    "#            .do_nmf\n",
    "#            .quiet\n",
    "#            .copy_data\n",
    "# Métodos: NA"
   ]
  },
  {
   "cell_type": "code",
   "execution_count": 36,
   "metadata": {},
   "outputs": [],
   "source": [
    "#A continuación un comparativo de los parámetros usados por python-libmf \n",
    "#y libmf, así como sus valores predeterminados"
   ]
  },
  {
   "cell_type": "markdown",
   "metadata": {},
   "source": [
    "|Parámetro:|Nombre python-libmf|Valor por default python-libmf|Nombre libmf|Valor por default libmf|\n",
    "|:--:|:--:|:--:|:--:|:--:|\n",
    "|Función de pérdida|fun|0|-f|0|\n",
    "|Numero de factores latentes|k|8|-k|8|\n",
    "|Numero de threads|nr_threads|12|-s|12|\n",
    "|Numero de bins|nr_bins|26|-n|adjusted by LIBMF for speed|\n",
    "|Numero de iteraciones|nr_iters|20|-t|20|\n",
    "|Parámetro de regularización L1 para P y Q<sup>(1)</sup>|lambda_p1|0.04|-l1|0|\n",
    "|Parámetro de regularización L2 para P y Q<sup>(1)</sup>|lambda_p2|0|-l2|0.1|\n",
    "|Parámetro de regularización L1 para P y Q<sup>(1)</sup>|lambda_q1|0.04|-l1|0|\n",
    "|Parámetro de regularización L2 para P y Q<sup>(1)</sup>|lambda_q2|0|-l1|0.1|\n",
    "|Tasa inicial de aprendizaje|eta|0.1|-r|0.1|\n",
    "|Realizar factorización matricial no negativa<sup>(3)</sup>|do_nmf|False|--nmf|False|\n",
    "|Sin outputs<sup>(3)</sup>|quite|False|--quite|False|\n",
    "|Copiar datos|copy_data|True|NA|NA|\n",
    "|Ruta conjunto validación|NA|NA|-p|ND|\n",
    "|Numero de folds para validación cruzada<sup>(4)</sup>|ND|5|-v|1|\n",
    "|Coeficiente de pérdida de entradas negativas|NA|NA|-a|1|\n",
    "|Valor de entradas negativas<sup>(2)</sup>|NA|NA|-c|0.0001|\n",
    "|Realizar entrenamiento a nivel de disco<sup>(3)</sup>|NA|NA|--disk|False|\n",
    "\n",
    "<sup>(1)</sup> En libmf \"l1\" y \"l2\" se pueden definir con 1 o 2 parámetros, si se define uno se entiende que aplica tanto para P como Q, si se definen 2 el 1ero aplica para P y el 2do para Q\n",
    "\n",
    "<sup>(2)</sup> Se supone que cada entrada positiva es 1\n",
    "\n",
    "<sup>(3)</sup> En libmf su ausencia indica que no se llevará acabo. Por ejemplo, si no aparece \"--nmf\" en el llamado de mf-train, implica que las matrices P y Q pueden tener elementos negativos\n",
    "\n",
    "<sup>(3)</sup> Para python-libmf si bien no es un parámetro que se defina cuando se crea el objeto MF como el resto de parámetros, se puede ejecutar una función de validación cruzada"
   ]
  },
  {
   "cell_type": "code",
   "execution_count": 20,
   "metadata": {},
   "outputs": [
    {
     "name": "stdout",
     "output_type": "stream",
     "text": [
      "/datos/python-libmf/tests\n",
      "/datos/python-libmf/tests\n",
      "/home/miuser/.local/lib/python3.6/site-packages/libmf/__init__.py\n",
      "Using file found in /home/miuser/.local/lib/python3.6/site-packages:\n",
      "/home/miuser/.local/lib/python3.6/site-packages/libmf.cpython-36m-x86_64-linux-gnu.so\n",
      "iter      tr_rmse          obj\n",
      "   0       0.5077   3.1881e+02\n",
      "   1       0.4834   2.9880e+02\n",
      "   2       0.4385   2.6246e+02\n",
      "   3       0.3795   2.1741e+02\n",
      "   4       0.3299   1.8194e+02\n",
      "   5       0.3009   1.6156e+02\n",
      "   6       0.2876   1.5158e+02\n",
      "   7       0.2790   1.4404e+02\n",
      "   8       0.2751   1.3974e+02\n",
      "   9       0.2733   1.3716e+02\n",
      "  10       0.2723   1.3521e+02\n",
      "  11       0.2727   1.3444e+02\n",
      "  12       0.2710   1.3263e+02\n",
      "  13       0.2717   1.3227e+02\n",
      "  14       0.2707   1.3096e+02\n",
      "  15       0.2715   1.3087e+02\n",
      "  16       0.2708   1.3010e+02\n",
      "  17       0.2710   1.2979e+02\n",
      "  18       0.2706   1.2921e+02\n",
      "  19       0.2706   1.2881e+02\n",
      "testing cross val method\n",
      "/home/miuser/.local/lib/python3.6/site-packages/libmf/mf.py:213: DeprecationWarning: This function is deprecated. Please call randint(0, 100 + 1) instead\n",
      "  rx = np.random.random_integers(0, xs, k)\n",
      "/home/miuser/.local/lib/python3.6/site-packages/libmf/mf.py:214: DeprecationWarning: This function is deprecated. Please call randint(0, 50 + 1) instead\n",
      "  ry = np.random.random_integers(0, ys, k)\n",
      "fold      rmse\n",
      "   0    0.3375\n",
      "   1    0.3642\n",
      "   2    0.3519\n",
      "   3    0.3318\n",
      "   4    0.3335\n",
      "==============\n",
      " avg    0.3438\n",
      ".testing factor-p\n",
      ".testing factor-q\n",
      ".testing fit method\n",
      "iter      tr_rmse          obj\n",
      "   0       0.5078   3.1931e+02\n",
      "   1       0.4848   2.9975e+02\n",
      "   2       0.4400   2.6345e+02\n",
      "   3       0.3809   2.1789e+02\n",
      "   4       0.3305   1.8165e+02\n",
      "   5       0.3004   1.6051e+02\n",
      "   6       0.2868   1.5014e+02\n",
      "   7       0.2789   1.4320e+02\n",
      "   8       0.2759   1.3973e+02\n",
      "   9       0.2734   1.3675e+02\n",
      "  10       0.2726   1.3521e+02\n",
      "  11       0.2728   1.3463e+02\n",
      "  12       0.2713   1.3292e+02\n",
      "  13       0.2714   1.3220e+02\n",
      "  14       0.2709   1.3123e+02\n",
      "  15       0.2713   1.3096e+02\n",
      "  16       0.2705   1.3007e+02\n",
      "  17       0.2707   1.2980e+02\n",
      "  18       0.2703   1.2911e+02\n",
      "  19       0.2703   1.2870e+02\n",
      ".testing predict method\n",
      ".\n",
      "----------------------------------------------------------------------\n",
      "Ran 5 tests in 0.297s\n",
      "\n",
      "OK\n"
     ]
    }
   ],
   "source": [
    "# A continuación se corre un DEMO que muestra un poco el uso de estas funciones\n",
    "# resalta que para programar este demo se definieron unas clases que a su vez\n",
    "# ocupan las clases principales antes mencionadas de python-limbf\n",
    "#ASEGURESE DE PONER LA UBICACIÓN CORRECTA DE LA UBICACIÓN DE LA CARPETA python-libmf\n",
    "\n",
    "#Esto sólo corre sí te ubicas en la carpeta que contien mf_tests.py\n",
    "# %cd /home/miuser/python-libmf/tests\n",
    "%cd /datos/python-libmf/tests\n",
    "!pwd\n",
    "!python3 mf_tests.py"
   ]
  },
  {
   "cell_type": "code",
   "execution_count": 49,
   "metadata": {},
   "outputs": [
    {
     "name": "stdout",
     "output_type": "stream",
     "text": [
      "Matriz generada con mf.generate_test_data(20,5,25):\n",
      "\n",
      "\u001b[1;30;41m [0.         1.         0.16637107]\n",
      "\u001b[0;0;0m [19.          4.          0.30636304]\n",
      "\u001b[0;0;0m [14.          3.          0.14721805]\n",
      "\u001b[0;0;0m [18.          4.          0.22291025]\n",
      "\u001b[0;0;0m [18.          1.          0.53951716]\n",
      "\u001b[0;0;0m [15.          3.          0.74892651]\n",
      "\u001b[0;0;0m [2.         2.         0.42831194]\n",
      "\u001b[0;0;0m [11.          3.          0.10467911]\n",
      "\u001b[0;0;0m [9.         3.         0.75337018]\n",
      "\u001b[0;0;0m [8.         5.         0.59815912]\n",
      "\u001b[0;0;0m [13.          0.          0.48677848]\n",
      "\u001b[0;0;0m [8.         4.         0.97530286]\n",
      "\u001b[0;0;0m [9.         2.         0.80230277]\n",
      "\u001b[0;0;0m [15.          3.          0.33301479]\n",
      "\u001b[0;0;0m [7.         5.         0.54855018]\n",
      "\u001b[0;0;0m [4.         5.         0.31180599]\n",
      "\u001b[0;0;0m [16.          4.          0.06230988]\n",
      "\u001b[0;0;0m [6.         1.         0.90313856]\n",
      "\u001b[0;0;0m [18.          0.          0.86054759]\n",
      "\u001b[0;0;0m [3.        3.        0.6296915]\n",
      "\u001b[1;30;41m [0.         1.         0.21655643]\n",
      "\u001b[1;30;41m [0.        1.        0.5557169]\n",
      "\u001b[0;0;0m [16.          5.          0.10932898]\n",
      "\u001b[0;0;0m [6.         5.         0.55083566]\n",
      "\u001b[0;0;0m [7.        0.        0.5812561]\n",
      "Tamaño MC:\n",
      " (25, 3)\n"
     ]
    }
   ],
   "source": [
    "#se tiene una función para generar matrices ralas compactas sin embargo\n",
    "#se observa que puede arrojar más de un valor para un mismo\n",
    "#elemento de la matriz rala, vease abajo el renglón [0,1]\n",
    "#tiene 3 valores asignados (0.166,0.217,0.556).\n",
    "\n",
    "#El 1er parámetro señala indica que se seleccionará un valor\n",
    "#de entre 0 y 19 para la 1er columna (que representa el índice\n",
    "#de los renglones de la matriz rala que expresa); el 2do\n",
    "#parámetro indica que se seleccionara al azar valores entre\n",
    "#0 y 4 (que representa el índice de las columnas de la matriz\n",
    "#rala que expresa); el 3er parámetro indica el número de elementos\n",
    "#a generar \n",
    "\n",
    "#Fijaremos una semilla para reproducibilidad\n",
    "np.random.seed(102)\n",
    "MC=mf.generate_test_data(20, 5, 25)\n",
    "print('Matriz generada con mf.generate_test_data(20,5,25):\\n')\n",
    "for i in range(MC.shape[0]):\n",
    "    if MC[i,0]==0:\n",
    "        print('\\033[1;30;41m',MC[i,:])\n",
    "    else:\n",
    "        print('\\033[0;0;0m',MC[i,:])\n",
    "print('Tamaño MC:\\n',MC.shape)"
   ]
  },
  {
   "cell_type": "markdown",
   "metadata": {},
   "source": [
    "### Método mf.MF()\n",
    "**CREAR OBJETO MF CON PARÁMETROS PARA EL MODELO DE FACTORIZACIÓN**"
   ]
  },
  {
   "cell_type": "code",
   "execution_count": 22,
   "metadata": {},
   "outputs": [
    {
     "name": "stdout",
     "output_type": "stream",
     "text": [
      "Tipo de objeto:  <class 'libmf.mf.MF'>\n",
      "Instance variables:  {'model': None, '_options': <libmf.mf.MFParam object at 0x7f9b94b0bd90>, 'i': None, 'j': None}\n"
     ]
    }
   ],
   "source": [
    "#Defínase un objeto de tipo MF para obtener la factorización deseada\n",
    "mf_netflix=mf.MF()\n",
    "\n",
    "#veamos algunas de las propiedades del objeto mf_netflix\n",
    "print('Tipo de objeto: ',type(mf_netflix))\n",
    "print('Instance variables: ',mf_netflix.__dict__)"
   ]
  },
  {
   "cell_type": "code",
   "execution_count": 23,
   "metadata": {},
   "outputs": [
    {
     "name": "stdout",
     "output_type": "stream",
     "text": [
      "Atributos del modelo:\n",
      "fun=0\n",
      "k=8\n",
      "nr_threads=12\n",
      "nr_bins=26\n",
      "nr_iters=20\n",
      "lambda_p1=0.0400\n",
      "lambda_p2=0.0000\n",
      "lambda_q1=0.0400\n",
      "lambda_q2=0.0000\n",
      "eta=0.1000\n",
      "do_nmf= False\n",
      "quiet= False\n",
      "copy_data= True\n"
     ]
    }
   ],
   "source": [
    "#Hasta el momento no se han definido los parámetros para correr el\n",
    "#modelo de factorización, sin embargo por default se asignan algunos\n",
    "#valores que a continuación se muestran:\n",
    "imprime_atributos_MF(mf_netflix)"
   ]
  },
  {
   "cell_type": "code",
   "execution_count": 24,
   "metadata": {},
   "outputs": [
    {
     "name": "stdout",
     "output_type": "stream",
     "text": [
      "Atributos:  ['__class__', '__ctypes_from_outparam__', '__delattr__', '__dict__', '__dir__', '__doc__', '__eq__', '__format__', '__ge__', '__getattribute__', '__gt__', '__hash__', '__init__', '__init_subclass__', '__le__', '__lt__', '__module__', '__ne__', '__new__', '__reduce__', '__reduce_ex__', '__repr__', '__setattr__', '__setstate__', '__sizeof__', '__str__', '__subclasshook__', '__weakref__', '_b_base_', '_b_needsfree_', '_fields_', '_objects', 'copy_data', 'do_nmf', 'eta', 'fun', 'k', 'lambda_p1', 'lambda_p2', 'lambda_q1', 'lambda_q2', 'nr_bins', 'nr_iters', 'nr_threads', 'quiet']\n"
     ]
    }
   ],
   "source": [
    "#Observa que entre los atributos están los parámetros para que corra libmf\n",
    "#y que definen el modelo (son los últimos 13; los que no les antecede y finalizas\n",
    "#con \"__\")\n",
    "print('Atributos: ', dir(mf_netflix._options))"
   ]
  },
  {
   "cell_type": "code",
   "execution_count": 25,
   "metadata": {},
   "outputs": [
    {
     "name": "stdout",
     "output_type": "stream",
     "text": [
      "Atributos del modelo:\n",
      "fun=0\n",
      "k=10\n",
      "nr_threads=12\n",
      "nr_bins=26\n",
      "nr_iters=20\n",
      "lambda_p1=0.0400\n",
      "lambda_p2=0.0000\n",
      "lambda_q1=0.0400\n",
      "lambda_q2=0.0000\n",
      "eta=0.1000\n",
      "do_nmf= False\n",
      "quiet= False\n",
      "copy_data= True\n"
     ]
    }
   ],
   "source": [
    "#Sin embargo podemos definir parámetros distintos pasando los argumentos\n",
    "#Aquí lo hacemos en forma de kwargs, es decir, con el nombre de las variables\n",
    "mf_netflix=mf.MF(fun=0,k=10,nr_threads=12,nr_bins=26,nr_iters=20,lambda_p1=0.04,lambda_p2=0.0,lambda_q1=0.04,lambda_q2=0.0,eta=0.1,do_nmf=False,quiet=False,copy_data=True)\n",
    "imprime_atributos_MF(mf_netflix)"
   ]
  },
  {
   "cell_type": "code",
   "execution_count": 26,
   "metadata": {},
   "outputs": [
    {
     "name": "stdout",
     "output_type": "stream",
     "text": [
      "Atributos del modelo:\n",
      "fun=0\n",
      "k=5\n",
      "nr_threads=12\n",
      "nr_bins=26\n",
      "nr_iters=21\n",
      "lambda_p1=0.0400\n",
      "lambda_p2=0.0000\n",
      "lambda_q1=0.0400\n",
      "lambda_q2=0.0000\n",
      "eta=0.1100\n",
      "do_nmf= False\n",
      "quiet= False\n",
      "copy_data= True\n"
     ]
    }
   ],
   "source": [
    "#Si optas por usar los parámetros por default excepto algunos\n",
    "#puedes pasar los parámetros que quieres definir diferente\n",
    "mf_netflix=mf.MF(eta=0.11,nr_iters=21, k=5)\n",
    "\n",
    "#Nota que en este ejemplo como no definiste k=10, se inicializa con k=8\n",
    "#pues es el valor por default\n",
    "imprime_atributos_MF(mf_netflix)"
   ]
  },
  {
   "cell_type": "markdown",
   "metadata": {},
   "source": [
    "**AJUSTE DEL MODELO DE FACTORIZACIÓN**"
   ]
  },
  {
   "cell_type": "code",
   "execution_count": 1,
   "metadata": {},
   "outputs": [
    {
     "ename": "NameError",
     "evalue": "name 'np' is not defined",
     "output_type": "error",
     "traceback": [
      "\u001b[0;31m---------------------------------------------------------------------------\u001b[0m",
      "\u001b[0;31mNameError\u001b[0m                                 Traceback (most recent call last)",
      "\u001b[0;32m<ipython-input-1-dcf0fbf6e4f6>\u001b[0m in \u001b[0;36m<module>\u001b[0;34m\u001b[0m\n\u001b[1;32m      1\u001b[0m \u001b[0;31m#Generamos una matriz rala al azar y la dividimos en entrenamiento y prueba\u001b[0m\u001b[0;34m\u001b[0m\u001b[0;34m\u001b[0m\u001b[0;34m\u001b[0m\u001b[0m\n\u001b[1;32m      2\u001b[0m \u001b[0;31m#para probar las funciones de factorización\u001b[0m\u001b[0;34m\u001b[0m\u001b[0;34m\u001b[0m\u001b[0;34m\u001b[0m\u001b[0m\n\u001b[0;32m----> 3\u001b[0;31m \u001b[0mnp\u001b[0m\u001b[0;34m.\u001b[0m\u001b[0mrandom\u001b[0m\u001b[0;34m.\u001b[0m\u001b[0mseed\u001b[0m\u001b[0;34m(\u001b[0m\u001b[0;36m104\u001b[0m\u001b[0;34m)\u001b[0m\u001b[0;34m\u001b[0m\u001b[0;34m\u001b[0m\u001b[0m\n\u001b[0m\u001b[1;32m      4\u001b[0m \u001b[0mrandom\u001b[0m\u001b[0;34m.\u001b[0m\u001b[0mseed\u001b[0m\u001b[0;34m(\u001b[0m\u001b[0;36m104\u001b[0m\u001b[0;34m)\u001b[0m\u001b[0;34m\u001b[0m\u001b[0;34m\u001b[0m\u001b[0m\n\u001b[1;32m      5\u001b[0m \u001b[0mMC\u001b[0m\u001b[0;34m=\u001b[0m\u001b[0mcrear_matriz_rala_compacta\u001b[0m\u001b[0;34m(\u001b[0m\u001b[0;36m20\u001b[0m\u001b[0;34m,\u001b[0m\u001b[0;36m5\u001b[0m\u001b[0;34m,\u001b[0m\u001b[0;36m0.70\u001b[0m\u001b[0;34m)\u001b[0m\u001b[0;34m\u001b[0m\u001b[0;34m\u001b[0m\u001b[0m\n",
      "\u001b[0;31mNameError\u001b[0m: name 'np' is not defined"
     ]
    }
   ],
   "source": [
    "#Generamos una matriz rala al azar y la dividimos en entrenamiento y prueba\n",
    "#para probar las funciones de factorización\n",
    "np.random.seed(104)\n",
    "random.seed(104)\n",
    "MC=crear_matriz_rala_compacta(20,5,0.70)\n",
    "print('El tamaño de MC es:',MC.shape)\n",
    "MC_valida, MC_entrena=muestra_val_ent(pd.DataFrame(MC,columns=['usuario_id', 'peli_id', 'calif']),0.3)\n",
    "\n",
    "MC_valida=MC_valida.to_numpy()\n",
    "print('El tamaño de MC_valida es:',MC_valida.shape)\n",
    "print('La matriz MC_valida queda así:\\n',MC_valida)\n",
    "MC_entrena=MC_entrena.to_numpy()\n",
    "print('El tamaño de MC_entrena es:',MC_entrena.shape)\n",
    "\n",
    "#IMPLEMENTAMOS MODELO CON MC_entrena\n",
    "mf_netflix.fit(MC_entrena)"
   ]
  },
  {
   "cell_type": "markdown",
   "metadata": {},
   "source": [
    "**VALIDACIÓN CRUZADA**"
   ]
  },
  {
   "cell_type": "code",
   "execution_count": 73,
   "metadata": {},
   "outputs": [
    {
     "name": "stdout",
     "output_type": "stream",
     "text": [
      "Validación cruzada con 5 folds:  5.600449088459954\n",
      "Validación cruzada con 10 folds:  5.65233440497207\n"
     ]
    }
   ],
   "source": [
    "#Para obtener la validación cruzada basta con llamar al método, pudiendo\n",
    "#usar más de 5 folds (que son los que tiene por default)\n",
    "print('Validación cruzada con 5 folds: ',mf_netflix.mf_cross_validation(MC_entrena))\n",
    "print('Validación cruzada con 10 folds: ',mf_netflix.mf_cross_validation(MC_entrena,folds=10))"
   ]
  },
  {
   "cell_type": "markdown",
   "metadata": {},
   "source": [
    "**OBTENCIÓN DE PREDICCIONES**"
   ]
  },
  {
   "cell_type": "code",
   "execution_count": 76,
   "metadata": {},
   "outputs": [
    {
     "data": {
      "text/plain": [
       "array([5.153527 , 4.825397 , 8.341425 , 4.825397 , 3.2621028, 4.825397 ,\n",
       "       4.825397 ], dtype=float32)"
      ]
     },
     "execution_count": 76,
     "metadata": {},
     "output_type": "execute_result"
    }
   ],
   "source": [
    "#Para hacer la predicción se le pasa sólo los\n",
    "#índices de los elementos a predecir, es decir\n",
    "#una base con sólo 2 columnas que indican el \n",
    "#numero de renglon y columnas\n",
    "pred=mf_netflix.predict(MC_valida[:,0:2])\n",
    "pred"
   ]
  },
  {
   "cell_type": "code",
   "execution_count": 77,
   "metadata": {},
   "outputs": [
    {
     "name": "stdout",
     "output_type": "stream",
     "text": [
      "Los valores verdaderos de MC_valida son: [5 5 3 1 3 1 3]\n"
     ]
    }
   ],
   "source": [
    "print('Los valores verdaderos de MC_valida son:',MC_valida[:,2])"
   ]
  },
  {
   "cell_type": "code",
   "execution_count": 78,
   "metadata": {},
   "outputs": [
    {
     "name": "stdout",
     "output_type": "stream",
     "text": [
      "Los resultados guardados en model están dispuestos como atributos: \n",
      " ['P', 'Q', '__class__', '__ctypes_from_outparam__', '__delattr__', '__dict__', '__dir__', '__doc__', '__eq__', '__format__', '__ge__', '__getattribute__', '__gt__', '__hash__', '__init__', '__init_subclass__', '__le__', '__lt__', '__module__', '__ne__', '__new__', '__reduce__', '__reduce_ex__', '__repr__', '__setattr__', '__setstate__', '__sizeof__', '__str__', '__subclasshook__', '__weakref__', '_b_base_', '_b_needsfree_', '_fields_', '_objects', 'b', 'fun', 'k', 'm', 'n']\n"
     ]
    }
   ],
   "source": [
    "print('Los resultados guardados en model están dispuestos como atributos: \\n',dir(mf_netflix.model))"
   ]
  },
  {
   "cell_type": "code",
   "execution_count": 88,
   "metadata": {},
   "outputs": [
    {
     "name": "stdout",
     "output_type": "stream",
     "text": [
      "Resultados model:\n",
      "fun=0\n",
      "m=20\n",
      "n=20\n",
      "k=20\n",
      "b=4.8254\n",
      "P=0.2524\n",
      "Q=0.6674\n"
     ]
    }
   ],
   "source": [
    "imprime_atributos_model(mf_netflix.model)"
   ]
  },
  {
   "cell_type": "markdown",
   "metadata": {},
   "source": [
    "**OBTENCIÓN MATRIZ Q**"
   ]
  },
  {
   "cell_type": "code",
   "execution_count": 80,
   "metadata": {},
   "outputs": [
    {
     "name": "stdout",
     "output_type": "stream",
     "text": [
      "Tamaño Q: (20, 5)\n",
      "Matriz Q:\n",
      " [[ 0.6610217   1.3479118   1.0919917   1.2702276   1.1628327 ]\n",
      " [ 2.937817    1.0527891   0.03643222  2.3495717   1.5668904 ]\n",
      " [ 1.2376165   0.35759652  0.33090428  2.0263586  -0.20625529]\n",
      " [ 0.11610576  0.72134197  0.94133824  0.9837166   0.85301137]\n",
      " [ 2.3528585   1.0501823   0.23388717  0.41905427  1.3710599 ]\n",
      " [ 1.3444692   3.0200129   2.9119592  -1.0968567   1.9647042 ]\n",
      " [        nan         nan         nan         nan         nan]\n",
      " [ 0.08580175  2.0008779   1.2663869   1.4169183   1.1707867 ]\n",
      " [        nan         nan         nan         nan         nan]\n",
      " [ 0.6156498   1.2251899   0.7842371   0.9606924   1.1395668 ]\n",
      " [ 0.953333    0.45333335  0.64606535  2.293686    0.8497824 ]\n",
      " [ 1.4442893   0.795129    1.5840993   0.91383183  1.2142758 ]\n",
      " [ 1.81049     1.2567213   1.1931634   0.7990054   1.6075099 ]\n",
      " [        nan         nan         nan         nan         nan]\n",
      " [        nan         nan         nan         nan         nan]\n",
      " [ 0.46566537  1.1254746   1.420085    3.1182103   0.5812036 ]\n",
      " [ 0.7238262   0.59449077  1.6209254   1.9068533   2.426855  ]\n",
      " [        nan         nan         nan         nan         nan]\n",
      " [ 0.8563131   1.6673635   0.57837224  1.6007681   0.7426624 ]\n",
      " [ 1.1605471   0.8571629   0.5903649   0.4573612   0.7121148 ]]\n"
     ]
    }
   ],
   "source": [
    "Q=mf_netflix.q_factors()\n",
    "print('Tamaño Q:',Q.shape)\n",
    "print('Matriz Q:\\n',Q)"
   ]
  },
  {
   "cell_type": "markdown",
   "metadata": {},
   "source": [
    "**OBTENCIÓN MATRIZ P**"
   ]
  },
  {
   "cell_type": "code",
   "execution_count": 84,
   "metadata": {},
   "outputs": [
    {
     "name": "stdout",
     "output_type": "stream",
     "text": [
      "Tamaño P: (5, 20)\n",
      "Matriz P:\n",
      " [[ 0.24917328  2.0498247   2.450214   -1.2872744   1.0924109 ]\n",
      " [ 0.39128682  0.339704    0.27196008  0.56796956  0.40583083]\n",
      " [-0.04710024  1.5104944   1.236175    1.1068976   0.6560206 ]\n",
      " [ 1.4916217   1.0703013   0.44259232  0.61636275  1.068625  ]\n",
      " [-0.41503382  0.96455663  0.8601089   0.64968723  0.11055897]\n",
      " [-0.30292937  0.5191632   1.1353921   2.7898161   0.45832276]\n",
      " [ 3.153519    1.9275347   1.0857233   1.2294562   2.2382514 ]\n",
      " [ 0.03649817  0.7632229   0.7629989   0.20383182  0.76700634]\n",
      " [ 0.3325359   0.5348337  -0.02616032  0.21619724 -0.03347047]\n",
      " [ 2.3174741   1.7705752   1.2476735   1.0245948   1.9362841 ]\n",
      " [ 0.7522779   0.56110036  1.7676197   2.0292437   2.6130407 ]\n",
      " [ 0.8474843   0.89459443  1.0397512   1.1229731   1.1285201 ]\n",
      " [ 2.4470503   1.686142    0.9568744   2.5065172   1.8143847 ]\n",
      " [        nan         nan         nan         nan         nan]\n",
      " [        nan         nan         nan         nan         nan]\n",
      " [        nan         nan         nan         nan         nan]\n",
      " [        nan         nan         nan         nan         nan]\n",
      " [ 2.3332486   0.8711795   0.67844474  3.6677153   0.24990529]\n",
      " [        nan         nan         nan         nan         nan]\n",
      " [ 1.109048    0.40753922  1.2697645   0.7166597   1.108134  ]]\n"
     ]
    }
   ],
   "source": [
    "PT=np.transpose(mf_netflix.p_factors())\n",
    "print('Tamaño P:',PT.shape)\n",
    "print('Matriz P:\\n',P)"
   ]
  },
  {
   "cell_type": "markdown",
   "metadata": {},
   "source": [
    "**OBTENCIÓN MATRIZ R**"
   ]
  },
  {
   "cell_type": "code",
   "execution_count": 87,
   "metadata": {},
   "outputs": [
    {
     "name": "stdout",
     "output_type": "stream",
     "text": [
      "Tamaño R: (5, 5)\n",
      "Matriz R:\n",
      " [[nan nan nan nan nan]\n",
      " [nan nan nan nan nan]\n",
      " [nan nan nan nan nan]\n",
      " [nan nan nan nan nan]\n",
      " [nan nan nan nan nan]]\n"
     ]
    }
   ],
   "source": [
    "R=PT@Q\n",
    "print('Tamaño R:',R.shape)\n",
    "print('Matriz R:\\n',R)"
   ]
  },
  {
   "cell_type": "code",
   "execution_count": 37,
   "metadata": {},
   "outputs": [
    {
     "name": "stdout",
     "output_type": "stream",
     "text": [
      "Tamaño R: (20, 20)\n",
      "Matriz R:\n",
      " [[ 5.199  1.652 -0.957  3.586  4.189 17.116    nan  6.711    nan  4.61\n",
      "   0.835  6.048  6.646    nan    nan  2.671  5.613    nan  3.806  3.694]\n",
      " [ 2.256  3.552  1.802  1.485  2.188  2.547    nan  2.377    nan  1.912\n",
      "   2.383  2.306  2.614    nan    nan  2.987  3.033    nan  2.311  1.484]\n",
      " [ 5.53   5.161  2.993  3.965  3.134  8.054    nan  6.9      nan  4.587\n",
      "   4.597  4.892  5.231    nan    nan  7.325  6.57     nan  5.484  2.949]\n",
      " [ 4.945  8.639  3.434  2.879  6.507  7.98     nan  4.96     nan  4.398\n",
      "   4.468  5.561  6.804    nan    nan  4.966  6.185    nan  5.056  3.978]\n",
      " [ 2.837  1.407  1.299  2.181  0.602  4.277    nan  3.938    nan  2.269\n",
      "   2.116  2.179  2.107    nan    nan  4.124  3.032    nan  2.821  1.191]\n",
      " [ 5.823  6.876  5.662  4.585  1.844  2.176    nan  6.872    nan  4.473\n",
      "   7.43   4.785  4.36     nan    nan 11.013  8.231    nan  6.102  2.319]\n",
      " [10.038 17.643  7.05   5.91  13.28  16.211    nan  9.868    nan  8.892\n",
      "   9.225 11.607 13.985    nan    nan 10.151 12.958    nan 10.063  8.114]\n",
      " [ 3.023  2.646  0.793  2.146  2.251  5.891    nan  3.647    nan  2.627\n",
      "   1.982  3.     3.361    nan    nan  2.98   3.966    nan  2.628  1.808]\n",
      " [ 1.149  1.987  1.047  0.589  1.384  1.663    nan  1.344    nan  1.006\n",
      "   1.014  1.017  1.363    nan    nan  1.374  0.844    nan  1.474  0.907]\n",
      " [ 8.838 14.186  5.69   5.392 10.73  14.655    nan  9.037    nan  7.774\n",
      "   7.792  9.972 11.83     nan    nan  9.07  11.36     nan  8.701  6.813]\n",
      " [ 8.834 11.787  5.276  6.426  7.305 10.792    nan  9.275    nan  7.477\n",
      "   8.94   9.361 10.048    nan    nan 11.193 13.954    nan  7.793  5.214]\n",
      " [ 5.66   7.892  3.752  3.824  5.245  7.858    nan  6.073    nan  4.805\n",
      "   5.403  5.98   6.639    nan    nan  6.973  7.713    nan  5.446  3.702]\n",
      " [10.306 17.786  8.686  6.451 11.449 12.077    nan 10.486    nan  8.836\n",
      "  10.945 10.903 12.712    nan    nan 13.097 13.523    nan 10.8    7.354]\n",
      " [   nan    nan    nan    nan    nan    nan    nan    nan    nan    nan\n",
      "     nan    nan    nan    nan    nan    nan    nan    nan    nan    nan]\n",
      " [   nan    nan    nan    nan    nan    nan    nan    nan    nan    nan\n",
      "     nan    nan    nan    nan    nan    nan    nan    nan    nan    nan]\n",
      " [   nan    nan    nan    nan    nan    nan    nan    nan    nan    nan\n",
      "     nan    nan    nan    nan    nan    nan    nan    nan    nan    nan]\n",
      " [   nan    nan    nan    nan    nan    nan    nan    nan    nan    nan\n",
      "     nan    nan    nan    nan    nan    nan    nan    nan    nan    nan]\n",
      " [ 8.432 16.758 10.813  5.348  8.489  3.993    nan  8.217    nan  6.776\n",
      "  11.606  8.693  9.433    nan    nan 14.474 10.817    nan  9.837  5.685]\n",
      " [   nan    nan    nan    nan    nan    nan    nan    nan    nan    nan\n",
      "     nan    nan    nan    nan    nan    nan    nan    nan    nan    nan]\n",
      " [ 4.874  7.153  3.165  3.287  5.198  7.828    nan  4.802    nan  4.136\n",
      "   4.61   5.939  6.406    nan    nan  5.574  7.153    nan  4.306  3.521]]\n"
     ]
    }
   ],
   "source": [
    "R=P@np.transpose(Q)\n",
    "print('Tamaño R:',R.shape)\n",
    "print('Matriz R:\\n',R)"
   ]
  },
  {
   "cell_type": "code",
   "execution_count": 38,
   "metadata": {},
   "outputs": [
    {
     "data": {
      "text/html": [
       "<div>\n",
       "<style scoped>\n",
       "    .dataframe tbody tr th:only-of-type {\n",
       "        vertical-align: middle;\n",
       "    }\n",
       "\n",
       "    .dataframe tbody tr th {\n",
       "        vertical-align: top;\n",
       "    }\n",
       "\n",
       "    .dataframe thead th {\n",
       "        text-align: right;\n",
       "    }\n",
       "</style>\n",
       "<table border=\"1\" class=\"dataframe\">\n",
       "  <thead>\n",
       "    <tr style=\"text-align: right;\">\n",
       "      <th></th>\n",
       "      <th>0</th>\n",
       "      <th>1</th>\n",
       "      <th>2</th>\n",
       "    </tr>\n",
       "  </thead>\n",
       "  <tbody>\n",
       "    <tr>\n",
       "      <th>0</th>\n",
       "      <td>0.0</td>\n",
       "      <td>0.0</td>\n",
       "      <td>5.198862</td>\n",
       "    </tr>\n",
       "    <tr>\n",
       "      <th>1</th>\n",
       "      <td>0.0</td>\n",
       "      <td>1.0</td>\n",
       "      <td>1.652449</td>\n",
       "    </tr>\n",
       "    <tr>\n",
       "      <th>2</th>\n",
       "      <td>0.0</td>\n",
       "      <td>2.0</td>\n",
       "      <td>-0.956831</td>\n",
       "    </tr>\n",
       "    <tr>\n",
       "      <th>3</th>\n",
       "      <td>0.0</td>\n",
       "      <td>3.0</td>\n",
       "      <td>3.586059</td>\n",
       "    </tr>\n",
       "    <tr>\n",
       "      <th>4</th>\n",
       "      <td>0.0</td>\n",
       "      <td>4.0</td>\n",
       "      <td>4.188980</td>\n",
       "    </tr>\n",
       "    <tr>\n",
       "      <th>...</th>\n",
       "      <td>...</td>\n",
       "      <td>...</td>\n",
       "      <td>...</td>\n",
       "    </tr>\n",
       "    <tr>\n",
       "      <th>220</th>\n",
       "      <td>19.0</td>\n",
       "      <td>12.0</td>\n",
       "      <td>6.406300</td>\n",
       "    </tr>\n",
       "    <tr>\n",
       "      <th>221</th>\n",
       "      <td>19.0</td>\n",
       "      <td>15.0</td>\n",
       "      <td>5.573576</td>\n",
       "    </tr>\n",
       "    <tr>\n",
       "      <th>222</th>\n",
       "      <td>19.0</td>\n",
       "      <td>16.0</td>\n",
       "      <td>7.153277</td>\n",
       "    </tr>\n",
       "    <tr>\n",
       "      <th>223</th>\n",
       "      <td>19.0</td>\n",
       "      <td>18.0</td>\n",
       "      <td>4.306216</td>\n",
       "    </tr>\n",
       "    <tr>\n",
       "      <th>224</th>\n",
       "      <td>19.0</td>\n",
       "      <td>19.0</td>\n",
       "      <td>3.521081</td>\n",
       "    </tr>\n",
       "  </tbody>\n",
       "</table>\n",
       "<p>225 rows × 3 columns</p>\n",
       "</div>"
      ],
      "text/plain": [
       "        0     1         2\n",
       "0     0.0   0.0  5.198862\n",
       "1     0.0   1.0  1.652449\n",
       "2     0.0   2.0 -0.956831\n",
       "3     0.0   3.0  3.586059\n",
       "4     0.0   4.0  4.188980\n",
       "..    ...   ...       ...\n",
       "220  19.0  12.0  6.406300\n",
       "221  19.0  15.0  5.573576\n",
       "222  19.0  16.0  7.153277\n",
       "223  19.0  18.0  4.306216\n",
       "224  19.0  19.0  3.521081\n",
       "\n",
       "[225 rows x 3 columns]"
      ]
     },
     "execution_count": 38,
     "metadata": {},
     "output_type": "execute_result"
    }
   ],
   "source": [
    "#Podemos ver cómo se ve la matriz R en forma compacta\n",
    "compactar_matriz_rala(R)\n",
    "pd.DataFrame(compactar_matriz_rala(R))"
   ]
  },
  {
   "cell_type": "code",
   "execution_count": 39,
   "metadata": {},
   "outputs": [
    {
     "data": {
      "text/html": [
       "<div>\n",
       "<style scoped>\n",
       "    .dataframe tbody tr th:only-of-type {\n",
       "        vertical-align: middle;\n",
       "    }\n",
       "\n",
       "    .dataframe tbody tr th {\n",
       "        vertical-align: top;\n",
       "    }\n",
       "\n",
       "    .dataframe thead th {\n",
       "        text-align: right;\n",
       "    }\n",
       "</style>\n",
       "<table border=\"1\" class=\"dataframe\">\n",
       "  <thead>\n",
       "    <tr style=\"text-align: right;\">\n",
       "      <th></th>\n",
       "      <th>ren</th>\n",
       "      <th>col</th>\n",
       "      <th>calif</th>\n",
       "      <th>R_calif_est</th>\n",
       "      <th>mf_netflix_predict</th>\n",
       "    </tr>\n",
       "  </thead>\n",
       "  <tbody>\n",
       "    <tr>\n",
       "      <th>0</th>\n",
       "      <td>19.0</td>\n",
       "      <td>4.0</td>\n",
       "      <td>5.0</td>\n",
       "      <td>5.197598</td>\n",
       "      <td>5.197598</td>\n",
       "    </tr>\n",
       "    <tr>\n",
       "      <th>1</th>\n",
       "      <td>16.0</td>\n",
       "      <td>4.0</td>\n",
       "      <td>5.0</td>\n",
       "      <td>NaN</td>\n",
       "      <td>4.825397</td>\n",
       "    </tr>\n",
       "    <tr>\n",
       "      <th>2</th>\n",
       "      <td>17.0</td>\n",
       "      <td>4.0</td>\n",
       "      <td>3.0</td>\n",
       "      <td>8.488568</td>\n",
       "      <td>8.488568</td>\n",
       "    </tr>\n",
       "    <tr>\n",
       "      <th>3</th>\n",
       "      <td>15.0</td>\n",
       "      <td>4.0</td>\n",
       "      <td>1.0</td>\n",
       "      <td>NaN</td>\n",
       "      <td>4.825397</td>\n",
       "    </tr>\n",
       "    <tr>\n",
       "      <th>4</th>\n",
       "      <td>19.0</td>\n",
       "      <td>3.0</td>\n",
       "      <td>3.0</td>\n",
       "      <td>3.287389</td>\n",
       "      <td>3.287389</td>\n",
       "    </tr>\n",
       "    <tr>\n",
       "      <th>5</th>\n",
       "      <td>16.0</td>\n",
       "      <td>3.0</td>\n",
       "      <td>1.0</td>\n",
       "      <td>NaN</td>\n",
       "      <td>4.825397</td>\n",
       "    </tr>\n",
       "    <tr>\n",
       "      <th>6</th>\n",
       "      <td>13.0</td>\n",
       "      <td>3.0</td>\n",
       "      <td>3.0</td>\n",
       "      <td>NaN</td>\n",
       "      <td>4.825397</td>\n",
       "    </tr>\n",
       "  </tbody>\n",
       "</table>\n",
       "</div>"
      ],
      "text/plain": [
       "    ren  col  calif  R_calif_est  mf_netflix_predict\n",
       "0  19.0  4.0    5.0     5.197598            5.197598\n",
       "1  16.0  4.0    5.0          NaN            4.825397\n",
       "2  17.0  4.0    3.0     8.488568            8.488568\n",
       "3  15.0  4.0    1.0          NaN            4.825397\n",
       "4  19.0  3.0    3.0     3.287389            3.287389\n",
       "5  16.0  3.0    1.0          NaN            4.825397\n",
       "6  13.0  3.0    3.0          NaN            4.825397"
      ]
     },
     "metadata": {},
     "output_type": "display_data"
    },
    {
     "name": "stdout",
     "output_type": "stream",
     "text": [
      "Usuarios 13, 15 y 16 en MC_valida:\n"
     ]
    },
    {
     "data": {
      "text/html": [
       "<div>\n",
       "<style scoped>\n",
       "    .dataframe tbody tr th:only-of-type {\n",
       "        vertical-align: middle;\n",
       "    }\n",
       "\n",
       "    .dataframe tbody tr th {\n",
       "        vertical-align: top;\n",
       "    }\n",
       "\n",
       "    .dataframe thead th {\n",
       "        text-align: right;\n",
       "    }\n",
       "</style>\n",
       "<table border=\"1\" class=\"dataframe\">\n",
       "  <thead>\n",
       "    <tr style=\"text-align: right;\">\n",
       "      <th></th>\n",
       "      <th>ren</th>\n",
       "      <th>col</th>\n",
       "      <th>calif</th>\n",
       "    </tr>\n",
       "  </thead>\n",
       "  <tbody>\n",
       "    <tr>\n",
       "      <th>1</th>\n",
       "      <td>16</td>\n",
       "      <td>4</td>\n",
       "      <td>5</td>\n",
       "    </tr>\n",
       "    <tr>\n",
       "      <th>3</th>\n",
       "      <td>15</td>\n",
       "      <td>4</td>\n",
       "      <td>1</td>\n",
       "    </tr>\n",
       "    <tr>\n",
       "      <th>5</th>\n",
       "      <td>16</td>\n",
       "      <td>3</td>\n",
       "      <td>1</td>\n",
       "    </tr>\n",
       "    <tr>\n",
       "      <th>6</th>\n",
       "      <td>13</td>\n",
       "      <td>3</td>\n",
       "      <td>3</td>\n",
       "    </tr>\n",
       "  </tbody>\n",
       "</table>\n",
       "</div>"
      ],
      "text/plain": [
       "   ren  col  calif\n",
       "1   16    4      5\n",
       "3   15    4      1\n",
       "5   16    3      1\n",
       "6   13    3      3"
      ]
     },
     "metadata": {},
     "output_type": "display_data"
    },
    {
     "name": "stdout",
     "output_type": "stream",
     "text": [
      "Usuarios 13, 15 y 16 en MC_entrena:\n"
     ]
    },
    {
     "data": {
      "text/html": [
       "<div>\n",
       "<style scoped>\n",
       "    .dataframe tbody tr th:only-of-type {\n",
       "        vertical-align: middle;\n",
       "    }\n",
       "\n",
       "    .dataframe tbody tr th {\n",
       "        vertical-align: top;\n",
       "    }\n",
       "\n",
       "    .dataframe thead th {\n",
       "        text-align: right;\n",
       "    }\n",
       "</style>\n",
       "<table border=\"1\" class=\"dataframe\">\n",
       "  <thead>\n",
       "    <tr style=\"text-align: right;\">\n",
       "      <th></th>\n",
       "      <th>ren</th>\n",
       "      <th>col</th>\n",
       "      <th>calif</th>\n",
       "    </tr>\n",
       "  </thead>\n",
       "  <tbody>\n",
       "    <tr>\n",
       "      <th>32</th>\n",
       "      <td>15</td>\n",
       "      <td>2</td>\n",
       "      <td>1</td>\n",
       "    </tr>\n",
       "    <tr>\n",
       "      <th>34</th>\n",
       "      <td>16</td>\n",
       "      <td>1</td>\n",
       "      <td>5</td>\n",
       "    </tr>\n",
       "    <tr>\n",
       "      <th>40</th>\n",
       "      <td>15</td>\n",
       "      <td>0</td>\n",
       "      <td>3</td>\n",
       "    </tr>\n",
       "    <tr>\n",
       "      <th>56</th>\n",
       "      <td>13</td>\n",
       "      <td>2</td>\n",
       "      <td>2</td>\n",
       "    </tr>\n",
       "  </tbody>\n",
       "</table>\n",
       "</div>"
      ],
      "text/plain": [
       "    ren  col  calif\n",
       "32   15    2      1\n",
       "34   16    1      5\n",
       "40   15    0      3\n",
       "56   13    2      2"
      ]
     },
     "metadata": {},
     "output_type": "display_data"
    },
    {
     "name": "stdout",
     "output_type": "stream",
     "text": [
      "Se calificaron películas 3 y 4 en MC_valida?...sí\n"
     ]
    },
    {
     "data": {
      "text/html": [
       "<div>\n",
       "<style scoped>\n",
       "    .dataframe tbody tr th:only-of-type {\n",
       "        vertical-align: middle;\n",
       "    }\n",
       "\n",
       "    .dataframe tbody tr th {\n",
       "        vertical-align: top;\n",
       "    }\n",
       "\n",
       "    .dataframe thead th {\n",
       "        text-align: right;\n",
       "    }\n",
       "</style>\n",
       "<table border=\"1\" class=\"dataframe\">\n",
       "  <thead>\n",
       "    <tr style=\"text-align: right;\">\n",
       "      <th></th>\n",
       "      <th>ren</th>\n",
       "      <th>col</th>\n",
       "      <th>calif</th>\n",
       "    </tr>\n",
       "  </thead>\n",
       "  <tbody>\n",
       "    <tr>\n",
       "      <th>0</th>\n",
       "      <td>19</td>\n",
       "      <td>4</td>\n",
       "      <td>5</td>\n",
       "    </tr>\n",
       "    <tr>\n",
       "      <th>1</th>\n",
       "      <td>16</td>\n",
       "      <td>4</td>\n",
       "      <td>5</td>\n",
       "    </tr>\n",
       "    <tr>\n",
       "      <th>2</th>\n",
       "      <td>17</td>\n",
       "      <td>4</td>\n",
       "      <td>3</td>\n",
       "    </tr>\n",
       "    <tr>\n",
       "      <th>3</th>\n",
       "      <td>15</td>\n",
       "      <td>4</td>\n",
       "      <td>1</td>\n",
       "    </tr>\n",
       "    <tr>\n",
       "      <th>4</th>\n",
       "      <td>19</td>\n",
       "      <td>3</td>\n",
       "      <td>3</td>\n",
       "    </tr>\n",
       "    <tr>\n",
       "      <th>5</th>\n",
       "      <td>16</td>\n",
       "      <td>3</td>\n",
       "      <td>1</td>\n",
       "    </tr>\n",
       "    <tr>\n",
       "      <th>6</th>\n",
       "      <td>13</td>\n",
       "      <td>3</td>\n",
       "      <td>3</td>\n",
       "    </tr>\n",
       "  </tbody>\n",
       "</table>\n",
       "</div>"
      ],
      "text/plain": [
       "   ren  col  calif\n",
       "0   19    4      5\n",
       "1   16    4      5\n",
       "2   17    4      3\n",
       "3   15    4      1\n",
       "4   19    3      3\n",
       "5   16    3      1\n",
       "6   13    3      3"
      ]
     },
     "metadata": {},
     "output_type": "display_data"
    },
    {
     "name": "stdout",
     "output_type": "stream",
     "text": [
      "Se calificaron películas 3 y 4 en MC_entrena?...sí\n"
     ]
    },
    {
     "data": {
      "text/html": [
       "<div>\n",
       "<style scoped>\n",
       "    .dataframe tbody tr th:only-of-type {\n",
       "        vertical-align: middle;\n",
       "    }\n",
       "\n",
       "    .dataframe tbody tr th {\n",
       "        vertical-align: top;\n",
       "    }\n",
       "\n",
       "    .dataframe thead th {\n",
       "        text-align: right;\n",
       "    }\n",
       "</style>\n",
       "<table border=\"1\" class=\"dataframe\">\n",
       "  <thead>\n",
       "    <tr style=\"text-align: right;\">\n",
       "      <th></th>\n",
       "      <th>ren</th>\n",
       "      <th>col</th>\n",
       "      <th>calif</th>\n",
       "    </tr>\n",
       "  </thead>\n",
       "  <tbody>\n",
       "    <tr>\n",
       "      <th>2</th>\n",
       "      <td>18</td>\n",
       "      <td>3</td>\n",
       "      <td>4</td>\n",
       "    </tr>\n",
       "    <tr>\n",
       "      <th>3</th>\n",
       "      <td>5</td>\n",
       "      <td>4</td>\n",
       "      <td>1</td>\n",
       "    </tr>\n",
       "    <tr>\n",
       "      <th>10</th>\n",
       "      <td>2</td>\n",
       "      <td>3</td>\n",
       "      <td>1</td>\n",
       "    </tr>\n",
       "    <tr>\n",
       "      <th>11</th>\n",
       "      <td>3</td>\n",
       "      <td>3</td>\n",
       "      <td>1</td>\n",
       "    </tr>\n",
       "    <tr>\n",
       "      <th>13</th>\n",
       "      <td>1</td>\n",
       "      <td>4</td>\n",
       "      <td>3</td>\n",
       "    </tr>\n",
       "    <tr>\n",
       "      <th>14</th>\n",
       "      <td>18</td>\n",
       "      <td>4</td>\n",
       "      <td>2</td>\n",
       "    </tr>\n",
       "    <tr>\n",
       "      <th>17</th>\n",
       "      <td>14</td>\n",
       "      <td>4</td>\n",
       "      <td>1</td>\n",
       "    </tr>\n",
       "    <tr>\n",
       "      <th>21</th>\n",
       "      <td>7</td>\n",
       "      <td>3</td>\n",
       "      <td>5</td>\n",
       "    </tr>\n",
       "    <tr>\n",
       "      <th>24</th>\n",
       "      <td>11</td>\n",
       "      <td>4</td>\n",
       "      <td>2</td>\n",
       "    </tr>\n",
       "    <tr>\n",
       "      <th>27</th>\n",
       "      <td>6</td>\n",
       "      <td>3</td>\n",
       "      <td>5</td>\n",
       "    </tr>\n",
       "    <tr>\n",
       "      <th>28</th>\n",
       "      <td>4</td>\n",
       "      <td>3</td>\n",
       "      <td>3</td>\n",
       "    </tr>\n",
       "    <tr>\n",
       "      <th>31</th>\n",
       "      <td>0</td>\n",
       "      <td>4</td>\n",
       "      <td>4</td>\n",
       "    </tr>\n",
       "    <tr>\n",
       "      <th>35</th>\n",
       "      <td>14</td>\n",
       "      <td>3</td>\n",
       "      <td>2</td>\n",
       "    </tr>\n",
       "    <tr>\n",
       "      <th>41</th>\n",
       "      <td>12</td>\n",
       "      <td>3</td>\n",
       "      <td>1</td>\n",
       "    </tr>\n",
       "    <tr>\n",
       "      <th>43</th>\n",
       "      <td>7</td>\n",
       "      <td>4</td>\n",
       "      <td>2</td>\n",
       "    </tr>\n",
       "    <tr>\n",
       "      <th>44</th>\n",
       "      <td>6</td>\n",
       "      <td>4</td>\n",
       "      <td>2</td>\n",
       "    </tr>\n",
       "    <tr>\n",
       "      <th>45</th>\n",
       "      <td>12</td>\n",
       "      <td>4</td>\n",
       "      <td>5</td>\n",
       "    </tr>\n",
       "    <tr>\n",
       "      <th>52</th>\n",
       "      <td>1</td>\n",
       "      <td>3</td>\n",
       "      <td>1</td>\n",
       "    </tr>\n",
       "    <tr>\n",
       "      <th>53</th>\n",
       "      <td>2</td>\n",
       "      <td>4</td>\n",
       "      <td>3</td>\n",
       "    </tr>\n",
       "    <tr>\n",
       "      <th>59</th>\n",
       "      <td>4</td>\n",
       "      <td>4</td>\n",
       "      <td>5</td>\n",
       "    </tr>\n",
       "    <tr>\n",
       "      <th>60</th>\n",
       "      <td>9</td>\n",
       "      <td>4</td>\n",
       "      <td>4</td>\n",
       "    </tr>\n",
       "  </tbody>\n",
       "</table>\n",
       "</div>"
      ],
      "text/plain": [
       "    ren  col  calif\n",
       "2    18    3      4\n",
       "3     5    4      1\n",
       "10    2    3      1\n",
       "11    3    3      1\n",
       "13    1    4      3\n",
       "14   18    4      2\n",
       "17   14    4      1\n",
       "21    7    3      5\n",
       "24   11    4      2\n",
       "27    6    3      5\n",
       "28    4    3      3\n",
       "31    0    4      4\n",
       "35   14    3      2\n",
       "41   12    3      1\n",
       "43    7    4      2\n",
       "44    6    4      2\n",
       "45   12    4      5\n",
       "52    1    3      1\n",
       "53    2    4      3\n",
       "59    4    4      5\n",
       "60    9    4      4"
      ]
     },
     "metadata": {},
     "output_type": "display_data"
    }
   ],
   "source": [
    "#Notese que R justo contiene algunas de las estimaciones arrojadas por\n",
    "#el método predict, pero no todas\n",
    "comparativo=pd.DataFrame(columns=['ren','col','calif','R_calif_est','mf_netflix_predict'])\n",
    "for i in range(MC_valida.shape[0]):\n",
    "    comparativo.loc[i] = [MC_valida[i,0], MC_valida[i,1], MC_valida[i,2],R[MC_valida[i,0],MC_valida[i,1]],pred[i]]\n",
    "display(comparativo)\n",
    "\n",
    "#Observa que R no contiene todas las estimaciones que tiene predict\n",
    "#checamos unos casos particulares: 4, 9, 11, 12\n",
    "#nota que todos esos usuarios aparecen tanto en MC_entrena como \n",
    "#en MC_valida, y sin embargo la matriz R no tiene las calificaciones\n",
    "#ni del usuario 13, 15 y 16\n",
    "df_MC_valida=pd.DataFrame(MC_valida,columns=['ren','col','calif'])\n",
    "df_MC_entrena=pd.DataFrame(MC_entrena,columns=['ren','col','calif'])\n",
    "print('Usuarios 13, 15 y 16 en MC_valida:')\n",
    "display(df_MC_valida[df_MC_valida.ren.isin([13,15,16])])\n",
    "print('Usuarios 13, 15 y 16 en MC_entrena:')\n",
    "display(df_MC_entrena[df_MC_entrena.ren.isin([13,15,16])])\n",
    "\n",
    "\n",
    "#Obsérvese las películas que los usuarios 13, 15 y 16\n",
    "#Tanto en entrena como en valida aparecen estos usuarios\n",
    "#La base valida sólo tiene calificaciones de las películas\n",
    "#3 y 4\n",
    "print('Se calificaron películas 3 y 4 en MC_valida?...sí')\n",
    "display(df_MC_valida[df_MC_valida.col.isin([3,4])])\n",
    "print('Se calificaron películas 3 y 4 en MC_entrena?...sí')\n",
    "display(df_MC_entrena[df_MC_entrena.col.isin([3,4])])\n"
   ]
  },
  {
   "cell_type": "code",
   "execution_count": null,
   "metadata": {},
   "outputs": [],
   "source": []
  },
  {
   "cell_type": "code",
   "execution_count": null,
   "metadata": {},
   "outputs": [],
   "source": []
  },
  {
   "cell_type": "code",
   "execution_count": null,
   "metadata": {},
   "outputs": [],
   "source": []
  },
  {
   "cell_type": "code",
   "execution_count": null,
   "metadata": {},
   "outputs": [],
   "source": []
  },
  {
   "cell_type": "code",
   "execution_count": null,
   "metadata": {},
   "outputs": [],
   "source": []
  },
  {
   "cell_type": "code",
   "execution_count": null,
   "metadata": {},
   "outputs": [],
   "source": []
  },
  {
   "cell_type": "code",
   "execution_count": null,
   "metadata": {},
   "outputs": [],
   "source": []
  }
 ],
 "metadata": {
  "kernelspec": {
   "display_name": "Python 3",
   "language": "python",
   "name": "python3"
  },
  "language_info": {
   "codemirror_mode": {
    "name": "ipython",
    "version": 3
   },
   "file_extension": ".py",
   "mimetype": "text/x-python",
   "name": "python",
   "nbconvert_exporter": "python",
   "pygments_lexer": "ipython3",
   "version": "3.6.9"
  }
 },
 "nbformat": 4,
 "nbformat_minor": 4
}
