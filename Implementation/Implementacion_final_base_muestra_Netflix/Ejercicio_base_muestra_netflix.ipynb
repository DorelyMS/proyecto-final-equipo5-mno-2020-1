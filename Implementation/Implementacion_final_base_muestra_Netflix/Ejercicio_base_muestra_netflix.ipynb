{
 "cells": [
  {
   "cell_type": "markdown",
   "metadata": {},
   "source": [
    "# Objetivo de este notebook\n",
    "\n",
    "#En este notebook se desarrollará todo el código necesario para establecer un modelo de recomendación de películas a partir la muestra de películas de Netflix conforme a las notas de referencia base:"
   ]
  },
  {
   "cell_type": "markdown",
   "metadata": {},
   "source": [
    "https://heuristic-bhabha-ae33da.netlify.app/sistemas-de-recomendaci%C3%B3n-y-filtrado-colaborativo.html#ejemplo-datos-de-netflix"
   ]
  },
  {
   "cell_type": "code",
   "execution_count": 3,
   "metadata": {},
   "outputs": [],
   "source": [
    "# Requisitos\n",
    "\n",
    "#Para correr las funciones de la librería libmf de python de este notebook, \n",
    "#debes clonar el repo de https://github.com/PorkShoulderHolder/python-libmf.git\n",
    "#subir este notebook dentro de la carpeta /libmf/tests/\n",
    "\n",
    "#Para correr las funciones de libmf de este notebook ejecutados con \n",
    "#Shell Commands (\"!\") y Shell-Related Magic Commands (\"%\")\n",
    "#debes clonar el repo de https://github.com/cjlin1/libmf.git\n",
    "\n",
    "#El clonar estos archivos es necesario porque contienen funciones programadas o\n",
    "#ejemplos construidos para exhibir el uso de estos paquetes\n",
    "\n",
    "#Existen bases que requieres tener la carpeta donde corras el código\n",
    "#a saber: movies_title_fix.csv dat_muestra_nflix.csv\n",
    "\n",
    "#si queres correr este notebook a través de docker con la imagen de\n",
    "#jupyer numerical, debes instalar los paquetes libmf y colorama,\n",
    "#ejecutando los comandos de abajo, reiniciando el kernel (luego\n",
    "#puedes comentar con \"#\" los \"pip install\" para que no se vuelvan a ejecutar)"
   ]
  },
  {
   "cell_type": "code",
   "execution_count": 13,
   "metadata": {},
   "outputs": [],
   "source": [
    "#pip install libmf"
   ]
  },
  {
   "cell_type": "code",
   "execution_count": 14,
   "metadata": {},
   "outputs": [],
   "source": [
    "#pip install colorama"
   ]
  },
  {
   "cell_type": "code",
   "execution_count": 1,
   "metadata": {},
   "outputs": [
    {
     "name": "stdout",
     "output_type": "stream",
     "text": [
      "Using file found in /home/miuser/.local/lib/python3.6/site-packages:\n",
      "/home/miuser/.local/lib/python3.6/site-packages/libmf.cpython-36m-x86_64-linux-gnu.so\n"
     ]
    }
   ],
   "source": [
    "import sys\n",
    "import numpy as np\n",
    "import types\n",
    "import scipy\n",
    "from scipy.sparse import random\n",
    "from scipy import stats\n",
    "import pandas as pd\n",
    "import copy\n",
    "import random\n",
    "from functools import partial\n",
    "from colorama import init\n",
    "\n",
    "import libmf\n",
    "from libmf import mf"
   ]
  },
  {
   "cell_type": "markdown",
   "metadata": {},
   "source": [
    "# Funciones auxiliares\n",
    "Para explicar y ejemplificar el uso de libmf"
   ]
  },
  {
   "cell_type": "code",
   "execution_count": 2,
   "metadata": {},
   "outputs": [],
   "source": [
    "#Función auziliar para generar matrices ralas (sólo se usa para un ejemplo)\n",
    "def constante(x,useless):\n",
    "    \"\"\"\n",
    "    Devuelve la constante x\n",
    "    \n",
    "    params: x       float constante que se quiere devolver\n",
    "            useless float cualquier valor que se quiera pasar\n",
    "    return: x       Devuelve la misma constante\n",
    "    \"\"\"\n",
    "    return x"
   ]
  },
  {
   "cell_type": "code",
   "execution_count": 3,
   "metadata": {},
   "outputs": [],
   "source": [
    "#Función auziliar para generar matrices ralas (sólo se usa para un ejemplo)\n",
    "def perform(fun, *args):\n",
    "    \"\"\"\n",
    "    Evalúa una función con los argumentos indicados\n",
    "    \n",
    "    params: fun         Una función\n",
    "            *args       Parámetros que utiliza la función \"fun\"\n",
    "                        (se pueden meter cuantos parámetros tenga \n",
    "                        dicha funcion)\n",
    "    return: fun(*args)  Valor de fun con parámetros *args\n",
    "    \"\"\"\n",
    "    return fun(*args)"
   ]
  },
  {
   "cell_type": "code",
   "execution_count": 4,
   "metadata": {},
   "outputs": [],
   "source": [
    "#Función auziliar para generar matrices ralas (sólo se usa para un ejemplo)\n",
    "def nan_or_value(x, f, *args):\n",
    "    \"\"\"\n",
    "    Devuelve el valor de una función evaluada con sus parámetros\n",
    "    *args acorde a la variable indicadora x\n",
    "    \n",
    "    params: x         boolean, si es 1 tómese valor de la función\n",
    "                      si no será nan o 0 según especifique nan_zero\n",
    "            fun       Una función\n",
    "            *args     Parámetros que utiliza la función \"fun\"\n",
    "                      (se pueden meter cuantos parámetros tenga \n",
    "                      dicha funcion)\n",
    "            nan_zero  Si no se especifica nan devuelve 0\n",
    "    return: fun(*args)  Valor de fun con parámetros *args\n",
    "    \"\"\"\n",
    "    if(x==1):\n",
    "        return perform(f,*args)\n",
    "    else:\n",
    "        return np.nan"
   ]
  },
  {
   "cell_type": "code",
   "execution_count": 5,
   "metadata": {},
   "outputs": [],
   "source": [
    "#Función auziliar para generar matrices ralas (sólo se usa para un ejemplo)\n",
    "\n",
    "#Con esta vectorización se podrá aplicar a todos los elementos\n",
    "#de un np.array la función nan_or_value\n",
    "nan_or_value_vec=np.vectorize(nan_or_value, otypes=[object])"
   ]
  },
  {
   "cell_type": "code",
   "execution_count": 6,
   "metadata": {},
   "outputs": [],
   "source": [
    "#Función para generar matrices ralas (sólo se usa para un ejemplo)\n",
    "#Por su forma de construcción esta función es bastante ineficiente para\n",
    "#ejemplos grandes\n",
    "def crear_matriz_rala(n_ren,m_col,prop_elem_difer_nan,func_rand,*args_func_rand):\n",
    "    \"\"\"\n",
    "    Construye matriz rala de n_renxm_col, seleccionando al azar los elementos\n",
    "    que serán nan cumpliendo que la proporción de éstos es de \n",
    "    1-prop_elem_difer_nan, donde los numeros diferentes de nan serán aleatorios\n",
    "    generados a partir de una funcion aletorea que se envíe como parámetro\n",
    "    (y sus argumentos)\n",
    "    \n",
    "    params: n_ren               int numero de renglones que tiene la matriz\n",
    "            m_col               int numero de columnas que tiene la matriz\n",
    "            prop_elem_difer_nan float (0 < prop_elem_difer_nan < 1) indica\n",
    "                                la proporción de elementos distintos de nan\n",
    "            func_rand           Función que genera un sólo no. aleatorio de\n",
    "                                tipo float (no arreglos)\n",
    "            *args_fun_rand      Argumentos necesarios para ejecutar la\n",
    "                                la funcoión fun_rand\n",
    "            nan_zero            Si no se especifica nan devuelve 0\n",
    "    return: nan_or_value_vec    np.ndarray que contiene matriz rala\n",
    "    \"\"\"\n",
    "    tot=int(n_ren*m_col)\n",
    "    k=int(tot*prop_elem_difer_nan)\n",
    "    #se juntan 2 arreglos, uno de ceros y otro de unos, para después\n",
    "    #reacomodarlos al azar\n",
    "    M=np.concatenate((np.zeros(tot-k).astype(int), np.ones(k).astype(int)))\n",
    "    M=np.array(random.sample(list(M),tot))\n",
    "    M=M.reshape(n_ren,m_col)\n",
    "    #Los unos se intercambias por numeros aleatorios y los ceros\n",
    "    #por nan (o se dejan como cero)\n",
    "    M=nan_or_value_vec(M,func_rand,*args_func_rand).astype(float)\n",
    "    return M"
   ]
  },
  {
   "cell_type": "code",
   "execution_count": 7,
   "metadata": {},
   "outputs": [],
   "source": [
    "#Función auziliar para generar matrices ralas (sólo se usa para un ejemplo)\n",
    "def compactar_matriz_rala(M):\n",
    "    \"\"\"\n",
    "    Pasa una matriz rala a su expresión compacta\n",
    "    \n",
    "    params: M  np.ndarray que representa matriz rala\n",
    "    return: MC np.ndarray matriz en expresión compacta\n",
    "               (no se reportarán los elementos con valor\n",
    "               nan)\n",
    "    \"\"\"\n",
    "    if type(M) is not np.ndarray:\n",
    "        sys.exit('M debe ser de tipo numpy.ndarray')\n",
    "    elif np.isnan(M).sum()==len(M):\n",
    "        sys.exit('Todos los elementos de M son nan')\n",
    "    MC=np.zeros((M[np.isnan(M)==False].size,3))\n",
    "    k = 0\n",
    "    n,m=M.shape\n",
    "    for i in range(n): \n",
    "        for j in range(m): \n",
    "            if (~np.isnan(M[i,j])): \n",
    "                MC[k,0] = i\n",
    "                MC[k,1] = j\n",
    "                MC[k,2] = M[i,j] \n",
    "                k += 1\n",
    "    return MC"
   ]
  },
  {
   "cell_type": "code",
   "execution_count": 8,
   "metadata": {},
   "outputs": [],
   "source": [
    "#Función para generar matrices ralas en su expresión compacta\n",
    "#Utilizada para varios ejemplos\n",
    "def crear_matriz_rala_compacta(n_ren, m_col, prop_elem_difer_nan):\n",
    "    \"\"\"\n",
    "    Construye matriz rala de n_renxm_col, seleccionando al azar los elementos\n",
    "    que serán distintos de nan. Éstos elementos distintos de nan serán\n",
    "    numero aleatorios entre 1 y 5 (uniforme discreta). Se dice compacta porque\n",
    "    es una matriz solo señala las coordenadas o entredas de la matriz que \n",
    "    son diferentes a nan\n",
    "    \n",
    "    params: n_ren               int numero de renglones que tiene la matriz\n",
    "            m_col               int numero de columnas que tiene la matriz\n",
    "            prop_elem_difer_nan float (0 < prop_elem_difer_nan < 1) indica\n",
    "                                la proporción de elementos distintos de nan\n",
    "    return: M  np.ndarray que contiene matriz rala \"compacta\"\n",
    "               (1era columna representa el índice de renglones,\n",
    "               2da columna representa el índice de columnas,\n",
    "               3era columna representa el valor del elemento\n",
    "               o calificación en el contexto de netflix)\n",
    "    \"\"\"\n",
    "    tot=int(n_ren*m_col)\n",
    "    k=int(tot*prop_elem_difer_nan)\n",
    "    M=random.sample(range(tot), k)\n",
    "    columnas=np.mod(M,m_col)\n",
    "    renglones=np.divide(M,m_col).astype(int)\n",
    "    aleatorios=np.random.randint(1, 6, k)\n",
    "    M=np.concatenate([renglones, columnas, aleatorios])\n",
    "    M=M.reshape(3,k).T\n",
    "    return M"
   ]
  },
  {
   "cell_type": "code",
   "execution_count": 9,
   "metadata": {},
   "outputs": [],
   "source": [
    "#Función auxiliar al procesamiento de datos para la aplicación de un\n",
    "#modelo de recomendación\n",
    "def modelo_base_ref(MC):\n",
    "    \"\"\"\n",
    "    Obtiene promedios por índices de renglón y columnas, así como del total\n",
    "    (o calificaciones en el contexto de películas netflix)\n",
    "    \n",
    "    params: MC np.ndarray (con 3 columnasm, la 1era se toma como la\n",
    "               de índices de renglon, la 2da como la de índices de columna\n",
    "               y la 3era como el valor de los elementos o calificaciones en\n",
    "               el contexto de netflix)\n",
    "    return: count_by  pd.DataFrame de 3 columnas que tiene sólo los índices de\n",
    "                      renglones o columnas que tienen al menos n elementos\n",
    "    \"\"\"\n",
    "    df=pd.DataFrame(MC,columns=['row','col','score'])\n",
    "    #Media total\n",
    "    c=df['score'].mean(axis=0)\n",
    "\n",
    "    #media por columna\n",
    "    mean_by_col=df[['col','score']].groupby(['col']).mean()\n",
    "    mean_by_col.rename(columns={'score':'mean_score_by_col'}, inplace=True)\n",
    "    #media por renglon\n",
    "    mean_by_row=df[['row','score']].groupby(['row']).mean()\n",
    "    mean_by_row.rename(columns={'score':'mean_score_by_row'}, inplace=True)\n",
    "\n",
    "    #se unen todas los resultados obtenidos, incluyendo la columna de\n",
    "    #índice de columnas y renglones\n",
    "    df=df.set_index('col').join(mean_by_col,how='left')\n",
    "    df['col']=df.index\n",
    "    df=df.set_index('row').join(mean_by_row,how='left')\n",
    "    df['row']=df.index\n",
    "    df=df[['row','col','mean_score_by_row','mean_score_by_col']]\n",
    "    df['total_score_mean']=c\n",
    "    \n",
    "    return df"
   ]
  },
  {
   "cell_type": "code",
   "execution_count": 10,
   "metadata": {},
   "outputs": [],
   "source": [
    "#Función auxiliar al procesamiento de datos para la aplicación de un\n",
    "#modelo de recomendación\n",
    "def filtrar(MC,ren_o_col,n):\n",
    "    \"\"\"\n",
    "    Filtra los índices de renglon o columna que tengan más de n elementos\n",
    "    (o calificaciones en el contexto de películas netflix)\n",
    "    \n",
    "    params: MC        np.ndarray (con 3 columnas, de nombre indistinto)\n",
    "            ren_o_col string igual a 'row' o 'col'\n",
    "            n         int no. elementos mínimos requeridos\n",
    "    \n",
    "    return: count_by  np.ndarray de 3 columnas que tiene sólo los índices de\n",
    "                      renglones o columnas que tienen al menos n elementos\n",
    "    \"\"\"\n",
    "    MC_df=pd.DataFrame(MC,columns=['row','col','score'])\n",
    "    \n",
    "    #este pequeño bloque calcula el total de elementos por columna o renglón\n",
    "    count_by=MC_df[[ren_o_col,'score']].groupby([ren_o_col]).count()\n",
    "    count_by.rename(columns={'score':'tot_counted'}, inplace=True)\n",
    "    count_by[ren_o_col]=count_by.index\n",
    "    count_by=count_by[[ren_o_col,'tot_counted']]\n",
    "    \n",
    "    #en este bloque se filtran los elementos de la matriz cuyo conteo por\n",
    "    #columna o renglón tienen más de n elementos\n",
    "    count_by=count_by[count_by.apply(lambda x: x['tot_counted'] >= n, axis=1)]\n",
    "    count_by=MC_df.set_index(ren_o_col).join(count_by.set_index(ren_o_col),how='inner')\n",
    "    count_by[ren_o_col]=count_by.index\n",
    "    count_by=count_by[['row','col','score']]\n",
    "    \n",
    "    return count_by.to_numpy()"
   ]
  },
  {
   "cell_type": "code",
   "execution_count": 11,
   "metadata": {},
   "outputs": [],
   "source": [
    "#Función auxiliar para obtención de muestras aletorias\n",
    "def muestra_val_ent(df,prop):\n",
    "    \"\"\"\n",
    "    Separa al azar una base dada en 2 bases acorde una proporción de elemtos\n",
    "    dada\n",
    "    \n",
    "    params: df    pd.DataFrame (con 3 columnas=['usuario_id','peli_id',\n",
    "                  'calif_x'])\n",
    "            prop  float (0 < prop < 1) proporción de id_usuarios y\n",
    "                  proporción de id_peliculas que se seleccionarán\n",
    "    \n",
    "    return: data_test      pd.DataFrame que tiene base que se usará\n",
    "                           para prueba (por construcción el numero de\n",
    "                           elementos de esta base no necesariamente coincide\n",
    "                           con prop*total de elementos de df)\n",
    "            data_training  pd.DataFrame que tiene base que se usará\n",
    "                           para entrenamiento\n",
    "    \"\"\"\n",
    "    #Base de todos los usuarios\n",
    "    usuarios=pd.DataFrame(df['usuario_id'].unique(), columns=['usuario_id'])\n",
    "    #Muestreo de usuarios\n",
    "    valida_usuarios=usuarios.sample(frac=prop)  \n",
    "\n",
    "    #Base de todas las películas\n",
    "    peliculas=pd.DataFrame(df['peli_id'].unique(), columns=['peli_id'])\n",
    "    #Muestreo de películas\n",
    "    valida_pelis=peliculas.sample(frac=prop)\n",
    "    \n",
    "    #df_valida tiene las columnas usuario_id, peli_id y calif, pero\n",
    "    #sólo incluye los usuarios muestreados en valida_usuarios\n",
    "    df_valida=pd.merge(df,valida_usuarios, on ='usuario_id', how='inner')\n",
    "    #data_valida filtra de la base df_valida los pelis_id muestreas\n",
    "    #en valida_pelis\n",
    "    data_test=pd.merge(df_valida,valida_pelis, on ='peli_id', how='inner')\n",
    "    left=pd.merge(df, data_test, how='left',on=['usuario_id', 'peli_id'])\n",
    "    data_training=left[left.isnull().any(axis=1)][['usuario_id', 'peli_id','calif_x']]\n",
    "    return data_test, data_training"
   ]
  },
  {
   "cell_type": "code",
   "execution_count": 12,
   "metadata": {},
   "outputs": [],
   "source": [
    "def imprime_atributos_MF(Obj):\n",
    "    \"\"\"\n",
    "    Imprime los parámetros utilizados para factorización de la matriz contenida\n",
    "    en Obj, mismos que son atributos del atributo _options\n",
    "    \n",
    "    params: Obj  libmf.mf.MF objeto de la librería libmf-python que contiene\n",
    "                 la información requerida para hacer la factorización deseada\n",
    "    \n",
    "    return: None No regresa nada, sólo imprime los parámetros utilizados para\n",
    "                 hacer la factorización\n",
    "    \"\"\"\n",
    "    if type(Obj) is not libmf.mf.MF:\n",
    "        sys.exit('A y b deben ser de tipo libmf.mf.MF')\n",
    "    print('Atributos del modelo:')\n",
    "    print('fun={0:d}'.format(Obj._options.fun))\n",
    "    print('k={0:d}'.format(Obj._options.k))\n",
    "    print('nr_threads={0:d}'.format(Obj._options.nr_threads))\n",
    "    print('nr_bins={0:d}'.format(Obj._options.nr_bins))\n",
    "    print('nr_iters={0:d}'.format(Obj._options.nr_iters))\n",
    "    print('lambda_p1={0:0.4f}'.format(Obj._options.lambda_p1))\n",
    "    print('lambda_p2={0:0.4f}'.format(Obj._options.lambda_p2))\n",
    "    print('lambda_q1={0:0.4f}'.format(Obj._options.lambda_q1))\n",
    "    print('lambda_q2={0:0.4f}'.format(Obj._options.lambda_q2))\n",
    "    print('eta={0:0.4f}'.format(Obj._options.eta))\n",
    "    print('do_nmf=',Obj._options.do_nmf)\n",
    "    print('quiet=',Obj._options.quiet)\n",
    "    print('copy_data=',Obj._options.copy_data)\n",
    "    return None"
   ]
  },
  {
   "cell_type": "code",
   "execution_count": 13,
   "metadata": {},
   "outputs": [],
   "source": [
    "def imprime_atributos_model(Obj):\n",
    "    \"\"\"\n",
    "    Imprime los atributos del objeto model (definido dentro dentro de la\n",
    "    librería libmf)\n",
    "    \n",
    "    params: Obj  libmf.mf.MFModel objeto de la librería libmf-python que\n",
    "                 contiene los resultados obtenidos de la corrida del\n",
    "                 modelo de factorización\n",
    "                 \n",
    "    return: None No regresa nada, sólo imprime los resultados contenidos\n",
    "            en el objeto model, generado con los métodos del objeto MF\n",
    "    \"\"\"\n",
    "    if type(Obj) is not libmf.mf.MFModel:\n",
    "        sys.exit('A y b deben ser de tipo libmf.mf.MF')\n",
    "    print('Resultados model:')\n",
    "    print('fun={0:d}'.format(Obj.fun))\n",
    "    print('m={0:d}'.format(Obj.m))\n",
    "    print('n={0:d}'.format(Obj.n))\n",
    "    print('k={0:d}'.format(Obj.m))\n",
    "    print('b={0:0.4f}'.format(Obj.b))\n",
    "    print('P={0:0.4f}'.format(Obj.P.contents.value))\n",
    "    print('Q={0:0.4f}'.format(Obj.Q.contents.value))\n",
    "    return None"
   ]
  },
  {
   "cell_type": "code",
   "execution_count": 14,
   "metadata": {},
   "outputs": [],
   "source": [
    "#Elegiremos un formato de general para visualizar las matrices exhibidas como ejemplo\n",
    "np.set_printoptions(sign=' ', precision=3)\n",
    "#np.set_printoptions(sign=' ',formatter={'float': lambda x: \"{0:0.3f}\".format(x)})"
   ]
  },
  {
   "cell_type": "markdown",
   "metadata": {},
   "source": [
    "# Matrices ralas (sparse)"
   ]
  },
  {
   "cell_type": "code",
   "execution_count": 18,
   "metadata": {},
   "outputs": [],
   "source": [
    "#En este proyecto se exhibe el uso de las funciones de la librería libmf\n",
    "#relacionadas a la factorización de matrices. El proyecto se enfoca al uso\n",
    "#de estos algoritmos/métodos para los sistemas de recomendación de películas\n",
    "#cuyo objetivo será obtener recomendaciones de películas para usuarios\n",
    "#contenidos dentro de una base de datos proporcionada por netflix\n",
    "\n",
    "#Si bien la base tiene datos como peli_id, usuario_id, calif, fecha, el\n",
    "#algoritmo solo trabajará con los datos de calificaciones. Si bien existen\n",
    "#diversos usuarios y películas, son pocas películas de las que se tienen\n",
    "#calificaciones (escala del 1 al 5) proporcionadas por usuarios, por lo que\n",
    "#la representación de estas calificaciones a través de una matriz (donde\n",
    "#los usuarios serán los índices de los rengloens, las películas los índices\n",
    "#de columnas y las calificaciones los valores de las entradas de la matriz),\n",
    "#contendrá muchos huecos o calificaciones inexistentes,\n",
    "#es decir, es una matriz rala (llena de ceros o valores no proporcionados)\n",
    "#No obstante lo anterior, debido al numero de usuarios y películas\n",
    "#existen muchos datos, y para no guardar todos los valores de cero (o NA)\n",
    "#se opta por expresar y guardar dicha matriz en una forma compacta,\n",
    "#la cual contiene por cada calificación el usuario que la generó y la película\n",
    "#a la que corrresponde (es decir, es una matriz con 3 columnas)"
   ]
  },
  {
   "cell_type": "code",
   "execution_count": 15,
   "metadata": {},
   "outputs": [
    {
     "name": "stdout",
     "output_type": "stream",
     "text": [
      "Matriz M:\n",
      " [[  1.  nan  nan   3.   4.]\n",
      " [  3.  nan  nan  nan   3.]\n",
      " [  4.  nan   2.   2.   5.]\n",
      " [ nan  nan  nan  nan  nan]\n",
      " [ nan  nan   4.  nan   3.]\n",
      " [ nan  nan  nan  nan  nan]\n",
      " [ nan  nan  nan  nan  nan]\n",
      " [ nan  nan  nan  nan  nan]\n",
      " [ nan  nan   5.  nan  nan]\n",
      " [  2.  nan  nan   2.  nan]\n",
      " [ nan  nan  nan  nan  nan]\n",
      " [ nan  nan  nan  nan   3.]\n",
      " [ nan  nan  nan  nan  nan]\n",
      " [ nan  nan   2.  nan   4.]\n",
      " [  4.  nan  nan   4.  nan]\n",
      " [  1.  nan   2.  nan  nan]\n",
      " [  3.  nan   5.  nan  nan]\n",
      " [ nan  nan   1.   3.  nan]\n",
      " [ nan  nan  nan  nan  nan]\n",
      " [ nan  nan  nan  nan  nan]]\n",
      "Tamaño M:\n",
      " (20, 5)\n",
      "Numero de elementos diferentes de nan:\n",
      " 25\n"
     ]
    }
   ],
   "source": [
    "#Crear matriz rala de tamaño 20x5, donde el 25% de sus elementos\n",
    "#será distinto de nan, señalando la distribución de probabilidad\n",
    "#que tendrán dichos elementos\n",
    "M=crear_matriz_rala(20,5,0.25,stats.randint.rvs,*[1,6])\n",
    "#Puedes cambiar la distribución aleatoria, prueba con las\n",
    "#distribuciones existentes en scipy.stats o la función constante\n",
    "#R=crear_matriz_rala(20,5,0.5,scipy.stats.uniform.rvs,*[1,4])\n",
    "#R=crear_matriz_rala(20,5,0.2,stats.binom.rvs,*[5,0.2])\n",
    "#R=crear_matriz_rala(20,5,0.5,constante,*[1,0])\n",
    "print('Matriz M:\\n',M)\n",
    "print('Tamaño M:\\n',M.shape)\n",
    "print('Numero de elementos diferentes de nan:\\n',M[np.isnan(M)==False].size)"
   ]
  },
  {
   "cell_type": "code",
   "execution_count": 16,
   "metadata": {},
   "outputs": [
    {
     "name": "stdout",
     "output_type": "stream",
     "text": [
      "Expresión compacta de M (MC):\n",
      " [[  0.   0.   1.]\n",
      " [  0.   3.   3.]\n",
      " [  0.   4.   4.]\n",
      " [  1.   0.   3.]\n",
      " [  1.   4.   3.]\n",
      " [  2.   0.   4.]\n",
      " [  2.   2.   2.]\n",
      " [  2.   3.   2.]\n",
      " [  2.   4.   5.]\n",
      " [  4.   2.   4.]\n",
      " [  4.   4.   3.]\n",
      " [  8.   2.   5.]\n",
      " [  9.   0.   2.]\n",
      " [  9.   3.   2.]\n",
      " [ 11.   4.   3.]\n",
      " [ 13.   2.   2.]\n",
      " [ 13.   4.   4.]\n",
      " [ 14.   0.   4.]\n",
      " [ 14.   3.   4.]\n",
      " [ 15.   0.   1.]\n",
      " [ 15.   2.   2.]\n",
      " [ 16.   0.   3.]\n",
      " [ 16.   2.   5.]\n",
      " [ 17.   2.   1.]\n",
      " [ 17.   3.   3.]]\n",
      "Tamaño MC:\n",
      " (25, 3)\n"
     ]
    }
   ],
   "source": [
    "#Expresión compacta de la matriz rala (con 3 columnas: col1,col2,col3),\n",
    "#que señala el índice de renglón (col1) y columna (col2) de la matriz R,\n",
    "#correspondiente a los elementos distitnos de nan, así como el valor\n",
    "#de dicho elemento (col3)\n",
    "MC=compactar_matriz_rala(M)\n",
    "print('Expresión compacta de M (MC):\\n',MC)\n",
    "print('Tamaño MC:\\n',MC.shape)"
   ]
  },
  {
   "cell_type": "code",
   "execution_count": 17,
   "metadata": {},
   "outputs": [
    {
     "name": "stdout",
     "output_type": "stream",
     "text": [
      "Expresión compacta de M (MC) ordenada por renglon:\n",
      " [[ 1  3  4]\n",
      " [ 2  4  1]\n",
      " [ 3  2  4]\n",
      " [ 4  4  1]\n",
      " [ 4  1  4]\n",
      " [ 5  2  1]\n",
      " [ 5  1  1]\n",
      " [ 7  2  1]\n",
      " [ 7  1  1]\n",
      " [ 9  2  5]\n",
      " [10  3  3]\n",
      " [10  4  1]\n",
      " [10  0  3]\n",
      " [11  2  5]\n",
      " [11  3  3]\n",
      " [11  1  2]\n",
      " [12  4  5]\n",
      " [12  3  5]\n",
      " [13  1  5]\n",
      " [14  2  5]\n",
      " [15  0  1]\n",
      " [16  1  5]\n",
      " [18  0  3]\n",
      " [18  1  2]\n",
      " [19  3  2]]\n",
      "Tamaño MC:\n",
      " (25, 3)\n"
     ]
    }
   ],
   "source": [
    "#El presente trabajo plantea trabajar con bases de películas, donde\n",
    "#los ínidices i de renglones representan usuarios, los ínidces j de columnas\n",
    "#las películas, y el valor de elemento de la matriz la calificación\n",
    "#asignada a la película j por el usuari i\n",
    "#Por lo anterior, para crear matrices compactas ralas usaremos funciones propias\n",
    "#donde un usuario no califique más de una vez una misma película (lo cual \n",
    "#sucediería si se genera la matriz de calificaciones con la función de la\n",
    "#paquetería libmf). La calificación será un no. aleatorio entre 1 y 5\n",
    "#generada con una dist. uniforme discreta\n",
    "MC=crear_matriz_rala_compacta(20,5,0.25)\n",
    "print('Expresión compacta de M (MC) ordenada por renglon:\\n',MC[np.argsort(MC[:,0])])\n",
    "print('Tamaño MC:\\n',MC.shape)"
   ]
  },
  {
   "cell_type": "code",
   "execution_count": 18,
   "metadata": {},
   "outputs": [
    {
     "name": "stdout",
     "output_type": "stream",
     "text": [
      "16 1 5\n",
      "5 1 1\n",
      "18 1 2\n",
      "14 2 5\n",
      "18 0 3\n",
      "10 3 3\n",
      "12 4 5\n",
      "19 3 2\n",
      "4 1 4\n",
      "13 1 5\n",
      "12 3 5\n",
      "7 1 1\n",
      "11 1 2\n",
      "10 0 3\n",
      "2 4 1\n",
      "9 2 5\n",
      "3 2 4\n",
      "1 3 4\n",
      "11 3 3\n",
      "4 4 1\n",
      "7 2 1\n",
      "15 0 1\n",
      "11 2 5\n",
      "10 4 1\n",
      "5 2 1\n",
      "\n"
     ]
    }
   ],
   "source": [
    "#Aquí una forma de gardar la matriz compacta en un txt\n",
    "#que podría ser utilizado directamente con las funciones\n",
    "#de libmf a través de Shell Commands (\"!\")\n",
    "np.savetxt('MC.txt', MC, delimiter=' ', fmt=\"%.0f\")\n",
    "#Se imprime lo contenido en el .txt\n",
    "f = open('MC.txt', 'r')\n",
    "file_contents = f.read()\n",
    "print (file_contents)\n",
    "f.close()"
   ]
  },
  {
   "cell_type": "markdown",
   "metadata": {},
   "source": [
    "# Procesos útiles para construcción de modelo\n",
    "### Calificaciones promedio por usuario y/o película, y filtrado"
   ]
  },
  {
   "cell_type": "code",
   "execution_count": 19,
   "metadata": {},
   "outputs": [
    {
     "data": {
      "text/html": [
       "<div>\n",
       "<style scoped>\n",
       "    .dataframe tbody tr th:only-of-type {\n",
       "        vertical-align: middle;\n",
       "    }\n",
       "\n",
       "    .dataframe tbody tr th {\n",
       "        vertical-align: top;\n",
       "    }\n",
       "\n",
       "    .dataframe thead th {\n",
       "        text-align: right;\n",
       "    }\n",
       "</style>\n",
       "<table border=\"1\" class=\"dataframe\">\n",
       "  <thead>\n",
       "    <tr style=\"text-align: right;\">\n",
       "      <th></th>\n",
       "      <th>row</th>\n",
       "      <th>col</th>\n",
       "      <th>mean_score_by_row</th>\n",
       "      <th>mean_score_by_col</th>\n",
       "      <th>total_score_mean</th>\n",
       "    </tr>\n",
       "    <tr>\n",
       "      <th>row</th>\n",
       "      <th></th>\n",
       "      <th></th>\n",
       "      <th></th>\n",
       "      <th></th>\n",
       "      <th></th>\n",
       "    </tr>\n",
       "  </thead>\n",
       "  <tbody>\n",
       "    <tr>\n",
       "      <th>1</th>\n",
       "      <td>1</td>\n",
       "      <td>3</td>\n",
       "      <td>4.0</td>\n",
       "      <td>3.400000</td>\n",
       "      <td>2.92</td>\n",
       "    </tr>\n",
       "    <tr>\n",
       "      <th>2</th>\n",
       "      <td>2</td>\n",
       "      <td>4</td>\n",
       "      <td>1.0</td>\n",
       "      <td>2.000000</td>\n",
       "      <td>2.92</td>\n",
       "    </tr>\n",
       "    <tr>\n",
       "      <th>3</th>\n",
       "      <td>3</td>\n",
       "      <td>2</td>\n",
       "      <td>4.0</td>\n",
       "      <td>3.500000</td>\n",
       "      <td>2.92</td>\n",
       "    </tr>\n",
       "    <tr>\n",
       "      <th>4</th>\n",
       "      <td>4</td>\n",
       "      <td>1</td>\n",
       "      <td>2.5</td>\n",
       "      <td>2.857143</td>\n",
       "      <td>2.92</td>\n",
       "    </tr>\n",
       "    <tr>\n",
       "      <th>4</th>\n",
       "      <td>4</td>\n",
       "      <td>4</td>\n",
       "      <td>2.5</td>\n",
       "      <td>2.000000</td>\n",
       "      <td>2.92</td>\n",
       "    </tr>\n",
       "  </tbody>\n",
       "</table>\n",
       "</div>"
      ],
      "text/plain": [
       "     row  col  mean_score_by_row  mean_score_by_col  total_score_mean\n",
       "row                                                                  \n",
       "1      1    3                4.0           3.400000              2.92\n",
       "2      2    4                1.0           2.000000              2.92\n",
       "3      3    2                4.0           3.500000              2.92\n",
       "4      4    1                2.5           2.857143              2.92\n",
       "4      4    4                2.5           2.000000              2.92"
      ]
     },
     "metadata": {},
     "output_type": "display_data"
    },
    {
     "name": "stdout",
     "output_type": "stream",
     "text": [
      "\n",
      " El modelo base de referencia es mean_ren + mean_col - mean_tot:\n"
     ]
    },
    {
     "data": {
      "text/plain": [
       "array([  0.   ,   5.   ,   1.   ,   2.5  ,   5.5  ,   5.   ,   6.   ,\n",
       "         7.   ,   8.   ,   6.   ,   7.667,  10.667,  11.667,   8.667,\n",
       "         9.667,  10.667,  10.   ,  11.   ,   9.   ,  11.   ,  14.   ,\n",
       "        12.   ,  15.5  ,  16.5  ,  20.   ])"
      ]
     },
     "execution_count": 19,
     "metadata": {},
     "output_type": "execute_result"
    }
   ],
   "source": [
    "#Para plantear un \"modelo base de referencia\", se calculan los medias\n",
    "#por renglones (mean_ren) y por columnas (mean_col), así como \n",
    "#una media total (mean_tot), luego se sustituyen los valores de \n",
    "#la matriz (x_ij) por: mean_ren + mean_col - mean_tot\n",
    "#La función modelo_base_ref regresa los promedios por renglon,\n",
    "#columna y total. Con estos promedios se puede construir un modelo\n",
    "#para heterogenizar el uso de la escala (calificaciones)\n",
    "\n",
    "promedios=modelo_base_ref(MC)\n",
    "display(promedios.head())\n",
    "#podemos convertir a numpy array para realizar operaciones con\n",
    "#variables de este tipo\n",
    "\n",
    "#Recuerda pasa a np.array para hacer operaciones\n",
    "promedios=promedios.to_numpy()\n",
    "#el modelo base de ref quedaría así:\n",
    "print('\\n El modelo base de referencia es mean_ren + mean_col - mean_tot:') \n",
    "promedios[:,0]+promedios[:,1]-promedios[:,2]"
   ]
  },
  {
   "cell_type": "code",
   "execution_count": 20,
   "metadata": {},
   "outputs": [
    {
     "data": {
      "text/plain": [
       "array([[ 4,  1,  4],\n",
       "       [ 4,  4,  1],\n",
       "       [ 5,  1,  1],\n",
       "       [ 5,  2,  1],\n",
       "       [ 7,  1,  1],\n",
       "       [ 7,  2,  1],\n",
       "       [10,  3,  3],\n",
       "       [10,  0,  3],\n",
       "       [10,  4,  1],\n",
       "       [11,  1,  2],\n",
       "       [11,  3,  3],\n",
       "       [11,  2,  5],\n",
       "       [12,  4,  5],\n",
       "       [12,  3,  5],\n",
       "       [18,  1,  2],\n",
       "       [18,  0,  3]])"
      ]
     },
     "metadata": {},
     "output_type": "display_data"
    },
    {
     "data": {
      "text/plain": [
       "array([[18,  0,  3],\n",
       "       [10,  0,  3],\n",
       "       [15,  0,  1],\n",
       "       [16,  1,  5],\n",
       "       [ 5,  1,  1],\n",
       "       [18,  1,  2],\n",
       "       [ 4,  1,  4],\n",
       "       [13,  1,  5],\n",
       "       [ 7,  1,  1],\n",
       "       [11,  1,  2],\n",
       "       [14,  2,  5],\n",
       "       [ 9,  2,  5],\n",
       "       [ 3,  2,  4],\n",
       "       [ 7,  2,  1],\n",
       "       [11,  2,  5],\n",
       "       [ 5,  2,  1],\n",
       "       [10,  3,  3],\n",
       "       [19,  3,  2],\n",
       "       [12,  3,  5],\n",
       "       [ 1,  3,  4],\n",
       "       [11,  3,  3],\n",
       "       [12,  4,  5],\n",
       "       [ 2,  4,  1],\n",
       "       [ 4,  4,  1],\n",
       "       [10,  4,  1]])"
      ]
     },
     "metadata": {},
     "output_type": "display_data"
    }
   ],
   "source": [
    "#En el camino para construir modelos adecuados, puede ser de interés\n",
    "#o utilidad identificar los usuarios que tiene más películas calificadas\n",
    "#o las películas con más calificaciones, más precisamente, que tengan\n",
    "#más de \"n\" calificaciones.\n",
    "\n",
    "#Usuarios que calificaron más de 2 películas\n",
    "display(filtrar(MC,'row',2))\n",
    "#Películas que fueron calificadas por más de 2 usuarios\n",
    "display(filtrar(MC,'col',2))"
   ]
  },
  {
   "cell_type": "code",
   "execution_count": 327,
   "metadata": {},
   "outputs": [],
   "source": [
    "#AQUÍ HAY QUE PONER LO QUE PUSO JAVI RESPECTO A FILTRAR LAS PELIS Y USUARIOS QUE APARECEN MUCHO"
   ]
  },
  {
   "cell_type": "markdown",
   "metadata": {},
   "source": [
    "# Librería libmf python"
   ]
  },
  {
   "cell_type": "code",
   "execution_count": 35,
   "metadata": {},
   "outputs": [],
   "source": [
    "# Python-libmf contiene de fondo el mismo código que el de la librería libmf, \n",
    "# aunque tiene programadas clases con atributos y métodos para poder ejecutar \n",
    "# los métodos de libmf. A continuación se señalan las principales \n",
    "# clases, atributos y métodos\n",
    "\n",
    "# Clase: MF\n",
    "# Atributos: .model\n",
    "#            ._options \n",
    "#            .i\n",
    "#            .j\n",
    "# Métodos: .fit -> < Objetivo: factorize the i x j data matrix X into (j, k) (k, i) \n",
    "#                  <           sized matrices stored in MF.model\n",
    "#                  < Parámetro X: (n, 3) shaped numpy array [known index and values \n",
    "#                  <              of the data matrix]\n",
    "#\n",
    "#          .predict -> < Objetivo: assuming we have already run the fit method, predict\n",
    "#                      <           the values at certain indices of the data matrix\n",
    "#                      < Parámetro X: (n, 2) shaped numpy array\n",
    "#                      < Regresa: numpy array of length n\n",
    "#\n",
    "#          .mf_cross_validation -> < Objetivo: Realizar cross-validation\n",
    "#                                  < Parámetro X: (n, 3)\n",
    "#                                  < Parámetro folds: number of train / test splits\n",
    "#                                  < Regresa: score across all folds \n",
    "#\n",
    "#          .q_factors -> < Objetivo: Obtener la matriz Q\n",
    "#\n",
    "#          .p_factors -> < Objetivo:  Obtener la matriz P\n",
    "\n",
    "\n",
    "# Clase: model\n",
    "# Atributos: .fun\n",
    "#            .m \n",
    "#            .n\n",
    "#            .k\n",
    "#            .b\n",
    "#            .P\n",
    "#            .Q\n",
    "# Métodos: NA\n",
    "\n",
    "\n",
    "# Clase: _options\n",
    "# Atributos: .fun\n",
    "#            .k\n",
    "#            .nr_threads\n",
    "#            .nr_bins\n",
    "#            .nr_iters\n",
    "#            .lambda_p1\n",
    "#            .lambda_p2\n",
    "#            .lambda_q1\n",
    "#            .lambda_q2\n",
    "#            .eta\n",
    "#            .do_nmf\n",
    "#            .quiet\n",
    "#            .copy_data\n",
    "# Métodos: NA"
   ]
  },
  {
   "cell_type": "code",
   "execution_count": 36,
   "metadata": {},
   "outputs": [],
   "source": [
    "#A continuación un comparativo de los parámetros usados por python-libmf \n",
    "#y libmf, así como sus valores predeterminados"
   ]
  },
  {
   "cell_type": "markdown",
   "metadata": {},
   "source": [
    "|Parámetro:|Nombre python-libmf|Valor por default python-libmf|Nombre libmf|Valor por default libmf|\n",
    "|:--:|:--:|:--:|:--:|:--:|\n",
    "|Función de pérdida|fun|0|-f|0|\n",
    "|Numero de factores latentes|k|8|-k|8|\n",
    "|Numero de threads|nr_threads|12|-s|12|\n",
    "|Numero de bins|nr_bins|26|-n|adjusted by LIBMF for speed|\n",
    "|Numero de iteraciones|nr_iters|20|-t|20|\n",
    "|Parámetro de regularización L1 para P y Q<sup>(1)</sup>|lambda_p1|0.04|-l1|0|\n",
    "|Parámetro de regularización L2 para P y Q<sup>(1)</sup>|lambda_p2|0|-l2|0.1|\n",
    "|Parámetro de regularización L1 para P y Q<sup>(1)</sup>|lambda_q1|0.04|-l1|0|\n",
    "|Parámetro de regularización L2 para P y Q<sup>(1)</sup>|lambda_q2|0|-l1|0.1|\n",
    "|Tasa inicial de aprendizaje|eta|0.1|-r|0.1|\n",
    "|Realizar factorización matricial no negativa<sup>(3)</sup>|do_nmf|False|--nmf|False|\n",
    "|Sin outputs<sup>(3)</sup>|quite|False|--quite|False|\n",
    "|Copiar datos|copy_data|True|NA|NA|\n",
    "|Ruta conjunto validación|NA|NA|-p|ND|\n",
    "|Numero de folds para validación cruzada<sup>(4)</sup>|ND|5|-v|1|\n",
    "|Coeficiente de pérdida de entradas negativas|NA|NA|-a|1|\n",
    "|Valor de entradas negativas<sup>(2)</sup>|NA|NA|-c|0.0001|\n",
    "|Realizar entrenamiento a nivel de disco<sup>(3)</sup>|NA|NA|--disk|False|\n",
    "\n",
    "<sup>(1)</sup> En libmf \"l1\" y \"l2\" se pueden definir con 1 o 2 parámetros, si se define uno se entiende que aplica tanto para P como Q, si se definen 2 el 1ero aplica para P y el 2do para Q\n",
    "\n",
    "<sup>(2)</sup> Se supone que cada entrada positiva es 1\n",
    "\n",
    "<sup>(3)</sup> En libmf su ausencia indica que no se llevará acabo. Por ejemplo, si no aparece \"--nmf\" en el llamado de mf-train, implica que las matrices P y Q pueden tener elementos negativos\n",
    "\n",
    "<sup>(3)</sup> Para python-libmf si bien no es un parámetro que se defina cuando se crea el objeto MF como el resto de parámetros, se puede ejecutar una función de validación cruzada"
   ]
  },
  {
   "cell_type": "code",
   "execution_count": 21,
   "metadata": {},
   "outputs": [
    {
     "name": "stdout",
     "output_type": "stream",
     "text": [
      "/home/miuser/proyecto-final-equipo5-mno-2020-1/Implementation/python-libmf/tests\n",
      "/home/miuser/proyecto-final-equipo5-mno-2020-1/Implementation/python-libmf/tests\n",
      "/home/miuser/.local/lib/python3.6/site-packages/libmf/__init__.py\n",
      "Using file found in /home/miuser/.local/lib/python3.6/site-packages:\n",
      "/home/miuser/.local/lib/python3.6/site-packages/libmf.cpython-36m-x86_64-linux-gnu.so\n",
      "iter      tr_rmse          obj\n",
      "   0       0.5228   3.3969e+02\n",
      "   1       0.4879   3.1376e+02\n",
      "   2       0.4347   2.7306e+02\n",
      "   3       0.3795   2.3204e+02\n",
      "   4       0.3384   2.0252e+02\n",
      "   5       0.3133   1.8385e+02\n",
      "   6       0.2984   1.7168e+02\n",
      "   7       0.2900   1.6339e+02\n",
      "   8       0.2857   1.5780e+02\n",
      "   9       0.2836   1.5401e+02\n",
      "  10       0.2807   1.4982e+02\n",
      "  11       0.2801   1.4747e+02\n",
      "  12       0.2800   1.4567e+02\n",
      "  13       0.2791   1.4374e+02\n",
      "  14       0.2788   1.4245e+02\n",
      "  15       0.2785   1.4122e+02\n",
      "  16       0.2781   1.4004e+02\n",
      "  17       0.2782   1.3926e+02\n",
      "  18       0.2784   1.3866e+02\n",
      "  19       0.2785   1.3810e+02\n",
      "testing cross val method\n",
      "/home/miuser/.local/lib/python3.6/site-packages/libmf/mf.py:213: DeprecationWarning: This function is deprecated. Please call randint(0, 100 + 1) instead\n",
      "  rx = np.random.random_integers(0, xs, k)\n",
      "/home/miuser/.local/lib/python3.6/site-packages/libmf/mf.py:214: DeprecationWarning: This function is deprecated. Please call randint(0, 50 + 1) instead\n",
      "  ry = np.random.random_integers(0, ys, k)\n",
      "fold      rmse\n",
      "   0    0.3198\n",
      "   1    0.3484\n",
      "   2    0.3628\n",
      "   3    0.3463\n",
      "   4    0.3304\n",
      "==============\n",
      " avg    0.3415\n",
      ".testing factor-p\n",
      ".testing factor-q\n",
      ".testing fit method\n",
      "iter      tr_rmse          obj\n",
      "   0       0.5229   3.3969e+02\n",
      "   1       0.4858   3.1211e+02\n",
      "   2       0.4348   2.7324e+02\n",
      "   3       0.3806   2.3319e+02\n",
      "   4       0.3378   2.0220e+02\n",
      "   5       0.3130   1.8377e+02\n",
      "   6       0.2989   1.7217e+02\n",
      "   7       0.2911   1.6457e+02\n",
      "   8       0.2861   1.5864e+02\n",
      "   9       0.2825   1.5376e+02\n",
      "  10       0.2803   1.4997e+02\n",
      "  11       0.2792   1.4704e+02\n",
      "  12       0.2797   1.4564e+02\n",
      "  13       0.2787   1.4361e+02\n",
      "  14       0.2785   1.4225e+02\n",
      "  15       0.2786   1.4132e+02\n",
      "  16       0.2779   1.3998e+02\n",
      "  17       0.2782   1.3936e+02\n",
      "  18       0.2787   1.3892e+02\n",
      "  19       0.2782   1.3804e+02\n",
      ".testing predict method\n",
      ".\n",
      "----------------------------------------------------------------------\n",
      "Ran 5 tests in 0.165s\n",
      "\n",
      "OK\n"
     ]
    }
   ],
   "source": [
    "# A continuación se corre un DEMO que muestra un poco el uso de estas funciones\n",
    "# resalta que para programar este demo se definieron unas clases que a su vez\n",
    "# ocupan las clases principales antes mencionadas de python-limbf\n",
    "#ASEGURESE DE PONER LA UBICACIÓN CORRECTA DE LA UBICACIÓN DE LA CARPETA python-libmf\n",
    "\n",
    "#Esto sólo corre sí te ubicas en la carpeta que contien mf_tests.py\n",
    "# %cd /home/miuser/python-libmf/tests\n",
    "%cd /home/miuser/proyecto-final-equipo5-mno-2020-1/Implementation/python-libmf/tests\n",
    "!pwd\n",
    "!python3 mf_tests.py"
   ]
  },
  {
   "cell_type": "code",
   "execution_count": 22,
   "metadata": {},
   "outputs": [
    {
     "name": "stdout",
     "output_type": "stream",
     "text": [
      "Matriz generada con mf.generate_test_data(20,5,25):\n",
      "\n",
      "\u001b[1;30;41m [ 0.     1.     0.166]\n",
      "\u001b[0;0;0m [ 19.      4.      0.306]\n",
      "\u001b[0;0;0m [ 14.      3.      0.147]\n",
      "\u001b[0;0;0m [ 18.      4.      0.223]\n",
      "\u001b[0;0;0m [ 18.     1.     0.54]\n",
      "\u001b[0;0;0m [ 15.      3.      0.749]\n",
      "\u001b[0;0;0m [ 2.     2.     0.428]\n",
      "\u001b[0;0;0m [ 11.      3.      0.105]\n",
      "\u001b[0;0;0m [ 9.     3.     0.753]\n",
      "\u001b[0;0;0m [ 8.     5.     0.598]\n",
      "\u001b[0;0;0m [ 13.      0.      0.487]\n",
      "\u001b[0;0;0m [ 8.     4.     0.975]\n",
      "\u001b[0;0;0m [ 9.     2.     0.802]\n",
      "\u001b[0;0;0m [ 15.      3.      0.333]\n",
      "\u001b[0;0;0m [ 7.     5.     0.549]\n",
      "\u001b[0;0;0m [ 4.     5.     0.312]\n",
      "\u001b[0;0;0m [ 16.      4.      0.062]\n",
      "\u001b[0;0;0m [ 6.     1.     0.903]\n",
      "\u001b[0;0;0m [ 18.      0.      0.861]\n",
      "\u001b[0;0;0m [ 3.    3.    0.63]\n",
      "\u001b[1;30;41m [ 0.     1.     0.217]\n",
      "\u001b[1;30;41m [ 0.     1.     0.556]\n",
      "\u001b[0;0;0m [ 16.      5.      0.109]\n",
      "\u001b[0;0;0m [ 6.     5.     0.551]\n",
      "\u001b[0;0;0m [ 7.     0.     0.581]\n",
      "Tamaño MC:\n",
      " (25, 3)\n"
     ]
    }
   ],
   "source": [
    "#se tiene una función para generar matrices ralas compactas sin embargo\n",
    "#se observa que puede arrojar más de un valor para un mismo\n",
    "#elemento de la matriz rala, vease abajo el renglón [0,1]\n",
    "#tiene 3 valores asignados (0.166,0.217,0.556).\n",
    "\n",
    "#El 1er parámetro señala indica que se seleccionará un valor\n",
    "#de entre 0 y 19 para la 1er columna (que representa el índice\n",
    "#de los renglones de la matriz rala que expresa); el 2do\n",
    "#parámetro indica que se seleccionara al azar valores entre\n",
    "#0 y 4 (que representa el índice de las columnas de la matriz\n",
    "#rala que expresa); el 3er parámetro indica el número de elementos\n",
    "#a generar \n",
    "\n",
    "#Fijaremos una semilla para reproducibilidad\n",
    "np.random.seed(102)\n",
    "MC=mf.generate_test_data(20, 5, 25)\n",
    "print('Matriz generada con mf.generate_test_data(20,5,25):\\n')\n",
    "for i in range(MC.shape[0]):\n",
    "    if MC[i,0]==0:\n",
    "        print('\\033[1;30;41m',MC[i,:])\n",
    "    else:\n",
    "        print('\\033[0;0;0m',MC[i,:])\n",
    "print('Tamaño MC:\\n',MC.shape)"
   ]
  },
  {
   "cell_type": "markdown",
   "metadata": {},
   "source": [
    "### Método mf.MF()\n",
    "**CREAR OBJETO MF CON PARÁMETROS PARA EL MODELO DE FACTORIZACIÓN**"
   ]
  },
  {
   "cell_type": "code",
   "execution_count": 23,
   "metadata": {},
   "outputs": [
    {
     "name": "stdout",
     "output_type": "stream",
     "text": [
      "Tipo de objeto:  <class 'libmf.mf.MF'>\n",
      "Instance variables:  {'model': None, '_options': <libmf.mf.MFParam object at 0x7fb304095b70>, 'i': None, 'j': None}\n"
     ]
    }
   ],
   "source": [
    "#Defínase un objeto de tipo MF para obtener la factorización deseada\n",
    "mf_netflix=mf.MF()\n",
    "\n",
    "#veamos algunas de las propiedades del objeto mf_netflix\n",
    "print('Tipo de objeto: ',type(mf_netflix))\n",
    "print('Instance variables: ',mf_netflix.__dict__)"
   ]
  },
  {
   "cell_type": "code",
   "execution_count": 24,
   "metadata": {},
   "outputs": [
    {
     "name": "stdout",
     "output_type": "stream",
     "text": [
      "Atributos del modelo:\n",
      "fun=0\n",
      "k=8\n",
      "nr_threads=12\n",
      "nr_bins=26\n",
      "nr_iters=20\n",
      "lambda_p1=0.0400\n",
      "lambda_p2=0.0000\n",
      "lambda_q1=0.0400\n",
      "lambda_q2=0.0000\n",
      "eta=0.1000\n",
      "do_nmf= False\n",
      "quiet= False\n",
      "copy_data= True\n"
     ]
    }
   ],
   "source": [
    "#Hasta el momento no se han definido los parámetros para correr el\n",
    "#modelo de factorización, sin embargo por default se asignan algunos\n",
    "#valores que a continuación se muestran:\n",
    "imprime_atributos_MF(mf_netflix)"
   ]
  },
  {
   "cell_type": "code",
   "execution_count": 25,
   "metadata": {},
   "outputs": [
    {
     "name": "stdout",
     "output_type": "stream",
     "text": [
      "Atributos:  ['__class__', '__ctypes_from_outparam__', '__delattr__', '__dict__', '__dir__', '__doc__', '__eq__', '__format__', '__ge__', '__getattribute__', '__gt__', '__hash__', '__init__', '__init_subclass__', '__le__', '__lt__', '__module__', '__ne__', '__new__', '__reduce__', '__reduce_ex__', '__repr__', '__setattr__', '__setstate__', '__sizeof__', '__str__', '__subclasshook__', '__weakref__', '_b_base_', '_b_needsfree_', '_fields_', '_objects', 'copy_data', 'do_nmf', 'eta', 'fun', 'k', 'lambda_p1', 'lambda_p2', 'lambda_q1', 'lambda_q2', 'nr_bins', 'nr_iters', 'nr_threads', 'quiet']\n"
     ]
    }
   ],
   "source": [
    "#Observa que entre los atributos están los parámetros para que corra libmf\n",
    "#y que definen el modelo (son los últimos 13; los que no les antecede y finalizas\n",
    "#con \"__\")\n",
    "print('Atributos: ', dir(mf_netflix._options))"
   ]
  },
  {
   "cell_type": "code",
   "execution_count": 27,
   "metadata": {},
   "outputs": [
    {
     "name": "stdout",
     "output_type": "stream",
     "text": [
      "Atributos del modelo:\n",
      "fun=0\n",
      "k=10\n",
      "nr_threads=12\n",
      "nr_bins=26\n",
      "nr_iters=20\n",
      "lambda_p1=0.0400\n",
      "lambda_p2=0.0000\n",
      "lambda_q1=0.0400\n",
      "lambda_q2=0.0000\n",
      "eta=0.1000\n",
      "do_nmf= False\n",
      "quiet= False\n",
      "copy_data= True\n"
     ]
    }
   ],
   "source": [
    "#Sin embargo podemos definir parámetros distintos pasando los argumentos\n",
    "#Aquí lo hacemos en forma de kwargs, es decir, con el nombre de las variables\n",
    "mf_netflix=mf.MF(fun=0,k=10,nr_threads=12,nr_bins=26,nr_iters=20,lambda_p1=0.04,lambda_p2=0.0,lambda_q1=0.04,lambda_q2=0.0,eta=0.1,do_nmf=False,quiet=False,copy_data=True)\n",
    "imprime_atributos_MF(mf_netflix)"
   ]
  },
  {
   "cell_type": "code",
   "execution_count": 28,
   "metadata": {},
   "outputs": [
    {
     "name": "stdout",
     "output_type": "stream",
     "text": [
      "Atributos del modelo:\n",
      "fun=0\n",
      "k=5\n",
      "nr_threads=12\n",
      "nr_bins=26\n",
      "nr_iters=21\n",
      "lambda_p1=0.0400\n",
      "lambda_p2=0.0000\n",
      "lambda_q1=0.0400\n",
      "lambda_q2=0.0000\n",
      "eta=0.1100\n",
      "do_nmf= False\n",
      "quiet= False\n",
      "copy_data= True\n"
     ]
    }
   ],
   "source": [
    "#Si optas por usar los parámetros por default excepto algunos\n",
    "#puedes pasar los parámetros que quieres definir diferente\n",
    "mf_netflix=mf.MF(eta=0.11,nr_iters=21, k=5)\n",
    "\n",
    "#Nota que en este ejemplo como no definiste k=10, se inicializa con k=8\n",
    "#pues es el valor por default\n",
    "imprime_atributos_MF(mf_netflix)"
   ]
  },
  {
   "cell_type": "markdown",
   "metadata": {},
   "source": [
    "**AJUSTE DEL MODELO DE FACTORIZACIÓN**"
   ]
  },
  {
   "cell_type": "code",
   "execution_count": 29,
   "metadata": {},
   "outputs": [
    {
     "name": "stdout",
     "output_type": "stream",
     "text": [
      "El tamaño de MC es: (70, 3)\n",
      "El tamaño de MC_valida es: (7, 3)\n",
      "La matriz MC_valida queda así:\n",
      " [[19  4  5]\n",
      " [16  4  5]\n",
      " [17  4  3]\n",
      " [15  4  1]\n",
      " [19  3  3]\n",
      " [16  3  1]\n",
      " [13  3  3]]\n",
      "El tamaño de MC_entrena es: (63, 3)\n"
     ]
    }
   ],
   "source": [
    "#Generamos una matriz rala al azar y la dividimos en entrenamiento y prueba\n",
    "#para probar las funciones de factorización\n",
    "np.random.seed(104)\n",
    "random.seed(104)\n",
    "MC=crear_matriz_rala_compacta(20,5,0.70)\n",
    "print('El tamaño de MC es:',MC.shape)\n",
    "MC_valida, MC_entrena=muestra_val_ent(pd.DataFrame(MC,columns=['usuario_id', 'peli_id', 'calif']),0.3)\n",
    "\n",
    "MC_valida=MC_valida.to_numpy()\n",
    "print('El tamaño de MC_valida es:',MC_valida.shape)\n",
    "print('La matriz MC_valida queda así:\\n',MC_valida)\n",
    "MC_entrena=MC_entrena.to_numpy()\n",
    "print('El tamaño de MC_entrena es:',MC_entrena.shape)\n",
    "\n",
    "#IMPLEMENTAMOS MODELO CON MC_entrena\n",
    "mf_netflix.fit(MC_entrena)"
   ]
  },
  {
   "cell_type": "markdown",
   "metadata": {},
   "source": [
    "**VALIDACIÓN CRUZADA**"
   ]
  },
  {
   "cell_type": "code",
   "execution_count": 30,
   "metadata": {},
   "outputs": [
    {
     "name": "stdout",
     "output_type": "stream",
     "text": [
      "Validación cruzada con 5 folds:  5.605566760981551\n",
      "Validación cruzada con 10 folds:  5.64388684302252\n"
     ]
    }
   ],
   "source": [
    "#Para obtener la validación cruzada basta con llamar al método, pudiendo\n",
    "#usar más de 5 folds (que son los que tiene por default)\n",
    "print('Validación cruzada con 5 folds: ',mf_netflix.mf_cross_validation(MC_entrena))\n",
    "print('Validación cruzada con 10 folds: ',mf_netflix.mf_cross_validation(MC_entrena,folds=10))"
   ]
  },
  {
   "cell_type": "markdown",
   "metadata": {},
   "source": [
    "**OBTENCIÓN DE PREDICCIONES**"
   ]
  },
  {
   "cell_type": "code",
   "execution_count": 31,
   "metadata": {},
   "outputs": [
    {
     "data": {
      "text/plain": [
       "array([ 5.198,  4.825,  8.489,  4.825,  3.287,  4.825,  4.825],\n",
       "      dtype=float32)"
      ]
     },
     "execution_count": 31,
     "metadata": {},
     "output_type": "execute_result"
    }
   ],
   "source": [
    "#Para hacer la predicción se le pasa sólo los\n",
    "#índices de los elementos a predecir, es decir\n",
    "#una base con sólo 2 columnas que indican el \n",
    "#numero de renglon y columnas\n",
    "pred=mf_netflix.predict(MC_valida[:,0:2])\n",
    "pred"
   ]
  },
  {
   "cell_type": "code",
   "execution_count": 32,
   "metadata": {},
   "outputs": [
    {
     "name": "stdout",
     "output_type": "stream",
     "text": [
      "Los valores verdaderos de MC_valida son: [5 5 3 1 3 1 3]\n"
     ]
    }
   ],
   "source": [
    "print('Los valores verdaderos de MC_valida son:',MC_valida[:,2])"
   ]
  },
  {
   "cell_type": "code",
   "execution_count": 33,
   "metadata": {},
   "outputs": [
    {
     "name": "stdout",
     "output_type": "stream",
     "text": [
      "Los resultados guardados en model están dispuestos como atributos: \n",
      " ['P', 'Q', '__class__', '__ctypes_from_outparam__', '__delattr__', '__dict__', '__dir__', '__doc__', '__eq__', '__format__', '__ge__', '__getattribute__', '__gt__', '__hash__', '__init__', '__init_subclass__', '__le__', '__lt__', '__module__', '__ne__', '__new__', '__reduce__', '__reduce_ex__', '__repr__', '__setattr__', '__setstate__', '__sizeof__', '__str__', '__subclasshook__', '__weakref__', '_b_base_', '_b_needsfree_', '_fields_', '_objects', 'b', 'fun', 'k', 'm', 'n']\n"
     ]
    }
   ],
   "source": [
    "print('Los resultados guardados en model están dispuestos como atributos: \\n',dir(mf_netflix.model))"
   ]
  },
  {
   "cell_type": "code",
   "execution_count": 34,
   "metadata": {},
   "outputs": [
    {
     "name": "stdout",
     "output_type": "stream",
     "text": [
      "Resultados model:\n",
      "fun=0\n",
      "m=20\n",
      "n=20\n",
      "k=20\n",
      "b=4.8254\n",
      "P=0.2455\n",
      "Q=0.6670\n"
     ]
    }
   ],
   "source": [
    "imprime_atributos_model(mf_netflix.model)"
   ]
  },
  {
   "cell_type": "markdown",
   "metadata": {},
   "source": [
    "**OBTENCIÓN MATRIZ Q**"
   ]
  },
  {
   "cell_type": "code",
   "execution_count": 35,
   "metadata": {},
   "outputs": [
    {
     "name": "stdout",
     "output_type": "stream",
     "text": [
      "Tamaño Q: (20, 5)\n",
      "Matriz Q:\n",
      " [[ 0.667  1.343  1.086  1.3    1.157]\n",
      " [ 2.921  1.046  0.029  2.373  1.583]\n",
      " [ 1.272  0.352  0.301  2.018 -0.194]\n",
      " [ 0.101  0.74   0.969  0.996  0.843]\n",
      " [ 2.364  1.042  0.229  0.453  1.384]\n",
      " [ 1.355  3.005  2.902 -1.094  1.981]\n",
      " [   nan    nan    nan    nan    nan]\n",
      " [ 0.104  2.023  1.258  1.411  1.138]\n",
      " [   nan    nan    nan    nan    nan]\n",
      " [ 0.623  1.223  0.783  0.959  1.145]\n",
      " [ 0.929  0.475  0.655  2.293  0.828]\n",
      " [ 1.444  0.796  1.584  0.914  1.214]\n",
      " [ 1.812  1.259  1.189  0.823  1.61 ]\n",
      " [   nan    nan    nan    nan    nan]\n",
      " [   nan    nan    nan    nan    nan]\n",
      " [ 0.431  1.148  1.44   3.112  0.522]\n",
      " [ 0.724  0.594  1.621  1.907  2.427]\n",
      " [   nan    nan    nan    nan    nan]\n",
      " [ 0.827  1.668  0.587  1.622  0.729]\n",
      " [ 1.168  0.863  0.591  0.463  0.714]]\n"
     ]
    }
   ],
   "source": [
    "Q=mf_netflix.q_factors()\n",
    "print('Tamaño Q:',Q.shape)\n",
    "print('Matriz Q:\\n',Q)"
   ]
  },
  {
   "cell_type": "markdown",
   "metadata": {},
   "source": [
    "**OBTENCIÓN MATRIZ P**"
   ]
  },
  {
   "cell_type": "code",
   "execution_count": 36,
   "metadata": {},
   "outputs": [
    {
     "name": "stdout",
     "output_type": "stream",
     "text": [
      "Tamaño P: (20, 5)\n",
      "Matriz P:\n",
      " [[ 0.245  2.037  2.47  -1.25   1.073]\n",
      " [ 0.394  0.35   0.272  0.582  0.408]\n",
      " [-0.047  1.497  1.234  1.129  0.643]\n",
      " [ 1.493  1.077  0.438  0.61   1.068]\n",
      " [-0.418  0.959  0.854  0.62   0.081]\n",
      " [-0.338  0.528  1.138  2.796  0.406]\n",
      " [ 3.121  1.916  1.089  1.244  2.234]\n",
      " [ 0.053  0.759  0.76   0.188  0.777]\n",
      " [ 0.332  0.532 -0.027  0.218 -0.034]\n",
      " [ 2.313  1.78   1.216  1.053  1.915]\n",
      " [ 0.752  0.561  1.768  2.029  2.613]\n",
      " [ 0.847  0.893  1.04   1.123  1.13 ]\n",
      " [ 2.454  1.697  0.952  2.495  1.828]\n",
      " [   nan    nan    nan    nan    nan]\n",
      " [   nan    nan    nan    nan    nan]\n",
      " [   nan    nan    nan    nan    nan]\n",
      " [   nan    nan    nan    nan    nan]\n",
      " [ 2.314  0.839  0.652  3.679  0.235]\n",
      " [   nan    nan    nan    nan    nan]\n",
      " [ 1.112  0.405  1.272  0.713  1.107]]\n"
     ]
    }
   ],
   "source": [
    "P=mf_netflix.p_factors()\n",
    "print('Tamaño P:',P.shape)\n",
    "print('Matriz P:\\n',P)"
   ]
  },
  {
   "cell_type": "markdown",
   "metadata": {},
   "source": [
    "**OBTENCIÓN MATRIZ R**"
   ]
  },
  {
   "cell_type": "code",
   "execution_count": 37,
   "metadata": {},
   "outputs": [
    {
     "name": "stdout",
     "output_type": "stream",
     "text": [
      "Tamaño R: (20, 20)\n",
      "Matriz R:\n",
      " [[ 5.199  1.652 -0.957  3.586  4.189 17.116    nan  6.711    nan  4.61\n",
      "   0.835  6.048  6.646    nan    nan  2.671  5.613    nan  3.806  3.694]\n",
      " [ 2.256  3.552  1.802  1.485  2.188  2.547    nan  2.377    nan  1.912\n",
      "   2.383  2.306  2.614    nan    nan  2.987  3.033    nan  2.311  1.484]\n",
      " [ 5.53   5.161  2.993  3.965  3.134  8.054    nan  6.9      nan  4.587\n",
      "   4.597  4.892  5.231    nan    nan  7.325  6.57     nan  5.484  2.949]\n",
      " [ 4.945  8.639  3.434  2.879  6.507  7.98     nan  4.96     nan  4.398\n",
      "   4.468  5.561  6.804    nan    nan  4.966  6.185    nan  5.056  3.978]\n",
      " [ 2.837  1.407  1.299  2.181  0.602  4.277    nan  3.938    nan  2.269\n",
      "   2.116  2.179  2.107    nan    nan  4.124  3.032    nan  2.821  1.191]\n",
      " [ 5.823  6.876  5.662  4.585  1.844  2.176    nan  6.872    nan  4.473\n",
      "   7.43   4.785  4.36     nan    nan 11.013  8.231    nan  6.102  2.319]\n",
      " [10.038 17.643  7.05   5.91  13.28  16.211    nan  9.868    nan  8.892\n",
      "   9.225 11.607 13.985    nan    nan 10.151 12.958    nan 10.063  8.114]\n",
      " [ 3.023  2.646  0.793  2.146  2.251  5.891    nan  3.647    nan  2.627\n",
      "   1.982  3.     3.361    nan    nan  2.98   3.966    nan  2.628  1.808]\n",
      " [ 1.149  1.987  1.047  0.589  1.384  1.663    nan  1.344    nan  1.006\n",
      "   1.014  1.017  1.363    nan    nan  1.374  0.844    nan  1.474  0.907]\n",
      " [ 8.838 14.186  5.69   5.392 10.73  14.655    nan  9.037    nan  7.774\n",
      "   7.792  9.972 11.83     nan    nan  9.07  11.36     nan  8.701  6.813]\n",
      " [ 8.834 11.787  5.276  6.426  7.305 10.792    nan  9.275    nan  7.477\n",
      "   8.94   9.361 10.048    nan    nan 11.193 13.954    nan  7.793  5.214]\n",
      " [ 5.66   7.892  3.752  3.824  5.245  7.858    nan  6.073    nan  4.805\n",
      "   5.403  5.98   6.639    nan    nan  6.973  7.713    nan  5.446  3.702]\n",
      " [10.306 17.786  8.686  6.451 11.449 12.077    nan 10.486    nan  8.836\n",
      "  10.945 10.903 12.712    nan    nan 13.097 13.523    nan 10.8    7.354]\n",
      " [   nan    nan    nan    nan    nan    nan    nan    nan    nan    nan\n",
      "     nan    nan    nan    nan    nan    nan    nan    nan    nan    nan]\n",
      " [   nan    nan    nan    nan    nan    nan    nan    nan    nan    nan\n",
      "     nan    nan    nan    nan    nan    nan    nan    nan    nan    nan]\n",
      " [   nan    nan    nan    nan    nan    nan    nan    nan    nan    nan\n",
      "     nan    nan    nan    nan    nan    nan    nan    nan    nan    nan]\n",
      " [   nan    nan    nan    nan    nan    nan    nan    nan    nan    nan\n",
      "     nan    nan    nan    nan    nan    nan    nan    nan    nan    nan]\n",
      " [ 8.432 16.758 10.813  5.348  8.489  3.993    nan  8.217    nan  6.776\n",
      "  11.606  8.693  9.433    nan    nan 14.474 10.817    nan  9.837  5.685]\n",
      " [   nan    nan    nan    nan    nan    nan    nan    nan    nan    nan\n",
      "     nan    nan    nan    nan    nan    nan    nan    nan    nan    nan]\n",
      " [ 4.874  7.153  3.165  3.287  5.198  7.828    nan  4.802    nan  4.136\n",
      "   4.61   5.939  6.406    nan    nan  5.574  7.153    nan  4.306  3.521]]\n"
     ]
    }
   ],
   "source": [
    "R=P@np.transpose(Q)\n",
    "print('Tamaño R:',R.shape)\n",
    "print('Matriz R:\\n',R)"
   ]
  },
  {
   "cell_type": "code",
   "execution_count": 38,
   "metadata": {},
   "outputs": [
    {
     "data": {
      "text/html": [
       "<div>\n",
       "<style scoped>\n",
       "    .dataframe tbody tr th:only-of-type {\n",
       "        vertical-align: middle;\n",
       "    }\n",
       "\n",
       "    .dataframe tbody tr th {\n",
       "        vertical-align: top;\n",
       "    }\n",
       "\n",
       "    .dataframe thead th {\n",
       "        text-align: right;\n",
       "    }\n",
       "</style>\n",
       "<table border=\"1\" class=\"dataframe\">\n",
       "  <thead>\n",
       "    <tr style=\"text-align: right;\">\n",
       "      <th></th>\n",
       "      <th>0</th>\n",
       "      <th>1</th>\n",
       "      <th>2</th>\n",
       "    </tr>\n",
       "  </thead>\n",
       "  <tbody>\n",
       "    <tr>\n",
       "      <th>0</th>\n",
       "      <td>0.0</td>\n",
       "      <td>0.0</td>\n",
       "      <td>5.198862</td>\n",
       "    </tr>\n",
       "    <tr>\n",
       "      <th>1</th>\n",
       "      <td>0.0</td>\n",
       "      <td>1.0</td>\n",
       "      <td>1.652449</td>\n",
       "    </tr>\n",
       "    <tr>\n",
       "      <th>2</th>\n",
       "      <td>0.0</td>\n",
       "      <td>2.0</td>\n",
       "      <td>-0.956831</td>\n",
       "    </tr>\n",
       "    <tr>\n",
       "      <th>3</th>\n",
       "      <td>0.0</td>\n",
       "      <td>3.0</td>\n",
       "      <td>3.586059</td>\n",
       "    </tr>\n",
       "    <tr>\n",
       "      <th>4</th>\n",
       "      <td>0.0</td>\n",
       "      <td>4.0</td>\n",
       "      <td>4.188980</td>\n",
       "    </tr>\n",
       "    <tr>\n",
       "      <th>...</th>\n",
       "      <td>...</td>\n",
       "      <td>...</td>\n",
       "      <td>...</td>\n",
       "    </tr>\n",
       "    <tr>\n",
       "      <th>220</th>\n",
       "      <td>19.0</td>\n",
       "      <td>12.0</td>\n",
       "      <td>6.406300</td>\n",
       "    </tr>\n",
       "    <tr>\n",
       "      <th>221</th>\n",
       "      <td>19.0</td>\n",
       "      <td>15.0</td>\n",
       "      <td>5.573576</td>\n",
       "    </tr>\n",
       "    <tr>\n",
       "      <th>222</th>\n",
       "      <td>19.0</td>\n",
       "      <td>16.0</td>\n",
       "      <td>7.153277</td>\n",
       "    </tr>\n",
       "    <tr>\n",
       "      <th>223</th>\n",
       "      <td>19.0</td>\n",
       "      <td>18.0</td>\n",
       "      <td>4.306216</td>\n",
       "    </tr>\n",
       "    <tr>\n",
       "      <th>224</th>\n",
       "      <td>19.0</td>\n",
       "      <td>19.0</td>\n",
       "      <td>3.521081</td>\n",
       "    </tr>\n",
       "  </tbody>\n",
       "</table>\n",
       "<p>225 rows × 3 columns</p>\n",
       "</div>"
      ],
      "text/plain": [
       "        0     1         2\n",
       "0     0.0   0.0  5.198862\n",
       "1     0.0   1.0  1.652449\n",
       "2     0.0   2.0 -0.956831\n",
       "3     0.0   3.0  3.586059\n",
       "4     0.0   4.0  4.188980\n",
       "..    ...   ...       ...\n",
       "220  19.0  12.0  6.406300\n",
       "221  19.0  15.0  5.573576\n",
       "222  19.0  16.0  7.153277\n",
       "223  19.0  18.0  4.306216\n",
       "224  19.0  19.0  3.521081\n",
       "\n",
       "[225 rows x 3 columns]"
      ]
     },
     "execution_count": 38,
     "metadata": {},
     "output_type": "execute_result"
    }
   ],
   "source": [
    "#Podemos ver cómo se ve la matriz R en forma compacta\n",
    "compactar_matriz_rala(R)\n",
    "pd.DataFrame(compactar_matriz_rala(R))"
   ]
  },
  {
   "cell_type": "code",
   "execution_count": 39,
   "metadata": {},
   "outputs": [
    {
     "data": {
      "text/html": [
       "<div>\n",
       "<style scoped>\n",
       "    .dataframe tbody tr th:only-of-type {\n",
       "        vertical-align: middle;\n",
       "    }\n",
       "\n",
       "    .dataframe tbody tr th {\n",
       "        vertical-align: top;\n",
       "    }\n",
       "\n",
       "    .dataframe thead th {\n",
       "        text-align: right;\n",
       "    }\n",
       "</style>\n",
       "<table border=\"1\" class=\"dataframe\">\n",
       "  <thead>\n",
       "    <tr style=\"text-align: right;\">\n",
       "      <th></th>\n",
       "      <th>ren</th>\n",
       "      <th>col</th>\n",
       "      <th>calif</th>\n",
       "      <th>R_calif_est</th>\n",
       "      <th>mf_netflix_predict</th>\n",
       "    </tr>\n",
       "  </thead>\n",
       "  <tbody>\n",
       "    <tr>\n",
       "      <th>0</th>\n",
       "      <td>19.0</td>\n",
       "      <td>4.0</td>\n",
       "      <td>5.0</td>\n",
       "      <td>5.197598</td>\n",
       "      <td>5.197598</td>\n",
       "    </tr>\n",
       "    <tr>\n",
       "      <th>1</th>\n",
       "      <td>16.0</td>\n",
       "      <td>4.0</td>\n",
       "      <td>5.0</td>\n",
       "      <td>NaN</td>\n",
       "      <td>4.825397</td>\n",
       "    </tr>\n",
       "    <tr>\n",
       "      <th>2</th>\n",
       "      <td>17.0</td>\n",
       "      <td>4.0</td>\n",
       "      <td>3.0</td>\n",
       "      <td>8.488568</td>\n",
       "      <td>8.488568</td>\n",
       "    </tr>\n",
       "    <tr>\n",
       "      <th>3</th>\n",
       "      <td>15.0</td>\n",
       "      <td>4.0</td>\n",
       "      <td>1.0</td>\n",
       "      <td>NaN</td>\n",
       "      <td>4.825397</td>\n",
       "    </tr>\n",
       "    <tr>\n",
       "      <th>4</th>\n",
       "      <td>19.0</td>\n",
       "      <td>3.0</td>\n",
       "      <td>3.0</td>\n",
       "      <td>3.287389</td>\n",
       "      <td>3.287389</td>\n",
       "    </tr>\n",
       "    <tr>\n",
       "      <th>5</th>\n",
       "      <td>16.0</td>\n",
       "      <td>3.0</td>\n",
       "      <td>1.0</td>\n",
       "      <td>NaN</td>\n",
       "      <td>4.825397</td>\n",
       "    </tr>\n",
       "    <tr>\n",
       "      <th>6</th>\n",
       "      <td>13.0</td>\n",
       "      <td>3.0</td>\n",
       "      <td>3.0</td>\n",
       "      <td>NaN</td>\n",
       "      <td>4.825397</td>\n",
       "    </tr>\n",
       "  </tbody>\n",
       "</table>\n",
       "</div>"
      ],
      "text/plain": [
       "    ren  col  calif  R_calif_est  mf_netflix_predict\n",
       "0  19.0  4.0    5.0     5.197598            5.197598\n",
       "1  16.0  4.0    5.0          NaN            4.825397\n",
       "2  17.0  4.0    3.0     8.488568            8.488568\n",
       "3  15.0  4.0    1.0          NaN            4.825397\n",
       "4  19.0  3.0    3.0     3.287389            3.287389\n",
       "5  16.0  3.0    1.0          NaN            4.825397\n",
       "6  13.0  3.0    3.0          NaN            4.825397"
      ]
     },
     "metadata": {},
     "output_type": "display_data"
    },
    {
     "name": "stdout",
     "output_type": "stream",
     "text": [
      "Usuarios 13, 15 y 16 en MC_valida:\n"
     ]
    },
    {
     "data": {
      "text/html": [
       "<div>\n",
       "<style scoped>\n",
       "    .dataframe tbody tr th:only-of-type {\n",
       "        vertical-align: middle;\n",
       "    }\n",
       "\n",
       "    .dataframe tbody tr th {\n",
       "        vertical-align: top;\n",
       "    }\n",
       "\n",
       "    .dataframe thead th {\n",
       "        text-align: right;\n",
       "    }\n",
       "</style>\n",
       "<table border=\"1\" class=\"dataframe\">\n",
       "  <thead>\n",
       "    <tr style=\"text-align: right;\">\n",
       "      <th></th>\n",
       "      <th>ren</th>\n",
       "      <th>col</th>\n",
       "      <th>calif</th>\n",
       "    </tr>\n",
       "  </thead>\n",
       "  <tbody>\n",
       "    <tr>\n",
       "      <th>1</th>\n",
       "      <td>16</td>\n",
       "      <td>4</td>\n",
       "      <td>5</td>\n",
       "    </tr>\n",
       "    <tr>\n",
       "      <th>3</th>\n",
       "      <td>15</td>\n",
       "      <td>4</td>\n",
       "      <td>1</td>\n",
       "    </tr>\n",
       "    <tr>\n",
       "      <th>5</th>\n",
       "      <td>16</td>\n",
       "      <td>3</td>\n",
       "      <td>1</td>\n",
       "    </tr>\n",
       "    <tr>\n",
       "      <th>6</th>\n",
       "      <td>13</td>\n",
       "      <td>3</td>\n",
       "      <td>3</td>\n",
       "    </tr>\n",
       "  </tbody>\n",
       "</table>\n",
       "</div>"
      ],
      "text/plain": [
       "   ren  col  calif\n",
       "1   16    4      5\n",
       "3   15    4      1\n",
       "5   16    3      1\n",
       "6   13    3      3"
      ]
     },
     "metadata": {},
     "output_type": "display_data"
    },
    {
     "name": "stdout",
     "output_type": "stream",
     "text": [
      "Usuarios 13, 15 y 16 en MC_entrena:\n"
     ]
    },
    {
     "data": {
      "text/html": [
       "<div>\n",
       "<style scoped>\n",
       "    .dataframe tbody tr th:only-of-type {\n",
       "        vertical-align: middle;\n",
       "    }\n",
       "\n",
       "    .dataframe tbody tr th {\n",
       "        vertical-align: top;\n",
       "    }\n",
       "\n",
       "    .dataframe thead th {\n",
       "        text-align: right;\n",
       "    }\n",
       "</style>\n",
       "<table border=\"1\" class=\"dataframe\">\n",
       "  <thead>\n",
       "    <tr style=\"text-align: right;\">\n",
       "      <th></th>\n",
       "      <th>ren</th>\n",
       "      <th>col</th>\n",
       "      <th>calif</th>\n",
       "    </tr>\n",
       "  </thead>\n",
       "  <tbody>\n",
       "    <tr>\n",
       "      <th>32</th>\n",
       "      <td>15</td>\n",
       "      <td>2</td>\n",
       "      <td>1</td>\n",
       "    </tr>\n",
       "    <tr>\n",
       "      <th>34</th>\n",
       "      <td>16</td>\n",
       "      <td>1</td>\n",
       "      <td>5</td>\n",
       "    </tr>\n",
       "    <tr>\n",
       "      <th>40</th>\n",
       "      <td>15</td>\n",
       "      <td>0</td>\n",
       "      <td>3</td>\n",
       "    </tr>\n",
       "    <tr>\n",
       "      <th>56</th>\n",
       "      <td>13</td>\n",
       "      <td>2</td>\n",
       "      <td>2</td>\n",
       "    </tr>\n",
       "  </tbody>\n",
       "</table>\n",
       "</div>"
      ],
      "text/plain": [
       "    ren  col  calif\n",
       "32   15    2      1\n",
       "34   16    1      5\n",
       "40   15    0      3\n",
       "56   13    2      2"
      ]
     },
     "metadata": {},
     "output_type": "display_data"
    },
    {
     "name": "stdout",
     "output_type": "stream",
     "text": [
      "Se calificaron películas 3 y 4 en MC_valida?...sí\n"
     ]
    },
    {
     "data": {
      "text/html": [
       "<div>\n",
       "<style scoped>\n",
       "    .dataframe tbody tr th:only-of-type {\n",
       "        vertical-align: middle;\n",
       "    }\n",
       "\n",
       "    .dataframe tbody tr th {\n",
       "        vertical-align: top;\n",
       "    }\n",
       "\n",
       "    .dataframe thead th {\n",
       "        text-align: right;\n",
       "    }\n",
       "</style>\n",
       "<table border=\"1\" class=\"dataframe\">\n",
       "  <thead>\n",
       "    <tr style=\"text-align: right;\">\n",
       "      <th></th>\n",
       "      <th>ren</th>\n",
       "      <th>col</th>\n",
       "      <th>calif</th>\n",
       "    </tr>\n",
       "  </thead>\n",
       "  <tbody>\n",
       "    <tr>\n",
       "      <th>0</th>\n",
       "      <td>19</td>\n",
       "      <td>4</td>\n",
       "      <td>5</td>\n",
       "    </tr>\n",
       "    <tr>\n",
       "      <th>1</th>\n",
       "      <td>16</td>\n",
       "      <td>4</td>\n",
       "      <td>5</td>\n",
       "    </tr>\n",
       "    <tr>\n",
       "      <th>2</th>\n",
       "      <td>17</td>\n",
       "      <td>4</td>\n",
       "      <td>3</td>\n",
       "    </tr>\n",
       "    <tr>\n",
       "      <th>3</th>\n",
       "      <td>15</td>\n",
       "      <td>4</td>\n",
       "      <td>1</td>\n",
       "    </tr>\n",
       "    <tr>\n",
       "      <th>4</th>\n",
       "      <td>19</td>\n",
       "      <td>3</td>\n",
       "      <td>3</td>\n",
       "    </tr>\n",
       "    <tr>\n",
       "      <th>5</th>\n",
       "      <td>16</td>\n",
       "      <td>3</td>\n",
       "      <td>1</td>\n",
       "    </tr>\n",
       "    <tr>\n",
       "      <th>6</th>\n",
       "      <td>13</td>\n",
       "      <td>3</td>\n",
       "      <td>3</td>\n",
       "    </tr>\n",
       "  </tbody>\n",
       "</table>\n",
       "</div>"
      ],
      "text/plain": [
       "   ren  col  calif\n",
       "0   19    4      5\n",
       "1   16    4      5\n",
       "2   17    4      3\n",
       "3   15    4      1\n",
       "4   19    3      3\n",
       "5   16    3      1\n",
       "6   13    3      3"
      ]
     },
     "metadata": {},
     "output_type": "display_data"
    },
    {
     "name": "stdout",
     "output_type": "stream",
     "text": [
      "Se calificaron películas 3 y 4 en MC_entrena?...sí\n"
     ]
    },
    {
     "data": {
      "text/html": [
       "<div>\n",
       "<style scoped>\n",
       "    .dataframe tbody tr th:only-of-type {\n",
       "        vertical-align: middle;\n",
       "    }\n",
       "\n",
       "    .dataframe tbody tr th {\n",
       "        vertical-align: top;\n",
       "    }\n",
       "\n",
       "    .dataframe thead th {\n",
       "        text-align: right;\n",
       "    }\n",
       "</style>\n",
       "<table border=\"1\" class=\"dataframe\">\n",
       "  <thead>\n",
       "    <tr style=\"text-align: right;\">\n",
       "      <th></th>\n",
       "      <th>ren</th>\n",
       "      <th>col</th>\n",
       "      <th>calif</th>\n",
       "    </tr>\n",
       "  </thead>\n",
       "  <tbody>\n",
       "    <tr>\n",
       "      <th>2</th>\n",
       "      <td>18</td>\n",
       "      <td>3</td>\n",
       "      <td>4</td>\n",
       "    </tr>\n",
       "    <tr>\n",
       "      <th>3</th>\n",
       "      <td>5</td>\n",
       "      <td>4</td>\n",
       "      <td>1</td>\n",
       "    </tr>\n",
       "    <tr>\n",
       "      <th>10</th>\n",
       "      <td>2</td>\n",
       "      <td>3</td>\n",
       "      <td>1</td>\n",
       "    </tr>\n",
       "    <tr>\n",
       "      <th>11</th>\n",
       "      <td>3</td>\n",
       "      <td>3</td>\n",
       "      <td>1</td>\n",
       "    </tr>\n",
       "    <tr>\n",
       "      <th>13</th>\n",
       "      <td>1</td>\n",
       "      <td>4</td>\n",
       "      <td>3</td>\n",
       "    </tr>\n",
       "    <tr>\n",
       "      <th>14</th>\n",
       "      <td>18</td>\n",
       "      <td>4</td>\n",
       "      <td>2</td>\n",
       "    </tr>\n",
       "    <tr>\n",
       "      <th>17</th>\n",
       "      <td>14</td>\n",
       "      <td>4</td>\n",
       "      <td>1</td>\n",
       "    </tr>\n",
       "    <tr>\n",
       "      <th>21</th>\n",
       "      <td>7</td>\n",
       "      <td>3</td>\n",
       "      <td>5</td>\n",
       "    </tr>\n",
       "    <tr>\n",
       "      <th>24</th>\n",
       "      <td>11</td>\n",
       "      <td>4</td>\n",
       "      <td>2</td>\n",
       "    </tr>\n",
       "    <tr>\n",
       "      <th>27</th>\n",
       "      <td>6</td>\n",
       "      <td>3</td>\n",
       "      <td>5</td>\n",
       "    </tr>\n",
       "    <tr>\n",
       "      <th>28</th>\n",
       "      <td>4</td>\n",
       "      <td>3</td>\n",
       "      <td>3</td>\n",
       "    </tr>\n",
       "    <tr>\n",
       "      <th>31</th>\n",
       "      <td>0</td>\n",
       "      <td>4</td>\n",
       "      <td>4</td>\n",
       "    </tr>\n",
       "    <tr>\n",
       "      <th>35</th>\n",
       "      <td>14</td>\n",
       "      <td>3</td>\n",
       "      <td>2</td>\n",
       "    </tr>\n",
       "    <tr>\n",
       "      <th>41</th>\n",
       "      <td>12</td>\n",
       "      <td>3</td>\n",
       "      <td>1</td>\n",
       "    </tr>\n",
       "    <tr>\n",
       "      <th>43</th>\n",
       "      <td>7</td>\n",
       "      <td>4</td>\n",
       "      <td>2</td>\n",
       "    </tr>\n",
       "    <tr>\n",
       "      <th>44</th>\n",
       "      <td>6</td>\n",
       "      <td>4</td>\n",
       "      <td>2</td>\n",
       "    </tr>\n",
       "    <tr>\n",
       "      <th>45</th>\n",
       "      <td>12</td>\n",
       "      <td>4</td>\n",
       "      <td>5</td>\n",
       "    </tr>\n",
       "    <tr>\n",
       "      <th>52</th>\n",
       "      <td>1</td>\n",
       "      <td>3</td>\n",
       "      <td>1</td>\n",
       "    </tr>\n",
       "    <tr>\n",
       "      <th>53</th>\n",
       "      <td>2</td>\n",
       "      <td>4</td>\n",
       "      <td>3</td>\n",
       "    </tr>\n",
       "    <tr>\n",
       "      <th>59</th>\n",
       "      <td>4</td>\n",
       "      <td>4</td>\n",
       "      <td>5</td>\n",
       "    </tr>\n",
       "    <tr>\n",
       "      <th>60</th>\n",
       "      <td>9</td>\n",
       "      <td>4</td>\n",
       "      <td>4</td>\n",
       "    </tr>\n",
       "  </tbody>\n",
       "</table>\n",
       "</div>"
      ],
      "text/plain": [
       "    ren  col  calif\n",
       "2    18    3      4\n",
       "3     5    4      1\n",
       "10    2    3      1\n",
       "11    3    3      1\n",
       "13    1    4      3\n",
       "14   18    4      2\n",
       "17   14    4      1\n",
       "21    7    3      5\n",
       "24   11    4      2\n",
       "27    6    3      5\n",
       "28    4    3      3\n",
       "31    0    4      4\n",
       "35   14    3      2\n",
       "41   12    3      1\n",
       "43    7    4      2\n",
       "44    6    4      2\n",
       "45   12    4      5\n",
       "52    1    3      1\n",
       "53    2    4      3\n",
       "59    4    4      5\n",
       "60    9    4      4"
      ]
     },
     "metadata": {},
     "output_type": "display_data"
    }
   ],
   "source": [
    "#Notese que R justo contiene algunas de las estimaciones arrojadas por\n",
    "#el método predict, pero no todas\n",
    "comparativo=pd.DataFrame(columns=['ren','col','calif','R_calif_est','mf_netflix_predict'])\n",
    "for i in range(MC_valida.shape[0]):\n",
    "    comparativo.loc[i] = [MC_valida[i,0], MC_valida[i,1], MC_valida[i,2],R[MC_valida[i,0],MC_valida[i,1]],pred[i]]\n",
    "display(comparativo)\n",
    "\n",
    "#Observa que R no contiene todas las estimaciones que tiene predict\n",
    "#checamos unos casos particulares: 4, 9, 11, 12\n",
    "#nota que todos esos usuarios aparecen tanto en MC_entrena como \n",
    "#en MC_valida, y sin embargo la matriz R no tiene las calificaciones\n",
    "#ni del usuario 13, 15 y 16\n",
    "df_MC_valida=pd.DataFrame(MC_valida,columns=['ren','col','calif'])\n",
    "df_MC_entrena=pd.DataFrame(MC_entrena,columns=['ren','col','calif'])\n",
    "print('Usuarios 13, 15 y 16 en MC_valida:')\n",
    "display(df_MC_valida[df_MC_valida.ren.isin([13,15,16])])\n",
    "print('Usuarios 13, 15 y 16 en MC_entrena:')\n",
    "display(df_MC_entrena[df_MC_entrena.ren.isin([13,15,16])])\n",
    "\n",
    "\n",
    "#Obsérvese las películas que los usuarios 13, 15 y 16\n",
    "#Tanto en entrena como en valida aparecen estos usuarios\n",
    "#La base valida sólo tiene calificaciones de las películas\n",
    "#3 y 4\n",
    "print('Se calificaron películas 3 y 4 en MC_valida?...sí')\n",
    "display(df_MC_valida[df_MC_valida.col.isin([3,4])])\n",
    "print('Se calificaron películas 3 y 4 en MC_entrena?...sí')\n",
    "display(df_MC_entrena[df_MC_entrena.col.isin([3,4])])\n"
   ]
  },
  {
   "cell_type": "markdown",
   "metadata": {},
   "source": [
    "# Librería libmf"
   ]
  },
  {
   "cell_type": "code",
   "execution_count": 41,
   "metadata": {},
   "outputs": [
    {
     "name": "stdout",
     "output_type": "stream",
     "text": [
      "/home/miuser/proyecto-final-equipo5-mno-2020-1/Implementation/libmf/demo\n",
      "/home/miuser/proyecto-final-equipo5-mno-2020-1/Implementation/libmf/demo\n",
      "g++ -Wall -O3 -pthread -std=c++0x -march=native -fopenmp -DUSESSE -DUSEOMP -c -fPIC -o mf.o mf.cpp\n",
      "g++ -Wall -O3 -pthread -std=c++0x -march=native -fopenmp -DUSESSE -DUSEOMP -o mf-train mf-train.cpp mf.o\n",
      "g++ -Wall -O3 -pthread -std=c++0x -march=native -fopenmp -DUSESSE -DUSEOMP -o mf-predict mf-predict.cpp mf.o\n",
      "--------------------------------\n",
      "Real-valued matrix factorization\n",
      "--------------------------------\n",
      "iter      tr_rmse      va_rmse          obj\n",
      "   0       2.4804       1.3263   3.2505e+04\n",
      "   1       1.2018       1.0784   8.9375e+03\n",
      "   2       0.9106       1.0375   5.8782e+03\n",
      "   3       0.8026       1.0178   4.9452e+03\n",
      "   4       0.7464       1.0121   4.5159e+03\n",
      "   5       0.6989       1.0068   4.1723e+03\n",
      "   6       0.6536       1.0081   3.9015e+03\n",
      "   7       0.6081       1.0097   3.6482e+03\n",
      "   8       0.5596       1.0083   3.3892e+03\n",
      "   9       0.5116       1.0070   3.1630e+03\n",
      "MAE = 0.7803\n",
      "---------------------------\n",
      "binary matrix factorization\n",
      "---------------------------\n",
      "iter   tr_logloss   va_logloss          obj\n",
      "   0       0.6822       0.8163   3.3923e+03\n",
      "   1       0.6965       0.8155   3.4616e+03\n",
      "   2       0.6816       0.8163   3.3888e+03\n",
      "   3       0.6668       0.8110   3.3181e+03\n",
      "   4       0.6510       0.8034   3.2438e+03\n",
      "   5       0.6324       0.7912   3.1577e+03\n",
      "   6       0.6098       0.7805   3.0540e+03\n",
      "   7       0.5815       0.7652   2.9242e+03\n",
      "   8       0.5476       0.7393   2.7698e+03\n",
      "   9       0.5070       0.7195   2.5849e+03\n",
      "  10       0.4631       0.6989   2.3857e+03\n",
      "  11       0.4164       0.6806   2.1751e+03\n",
      "  12       0.3708       0.6601   1.9705e+03\n",
      "  13       0.3291       0.6471   1.7851e+03\n",
      "  14       0.2879       0.6311   1.6019e+03\n",
      "  15       0.2528       0.6212   1.4482e+03\n",
      "  16       0.2229       0.5998   1.3193e+03\n",
      "  17       0.1947       0.5884   1.1970e+03\n",
      "  18       0.1722       0.5793   1.1019e+03\n",
      "  19       0.1520       0.5716   1.0167e+03\n",
      "ACCURACY = 0.7416\n",
      "-----------------------------------------------------------------\n",
      "one-class matrix factorization using a stochastic gradient method\n",
      "-----------------------------------------------------------------\n",
      "iter   tr_bprloss   va_bprloss          obj\n",
      "   0       0.4928       0.6267   2.5779e+03\n",
      "   1       0.5873       0.5938   3.0795e+03\n",
      "   2       0.5639       0.5685   2.9759e+03\n",
      "   3       0.5226       0.5303   2.7810e+03\n",
      "   4       0.4715       0.5049   2.5392e+03\n",
      "   5       0.4281       0.4823   2.3367e+03\n",
      "   6       0.3888       0.4724   2.1530e+03\n",
      "   7       0.3639       0.4610   2.0418e+03\n",
      "   8       0.3284       0.4232   1.8763e+03\n",
      "   9       0.3173       0.4150   1.8331e+03\n",
      "  10       0.2951       0.4318   1.7319e+03\n",
      "  11       0.2800       0.4241   1.6651e+03\n",
      "  12       0.2703       0.4234   1.6256e+03\n",
      "  13       0.2578       0.4256   1.5708e+03\n",
      "  14       0.2420       0.4198   1.4979e+03\n",
      "  15       0.2396       0.4317   1.4933e+03\n",
      "  16       0.2329       0.4117   1.4657e+03\n",
      "  17       0.2253       0.4228   1.4336e+03\n",
      "  18       0.2146       0.4379   1.3843e+03\n",
      "  19       0.2075       0.4212   1.3543e+03\n",
      "Row-wise MPR = 0.2661\n",
      "Row-wise AUC = 0.7036\n",
      "----------------------------------------------------------------\n",
      "one-class matrix factorization using a coordinate descent method\n",
      "----------------------------------------------------------------\n",
      "iter   tr_sqerror    tr_sqerror+    tr_sqerror-   va_sqerror    va_sqerror+    va_sqerror-          obj\n",
      "   0      76.2336         1.5680        74.6656     565.6766       488.6279        77.0487   1.5151e+02\n",
      "   1      54.0548         1.0864        52.9684     526.1029       470.7356        55.3673   1.0657e+02\n",
      "   2      48.0860         0.9305        47.1555     506.4531       456.8977        49.5554   9.2599e+01\n",
      "   3      45.0598         0.8688        44.1910     493.7473       447.1579        46.5894   8.5775e+01\n",
      "   4      43.1018         0.8283        42.2736     484.5283       439.8581        44.6702   8.1607e+01\n",
      "   5      41.6682         0.7977        40.8705     477.1668       433.9014        43.2654   7.8664e+01\n",
      "   6      40.5370         0.7726        39.7644     470.8978       428.7403        42.1575   7.6372e+01\n",
      "   7      39.5962         0.7506        38.8455     465.4009       424.1638        41.2371   7.4463e+01\n",
      "   8      38.7829         0.7329        38.0500     460.5379       420.0977        40.4402   7.2804e+01\n",
      "   9      38.0599         0.7211        37.3388     456.2107       416.4831        39.7276   7.1323e+01\n",
      "  10      37.4058         0.7178        36.6879     452.3463       413.2713        39.0750   6.9981e+01\n",
      "  11      36.8111         0.7255        36.0856     448.8667       410.3961        38.4707   6.8763e+01\n",
      "  12      36.2757         0.7445        35.5312     445.6393       407.7254        37.9139   6.7665e+01\n",
      "  13      35.8040         0.7733        35.0307     442.5715       405.1609        37.4107   6.6690e+01\n",
      "  14      35.3993         0.8086        34.5907     439.6341       402.6665        36.9677   6.5837e+01\n",
      "  15      35.0598         0.8464        34.2134     436.8235       400.2363        36.5873   6.5101e+01\n",
      "  16      34.7787         0.8828        33.8959     434.1496       397.8830        36.2666   6.4469e+01\n",
      "  17      34.5462         0.9145        33.6317     431.6379       395.6385        35.9994   6.3924e+01\n",
      "  18      34.3527         0.9400        33.4127     429.3078       393.5301        35.7777   6.3452e+01\n",
      "  19      34.1897         0.9589        33.2309     427.1552       391.5619        35.5933   6.3038e+01\n",
      "Row-wise MPR = 0.2018\n",
      "Row-wise AUC = 0.8237\n"
     ]
    }
   ],
   "source": [
    "#ASEGURESE DE PONER LA UBICACIÓN CORRECTA DE LA UBICACIÓN DE LA CARPETA libmf\n",
    "#Prueba correr el DEMO que viene en el la librería libmf\n",
    "\n",
    "################################################################################################################\n",
    "################## CORRÍ ESTO CONSIDERANDO QUE TUVE UNA COPIA DE LA CARPETA DE #################################\n",
    "########################## LIBMF AL MISMO NIVEL DE Ejercicio_base_muestra_netflix ##############################\n",
    "################################################################################################################\n",
    "#%cd /home/miuser/libmf/demo\n",
    "%cd /home/miuser/proyecto-final-equipo5-mno-2020-1/Implementation/libmf/demo/\n",
    "!pwd\n",
    "!bash demo.sh"
   ]
  },
  {
   "cell_type": "code",
   "execution_count": 59,
   "metadata": {},
   "outputs": [
    {
     "name": "stdout",
     "output_type": "stream",
     "text": [
      "/home/miuser/libmf/demo\n"
     ]
    }
   ],
   "source": [
    "%cd /home/miuser/libmf/demo"
   ]
  },
  {
   "cell_type": "code",
   "execution_count": 42,
   "metadata": {},
   "outputs": [
    {
     "name": "stdout",
     "output_type": "stream",
     "text": [
      "iter      tr_rmse          obj\n",
      "   0       1.9774   2.2897e+04\n",
      "   1       1.0585   8.8300e+03\n",
      "   2       0.8699   6.9933e+03\n",
      "   3       0.8149   6.4923e+03\n",
      "   4       0.7851   6.2068e+03\n",
      "   5       0.7642   6.0061e+03\n",
      "   6       0.7498   5.8820e+03\n",
      "   7       0.7397   5.7511e+03\n",
      "   8       0.7335   5.7207e+03\n",
      "   9       0.7248   5.6410e+03\n",
      "  10       0.7167   5.5583e+03\n",
      "  11       0.7121   5.5264e+03\n",
      "  12       0.7051   5.4380e+03\n",
      "  13       0.6986   5.4035e+03\n",
      "  14       0.6961   5.3763e+03\n",
      "  15       0.6919   5.3477e+03\n",
      "  16       0.6864   5.2997e+03\n",
      "  17       0.6823   5.2656e+03\n",
      "  18       0.6780   5.2287e+03\n",
      "  19       0.6743   5.2182e+03\n"
     ]
    }
   ],
   "source": [
    "#train a model using the default parameters\n",
    "!/home/miuser/proyecto-final-equipo5-mno-2020-1/Implementation/libmf/mf-train real_matrix.tr.txt model"
   ]
  },
  {
   "cell_type": "code",
   "execution_count": 43,
   "metadata": {},
   "outputs": [
    {
     "name": "stdout",
     "output_type": "stream",
     "text": [
      "iter      tr_rmse          obj\n",
      "   0       1.9594   2.2287e+04\n",
      "   1       0.9935   8.0411e+03\n",
      "   2       0.8678   6.8846e+03\n",
      "   3       0.8016   6.3247e+03\n",
      "   4       0.7704   6.0652e+03\n",
      "   5       0.7464   5.8773e+03\n",
      "   6       0.7262   5.7217e+03\n",
      "   7       0.7093   5.5923e+03\n",
      "   8       0.6946   5.4858e+03\n",
      "   9       0.6781   5.3667e+03\n",
      "  10       0.6646   5.2648e+03\n",
      "  11       0.6521   5.1844e+03\n",
      "  12       0.6388   5.1004e+03\n",
      "  13       0.6244   4.9988e+03\n",
      "  14       0.6113   4.9153e+03\n",
      "  15       0.5999   4.8508e+03\n",
      "  16       0.5869   4.7700e+03\n",
      "  17       0.5738   4.6869e+03\n",
      "  18       0.5619   4.6176e+03\n",
      "  19       0.5507   4.5531e+03\n"
     ]
    }
   ],
   "source": [
    "#train a model with the following regularization coefficients:\n",
    "#coefficient of L1-norm regularization on P = 0.05\n",
    "#coefficient of L1-norm regularization on Q = 0.05\n",
    "#coefficient of L2-norm regularization on P = 0.01\n",
    "#coefficient of L2-norm regularization on Q = 0.01\n",
    "!/home/miuser/proyecto-final-equipo5-mno-2020-1/Implementation/libmf/mf-train -l1 0.05 -l2 0.01 real_matrix.tr.txt model"
   ]
  },
  {
   "cell_type": "code",
   "execution_count": 44,
   "metadata": {},
   "outputs": [
    {
     "name": "stdout",
     "output_type": "stream",
     "text": [
      "iter      tr_rmse          obj\n",
      "   0       1.9508   1.9507e+04\n",
      "   1       1.1678   7.3011e+03\n",
      "   2       0.8453   4.0607e+03\n",
      "   3       0.7961   3.6576e+03\n",
      "   4       0.7611   3.3891e+03\n",
      "   5       0.7385   3.2199e+03\n",
      "   6       0.7226   3.1068e+03\n",
      "   7       0.7070   2.9953e+03\n",
      "   8       0.6923   2.8944e+03\n",
      "   9       0.6787   2.8039e+03\n",
      "  10       0.6653   2.7154e+03\n",
      "  11       0.6505   2.6192e+03\n",
      "  12       0.6382   2.5419e+03\n",
      "  13       0.6245   2.4582e+03\n",
      "  14       0.6109   2.3773e+03\n",
      "  15       0.5968   2.2949e+03\n",
      "  16       0.5835   2.2182e+03\n",
      "  17       0.5700   2.1425e+03\n",
      "  18       0.5570   2.0712e+03\n",
      "  19       0.5445   2.0044e+03\n"
     ]
    }
   ],
   "source": [
    "#train a model with the following regularization coefficients:\n",
    "#coefficient of L1-norm regularization on P = 0.05\n",
    "#coefficient of L1-norm regularization on Q = 0\n",
    "#coefficient of L2-norm regularization on P = 0.01\n",
    "#coefficient of L2-norm regularization on Q = 0.03\n",
    "!/home/miuser/proyecto-final-equipo5-mno-2020-1/Implementation/libmf/mf-train -l1 0.015,0 -l2 0.01,0.005 real_matrix.tr.txt model"
   ]
  },
  {
   "cell_type": "code",
   "execution_count": 45,
   "metadata": {},
   "outputs": [
    {
     "name": "stdout",
     "output_type": "stream",
     "text": [
      "iter      tr_rmse          obj\n",
      "   0       1.8967   1.8463e+04\n",
      "   1       1.0987   6.5169e+03\n",
      "   2       0.8494   4.0957e+03\n",
      "   3       0.7914   3.6210e+03\n",
      "   4       0.7631   3.4026e+03\n",
      "   5       0.7361   3.2037e+03\n",
      "   6       0.7214   3.0978e+03\n",
      "   7       0.7049   2.9815e+03\n",
      "   8       0.6921   2.8924e+03\n",
      "   9       0.6783   2.8025e+03\n",
      "  10       0.6656   2.7170e+03\n",
      "  11       0.6520   2.6305e+03\n",
      "  12       0.6386   2.5459e+03\n",
      "  13       0.6249   2.4610e+03\n",
      "  14       0.6111   2.3787e+03\n",
      "  15       0.5976   2.2987e+03\n",
      "  16       0.5844   2.2234e+03\n",
      "  17       0.5708   2.1472e+03\n",
      "  18       0.5576   2.0749e+03\n",
      "  19       0.5449   2.0069e+03\n"
     ]
    }
   ],
   "source": [
    "#train a model with the following regularization coefficients:\n",
    "#coefficient of L1-norm regularization on P = 0.05\n",
    "#coefficient of L1-norm regularization on Q = 0\n",
    "#coefficient of L2-norm regularization on P = 0.01\n",
    "#coefficient of L2-norm regularization on Q = 0.03\n",
    "!/home/miuser/proyecto-final-equipo5-mno-2020-1/Implementation/libmf/mf-train -l1 0.015,0 -l2 0.01,0.005 real_matrix.tr.txt model"
   ]
  },
  {
   "cell_type": "code",
   "execution_count": 46,
   "metadata": {},
   "outputs": [
    {
     "name": "stdout",
     "output_type": "stream",
     "text": [
      "iter   tr_logloss          obj\n",
      "   0       0.6994   4.1037e+03\n",
      "   1       0.6949   4.0124e+03\n",
      "   2       0.6915   3.9377e+03\n",
      "   3       0.6892   3.8798e+03\n",
      "   4       0.6872   3.8309e+03\n",
      "   5       0.6859   3.7930e+03\n",
      "   6       0.6848   3.7615e+03\n",
      "   7       0.6840   3.7348e+03\n",
      "   8       0.6833   3.7122e+03\n",
      "   9       0.6828   3.6929e+03\n",
      "  10       0.6824   3.6763e+03\n",
      "  11       0.6821   3.6622e+03\n",
      "  12       0.6817   3.6488e+03\n",
      "  13       0.6815   3.6376e+03\n",
      "  14       0.6813   3.6277e+03\n",
      "  15       0.6811   3.6188e+03\n",
      "  16       0.6810   3.6108e+03\n",
      "  17       0.6808   3.6032e+03\n",
      "  18       0.6807   3.5965e+03\n",
      "  19       0.6806   3.5904e+03\n",
      "  20       0.6805   3.5848e+03\n",
      "  21       0.6804   3.5796e+03\n",
      "  22       0.6804   3.5747e+03\n",
      "  23       0.6803   3.5704e+03\n",
      "  24       0.6803   3.5661e+03\n",
      "  25       0.6802   3.5623e+03\n",
      "  26       0.6802   3.5588e+03\n",
      "  27       0.6802   3.5554e+03\n",
      "  28       0.6801   3.5523e+03\n",
      "  29       0.6801   3.5492e+03\n"
     ]
    }
   ],
   "source": [
    "#train a BMF model using logarithmic loss and the following parameters:\n",
    "#coefficient of L1-norm regularization on P = 0\n",
    "#coefficient of L1-norm regularization on Q = 0.01\n",
    "#latent factors = 100\n",
    "#iterations = 30\n",
    "#learning rate = 0.02\n",
    "#threads = 4\n",
    "!/home/miuser/proyecto-final-equipo5-mno-2020-1/Implementation/libmf/mf-train -f 5 -l1 0,0.02 -k 100 -t 30 -r 0.02 -s 4 binary_matrix.tr.txt model"
   ]
  },
  {
   "cell_type": "code",
   "execution_count": 47,
   "metadata": {},
   "outputs": [
    {
     "name": "stdout",
     "output_type": "stream",
     "text": [
      "iter      tr_rmse      va_rmse          obj\n",
      "   0       1.9774       1.1544   2.2897e+04\n",
      "   1       1.1294       1.0517   9.6420e+03\n",
      "   2       0.8681       1.0276   6.9599e+03\n",
      "   3       0.8163       1.0200   6.5054e+03\n",
      "   4       0.7831       1.0086   6.1943e+03\n",
      "   5       0.7677       1.0095   6.0253e+03\n",
      "   6       0.7518       1.0060   5.8868e+03\n",
      "   7       0.7396       1.0049   5.7795e+03\n",
      "   8       0.7325       1.0040   5.6994e+03\n",
      "   9       0.7244       1.0043   5.6249e+03\n",
      "  10       0.7183       1.0045   5.5695e+03\n",
      "  11       0.7118       1.0056   5.5211e+03\n",
      "  12       0.7065       1.0049   5.4715e+03\n",
      "  13       0.7010       1.0060   5.4176e+03\n",
      "  14       0.6957       1.0037   5.3651e+03\n",
      "  15       0.6920       1.0058   5.3352e+03\n",
      "  16       0.6873       1.0065   5.3111e+03\n",
      "  17       0.6814       1.0089   5.2599e+03\n",
      "  18       0.6777       1.0093   5.2244e+03\n",
      "  19       0.6743       1.0072   5.2122e+03\n"
     ]
    }
   ],
   "source": [
    "#use real_matrix.te.txt for hold-out validation\n",
    "!/home/miuser/proyecto-final-equipo5-mno-2020-1/Implementation/libmf/mf-train -p real_matrix.te.txt real_matrix.tr.txt model"
   ]
  },
  {
   "cell_type": "code",
   "execution_count": 48,
   "metadata": {},
   "outputs": [
    {
     "name": "stdout",
     "output_type": "stream",
     "text": [
      "fold      rmse\n",
      "   0    1.4021\n",
      "   1    1.4231\n",
      "   2    1.5066\n",
      "   3    1.5455\n",
      "   4    1.5097\n",
      "==============\n",
      " avg    1.4774\n"
     ]
    }
   ],
   "source": [
    "#do five fold cross validation\n",
    "!/home/miuser/proyecto-final-equipo5-mno-2020-1/Implementation/libmf/mf-train -v 5 real_matrix.tr.txt"
   ]
  },
  {
   "cell_type": "code",
   "execution_count": 49,
   "metadata": {},
   "outputs": [
    {
     "name": "stdout",
     "output_type": "stream",
     "text": [
      "iter       tr_gkl          obj\n",
      "   0       0.9952   8.0187e+03\n",
      "   1       0.2734   4.1972e+03\n",
      "   2       0.1777   3.6801e+03\n",
      "   3       0.1569   3.5439e+03\n",
      "   4       0.1455   3.4395e+03\n",
      "   5       0.1372   3.3901e+03\n",
      "   6       0.1319   3.3433e+03\n",
      "   7       0.1273   3.2944e+03\n",
      "   8       0.1238   3.2557e+03\n",
      "   9       0.1213   3.2456e+03\n",
      "  10       0.1182   3.2196e+03\n",
      "  11       0.1165   3.1980e+03\n",
      "  12       0.1141   3.1746e+03\n",
      "  13       0.1135   3.1746e+03\n",
      "  14       0.1107   3.1355e+03\n",
      "  15       0.1111   3.1538e+03\n",
      "  16       0.1088   3.1253e+03\n",
      "  17       0.1085   3.1339e+03\n",
      "  18       0.1070   3.1178e+03\n",
      "  19       0.1060   3.1052e+03\n"
     ]
    }
   ],
   "source": [
    "#do non-negative matrix factorization with generalized KL-divergence\n",
    "!/home/miuser/proyecto-final-equipo5-mno-2020-1/Implementation/libmf/mf-train -f 2 --nmf real_matrix.tr.txt"
   ]
  },
  {
   "cell_type": "code",
   "execution_count": 50,
   "metadata": {},
   "outputs": [],
   "source": [
    "#do not print message to screen\n",
    "!/home/miuser/proyecto-final-equipo5-mno-2020-1/Implementation/libmf/mf-train --quiet real_matrix.tr.txt"
   ]
  },
  {
   "cell_type": "code",
   "execution_count": 51,
   "metadata": {},
   "outputs": [
    {
     "name": "stdout",
     "output_type": "stream",
     "text": [
      "iter      tr_rmse          obj\n",
      "   0       1.7131   1.8232e+04\n",
      "   1       1.1925   1.0366e+04\n",
      "   2       0.8651   6.9268e+03\n",
      "   3       0.8060   6.3841e+03\n",
      "   4       0.7787   6.1476e+03\n",
      "   5       0.7582   5.9554e+03\n",
      "   6       0.7406   5.8034e+03\n",
      "   7       0.7288   5.6923e+03\n",
      "   8       0.7217   5.6269e+03\n",
      "   9       0.7134   5.5558e+03\n",
      "  10       0.7113   5.5109e+03\n",
      "  11       0.7045   5.4513e+03\n",
      "  12       0.7005   5.4372e+03\n",
      "  13       0.6918   5.3614e+03\n",
      "  14       0.6865   5.3223e+03\n",
      "  15       0.6814   5.2615e+03\n",
      "  16       0.6808   5.2644e+03\n",
      "  17       0.6777   5.2280e+03\n",
      "  18       0.6699   5.1742e+03\n",
      "  19       0.6664   5.1561e+03\n"
     ]
    }
   ],
   "source": [
    "#do disk-level training\n",
    "!/home/miuser/proyecto-final-equipo5-mno-2020-1/Implementation/libmf/mf-train --disk real_matrix.tr.txt"
   ]
  },
  {
   "cell_type": "code",
   "execution_count": 52,
   "metadata": {},
   "outputs": [
    {
     "name": "stdout",
     "output_type": "stream",
     "text": [
      "RMSE = 1.0072\n"
     ]
    }
   ],
   "source": [
    "#do prediction\n",
    "!/home/miuser/proyecto-final-equipo5-mno-2020-1/Implementation/libmf/mf-predict real_matrix.te.txt model output"
   ]
  },
  {
   "cell_type": "code",
   "execution_count": 53,
   "metadata": {},
   "outputs": [
    {
     "name": "stdout",
     "output_type": "stream",
     "text": [
      "MAE = 0.7846\n"
     ]
    }
   ],
   "source": [
    "#do prediction and output MAE\n",
    "!/home/miuser/proyecto-final-equipo5-mno-2020-1/Implementation/libmf/mf-predict -e 1 real_matrix.te.txt model output"
   ]
  },
  {
   "cell_type": "markdown",
   "metadata": {},
   "source": [
    "# Obtención de muestra base netflix"
   ]
  },
  {
   "cell_type": "code",
   "execution_count": 54,
   "metadata": {},
   "outputs": [
    {
     "name": "stdout",
     "output_type": "stream",
     "text": [
      "/home/miuser/proyecto-final-equipo5-mno-2020-1/Sampling_Design/Reference_Files\n"
     ]
    },
    {
     "data": {
      "text/html": [
       "<div>\n",
       "<style scoped>\n",
       "    .dataframe tbody tr th:only-of-type {\n",
       "        vertical-align: middle;\n",
       "    }\n",
       "\n",
       "    .dataframe tbody tr th {\n",
       "        vertical-align: top;\n",
       "    }\n",
       "\n",
       "    .dataframe thead th {\n",
       "        text-align: right;\n",
       "    }\n",
       "</style>\n",
       "<table border=\"1\" class=\"dataframe\">\n",
       "  <thead>\n",
       "    <tr style=\"text-align: right;\">\n",
       "      <th></th>\n",
       "      <th>peli_id</th>\n",
       "      <th>año</th>\n",
       "      <th>nombre</th>\n",
       "    </tr>\n",
       "  </thead>\n",
       "  <tbody>\n",
       "    <tr>\n",
       "      <th>0</th>\n",
       "      <td>1</td>\n",
       "      <td>2003.0</td>\n",
       "      <td>Dinosaur Planet</td>\n",
       "    </tr>\n",
       "    <tr>\n",
       "      <th>1</th>\n",
       "      <td>2</td>\n",
       "      <td>2004.0</td>\n",
       "      <td>Isle of Man TT 2004 Review</td>\n",
       "    </tr>\n",
       "    <tr>\n",
       "      <th>2</th>\n",
       "      <td>3</td>\n",
       "      <td>1997.0</td>\n",
       "      <td>Character</td>\n",
       "    </tr>\n",
       "    <tr>\n",
       "      <th>3</th>\n",
       "      <td>4</td>\n",
       "      <td>1994.0</td>\n",
       "      <td>Paula Abdul's Get Up &amp; Dance</td>\n",
       "    </tr>\n",
       "    <tr>\n",
       "      <th>4</th>\n",
       "      <td>5</td>\n",
       "      <td>2004.0</td>\n",
       "      <td>The Rise and Fall of ECW</td>\n",
       "    </tr>\n",
       "    <tr>\n",
       "      <th>5</th>\n",
       "      <td>6</td>\n",
       "      <td>1997.0</td>\n",
       "      <td>Sick</td>\n",
       "    </tr>\n",
       "    <tr>\n",
       "      <th>6</th>\n",
       "      <td>7</td>\n",
       "      <td>1992.0</td>\n",
       "      <td>8 Man</td>\n",
       "    </tr>\n",
       "    <tr>\n",
       "      <th>7</th>\n",
       "      <td>8</td>\n",
       "      <td>2004.0</td>\n",
       "      <td>What the #$*! Do We Know!?</td>\n",
       "    </tr>\n",
       "    <tr>\n",
       "      <th>8</th>\n",
       "      <td>9</td>\n",
       "      <td>1991.0</td>\n",
       "      <td>Class of Nuke 'Em High 2</td>\n",
       "    </tr>\n",
       "    <tr>\n",
       "      <th>9</th>\n",
       "      <td>10</td>\n",
       "      <td>2001.0</td>\n",
       "      <td>Fighter</td>\n",
       "    </tr>\n",
       "  </tbody>\n",
       "</table>\n",
       "</div>"
      ],
      "text/plain": [
       "   peli_id     año                        nombre\n",
       "0        1  2003.0               Dinosaur Planet\n",
       "1        2  2004.0    Isle of Man TT 2004 Review\n",
       "2        3  1997.0                     Character\n",
       "3        4  1994.0  Paula Abdul's Get Up & Dance\n",
       "4        5  2004.0      The Rise and Fall of ECW\n",
       "5        6  1997.0                          Sick\n",
       "6        7  1992.0                         8 Man\n",
       "7        8  2004.0    What the #$*! Do We Know!?\n",
       "8        9  1991.0      Class of Nuke 'Em High 2\n",
       "9       10  2001.0                       Fighter"
      ]
     },
     "execution_count": 54,
     "metadata": {},
     "output_type": "execute_result"
    }
   ],
   "source": [
    "#ASEGURESE DE PONER LA UBICACIÓN CORRECTA DE LA UBICACIÓN DE LA CARPETA DE LAS BASES\n",
    "#movies_titles_fix.csv y dat_muestra_nflix.csv\n",
    "\n",
    "################################################################################################################\n",
    "################## LA ÚNICA BASE DE FELIPE QUE ENCONTRÉ EN EL REPO ESTÁ AQUÍ ###################################\n",
    "####### ESTA FUE LA ÚNICA PARTE DE LA OBTENCIÓN DE MUESTRA BASE NETFLIX QUE VOLVÍ A CORRER #####################\n",
    "################################################################################################################\n",
    "%cd /home/miuser/proyecto-final-equipo5-mno-2020-1/Sampling_Design/Reference_Files/\n",
    "#Se guarda una variable con una muestra de las base de netflix (\"movies_title_fix.csv\")\n",
    "#A continuación se presentan las características de las películas, con el objeto\n",
    "#de conocer un poco más los datos utilizados (pero esta no será la base usada para el modelo)\n",
    "pelis_nombres=pd.read_csv('movies_title_fix.csv',names=[\"peli_id\", \"año\", \"nombre\"])\n",
    "pelis_nombres.head(10) #para ver cómo se encuentran los datos"
   ]
  },
  {
   "cell_type": "code",
   "execution_count": 50,
   "metadata": {},
   "outputs": [
    {
     "data": {
      "text/plain": [
       "(20968941, 3)"
      ]
     },
     "execution_count": 50,
     "metadata": {},
     "output_type": "execute_result"
    }
   ],
   "source": [
    "#La base tiene peli_id, usuario_id_orig, calif, fecha y usuario_id. Se trabajará solo\n",
    "#con las columnas de usuario, pelicula y calificación\n",
    "\n",
    "################################################################################################################\n",
    "################## A PARTIR DE AQUÍ SE REQUIERE LA BASE DE FELIPE dat_muestra_nflix.csv ########################\n",
    "#################################### PERO NO LA UBICQUÉ EN EL REPO #############################################\n",
    "################################################################################################################\n",
    "%cd /home/miuser/proyecto-final-equipo5-mno-2020-1/Sampling_Design/\n",
    "df_muestra_netflix=pd.read_csv('dat_muestra_nflix.csv')\n",
    "df_muestra_netflix_libmf=df_muestra_netflix[['usuario_id', 'peli_id', 'calif']]\n",
    "df_muestra_netflix_libmf.shape"
   ]
  },
  {
   "cell_type": "code",
   "execution_count": 51,
   "metadata": {},
   "outputs": [],
   "source": [
    "#Se genera una base de validación que contendrá el 20% de los datos\n",
    "#y una base de entrenamiento que tendrá el restante 80%\n",
    "random.seed(28882)\n",
    "data_valida, data_entrena=muestra_val_ent(df_muestra_netflix_libmf,0.2)\n",
    "\n",
    "################################################################################################################\n",
    "#################### ESTO GUARDA LAS BASES QUE USA ESTE NOTEBOOK EN LA CARPETA DONDE ########################\n",
    "################################# ESTA GUARDADO ESTE NOTEBOOK ###############################################\n",
    "################################################################################################################\n",
    "#puedes guardar las bases como un .csv dentro del directorio donde está este notebook\n",
    "data_valida.to_csv(r'data_valida.csv', index = False)    \n",
    "data_entrena.to_csv(r'data_entrena.csv', index = False)    \n",
    "\n",
    "#Base de todos los usuarios\n",
    "usuarios=pd.DataFrame(df_muestra_netflix_libmf['usuario_id'].unique(), columns=['usuario_id'])\n",
    "#Muestreo de usuarios\n",
    "valida_usuarios=usuarios.sample(frac=0.2)  \n",
    "\n",
    "#Base de todas las películas\n",
    "peliculas=pd.DataFrame(df_muestra_netflix_libmf['peli_id'].unique(), columns=['peli_id'])\n",
    "#Muestreo de películas\n",
    "valida_pelis=peliculas.sample(frac=0.2)"
   ]
  },
  {
   "cell_type": "code",
   "execution_count": 52,
   "metadata": {},
   "outputs": [],
   "source": [
    "#df_valida tiene las columnas usuario_id, peli_id y calif, pero\n",
    "#sólo incluye los usuarios muestreados en valida_usuarios\n",
    "df_valida=pd.merge(df_muestra_netflix_libmf,valida_usuarios, on ='usuario_id', how='inner')\n",
    "#data_valida filtra de la base df_valida los pelis_id muestreas\n",
    "#en valida_pelis\n",
    "data_valida=pd.merge(df_valida,valida_pelis, on ='peli_id', how='inner')\n",
    "#guardamos data_valida como un .csv dentro del directorio donde está este notebook\n",
    "data_valida.to_csv(r'muestra_valida.csv', index = False)\n",
    "left= pd.merge(df_muestra_netflix_libmf, data_valida, how='left',on=['usuario_id', 'peli_id'])\n",
    "data_entrena=left[left.isnull().any(axis=1)][['usuario_id', 'peli_id','calif_x']]"
   ]
  },
  {
   "cell_type": "code",
   "execution_count": 53,
   "metadata": {},
   "outputs": [
    {
     "data": {
      "text/html": [
       "<div>\n",
       "<style scoped>\n",
       "    .dataframe tbody tr th:only-of-type {\n",
       "        vertical-align: middle;\n",
       "    }\n",
       "\n",
       "    .dataframe tbody tr th {\n",
       "        vertical-align: top;\n",
       "    }\n",
       "\n",
       "    .dataframe thead th {\n",
       "        text-align: right;\n",
       "    }\n",
       "</style>\n",
       "<table border=\"1\" class=\"dataframe\">\n",
       "  <thead>\n",
       "    <tr style=\"text-align: right;\">\n",
       "      <th></th>\n",
       "      <th>usuario_id</th>\n",
       "      <th>peli_id</th>\n",
       "      <th>calif</th>\n",
       "    </tr>\n",
       "  </thead>\n",
       "  <tbody>\n",
       "    <tr>\n",
       "      <th>0</th>\n",
       "      <td>4</td>\n",
       "      <td>128</td>\n",
       "      <td>4</td>\n",
       "    </tr>\n",
       "    <tr>\n",
       "      <th>1</th>\n",
       "      <td>89</td>\n",
       "      <td>128</td>\n",
       "      <td>5</td>\n",
       "    </tr>\n",
       "    <tr>\n",
       "      <th>2</th>\n",
       "      <td>125</td>\n",
       "      <td>128</td>\n",
       "      <td>2</td>\n",
       "    </tr>\n",
       "    <tr>\n",
       "      <th>3</th>\n",
       "      <td>452</td>\n",
       "      <td>128</td>\n",
       "      <td>1</td>\n",
       "    </tr>\n",
       "    <tr>\n",
       "      <th>4</th>\n",
       "      <td>642</td>\n",
       "      <td>128</td>\n",
       "      <td>2</td>\n",
       "    </tr>\n",
       "  </tbody>\n",
       "</table>\n",
       "</div>"
      ],
      "text/plain": [
       "   usuario_id  peli_id  calif\n",
       "0           4      128      4\n",
       "1          89      128      5\n",
       "2         125      128      2\n",
       "3         452      128      1\n",
       "4         642      128      2"
      ]
     },
     "metadata": {},
     "output_type": "display_data"
    },
    {
     "data": {
      "text/plain": [
       "(877113, 3)"
      ]
     },
     "execution_count": 53,
     "metadata": {},
     "output_type": "execute_result"
    }
   ],
   "source": [
    "display(data_valida.head(5))\n",
    "data_valida.shape"
   ]
  },
  {
   "cell_type": "code",
   "execution_count": 54,
   "metadata": {},
   "outputs": [
    {
     "data": {
      "text/html": [
       "<div>\n",
       "<style scoped>\n",
       "    .dataframe tbody tr th:only-of-type {\n",
       "        vertical-align: middle;\n",
       "    }\n",
       "\n",
       "    .dataframe tbody tr th {\n",
       "        vertical-align: top;\n",
       "    }\n",
       "\n",
       "    .dataframe thead th {\n",
       "        text-align: right;\n",
       "    }\n",
       "</style>\n",
       "<table border=\"1\" class=\"dataframe\">\n",
       "  <thead>\n",
       "    <tr style=\"text-align: right;\">\n",
       "      <th></th>\n",
       "      <th>usuario_id</th>\n",
       "      <th>peli_id</th>\n",
       "      <th>calif_x</th>\n",
       "    </tr>\n",
       "  </thead>\n",
       "  <tbody>\n",
       "    <tr>\n",
       "      <th>0</th>\n",
       "      <td>1</td>\n",
       "      <td>1</td>\n",
       "      <td>3</td>\n",
       "    </tr>\n",
       "    <tr>\n",
       "      <th>1</th>\n",
       "      <td>2</td>\n",
       "      <td>1</td>\n",
       "      <td>3</td>\n",
       "    </tr>\n",
       "    <tr>\n",
       "      <th>2</th>\n",
       "      <td>3</td>\n",
       "      <td>1</td>\n",
       "      <td>4</td>\n",
       "    </tr>\n",
       "    <tr>\n",
       "      <th>3</th>\n",
       "      <td>4</td>\n",
       "      <td>1</td>\n",
       "      <td>4</td>\n",
       "    </tr>\n",
       "    <tr>\n",
       "      <th>4</th>\n",
       "      <td>5</td>\n",
       "      <td>1</td>\n",
       "      <td>4</td>\n",
       "    </tr>\n",
       "  </tbody>\n",
       "</table>\n",
       "</div>"
      ],
      "text/plain": [
       "   usuario_id  peli_id  calif_x\n",
       "0           1        1        3\n",
       "1           2        1        3\n",
       "2           3        1        4\n",
       "3           4        1        4\n",
       "4           5        1        4"
      ]
     },
     "metadata": {},
     "output_type": "display_data"
    },
    {
     "data": {
      "text/plain": [
       "(20091828, 3)"
      ]
     },
     "execution_count": 54,
     "metadata": {},
     "output_type": "execute_result"
    }
   ],
   "source": [
    "display(data_entrena.head(5))\n",
    "data_entrena.shape"
   ]
  },
  {
   "cell_type": "code",
   "execution_count": 55,
   "metadata": {},
   "outputs": [
    {
     "name": "stdout",
     "output_type": "stream",
     "text": [
      "/home/miuser/libmf/demo\n"
     ]
    }
   ],
   "source": [
    "#podemos cambiar el directorio para que se guarde la base\n",
    "#dentro del directorio donde están las funciones de libmf\n",
    "#se guarda con la extensión .tr.txt porque es la extensión\n",
    "#que requiere la paquetería de libmf\n",
    "\n",
    "################################################################################################################\n",
    "################# CON ESTE CÓDIGO GUARDA LAS BASES CREADAS DE data_valida.te.txt Y #############################\n",
    "################### data_entrena.tr.txt REQUERIDAS PARA CORRER UN MODELO EN LIBMF ##############################\n",
    "############ PERO IGUAL ESTO QUEDA DESECHADO SI SÓLO SE VA A OCUPAR LA LIBRERÍA LIBMF-PYTHON ###################\n",
    "################################################################################################################\n",
    "%cd /home/miuser/libmf/demo\n",
    "np.savetxt('data_valida.te.txt', data_valida.to_numpy(), delimiter=' ', fmt=\"%.0f\")\n",
    "np.savetxt('data_entrena.tr.txt', data_entrena.to_numpy(), delimiter=' ', fmt=\"%.0f\")"
   ]
  },
  {
   "cell_type": "code",
   "execution_count": 56,
   "metadata": {},
   "outputs": [
    {
     "name": "stdout",
     "output_type": "stream",
     "text": [
      "La suma de elementos de data_valida + data_entrena: 20968941\n",
      "El total de elementos de df_muestra_netflix_libmf es: 20968941\n"
     ]
    }
   ],
   "source": [
    "#La base de df_muestra_valida_libmf ha quedado dividida por\n",
    "#dos dataframes exluyenntes: data_valida y data_entrena\n",
    "print(\"La suma de elementos de data_valida + data_entrena:\",data_valida.shape[0] + data_entrena.shape[0])\n",
    "print(\"El total de elementos de df_muestra_netflix_libmf es:\",df_muestra_netflix_libmf.shape[0])"
   ]
  },
  {
   "cell_type": "code",
   "execution_count": 57,
   "metadata": {},
   "outputs": [
    {
     "data": {
      "text/html": [
       "<div>\n",
       "<style scoped>\n",
       "    .dataframe tbody tr th:only-of-type {\n",
       "        vertical-align: middle;\n",
       "    }\n",
       "\n",
       "    .dataframe tbody tr th {\n",
       "        vertical-align: top;\n",
       "    }\n",
       "\n",
       "    .dataframe thead th {\n",
       "        text-align: right;\n",
       "    }\n",
       "</style>\n",
       "<table border=\"1\" class=\"dataframe\">\n",
       "  <thead>\n",
       "    <tr style=\"text-align: right;\">\n",
       "      <th></th>\n",
       "      <th>row</th>\n",
       "      <th>col</th>\n",
       "      <th>mean_score_by_row</th>\n",
       "      <th>mean_score_by_col</th>\n",
       "      <th>total_score_mean</th>\n",
       "    </tr>\n",
       "    <tr>\n",
       "      <th>row</th>\n",
       "      <th></th>\n",
       "      <th></th>\n",
       "      <th></th>\n",
       "      <th></th>\n",
       "      <th></th>\n",
       "    </tr>\n",
       "  </thead>\n",
       "  <tbody>\n",
       "    <tr>\n",
       "      <th>4</th>\n",
       "      <td>4</td>\n",
       "      <td>128</td>\n",
       "      <td>4.207792</td>\n",
       "      <td>2.954545</td>\n",
       "      <td>3.609339</td>\n",
       "    </tr>\n",
       "    <tr>\n",
       "      <th>4</th>\n",
       "      <td>4</td>\n",
       "      <td>187</td>\n",
       "      <td>4.207792</td>\n",
       "      <td>3.078089</td>\n",
       "      <td>3.609339</td>\n",
       "    </tr>\n",
       "    <tr>\n",
       "      <th>4</th>\n",
       "      <td>4</td>\n",
       "      <td>571</td>\n",
       "      <td>4.207792</td>\n",
       "      <td>3.953481</td>\n",
       "      <td>3.609339</td>\n",
       "    </tr>\n",
       "    <tr>\n",
       "      <th>4</th>\n",
       "      <td>4</td>\n",
       "      <td>586</td>\n",
       "      <td>4.207792</td>\n",
       "      <td>3.247706</td>\n",
       "      <td>3.609339</td>\n",
       "    </tr>\n",
       "    <tr>\n",
       "      <th>4</th>\n",
       "      <td>4</td>\n",
       "      <td>708</td>\n",
       "      <td>4.207792</td>\n",
       "      <td>3.371808</td>\n",
       "      <td>3.609339</td>\n",
       "    </tr>\n",
       "    <tr>\n",
       "      <th>...</th>\n",
       "      <td>...</td>\n",
       "      <td>...</td>\n",
       "      <td>...</td>\n",
       "      <td>...</td>\n",
       "      <td>...</td>\n",
       "    </tr>\n",
       "    <tr>\n",
       "      <th>99912</th>\n",
       "      <td>99912</td>\n",
       "      <td>17307</td>\n",
       "      <td>5.000000</td>\n",
       "      <td>4.521127</td>\n",
       "      <td>3.609339</td>\n",
       "    </tr>\n",
       "    <tr>\n",
       "      <th>99928</th>\n",
       "      <td>99928</td>\n",
       "      <td>16169</td>\n",
       "      <td>2.000000</td>\n",
       "      <td>3.131050</td>\n",
       "      <td>3.609339</td>\n",
       "    </tr>\n",
       "    <tr>\n",
       "      <th>99937</th>\n",
       "      <td>99937</td>\n",
       "      <td>17293</td>\n",
       "      <td>3.000000</td>\n",
       "      <td>2.980172</td>\n",
       "      <td>3.609339</td>\n",
       "    </tr>\n",
       "    <tr>\n",
       "      <th>99957</th>\n",
       "      <td>99957</td>\n",
       "      <td>16982</td>\n",
       "      <td>4.000000</td>\n",
       "      <td>3.658824</td>\n",
       "      <td>3.609339</td>\n",
       "    </tr>\n",
       "    <tr>\n",
       "      <th>99963</th>\n",
       "      <td>99963</td>\n",
       "      <td>17147</td>\n",
       "      <td>4.000000</td>\n",
       "      <td>3.312950</td>\n",
       "      <td>3.609339</td>\n",
       "    </tr>\n",
       "  </tbody>\n",
       "</table>\n",
       "<p>877113 rows × 5 columns</p>\n",
       "</div>"
      ],
      "text/plain": [
       "         row    col  mean_score_by_row  mean_score_by_col  total_score_mean\n",
       "row                                                                        \n",
       "4          4    128           4.207792           2.954545          3.609339\n",
       "4          4    187           4.207792           3.078089          3.609339\n",
       "4          4    571           4.207792           3.953481          3.609339\n",
       "4          4    586           4.207792           3.247706          3.609339\n",
       "4          4    708           4.207792           3.371808          3.609339\n",
       "...      ...    ...                ...                ...               ...\n",
       "99912  99912  17307           5.000000           4.521127          3.609339\n",
       "99928  99928  16169           2.000000           3.131050          3.609339\n",
       "99937  99937  17293           3.000000           2.980172          3.609339\n",
       "99957  99957  16982           4.000000           3.658824          3.609339\n",
       "99963  99963  17147           4.000000           3.312950          3.609339\n",
       "\n",
       "[877113 rows x 5 columns]"
      ]
     },
     "execution_count": 57,
     "metadata": {},
     "output_type": "execute_result"
    }
   ],
   "source": [
    "modelo_base_ref(data_valida.to_numpy())"
   ]
  },
  {
   "cell_type": "markdown",
   "metadata": {},
   "source": [
    "# Implementación modelo"
   ]
  },
  {
   "cell_type": "code",
   "execution_count": null,
   "metadata": {},
   "outputs": [],
   "source": [
    "# EMPEZAR A CONTRUIR UN MODELO \"PEQUEÑO\", QUE LUEGO SEA ESCALABLE A LA BASE GRANDE EN LA INSTANCIA\n",
    "# PUEDE HACERSE EN OTRO ARCHIVO, YA INCLUSO CON LAS FUNCIONES AQUÍ EXPUESTAS EN UN .PY (LAS QUE SE USEN)"
   ]
  },
  {
   "cell_type": "code",
   "execution_count": null,
   "metadata": {},
   "outputs": [],
   "source": [
    "################################################################################################################\n",
    "###################### ESTO CORRE UN MODELO SIMPLE CON LIBMF A PARTIR DE LA BASE ###############################\n",
    "############################### CREADAS ARRIBA, PERO ESTO YA NO SE CORRIÓ ######################################\n",
    "################################################################################################################\n",
    "\n",
    "#Pruebese los diferentes modelos ejemplo con data_entrena y data_valida\n",
    "#En general estos algoritmos corren muy rápido\n",
    "!/home/miuser/libmf/mf-train data_entrena.tr.txt model"
   ]
  }
 ],
 "metadata": {
  "kernelspec": {
   "display_name": "Python 3",
   "language": "python",
   "name": "python3"
  },
  "language_info": {
   "codemirror_mode": {
    "name": "ipython",
    "version": 3
   },
   "file_extension": ".py",
   "mimetype": "text/x-python",
   "name": "python",
   "nbconvert_exporter": "python",
   "pygments_lexer": "ipython3",
   "version": "3.6.9"
  }
 },
 "nbformat": 4,
 "nbformat_minor": 4
}
