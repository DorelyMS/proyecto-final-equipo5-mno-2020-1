{
 "cells": [
  {
   "cell_type": "markdown",
   "metadata": {},
   "source": [
    "# Objetivo de este notebook\n",
    "\n",
    "#En este notebook se desarrollará todo el código necesario para establecer un modelo de recomendación de películas a partir la muestra de películas de Netflix conforme a las notas de referencia base:"
   ]
  },
  {
   "cell_type": "markdown",
   "metadata": {},
   "source": [
    "https://heuristic-bhabha-ae33da.netlify.app/sistemas-de-recomendaci%C3%B3n-y-filtrado-colaborativo.html#ejemplo-datos-de-netflix"
   ]
  },
  {
   "cell_type": "code",
   "execution_count": 2,
   "metadata": {},
   "outputs": [],
   "source": [
    "# Requisitos\n",
    "\n",
    "#Para correr las funciones de la librería libmf de python de este notebook, \n",
    "#debes clonar el repo de https://github.com/PorkShoulderHolder/python-libmf.git\n",
    "#subir este notebook dentro de la carpeta /libmf/tests/\n",
    "\n",
    "#El clonar estos archivos es necesario porque contienen funciones programadas o\n",
    "#ejemplos construidos para exhibir el uso de estos paquetes\n",
    "\n",
    "#Existen bases que requieres tener la carpeta donde corras el código\n",
    "#a saber: movies_title_fix.csv dat_muestra_nflix.csv\n",
    "\n",
    "#si queres correr este notebook a través de docker con la imagen de\n",
    "#jupyer numerical, debes instalar los paquetes libmf y colorama,\n",
    "#ejecutando los comandos de abajo, reiniciando el kernel (luego\n",
    "#puedes comentar con \"#\" los \"pip install\" para que no se vuelvan a ejecutar)"
   ]
  },
  {
   "cell_type": "code",
   "execution_count": 3,
   "metadata": {},
   "outputs": [],
   "source": [
    "#pip install libmf"
   ]
  },
  {
   "cell_type": "code",
   "execution_count": 7,
   "metadata": {},
   "outputs": [
    {
     "name": "stdout",
     "output_type": "stream",
     "text": [
      "Defaulting to user installation because normal site-packages is not writeable\n",
      "Collecting colorama\n",
      "  Downloading colorama-0.4.3-py2.py3-none-any.whl (15 kB)\n",
      "Installing collected packages: colorama\n",
      "Successfully installed colorama-0.4.3\n",
      "\u001b[33mWARNING: You are using pip version 20.0.2; however, version 20.1.1 is available.\n",
      "You should consider upgrading via the '/usr/bin/python3 -m pip install --upgrade pip' command.\u001b[0m\n",
      "Note: you may need to restart the kernel to use updated packages.\n"
     ]
    }
   ],
   "source": [
    "#pip install colorama"
   ]
  },
  {
   "cell_type": "code",
   "execution_count": 28,
   "metadata": {},
   "outputs": [],
   "source": [
    "import sys\n",
    "import numpy as np\n",
    "import types\n",
    "import scipy\n",
    "from scipy.sparse import random\n",
    "from scipy import stats\n",
    "import pandas as pd\n",
    "import copy\n",
    "import random\n",
    "from functools import partial\n",
    "from colorama import init\n",
    "\n",
    "import libmf\n",
    "from libmf import mf"
   ]
  },
  {
   "cell_type": "markdown",
   "metadata": {},
   "source": [
    "# Funciones auxiliares\n",
    "Para explicar y ejemplificar el uso de libmf"
   ]
  },
  {
   "cell_type": "code",
   "execution_count": 29,
   "metadata": {},
   "outputs": [],
   "source": [
    "#Función auziliar para generar matrices ralas (sólo se usa para un ejemplo)\n",
    "def perform(fun, *args):\n",
    "    \"\"\"\n",
    "    Evalúa una función con los argumentos indicados\n",
    "    \n",
    "    params: fun         Una función\n",
    "            *args       Parámetros que utiliza la función \"fun\"\n",
    "                        (se pueden meter cuantos parámetros tenga \n",
    "                        dicha funcion)\n",
    "    return: fun(*args)  Valor de fun con parámetros *args\n",
    "    \"\"\"\n",
    "    return fun(*args)"
   ]
  },
  {
   "cell_type": "code",
   "execution_count": 30,
   "metadata": {},
   "outputs": [],
   "source": [
    "#Función auziliar para generar matrices ralas (sólo se usa para un ejemplo)\n",
    "def nan_or_value(x, f, *args):\n",
    "    \"\"\"\n",
    "    Devuelve el valor de una función evaluada con sus parámetros\n",
    "    *args acorde a la variable indicadora x\n",
    "    \n",
    "    params: x         boolean, si es 1 tómese valor de la función\n",
    "                      si no será nan o 0 según especifique nan_zero\n",
    "            fun       Una función\n",
    "            *args     Parámetros que utiliza la función \"fun\"\n",
    "                      (se pueden meter cuantos parámetros tenga \n",
    "                      dicha funcion)\n",
    "            nan_zero  Si no se especifica nan devuelve 0\n",
    "    return: fun(*args)  Valor de fun con parámetros *args\n",
    "    \"\"\"\n",
    "    if(x==1):\n",
    "        return perform(f,*args)\n",
    "    else:\n",
    "        return np.nan"
   ]
  },
  {
   "cell_type": "code",
   "execution_count": 31,
   "metadata": {},
   "outputs": [],
   "source": [
    "#Función auziliar para generar matrices ralas (sólo se usa para un ejemplo)\n",
    "\n",
    "#Con esta vectorización se podrá aplicar a todos los elementos\n",
    "#de un np.array la función nan_or_value\n",
    "nan_or_value_vec=np.vectorize(nan_or_value, otypes=[object])"
   ]
  },
  {
   "cell_type": "code",
   "execution_count": 32,
   "metadata": {},
   "outputs": [],
   "source": [
    "#Función para generar matrices ralas (sólo se usa para un ejemplo)\n",
    "#Por su forma de construcción esta función es bastante ineficiente para\n",
    "#ejemplos grandes\n",
    "def crear_matriz_rala(n_ren,m_col,prop_elem_difer_nan,func_rand,*args_func_rand):\n",
    "    \"\"\"\n",
    "    Construye matriz rala de n_renxm_col, seleccionando al azar los elementos\n",
    "    que serán nan cumpliendo que la proporción de éstos es de \n",
    "    1-prop_elem_difer_nan, donde los numeros diferentes de nan serán aleatorios\n",
    "    generados a partir de una funcion aletorea que se envíe como parámetro\n",
    "    (y sus argumentos)\n",
    "    \n",
    "    params: n_ren               int numero de renglones que tiene la matriz\n",
    "            m_col               int numero de columnas que tiene la matriz\n",
    "            prop_elem_difer_nan float (0 < prop_elem_difer_nan < 1) indica\n",
    "                                la proporción de elementos distintos de nan\n",
    "            func_rand           Función que genera un sólo no. aleatorio de\n",
    "                                tipo float (no arreglos)\n",
    "            *args_fun_rand      Argumentos necesarios para ejecutar la\n",
    "                                la funcoión fun_rand\n",
    "            nan_zero            Si no se especifica nan devuelve 0\n",
    "    return: nan_or_value_vec    np.ndarray que contiene matriz rala\n",
    "    \"\"\"\n",
    "    tot=int(n_ren*m_col)\n",
    "    k=int(tot*prop_elem_difer_nan)\n",
    "    #se juntan 2 arreglos, uno de ceros y otro de unos, para después\n",
    "    #reacomodarlos al azar\n",
    "    M=np.concatenate((np.zeros(tot-k).astype(int), np.ones(k).astype(int)))\n",
    "    M=np.array(random.sample(list(M),tot))\n",
    "    M=M.reshape(n_ren,m_col)\n",
    "    #Los unos se intercambias por numeros aleatorios y los ceros\n",
    "    #por nan (o se dejan como cero)\n",
    "    M=nan_or_value_vec(M,func_rand,*args_func_rand).astype(float)\n",
    "    return M"
   ]
  },
  {
   "cell_type": "code",
   "execution_count": 33,
   "metadata": {},
   "outputs": [],
   "source": [
    "#Función auziliar para generar matrices ralas (sólo se usa para un ejemplo)\n",
    "def compactar_matriz_rala(M):\n",
    "    \"\"\"\n",
    "    Pasa una matriz rala a su expresión compacta\n",
    "    \n",
    "    params: M  np.ndarray que representa matriz rala\n",
    "    return: MC np.ndarray matriz en expresión compacta\n",
    "               (no se reportarán los elementos con valor\n",
    "               nan)\n",
    "    \"\"\"\n",
    "    if type(M) is not np.ndarray:\n",
    "        sys.exit('M debe ser de tipo numpy.ndarray')\n",
    "    elif np.isnan(M).sum()==len(M):\n",
    "        sys.exit('Todos los elementos de M son nan')\n",
    "    MC=np.zeros((M[np.isnan(M)==False].size,3))\n",
    "    k = 0\n",
    "    n,m=M.shape\n",
    "    for i in range(n): \n",
    "        for j in range(m): \n",
    "            if (~np.isnan(M[i,j])): \n",
    "                MC[k,0] = i\n",
    "                MC[k,1] = j\n",
    "                MC[k,2] = M[i,j] \n",
    "                k += 1\n",
    "    return MC"
   ]
  },
  {
   "cell_type": "code",
   "execution_count": 10,
   "metadata": {},
   "outputs": [],
   "source": [
    "#Función para generar matrices ralas en su expresión compacta\n",
    "#Utilizada para varios ejemplos\n",
    "def crear_matriz_rala_compacta(n_ren, m_col, prop_elem_difer_nan):\n",
    "    \"\"\"\n",
    "    Construye matriz rala de n_renxm_col, seleccionando al azar los elementos\n",
    "    que serán distintos de nan. Éstos elementos distintos de nan serán\n",
    "    numero aleatorios entre 1 y 5 (uniforme discreta). Se dice compacta porque\n",
    "    es una matriz solo señala las coordenadas o entredas de la matriz que \n",
    "    son diferentes a nan\n",
    "    \n",
    "    params: n_ren               int numero de renglones que tiene la matriz\n",
    "            m_col               int numero de columnas que tiene la matriz\n",
    "            prop_elem_difer_nan float (0 < prop_elem_difer_nan < 1) indica\n",
    "                                la proporción de elementos distintos de nan\n",
    "    return: M  np.ndarray que contiene matriz rala \"compacta\"\n",
    "               (1era columna representa el índice de renglones,\n",
    "               2da columna representa el índice de columnas,\n",
    "               3era columna representa el valor del elemento\n",
    "               o calificación en el contexto de netflix)\n",
    "    \"\"\"\n",
    "    tot=int(n_ren*m_col)\n",
    "    k=int(tot*prop_elem_difer_nan)\n",
    "    M=random.sample(range(tot), k)\n",
    "    columnas=np.mod(M,m_col)\n",
    "    renglones=np.divide(M,m_col).astype(int)\n",
    "    aleatorios=np.random.randint(1, 6, k)\n",
    "    #M=np.concatenate([renglones, columnas, aleatorios])\n",
    "    #M=M.reshape(3,k).T\n",
    "    M=np.vstack((renglones,columnas,aleatorios)).transpose()\n",
    "    for i in range(k):\n",
    "        for j in range(3):\n",
    "            M[i,j]=float(M[i,j])\n",
    "\n",
    "    return M"
   ]
  },
  {
   "cell_type": "code",
   "execution_count": 11,
   "metadata": {},
   "outputs": [],
   "source": [
    "#Función auxiliar al procesamiento de datos para la aplicación de un\n",
    "#modelo de recomendación\n",
    "def modelo_base_ref(MC):\n",
    "    \"\"\"\n",
    "    Obtiene promedios por índices de renglón y columnas, así como del total\n",
    "    (o calificaciones en el contexto de películas netflix)\n",
    "    \n",
    "    params: MC np.ndarray (con 3 columnasm, la 1era se toma como la\n",
    "               de índices de renglon, la 2da como la de índices de columna\n",
    "               y la 3era como el valor de los elementos o calificaciones en\n",
    "               el contexto de netflix)\n",
    "    return: count_by  pd.DataFrame de 3 columnas que tiene sólo los índices de\n",
    "                      renglones o columnas que tienen al menos n elementos\n",
    "    \"\"\"\n",
    "    df=pd.DataFrame(MC,columns=['row','col','score'])\n",
    "    #Media total\n",
    "    c=df['score'].mean(axis=0)\n",
    "\n",
    "    #media por columna\n",
    "    mean_by_col=df[['col','score']].groupby(['col']).mean()\n",
    "    mean_by_col.rename(columns={'score':'mean_score_by_col'}, inplace=True)\n",
    "    #media por renglon\n",
    "    mean_by_row=df[['row','score']].groupby(['row']).mean()\n",
    "    mean_by_row.rename(columns={'score':'mean_score_by_row'}, inplace=True)\n",
    "\n",
    "    #se unen todas los resultados obtenidos, incluyendo la columna de\n",
    "    #índice de columnas y renglones\n",
    "    df=df.set_index('col').join(mean_by_col,how='left')\n",
    "    df['col']=df.index\n",
    "    df=df.set_index('row').join(mean_by_row,how='left')\n",
    "    df['row']=df.index\n",
    "    df=df[['row','col','mean_score_by_row','mean_score_by_col']]\n",
    "    df['total_score_mean']=c\n",
    "    \n",
    "    return df"
   ]
  },
  {
   "cell_type": "code",
   "execution_count": 12,
   "metadata": {},
   "outputs": [],
   "source": [
    "#Función auxiliar al procesamiento de datos para la aplicación de un\n",
    "#modelo de recomendación\n",
    "def filtrar(MC,ren_o_col,n):\n",
    "    \"\"\"\n",
    "    Filtra los índices de renglon o columna que tengan más de n elementos\n",
    "    (o calificaciones en el contexto de películas netflix)\n",
    "    \n",
    "    params: MC        np.ndarray (con 3 columnas, de nombre indistinto)\n",
    "            ren_o_col string igual a 'row' o 'col'\n",
    "            n         int no. elementos mínimos requeridos\n",
    "    \n",
    "    return: count_by  np.ndarray de 3 columnas que tiene sólo los índices de\n",
    "                      renglones o columnas que tienen al menos n elementos\n",
    "    \"\"\"\n",
    "    MC_df=pd.DataFrame(MC,columns=['row','col','score'])\n",
    "    \n",
    "    #este pequeño bloque calcula el total de elementos por columna o renglón\n",
    "    count_by=MC_df[[ren_o_col,'score']].groupby([ren_o_col]).count()\n",
    "    count_by.rename(columns={'score':'tot_counted'}, inplace=True)\n",
    "    count_by[ren_o_col]=count_by.index\n",
    "    count_by=count_by[[ren_o_col,'tot_counted']]\n",
    "    \n",
    "    #en este bloque se filtran los elementos de la matriz cuyo conteo por\n",
    "    #columna o renglón tienen más de n elementos\n",
    "    count_by=count_by[count_by.apply(lambda x: x['tot_counted'] >= n, axis=1)]\n",
    "    count_by=MC_df.set_index(ren_o_col).join(count_by.set_index(ren_o_col),how='inner')\n",
    "    count_by[ren_o_col]=count_by.index\n",
    "    count_by=count_by[['row','col','score']]\n",
    "    \n",
    "    return count_by.to_numpy()"
   ]
  },
  {
   "cell_type": "code",
   "execution_count": 13,
   "metadata": {},
   "outputs": [],
   "source": [
    "#Función auxiliar para obtención de muestras aletorias\n",
    "def muestra_val_ent(df,prop):\n",
    "    \"\"\"\n",
    "    Separa al azar una base dada en 2 bases acorde una proporción de elemtos\n",
    "    dada\n",
    "    \n",
    "    params: df    pd.DataFrame (con 3 columnas=['usuario_id','peli_id',\n",
    "                  'calif_x'])\n",
    "            prop  float (0 < prop < 1) proporción de id_usuarios y\n",
    "                  proporción de id_peliculas que se seleccionarán\n",
    "    \n",
    "    return: data_test      pd.DataFrame que tiene base que se usará\n",
    "                           para prueba (por construcción el numero de\n",
    "                           elementos de esta base no necesariamente coincide\n",
    "                           con prop*total de elementos de df)\n",
    "            data_training  pd.DataFrame que tiene base que se usará\n",
    "                           para entrenamiento\n",
    "    \"\"\"\n",
    "    #Base de todos los usuarios\n",
    "    usuarios=pd.DataFrame(df['usuario_id'].unique(), columns=['usuario_id'])\n",
    "    #Muestreo de usuarios\n",
    "    valida_usuarios=usuarios.sample(frac=prop)  \n",
    "\n",
    "    #Base de todas las películas\n",
    "    peliculas=pd.DataFrame(df['peli_id'].unique(), columns=['peli_id'])\n",
    "    #Muestreo de películas\n",
    "    valida_pelis=peliculas.sample(frac=prop)\n",
    "    \n",
    "    #df_valida tiene las columnas usuario_id, peli_id y calif, pero\n",
    "    #sólo incluye los usuarios muestreados en valida_usuarios\n",
    "    df_valida=pd.merge(df,valida_usuarios, on ='usuario_id', how='inner')\n",
    "    #data_valida filtra de la base df_valida los pelis_id muestreas\n",
    "    #en valida_pelis\n",
    "    data_test=pd.merge(df_valida,valida_pelis, on ='peli_id', how='inner')\n",
    "    left=pd.merge(df, data_test, how='left',on=['usuario_id', 'peli_id'])\n",
    "    data_training=left[left.isnull().any(axis=1)][['usuario_id', 'peli_id','calif_x']]\n",
    "    return data_test, data_training"
   ]
  },
  {
   "cell_type": "code",
   "execution_count": 14,
   "metadata": {},
   "outputs": [],
   "source": [
    "def imprime_atributos_MF(Obj):\n",
    "    \"\"\"\n",
    "    Imprime los parámetros utilizados para factorización de la matriz contenida\n",
    "    en Obj, mismos que son atributos del atributo _options\n",
    "    \n",
    "    params: Obj  libmf.mf.MF objeto de la librería libmf-python que contiene\n",
    "                 la información requerida para hacer la factorización deseada\n",
    "    \n",
    "    return: None No regresa nada, sólo imprime los parámetros utilizados para\n",
    "                 hacer la factorización\n",
    "    \"\"\"\n",
    "    if type(Obj) is not libmf.mf.MF:\n",
    "        sys.exit('A y b deben ser de tipo libmf.mf.MF')\n",
    "    print('Atributos del modelo:')\n",
    "    print('fun={0:d}'.format(Obj._options.fun))\n",
    "    print('k={0:d}'.format(Obj._options.k))\n",
    "    print('nr_threads={0:d}'.format(Obj._options.nr_threads))\n",
    "    print('nr_bins={0:d}'.format(Obj._options.nr_bins))\n",
    "    print('nr_iters={0:d}'.format(Obj._options.nr_iters))\n",
    "    print('lambda_p1={0:0.4f}'.format(Obj._options.lambda_p1))\n",
    "    print('lambda_p2={0:0.4f}'.format(Obj._options.lambda_p2))\n",
    "    print('lambda_q1={0:0.4f}'.format(Obj._options.lambda_q1))\n",
    "    print('lambda_q2={0:0.4f}'.format(Obj._options.lambda_q2))\n",
    "    print('eta={0:0.4f}'.format(Obj._options.eta))\n",
    "    print('do_nmf=',Obj._options.do_nmf)\n",
    "    print('quiet=',Obj._options.quiet)\n",
    "    print('copy_data=',Obj._options.copy_data)\n",
    "    return None"
   ]
  },
  {
   "cell_type": "code",
   "execution_count": 15,
   "metadata": {},
   "outputs": [],
   "source": [
    "def imprime_atributos_model(Obj):\n",
    "    \"\"\"\n",
    "    Imprime los atributos del objeto model (definido dentro dentro de la\n",
    "    librería libmf)\n",
    "    \n",
    "    params: Obj  libmf.mf.MFModel objeto de la librería libmf-python que\n",
    "                 contiene los resultados obtenidos de la corrida del\n",
    "                 modelo de factorización\n",
    "                 \n",
    "    return: None No regresa nada, sólo imprime los resultados contenidos\n",
    "            en el objeto model, generado con los métodos del objeto MF\n",
    "    \"\"\"\n",
    "    if type(Obj) is not libmf.mf.MFModel:\n",
    "        sys.exit('A y b deben ser de tipo libmf.mf.MF')\n",
    "    print('Resultados model:')\n",
    "    print('fun={0:d}'.format(Obj.fun))\n",
    "    print('m={0:d}'.format(Obj.m))\n",
    "    print('n={0:d}'.format(Obj.n))\n",
    "    print('k={0:d}'.format(Obj.m))\n",
    "    print('b={0:0.4f}'.format(Obj.b))\n",
    "    print('P={0:0.4f}'.format(Obj.P.contents.value))\n",
    "    print('Q={0:0.4f}'.format(Obj.Q.contents.value))\n",
    "    return None"
   ]
  },
  {
   "cell_type": "code",
   "execution_count": 16,
   "metadata": {},
   "outputs": [],
   "source": [
    "#Elegiremos un formato de general para visualizar las matrices exhibidas como ejemplo\n",
    "np.set_printoptions(sign=' ', precision=3)\n",
    "#np.set_printoptions(sign=' ',formatter={'float': lambda x: \"{0:0.3f}\".format(x)})"
   ]
  },
  {
   "cell_type": "markdown",
   "metadata": {},
   "source": [
    "# Matrices ralas (sparse)"
   ]
  },
  {
   "cell_type": "code",
   "execution_count": 33,
   "metadata": {},
   "outputs": [],
   "source": [
    "#En este proyecto se exhibe el uso de las funciones de la librería libmf\n",
    "#relacionadas a la factorización de matrices. El proyecto se enfoca al uso\n",
    "#de estos algoritmos/métodos para los sistemas de recomendación de películas\n",
    "#cuyo objetivo será obtener recomendaciones de películas para usuarios\n",
    "#contenidos dentro de una base de datos proporcionada por netflix\n",
    "\n",
    "#Si bien la base tiene datos como peli_id, usuario_id, calif, fecha, el\n",
    "#algoritmo solo trabajará con los datos de calificaciones. Si bien existen\n",
    "#diversos usuarios y películas, son pocas películas de las que se tienen\n",
    "#calificaciones (escala del 1 al 5) proporcionadas por usuarios, por lo que\n",
    "#la representación de estas calificaciones a través de una matriz (donde\n",
    "#los usuarios serán los índices de los rengloens, las películas los índices\n",
    "#de columnas y las calificaciones los valores de las entradas de la matriz),\n",
    "#contendrá muchos huecos o calificaciones inexistentes,\n",
    "#es decir, es una matriz rala (llena de ceros o valores no proporcionados)\n",
    "#No obstante lo anterior, debido al numero de usuarios y películas\n",
    "#existen muchos datos, y para no guardar todos los valores de cero (o NA)\n",
    "#se opta por expresar y guardar dicha matriz en una forma compacta,\n",
    "#la cual contiene por cada calificación el usuario que la generó y la película\n",
    "#a la que corrresponde (es decir, es una matriz con 3 columnas)"
   ]
  },
  {
   "cell_type": "markdown",
   "metadata": {},
   "source": [
    "# Procesos útiles para construcción de modelo\n",
    "### Calificaciones promedio por usuario y/o película, y filtrado"
   ]
  },
  {
   "cell_type": "code",
   "execution_count": 17,
   "metadata": {},
   "outputs": [
    {
     "ename": "NameError",
     "evalue": "name 'MC' is not defined",
     "output_type": "error",
     "traceback": [
      "\u001b[0;31m---------------------------------------------------------------------------\u001b[0m",
      "\u001b[0;31mNameError\u001b[0m                                 Traceback (most recent call last)",
      "\u001b[0;32m<ipython-input-17-aeb879591b39>\u001b[0m in \u001b[0;36m<module>\u001b[0;34m\u001b[0m\n\u001b[1;32m      7\u001b[0m \u001b[0;31m#para heterogenizar el uso de la escala (calificaciones)\u001b[0m\u001b[0;34m\u001b[0m\u001b[0;34m\u001b[0m\u001b[0;34m\u001b[0m\u001b[0m\n\u001b[1;32m      8\u001b[0m \u001b[0;34m\u001b[0m\u001b[0m\n\u001b[0;32m----> 9\u001b[0;31m \u001b[0mpromedios\u001b[0m\u001b[0;34m=\u001b[0m\u001b[0mmodelo_base_ref\u001b[0m\u001b[0;34m(\u001b[0m\u001b[0mMC\u001b[0m\u001b[0;34m)\u001b[0m\u001b[0;34m\u001b[0m\u001b[0;34m\u001b[0m\u001b[0m\n\u001b[0m\u001b[1;32m     10\u001b[0m \u001b[0mdisplay\u001b[0m\u001b[0;34m(\u001b[0m\u001b[0mpromedios\u001b[0m\u001b[0;34m.\u001b[0m\u001b[0mhead\u001b[0m\u001b[0;34m(\u001b[0m\u001b[0;34m)\u001b[0m\u001b[0;34m)\u001b[0m\u001b[0;34m\u001b[0m\u001b[0;34m\u001b[0m\u001b[0m\n\u001b[1;32m     11\u001b[0m \u001b[0;31m#podemos convertir a numpy array para realizar operaciones con\u001b[0m\u001b[0;34m\u001b[0m\u001b[0;34m\u001b[0m\u001b[0;34m\u001b[0m\u001b[0m\n",
      "\u001b[0;31mNameError\u001b[0m: name 'MC' is not defined"
     ]
    }
   ],
   "source": [
    "#Para plantear un \"modelo base de referencia\", se calculan los medias\n",
    "#por renglones (mean_ren) y por columnas (mean_col), así como \n",
    "#una media total (mean_tot), luego se sustituyen los valores de \n",
    "#la matriz (x_ij) por: mean_ren + mean_col - mean_tot\n",
    "#La función modelo_base_ref regresa los promedios por renglon,\n",
    "#columna y total. Con estos promedios se puede construir un modelo\n",
    "#para heterogenizar el uso de la escala (calificaciones)\n",
    "\n",
    "promedios=modelo_base_ref(MC)\n",
    "display(promedios.head())\n",
    "#podemos convertir a numpy array para realizar operaciones con\n",
    "#variables de este tipo\n",
    "\n",
    "#Recuerda pasa a np.array para hacer operaciones\n",
    "promedios=promedios.to_numpy()\n",
    "#el modelo base de ref quedaría así:\n",
    "print('\\n El modelo base de referencia es mean_ren + mean_col - mean_tot:') \n",
    "promedios[:,0]+promedios[:,1]-promedios[:,2]"
   ]
  },
  {
   "cell_type": "code",
   "execution_count": 26,
   "metadata": {},
   "outputs": [
    {
     "data": {
      "text/plain": [
       "array([[ 1,  2,  4],\n",
       "       [ 1,  0,  1],\n",
       "       [ 6,  3,  4],\n",
       "       [ 6,  2,  2],\n",
       "       [ 6,  0,  2],\n",
       "       [10,  4,  5],\n",
       "       [10,  3,  3],\n",
       "       [14,  0,  5],\n",
       "       [14,  3,  5],\n",
       "       [15,  0,  1],\n",
       "       [15,  2,  2],\n",
       "       [16,  2,  1],\n",
       "       [16,  1,  3],\n",
       "       [17,  0,  2],\n",
       "       [17,  1,  3]])"
      ]
     },
     "metadata": {},
     "output_type": "display_data"
    },
    {
     "data": {
      "text/plain": [
       "array([[17,  0,  2],\n",
       "       [15,  0,  1],\n",
       "       [ 1,  0,  1],\n",
       "       [18,  0,  1],\n",
       "       [14,  0,  5],\n",
       "       [ 6,  0,  2],\n",
       "       [ 3,  0,  3],\n",
       "       [12,  1,  3],\n",
       "       [ 7,  1,  4],\n",
       "       [16,  1,  3],\n",
       "       [17,  1,  3],\n",
       "       [ 1,  2,  4],\n",
       "       [15,  2,  2],\n",
       "       [ 6,  2,  2],\n",
       "       [ 5,  2,  1],\n",
       "       [16,  2,  1],\n",
       "       [13,  2,  5],\n",
       "       [ 2,  2,  2],\n",
       "       [ 6,  3,  4],\n",
       "       [ 8,  3,  2],\n",
       "       [10,  3,  3],\n",
       "       [14,  3,  5],\n",
       "       [10,  4,  5],\n",
       "       [ 0,  4,  2],\n",
       "       [ 4,  4,  1]])"
      ]
     },
     "metadata": {},
     "output_type": "display_data"
    }
   ],
   "source": [
    "#En el camino para construir modelos adecuados, puede ser de interés\n",
    "#o utilidad identificar los usuarios que tiene más películas calificadas\n",
    "#o las películas con más calificaciones, más precisamente, que tengan\n",
    "#más de \"n\" calificaciones.\n",
    "\n",
    "#Usuarios que calificaron más de 2 películas\n",
    "display(filtrar(MC,'row',2))\n",
    "#Películas que fueron calificadas por más de 2 usuarios\n",
    "display(filtrar(MC,'col',2))"
   ]
  },
  {
   "cell_type": "code",
   "execution_count": 327,
   "metadata": {},
   "outputs": [],
   "source": [
    "#AQUÍ HAY QUE PONER LO QUE PUSO JAVI RESPECTO A FILTRAR LAS PELIS Y USUARIOS QUE APARECEN MUCHO"
   ]
  },
  {
   "cell_type": "code",
   "execution_count": null,
   "metadata": {},
   "outputs": [],
   "source": [
    "#import sys\n",
    "#!{sys.executable} -m pip install keras"
   ]
  },
  {
   "cell_type": "code",
   "execution_count": null,
   "metadata": {},
   "outputs": [],
   "source": [
    "#import pandas as pd\n",
    "#import numpy as np\n",
    "#from keras.layers import Input, Embedding, Reshape, Dot, Concatenate, Dense, Dropout\n",
    "#from keras.models import Model\n",
    "#import random"
   ]
  },
  {
   "cell_type": "code",
   "execution_count": null,
   "metadata": {},
   "outputs": [],
   "source": [
    "#Leemos el dataset "
   ]
  },
  {
   "cell_type": "code",
   "execution_count": null,
   "metadata": {},
   "outputs": [],
   "source": [
    "#df = pd.read_csv('~/jupyter/datasets/netflix_complete_cleaned.txt',sep=' ', header = None, names = ['Cust_Id','Movie_Id','Rating'], usecols = [0,1,2])"
   ]
  },
  {
   "cell_type": "code",
   "execution_count": null,
   "metadata": {},
   "outputs": [],
   "source": [
    "#Hacemos un resumen \n",
    "print('Dataset shape: {}'.format(df.shape))\n",
    "print('Dataset types:')\n",
    "print(df.dtypes)\n",
    "print('Summary statistics from dataset:')\n",
    "df.describe()"
   ]
  },
  {
   "cell_type": "code",
   "execution_count": null,
   "metadata": {},
   "outputs": [],
   "source": [
    "#Filtramos películas y usuarios con pocas evaluaciones para reducir el tamaño del dataset y mejorar predicciones. (Prune dataset)\n",
    "#Filtramos deacuerdo al percentil 80: \n",
    "#Movie minimum times of review: 1799.0\n",
    "#Customer minimum times of review: 52.0"
   ]
  },
  {
   "cell_type": "code",
   "execution_count": null,
   "metadata": {},
   "outputs": [],
   "source": [
    "#f = ['count','mean']\n",
    "\n",
    "df_movie_summary = df.groupby('Movie_Id')['Rating'].agg(f)\n",
    "df_movie_summary.index = df_movie_summary.index.map(int)\n",
    "movie_benchmark = round(df_movie_summary['count'].quantile(0.9),0)\n",
    "drop_movie_list = df_movie_summary[df_movie_summary['count'] < movie_benchmark].index\n",
    "\n",
    "print('Movie minimum times of review: {}'.format(movie_benchmark))\n",
    "\n",
    "#df_cust_summary = df.groupby('Cust_Id')['Rating'].agg(f)\n",
    "#df_cust_summary.index = df_cust_summary.index.map(int)\n",
    "#cust_benchmark = round(df_cust_summary['count'].quantile(0.9),0)\n",
    "#drop_cust_list = df_cust_summary[df_cust_summary['count'] < cust_benchmark].index\n",
    "\n",
    "#print('Customer minimum times of review: {}'.format(cust_benchmark))"
   ]
  },
  {
   "cell_type": "code",
   "execution_count": null,
   "metadata": {},
   "outputs": [],
   "source": [
    "#Se filtra el dataset original de acuerdo a los criterios de filtrado. \n",
    "# Filter sparse movies\n",
    "min_movie_ratings = 1799\n",
    "filter_movies = (df['Movie_Id'].value_counts()>min_movie_ratings)\n",
    "filter_movies = filter_movies[filter_movies].index.tolist()\n",
    "\n",
    "# Filter sparse users\n",
    "min_user_ratings = 52\n",
    "filter_users = (df['Cust_Id'].value_counts()>min_user_ratings)\n",
    "filter_users = filter_users[filter_users].index.tolist()\n",
    "\n",
    "# Actual filtering\n",
    "df_filterd = df[(df['Movie_Id'].isin(filter_movies)) & (df['Cust_Id'].isin(filter_users))]\n",
    "del filter_movies, filter_users, min_movie_ratings, min_user_ratings\n",
    "print('Shape User-Ratings unfiltered:\\t{}'.format(df.shape))\n",
    "print('Shape User-Ratings filtered:\\t{}'.format(df_filterd.shape))"
   ]
  },
  {
   "cell_type": "code",
   "execution_count": null,
   "metadata": {},
   "outputs": [],
   "source": [
    "#Hacemos un shuffle del dataframe y lo dividimos en entrenamiento y prueba\n",
    "random.seed(28882)\n",
    "#random shuffle dataset\n",
    "df2=df.sample(frac=1).reset_index(drop=True)\n",
    "print(len(df2))\n",
    "\n",
    "#dividimos dataset en train y test\n",
    "n=round(len(df2)*.8) # Tamaño de muestra de entrenamiento (80% de los datos)\n",
    "df_train=df2[-n:]\n",
    "print(len(df_train)) # Número de valores en el dataset de entrenamiento\n",
    "df_test=df2[:-n]\n",
    "print(len(df_test)) # Número de valores en dataset de prueba"
   ]
  },
  {
   "cell_type": "code",
   "execution_count": null,
   "metadata": {},
   "outputs": [],
   "source": [
    "#Imprimimos ejemplos del dataset de entrenamiento. \n",
    "df_train.to_csv(r'../datasets/netflix_train.txt',header=False,sep = ' ',index=False)\n",
    "print('Full dataset shape: {}'.format(df_train.shape))\n",
    "print('-Dataset examples-')\n",
    "print(df.iloc[::5000000, :])"
   ]
  },
  {
   "cell_type": "code",
   "execution_count": null,
   "metadata": {},
   "outputs": [],
   "source": [
    "#Imprimimos ejemplos del dataset de prueba. "
   ]
  },
  {
   "cell_type": "code",
   "execution_count": null,
   "metadata": {},
   "outputs": [],
   "source": [
    "df_test.to_csv(r'../datasets/netflix_test.txt',header=False,sep = ' ',index=False)\n",
    "print('Full dataset shape: {}'.format(df_test.shape))\n",
    "print('-Dataset examples-')\n",
    "print(df.iloc[::5000000, :])"
   ]
  },
  {
   "cell_type": "code",
   "execution_count": null,
   "metadata": {},
   "outputs": [],
   "source": [
    "#Insertar en libreria libmf"
   ]
  },
  {
   "cell_type": "code",
   "execution_count": null,
   "metadata": {},
   "outputs": [],
   "source": [
    "!pwd"
   ]
  },
  {
   "cell_type": "markdown",
   "metadata": {},
   "source": [
    "# Librería libmf python"
   ]
  },
  {
   "cell_type": "code",
   "execution_count": 57,
   "metadata": {},
   "outputs": [],
   "source": [
    "# Python-libmf contiene de fondo el mismo código que el de la librería libmf, \n",
    "# aunque tiene programadas clases con atributos y métodos para poder ejecutar \n",
    "# los métodos de libmf. A continuación se señalan las principales \n",
    "# clases, atributos y métodos\n",
    "\n",
    "# Clase: MF\n",
    "# Atributos: .model\n",
    "#            ._options \n",
    "#            .i\n",
    "#            .j\n",
    "# Métodos: .fit -> < Objetivo: factorize the i x j data matrix X into (j, k) (k, i) \n",
    "#                  <           sized matrices stored in MF.model\n",
    "#                  < Parámetro X: (n, 3) shaped numpy array [known index and values \n",
    "#                  <              of the data matrix]\n",
    "#\n",
    "#          .predict -> < Objetivo: assuming we have already run the fit method, predict\n",
    "#                      <           the values at certain indices of the data matrix\n",
    "#                      < Parámetro X: (n, 2) shaped numpy array\n",
    "#                      < Regresa: numpy array of length n\n",
    "#\n",
    "#          .mf_cross_validation -> < Objetivo: Realizar cross-validation\n",
    "#                                  < Parámetro X: (n, 3)\n",
    "#                                  < Parámetro folds: number of train / test splits\n",
    "#                                  < Regresa: score across all folds \n",
    "#\n",
    "#          .q_factors -> < Objetivo: Obtener la matriz Q\n",
    "#\n",
    "#          .p_factors -> < Objetivo:  Obtener la matriz P\n",
    "\n",
    "\n",
    "# Clase: model\n",
    "# Atributos: .fun\n",
    "#            .m \n",
    "#            .n\n",
    "#            .k\n",
    "#            .b\n",
    "#            .P\n",
    "#            .Q\n",
    "# Métodos: NA\n",
    "\n",
    "\n",
    "# Clase: _options\n",
    "# Atributos: .fun\n",
    "#            .k\n",
    "#            .nr_threads\n",
    "#            .nr_bins\n",
    "#            .nr_iters\n",
    "#            .lambda_p1\n",
    "#            .lambda_p2\n",
    "#            .lambda_q1\n",
    "#            .lambda_q2\n",
    "#            .eta\n",
    "#            .do_nmf\n",
    "#            .quiet\n",
    "#            .copy_data\n",
    "# Métodos: NA"
   ]
  },
  {
   "cell_type": "code",
   "execution_count": 58,
   "metadata": {},
   "outputs": [],
   "source": [
    "#A continuación un comparativo de los parámetros usados por python-libmf \n",
    "#y libmf, así como sus valores predeterminados"
   ]
  },
  {
   "cell_type": "markdown",
   "metadata": {},
   "source": [
    "|Parámetro:|Nombre python-libmf|Valor por default python-libmf|Nombre libmf|Valor por default libmf|\n",
    "|:--:|:--:|:--:|:--:|:--:|\n",
    "|Función de pérdida|fun|0|-f|0|\n",
    "|Numero de factores latentes|k|8|-k|8|\n",
    "|Numero de threads|nr_threads|12|-s|12|\n",
    "|Numero de bins|nr_bins|26|-n|adjusted by LIBMF for speed|\n",
    "|Numero de iteraciones|nr_iters|20|-t|20|\n",
    "|Parámetro de regularización L1 para P y Q<sup>(1)</sup>|lambda_p1|0.04|-l1|0|\n",
    "|Parámetro de regularización L2 para P y Q<sup>(1)</sup>|lambda_p2|0|-l2|0.1|\n",
    "|Parámetro de regularización L1 para P y Q<sup>(1)</sup>|lambda_q1|0.04|-l1|0|\n",
    "|Parámetro de regularización L2 para P y Q<sup>(1)</sup>|lambda_q2|0|-l1|0.1|\n",
    "|Tasa inicial de aprendizaje|eta|0.1|-r|0.1|\n",
    "|Realizar factorización matricial no negativa<sup>(3)</sup>|do_nmf|False|--nmf|False|\n",
    "|Sin outputs<sup>(3)</sup>|quite|False|--quite|False|\n",
    "|Copiar datos|copy_data|True|NA|NA|\n",
    "|Ruta conjunto validación|NA|NA|-p|ND|\n",
    "|Numero de folds para validación cruzada<sup>(4)</sup>|ND|5|-v|1|\n",
    "|Coeficiente de pérdida de entradas negativas|NA|NA|-a|1|\n",
    "|Valor de entradas negativas<sup>(2)</sup>|NA|NA|-c|0.0001|\n",
    "|Realizar entrenamiento a nivel de disco<sup>(3)</sup>|NA|NA|--disk|False|\n",
    "\n",
    "<sup>(1)</sup> En libmf \"l1\" y \"l2\" se pueden definir con 1 o 2 parámetros, si se define uno se entiende que aplica tanto para P como Q, si se definen 2 el 1ero aplica para P y el 2do para Q\n",
    "\n",
    "<sup>(2)</sup> Se supone que cada entrada positiva es 1\n",
    "\n",
    "<sup>(3)</sup> En libmf su ausencia indica que no se llevará acabo. Por ejemplo, si no aparece \"--nmf\" en el llamado de mf-train, implica que las matrices P y Q pueden tener elementos negativos\n",
    "\n",
    "<sup>(3)</sup> Para python-libmf si bien no es un parámetro que se defina cuando se crea el objeto MF como el resto de parámetros, se puede ejecutar una función de validación cruzada"
   ]
  },
  {
   "cell_type": "code",
   "execution_count": 59,
   "metadata": {},
   "outputs": [
    {
     "name": "stdout",
     "output_type": "stream",
     "text": [
      "/datos/python-libmf/tests\n",
      "/datos/python-libmf/tests\n",
      "/home/miuser/.local/lib/python3.6/site-packages/libmf/__init__.py\n",
      "Using file found in /home/miuser/.local/lib/python3.6/site-packages:\n",
      "/home/miuser/.local/lib/python3.6/site-packages/libmf.cpython-36m-x86_64-linux-gnu.so\n",
      "iter      tr_rmse          obj\n",
      "   0       0.5155   3.2746e+02\n",
      "   1       0.4884   3.0732e+02\n",
      "   2       0.4443   2.7338e+02\n",
      "   3       0.3932   2.3532e+02\n",
      "   4       0.3474   2.0256e+02\n",
      "   5       0.3179   1.8170e+02\n",
      "   6       0.3002   1.6839e+02\n",
      "   7       0.2900   1.5930e+02\n",
      "   8       0.2856   1.5356e+02\n",
      "   9       0.2815   1.4879e+02\n",
      "  10       0.2803   1.4617e+02\n",
      "  11       0.2790   1.4380e+02\n",
      "  12       0.2786   1.4205e+02\n",
      "  13       0.2779   1.4042e+02\n",
      "  14       0.2775   1.3909e+02\n",
      "  15       0.2770   1.3798e+02\n",
      "  16       0.2765   1.3683e+02\n",
      "  17       0.2776   1.3674e+02\n",
      "  18       0.2775   1.3615e+02\n",
      "  19       0.2769   1.3506e+02\n",
      "testing cross val method\n",
      "/home/miuser/.local/lib/python3.6/site-packages/libmf/mf.py:213: DeprecationWarning: This function is deprecated. Please call randint(0, 100 + 1) instead\n",
      "  rx = np.random.random_integers(0, xs, k)\n",
      "/home/miuser/.local/lib/python3.6/site-packages/libmf/mf.py:214: DeprecationWarning: This function is deprecated. Please call randint(0, 50 + 1) instead\n",
      "  ry = np.random.random_integers(0, ys, k)\n",
      "fold      rmse\n",
      "   0    0.3497\n",
      "   1    0.3327\n",
      "   2    0.3621\n",
      "   3    0.3449\n",
      "   4    0.3500\n",
      "==============\n",
      " avg    0.3479\n",
      ".testing factor-p\n",
      ".testing factor-q\n",
      ".testing fit method\n",
      "iter      tr_rmse          obj\n",
      "   0       0.5154   3.2743e+02\n",
      "   1       0.4912   3.0890e+02\n",
      "   2       0.4509   2.7827e+02\n",
      "   3       0.3968   2.3742e+02\n",
      "   4       0.3482   2.0243e+02\n",
      "   5       0.3184   1.8170e+02\n",
      "   6       0.3001   1.6805e+02\n",
      "   7       0.2905   1.5938e+02\n",
      "   8       0.2852   1.5336e+02\n",
      "   9       0.2826   1.4952e+02\n",
      "  10       0.2807   1.4645e+02\n",
      "  11       0.2789   1.4369e+02\n",
      "  12       0.2778   1.4146e+02\n",
      "  13       0.2783   1.4051e+02\n",
      "  14       0.2773   1.3890e+02\n",
      "  15       0.2775   1.3817e+02\n",
      "  16       0.2769   1.3696e+02\n",
      "  17       0.2765   1.3604e+02\n",
      "  18       0.2770   1.3567e+02\n",
      "  19       0.2773   1.3525e+02\n",
      ".testing predict method\n",
      ".\n",
      "----------------------------------------------------------------------\n",
      "Ran 5 tests in 0.311s\n",
      "\n",
      "OK\n"
     ]
    }
   ],
   "source": [
    "# A continuación se corre un DEMO que muestra un poco el uso de estas funciones\n",
    "# resalta que para programar este demo se definieron unas clases que a su vez\n",
    "# ocupan las clases principales antes mencionadas de python-limbf\n",
    "#ASEGURESE DE PONER LA UBICACIÓN CORRECTA DE LA UBICACIÓN DE LA CARPETA python-libmf\n",
    "\n",
    "#Esto sólo corre sí te ubicas en la carpeta que contien mf_tests.py\n",
    "# %cd /home/miuser/python-libmf/tests\n",
    "%cd /datos/python-libmf/tests\n",
    "!pwd\n",
    "!python3 mf_tests.py"
   ]
  },
  {
   "cell_type": "code",
   "execution_count": 18,
   "metadata": {},
   "outputs": [
    {
     "name": "stdout",
     "output_type": "stream",
     "text": [
      "Matriz generada con mf.generate_test_data(20,5,25):\n",
      "\n",
      "\u001b[1;30;41m [ 0.     1.     0.166]\n",
      "\u001b[0;0;0m [ 19.      4.      0.306]\n",
      "\u001b[0;0;0m [ 14.      3.      0.147]\n",
      "\u001b[0;0;0m [ 18.      4.      0.223]\n",
      "\u001b[0;0;0m [ 18.     1.     0.54]\n",
      "\u001b[0;0;0m [ 15.      3.      0.749]\n",
      "\u001b[0;0;0m [ 2.     2.     0.428]\n",
      "\u001b[0;0;0m [ 11.      3.      0.105]\n",
      "\u001b[0;0;0m [ 9.     3.     0.753]\n",
      "\u001b[0;0;0m [ 8.     5.     0.598]\n",
      "\u001b[0;0;0m [ 13.      0.      0.487]\n",
      "\u001b[0;0;0m [ 8.     4.     0.975]\n",
      "\u001b[0;0;0m [ 9.     2.     0.802]\n",
      "\u001b[0;0;0m [ 15.      3.      0.333]\n",
      "\u001b[0;0;0m [ 7.     5.     0.549]\n",
      "\u001b[0;0;0m [ 4.     5.     0.312]\n",
      "\u001b[0;0;0m [ 16.      4.      0.062]\n",
      "\u001b[0;0;0m [ 6.     1.     0.903]\n",
      "\u001b[0;0;0m [ 18.      0.      0.861]\n",
      "\u001b[0;0;0m [ 3.    3.    0.63]\n",
      "\u001b[1;30;41m [ 0.     1.     0.217]\n",
      "\u001b[1;30;41m [ 0.     1.     0.556]\n",
      "\u001b[0;0;0m [ 16.      5.      0.109]\n",
      "\u001b[0;0;0m [ 6.     5.     0.551]\n",
      "\u001b[0;0;0m [ 7.     0.     0.581]\n",
      "Tamaño MC:\n",
      " (25, 3)\n"
     ]
    }
   ],
   "source": [
    "#se tiene una función para generar matrices ralas compactas sin embargo\n",
    "#se observa que puede arrojar más de un valor para un mismo\n",
    "#elemento de la matriz rala, vease abajo el renglón [0,1]\n",
    "#tiene 3 valores asignados (0.166,0.217,0.556).\n",
    "\n",
    "#El 1er parámetro señala indica que se seleccionará un valor\n",
    "#de entre 0 y 19 para la 1er columna (que representa el índice\n",
    "#de los renglones de la matriz rala que expresa); el 2do\n",
    "#parámetro indica que se seleccionara al azar valores entre\n",
    "#0 y 4 (que representa el índice de las columnas de la matriz\n",
    "#rala que expresa); el 3er parámetro indica el número de elementos\n",
    "#a generar \n",
    "\n",
    "#Fijaremos una semilla para reproducibilidad\n",
    "np.random.seed(102)\n",
    "MC=mf.generate_test_data(20, 5, 25)\n",
    "print('Matriz generada con mf.generate_test_data(20,5,25):\\n')\n",
    "for i in range(MC.shape[0]):\n",
    "    if MC[i,0]==0:\n",
    "        print('\\033[1;30;41m',MC[i,:])\n",
    "    else:\n",
    "        print('\\033[0;0;0m',MC[i,:])\n",
    "print('Tamaño MC:\\n',MC.shape)"
   ]
  },
  {
   "cell_type": "markdown",
   "metadata": {},
   "source": [
    "### Método mf.MF()\n",
    "**CREAR OBJETO MF CON PARÁMETROS PARA EL MODELO DE FACTORIZACIÓN**"
   ]
  },
  {
   "cell_type": "code",
   "execution_count": 19,
   "metadata": {},
   "outputs": [
    {
     "name": "stdout",
     "output_type": "stream",
     "text": [
      "Tipo de objeto:  <class 'libmf.mf.MF'>\n",
      "Instance variables:  {'model': None, '_options': <libmf.mf.MFParam object at 0x7f43cfd78b70>, 'i': None, 'j': None}\n"
     ]
    }
   ],
   "source": [
    "#del mf_netflix\n",
    "\n",
    "#Defínase un objeto de tipo MF para obtener la factorización deseada\n",
    "mf_netflix=mf.MF()\n",
    "\n",
    "#veamos algunas de las propiedades del objeto mf_netflix\n",
    "print('Tipo de objeto: ',type(mf_netflix))\n",
    "print('Instance variables: ',mf_netflix.__dict__)"
   ]
  },
  {
   "cell_type": "code",
   "execution_count": 20,
   "metadata": {},
   "outputs": [
    {
     "name": "stdout",
     "output_type": "stream",
     "text": [
      "Atributos del modelo:\n",
      "fun=0\n",
      "k=8\n",
      "nr_threads=12\n",
      "nr_bins=26\n",
      "nr_iters=20\n",
      "lambda_p1=0.0400\n",
      "lambda_p2=0.0000\n",
      "lambda_q1=0.0400\n",
      "lambda_q2=0.0000\n",
      "eta=0.1000\n",
      "do_nmf= False\n",
      "quiet= False\n",
      "copy_data= True\n"
     ]
    }
   ],
   "source": [
    "#Hasta el momento no se han definido los parámetros para correr el\n",
    "#modelo de factorización, sin embargo por default se asignan algunos\n",
    "#valores que a continuación se muestran:\n",
    "imprime_atributos_MF(mf_netflix)"
   ]
  },
  {
   "cell_type": "code",
   "execution_count": 21,
   "metadata": {},
   "outputs": [
    {
     "name": "stdout",
     "output_type": "stream",
     "text": [
      "Atributos:  ['__class__', '__ctypes_from_outparam__', '__delattr__', '__dict__', '__dir__', '__doc__', '__eq__', '__format__', '__ge__', '__getattribute__', '__gt__', '__hash__', '__init__', '__init_subclass__', '__le__', '__lt__', '__module__', '__ne__', '__new__', '__reduce__', '__reduce_ex__', '__repr__', '__setattr__', '__setstate__', '__sizeof__', '__str__', '__subclasshook__', '__weakref__', '_b_base_', '_b_needsfree_', '_fields_', '_objects', 'copy_data', 'do_nmf', 'eta', 'fun', 'k', 'lambda_p1', 'lambda_p2', 'lambda_q1', 'lambda_q2', 'nr_bins', 'nr_iters', 'nr_threads', 'quiet']\n"
     ]
    }
   ],
   "source": [
    "#Observa que entre los atributos están los parámetros para que corra libmf\n",
    "#y que definen el modelo (son los últimos 13; los que no les antecede y finalizas\n",
    "#con \"__\")\n",
    "print('Atributos: ', dir(mf_netflix._options))"
   ]
  },
  {
   "cell_type": "code",
   "execution_count": 22,
   "metadata": {},
   "outputs": [
    {
     "name": "stdout",
     "output_type": "stream",
     "text": [
      "Atributos del modelo:\n",
      "fun=0\n",
      "k=10\n",
      "nr_threads=12\n",
      "nr_bins=26\n",
      "nr_iters=20\n",
      "lambda_p1=0.0400\n",
      "lambda_p2=0.0000\n",
      "lambda_q1=0.0400\n",
      "lambda_q2=0.0000\n",
      "eta=0.1000\n",
      "do_nmf= False\n",
      "quiet= False\n",
      "copy_data= True\n"
     ]
    }
   ],
   "source": [
    "#Sin embargo podemos definir parámetros distintos pasando los argumentos\n",
    "#Aquí lo hacemos en forma de kwargs, es decir, con el nombre de las variables\n",
    "mf_netflix=mf.MF(fun=0,k=10,nr_threads=12,nr_bins=26,nr_iters=20,lambda_p1=0.04,lambda_p2=0.0,lambda_q1=0.04,lambda_q2=0.0,eta=0.1,do_nmf=False,quiet=False,copy_data=True)\n",
    "imprime_atributos_MF(mf_netflix)"
   ]
  },
  {
   "cell_type": "code",
   "execution_count": 23,
   "metadata": {},
   "outputs": [
    {
     "name": "stdout",
     "output_type": "stream",
     "text": [
      "Atributos del modelo:\n",
      "fun=0\n",
      "k=5\n",
      "nr_threads=12\n",
      "nr_bins=26\n",
      "nr_iters=21\n",
      "lambda_p1=0.0400\n",
      "lambda_p2=0.0000\n",
      "lambda_q1=0.0400\n",
      "lambda_q2=0.0000\n",
      "eta=0.1100\n",
      "do_nmf= False\n",
      "quiet= False\n",
      "copy_data= True\n"
     ]
    }
   ],
   "source": [
    "#Si optas por usar los parámetros por default excepto algunos\n",
    "#puedes pasar los parámetros que quieres definir diferente\n",
    "mf_netflix=mf.MF(eta=0.11,nr_iters=21, k=5)\n",
    "\n",
    "#Nota que en este ejemplo como no definiste k=10, se inicializa con k=8\n",
    "#pues es el valor por default\n",
    "imprime_atributos_MF(mf_netflix)"
   ]
  },
  {
   "cell_type": "markdown",
   "metadata": {},
   "source": [
    "**AJUSTE DEL MODELO DE FACTORIZACIÓN**"
   ]
  },
  {
   "cell_type": "code",
   "execution_count": 24,
   "metadata": {},
   "outputs": [
    {
     "name": "stdout",
     "output_type": "stream",
     "text": [
      "[[  0.      1.      0.166]\n",
      " [ 19.      4.      0.306]\n",
      " [ 14.      3.      0.147]\n",
      " [ 18.      4.      0.223]\n",
      " [ 18.      1.      0.54 ]\n",
      " [ 15.      3.      0.749]\n",
      " [  2.      2.      0.428]\n",
      " [ 11.      3.      0.105]\n",
      " [  9.      3.      0.753]\n",
      " [  8.      5.      0.598]\n",
      " [ 13.      0.      0.487]\n",
      " [  8.      4.      0.975]\n",
      " [  9.      2.      0.802]\n",
      " [ 15.      3.      0.333]\n",
      " [  7.      5.      0.549]\n",
      " [  4.      5.      0.312]\n",
      " [ 16.      4.      0.062]\n",
      " [  6.      1.      0.903]\n",
      " [ 18.      0.      0.861]\n",
      " [  3.      3.      0.63 ]\n",
      " [  0.      1.      0.217]\n",
      " [  0.      1.      0.556]\n",
      " [ 16.      5.      0.109]\n",
      " [  6.      5.      0.551]\n",
      " [  7.      0.      0.581]]\n",
      "<class 'numpy.ndarray'>\n",
      "El tamaño de MC_valida es: (5, 3)\n",
      "La matriz MC_valida queda así:\n",
      " [[ 18.   3.   4.]\n",
      " [ 19.   3.   3.]\n",
      " [  6.   3.   5.]\n",
      " [ 18.   1.   4.]\n",
      " [  6.   1.   5.]]\n",
      "El tamaño de MC_entrena es: (35, 3)\n"
     ]
    }
   ],
   "source": [
    "#Generamos una matriz rala al azar y la dividimos en entrenamiento y prueba\n",
    "#para probar las funciones de factorización\n",
    "np.random.seed(104)\n",
    "random.seed(104)\n",
    "#MC=mf.generate_test_data(19, 4, 40)\n",
    "print(MC)\n",
    "print(type(MC))\n",
    "MC=crear_matriz_rala_compacta(20,5,0.40)\n",
    "MC=MC.astype(float)\n",
    "#print(type(MC))\n",
    "#print(MC)\n",
    "\n",
    "# print('El tamaño de MC es:',MC.shape)\n",
    "MC_valida, MC_entrena=muestra_val_ent(pd.DataFrame(MC,columns=['usuario_id', 'peli_id', 'calif']),0.3)\n",
    "\n",
    "MC_valida=MC_valida.to_numpy()\n",
    "print('El tamaño de MC_valida es:',MC_valida.shape)\n",
    "print('La matriz MC_valida queda así:\\n',MC_valida)\n",
    "MC_entrena=MC_entrena.to_numpy()\n",
    "print('El tamaño de MC_entrena es:',MC_entrena.shape)\n",
    "\n",
    "#IMPLEMENTAMOS MODELO CON MC_entrena\n",
    "mf_netflix.fit(MC_entrena)"
   ]
  },
  {
   "cell_type": "code",
   "execution_count": 25,
   "metadata": {},
   "outputs": [
    {
     "name": "stdout",
     "output_type": "stream",
     "text": [
      "Resultados model:\n",
      "fun=0\n",
      "m=18\n",
      "n=20\n",
      "k=18\n",
      "b=4.6857\n",
      "P=1.0922\n",
      "Q=1.2599\n"
     ]
    }
   ],
   "source": [
    "imprime_atributos_model(mf_netflix.model)"
   ]
  },
  {
   "cell_type": "markdown",
   "metadata": {},
   "source": [
    "**VALIDACIÓN CRUZADA**"
   ]
  },
  {
   "cell_type": "code",
   "execution_count": null,
   "metadata": {},
   "outputs": [
    {
     "name": "stdout",
     "output_type": "stream",
     "text": [
      "Validación cruzada con 5 folds:  5.5219692758500605\n",
      "Validación cruzada con 10 folds:  nan\n"
     ]
    }
   ],
   "source": [
    "#Para obtener la validación cruzada basta con llamar al método, pudiendo\n",
    "#usar más de 5 folds (que son los que tiene por default)\n",
    "print('Validación cruzada con 5 folds: ',mf_netflix.mf_cross_validation(MC_entrena))\n",
    "print('Validación cruzada con 10 folds: ',mf_netflix.mf_cross_validation(MC_entrena,folds=10))"
   ]
  },
  {
   "cell_type": "markdown",
   "metadata": {},
   "source": [
    "**OBTENCIÓN DE PREDICCIONES**"
   ]
  },
  {
   "cell_type": "code",
   "execution_count": 188,
   "metadata": {},
   "outputs": [
    {
     "data": {
      "text/plain": [
       "array([ 4.686,  4.686,  3.415,  4.686,  5.266], dtype=float32)"
      ]
     },
     "execution_count": 188,
     "metadata": {},
     "output_type": "execute_result"
    }
   ],
   "source": [
    "#Para hacer la predicción se le pasa sólo los\n",
    "#índices de los elementos a predecir, es decir\n",
    "#una base con sólo 2 columnas que indican el \n",
    "#numero de renglon y columnas\n",
    "pred=mf_netflix.predict(MC_valida[:,0:2])\n",
    "pred"
   ]
  },
  {
   "cell_type": "code",
   "execution_count": 189,
   "metadata": {},
   "outputs": [
    {
     "name": "stdout",
     "output_type": "stream",
     "text": [
      "Los valores verdaderos de MC_valida son: [ 4.  3.  5.  4.  5.]\n"
     ]
    }
   ],
   "source": [
    "print('Los valores verdaderos de MC_valida son:',MC_valida[:,2])"
   ]
  },
  {
   "cell_type": "code",
   "execution_count": 190,
   "metadata": {},
   "outputs": [
    {
     "name": "stdout",
     "output_type": "stream",
     "text": [
      "Los resultados guardados en model están dispuestos como atributos: \n",
      " ['P', 'Q', '__class__', '__ctypes_from_outparam__', '__delattr__', '__dict__', '__dir__', '__doc__', '__eq__', '__format__', '__ge__', '__getattribute__', '__gt__', '__hash__', '__init__', '__init_subclass__', '__le__', '__lt__', '__module__', '__ne__', '__new__', '__reduce__', '__reduce_ex__', '__repr__', '__setattr__', '__setstate__', '__sizeof__', '__str__', '__subclasshook__', '__weakref__', '_b_base_', '_b_needsfree_', '_fields_', '_objects', 'b', 'fun', 'k', 'm', 'n']\n"
     ]
    }
   ],
   "source": [
    "print('Los resultados guardados en model están dispuestos como atributos: \\n',dir(mf_netflix.model))"
   ]
  },
  {
   "cell_type": "code",
   "execution_count": 191,
   "metadata": {},
   "outputs": [
    {
     "name": "stdout",
     "output_type": "stream",
     "text": [
      "Resultados model:\n",
      "fun=0\n",
      "m=18\n",
      "n=20\n",
      "k=18\n",
      "b=4.6857\n",
      "P=1.1010\n",
      "Q=1.2526\n"
     ]
    }
   ],
   "source": [
    "imprime_atributos_model(mf_netflix.model)"
   ]
  },
  {
   "cell_type": "markdown",
   "metadata": {},
   "source": [
    "**OBTENCIÓN MATRIZ Q**"
   ]
  },
  {
   "cell_type": "code",
   "execution_count": 192,
   "metadata": {},
   "outputs": [
    {
     "name": "stdout",
     "output_type": "stream",
     "text": [
      "Tamaño Q: (20, 5)\n",
      "Matriz Q:\n",
      " [[ 1.253e+00  7.319e-01  1.253e+00  1.797e+00  1.586e+00]\n",
      " [ 2.431e+00  1.672e+00  1.295e+00  1.327e-01 -1.140e-01]\n",
      " [ 4.668e-01  9.399e-01  3.692e-01  4.652e-01  3.583e-01]\n",
      " [ 1.127e+00 -1.351e-02  7.091e-01  7.143e-01  5.568e-01]\n",
      " [ 7.000e-01  1.135e+00  8.546e-01  6.253e-01  1.131e+00]\n",
      " [ 1.756e+00  6.767e-01  1.333e+00  9.309e-01  1.953e-03]\n",
      " [       nan        nan        nan        nan        nan]\n",
      " [ 1.485e+00  1.252e+00  1.386e+00  1.352e+00  1.629e+00]\n",
      " [ 7.424e-01  9.225e-02 -1.979e-01  4.415e-01  5.343e-01]\n",
      " [       nan        nan        nan        nan        nan]\n",
      " [ 7.649e-01  4.889e-01  1.526e-01  9.430e-01  2.876e-01]\n",
      " [ 9.909e-01  1.415e+00  1.109e+00  1.812e+00  1.641e+00]\n",
      " [       nan        nan        nan        nan        nan]\n",
      " [       nan        nan        nan        nan        nan]\n",
      " [       nan        nan        nan        nan        nan]\n",
      " [       nan        nan        nan        nan        nan]\n",
      " [ 1.356e+00  2.552e+00  1.037e+00  2.748e+00  2.598e+00]\n",
      " [       nan        nan        nan        nan        nan]\n",
      " [       nan        nan        nan        nan        nan]\n",
      " [ 4.865e-01  1.082e+00  1.645e+00  1.693e+00  1.014e+00]]\n"
     ]
    }
   ],
   "source": [
    "Q=mf_netflix.q_factors()\n",
    "print('Tamaño Q:',Q.shape)\n",
    "print('Matriz Q:\\n',Q)"
   ]
  },
  {
   "cell_type": "markdown",
   "metadata": {},
   "source": [
    "**OBTENCIÓN MATRIZ P**"
   ]
  },
  {
   "cell_type": "code",
   "execution_count": 193,
   "metadata": {},
   "outputs": [
    {
     "name": "stdout",
     "output_type": "stream",
     "text": [
      "Tamaño P: (18, 5)\n",
      "Matriz P:\n",
      " [[ 1.101e+00  1.585e-01  1.044e+00  3.076e-01 -4.725e-01]\n",
      " [ 5.395e-01  1.656e+00  5.414e-01  2.249e+00  1.954e+00]\n",
      " [ 8.158e-01  8.326e-02  8.905e-01  1.464e+00  1.372e+00]\n",
      " [ 5.756e-02  4.111e-01  1.015e+00  6.366e-01  5.924e-01]\n",
      " [-4.447e-02  9.709e-01  4.288e-01  6.676e-01  5.468e-01]\n",
      " [ 1.074e+00  9.863e-01  5.367e-01  6.942e-01  8.654e-01]\n",
      " [ 4.606e-01  1.065e+00  1.710e+00  1.792e+00  7.519e-01]\n",
      " [       nan        nan        nan        nan        nan]\n",
      " [       nan        nan        nan        nan        nan]\n",
      " [ 2.912e+00  2.267e+00  1.718e+00  1.033e+00  6.095e-01]\n",
      " [-6.603e-02 -2.180e-04  6.582e-01  4.292e-01  6.248e-01]\n",
      " [       nan        nan        nan        nan        nan]\n",
      " [       nan        nan        nan        nan        nan]\n",
      " [ 1.457e+00  2.306e+00  1.914e+00  2.112e+00  2.567e+00]\n",
      " [       nan        nan        nan        nan        nan]\n",
      " [ 1.049e+00  8.273e-01  2.697e-01  3.300e-01  7.392e-01]\n",
      " [       nan        nan        nan        nan        nan]\n",
      " [ 1.273e+00  1.291e+00  1.465e+00  1.585e+00  1.399e+00]]\n"
     ]
    }
   ],
   "source": [
    "P=mf_netflix.p_factors()\n",
    "print('Tamaño P:',P.shape)\n",
    "print('Matriz P:\\n',P)"
   ]
  },
  {
   "cell_type": "code",
   "execution_count": 121,
   "metadata": {},
   "outputs": [
    {
     "name": "stdout",
     "output_type": "stream",
     "text": [
      "Tamaño PT: (5, 18)\n",
      "Matriz PT:\n",
      " [[ 1.126e+00  5.527e-01  8.339e-01  5.286e-02 -4.549e-02  1.064e+00\n",
      "   4.617e-01        nan        nan  2.928e+00 -6.603e-02        nan\n",
      "         nan  1.406e+00        nan  1.049e+00        nan  1.273e+00]\n",
      " [ 1.634e-01  1.642e+00  7.778e-02  4.016e-01  9.597e-01  1.000e+00\n",
      "   1.062e+00        nan        nan  2.276e+00 -2.180e-04        nan\n",
      "         nan  2.344e+00        nan  8.273e-01        nan  1.291e+00]\n",
      " [ 1.046e+00  5.575e-01  8.985e-01  1.009e+00  4.301e-01  5.427e-01\n",
      "   1.708e+00        nan        nan  1.715e+00  6.582e-01        nan\n",
      "         nan  1.901e+00        nan  2.697e-01        nan  1.465e+00]\n",
      " [ 3.287e-01  2.250e+00  1.467e+00  6.247e-01  6.686e-01  6.981e-01\n",
      "   1.798e+00        nan        nan  1.054e+00  4.292e-01        nan\n",
      "         nan  2.105e+00        nan  3.300e-01        nan  1.585e+00]\n",
      " [-4.513e-01  1.967e+00  1.374e+00  5.828e-01  5.406e-01  8.697e-01\n",
      "   7.507e-01        nan        nan  6.228e-01  6.248e-01        nan\n",
      "         nan  2.564e+00        nan  7.392e-01        nan  1.399e+00]]\n"
     ]
    }
   ],
   "source": [
    "PT=np.transpose(mf_netflix.p_factors())\n",
    "print('Tamaño PT:',PT.shape)\n",
    "print('Matriz PT:\\n',PT)"
   ]
  },
  {
   "cell_type": "markdown",
   "metadata": {},
   "source": [
    "**OBTENCIÓN MATRIZ R**"
   ]
  },
  {
   "cell_type": "code",
   "execution_count": 122,
   "metadata": {},
   "outputs": [
    {
     "ename": "ValueError",
     "evalue": "matmul: Input operand 1 has a mismatch in its core dimension 0, with gufunc signature (n?,k),(k,m?)->(n?,m?) (size 20 is different from 18)",
     "output_type": "error",
     "traceback": [
      "\u001b[0;31m---------------------------------------------------------------------------\u001b[0m",
      "\u001b[0;31mValueError\u001b[0m                                Traceback (most recent call last)",
      "\u001b[0;32m<ipython-input-122-bd446276bd0c>\u001b[0m in \u001b[0;36m<module>\u001b[0;34m\u001b[0m\n\u001b[0;32m----> 1\u001b[0;31m \u001b[0mR\u001b[0m\u001b[0;34m=\u001b[0m\u001b[0mPT\u001b[0m\u001b[0;34m@\u001b[0m\u001b[0mQ\u001b[0m\u001b[0;34m\u001b[0m\u001b[0;34m\u001b[0m\u001b[0m\n\u001b[0m\u001b[1;32m      2\u001b[0m \u001b[0mprint\u001b[0m\u001b[0;34m(\u001b[0m\u001b[0;34m'Tamaño R:'\u001b[0m\u001b[0;34m,\u001b[0m\u001b[0mR\u001b[0m\u001b[0;34m.\u001b[0m\u001b[0mshape\u001b[0m\u001b[0;34m)\u001b[0m\u001b[0;34m\u001b[0m\u001b[0;34m\u001b[0m\u001b[0m\n\u001b[1;32m      3\u001b[0m \u001b[0mprint\u001b[0m\u001b[0;34m(\u001b[0m\u001b[0;34m'Matriz R:\\n'\u001b[0m\u001b[0;34m,\u001b[0m\u001b[0mR\u001b[0m\u001b[0;34m)\u001b[0m\u001b[0;34m\u001b[0m\u001b[0;34m\u001b[0m\u001b[0m\n",
      "\u001b[0;31mValueError\u001b[0m: matmul: Input operand 1 has a mismatch in its core dimension 0, with gufunc signature (n?,k),(k,m?)->(n?,m?) (size 20 is different from 18)"
     ]
    }
   ],
   "source": [
    "R=PT@Q\n",
    "print('Tamaño R:',R.shape)\n",
    "print('Matriz R:\\n',R)"
   ]
  },
  {
   "cell_type": "code",
   "execution_count": 124,
   "metadata": {},
   "outputs": [
    {
     "name": "stdout",
     "output_type": "stream",
     "text": [
      "Tamaño R: (18, 20)\n",
      "Matriz R:\n",
      " [[  2.718   4.433   1.051   1.981   1.514   3.772     nan   3.037   0.548\n",
      "      nan   1.281   2.374     nan     nan     nan     nan   2.794     nan\n",
      "      nan   2.544]\n",
      " [  9.738   4.852   3.761   3.567   6.384   4.95      nan   9.895   2.496\n",
      "      nan   3.998  10.744     nan     nan     nan     nan  16.806     nan\n",
      "      nan   8.751]\n",
      " [  7.039   3.342   1.975   3.309   3.87    4.093     nan   6.803   1.83\n",
      "      nan   2.591   6.825     nan     nan     nan     nan   9.876     nan\n",
      "      nan   5.836]\n",
      " [  3.663   2.102   1.269   1.498   2.407   2.29      nan   3.774   0.464\n",
      "      nan   1.147   3.819     nan     nan     nan     nan   5.386     nan\n",
      "      nan   3.761]\n",
      " [  3.232   2.057   1.539   0.974   2.484   1.771     nan   3.515   0.554\n",
      "      nan   1.286   3.871     nan     nan     nan     nan   6.074     nan\n",
      "      nan   3.397]\n",
      " [  5.372   4.922   2.272   2.494   3.747   3.925     nan   5.946   1.548\n",
      "      nan   2.294   5.75      nan     nan     nan     nan   8.754     nan\n",
      "      nan   4.546]\n",
      " [  7.904   5.221   2.942   3.328   4.963   5.481     nan   8.038   1.298\n",
      "      nan   3.045   8.322     nan     nan     nan     nan  12.02      nan\n",
      "      nan   7.979]\n",
      " [    nan     nan     nan     nan     nan     nan     nan     nan     nan\n",
      "      nan     nan     nan     nan     nan     nan     nan     nan     nan\n",
      "      nan     nan]\n",
      " [    nan     nan     nan     nan     nan     nan     nan     nan     nan\n",
      "      nan     nan     nan     nan     nan     nan     nan     nan     nan\n",
      "      nan     nan]\n",
      " [ 10.351  13.126   4.84    5.49    7.4     9.938     nan  12.016   2.842\n",
      "      nan   4.787  10.948     nan     nan     nan     nan  16.134     nan\n",
      "      nan   9.106]\n",
      " [  2.499   0.668   0.635   1.017   1.487   1.163     nan   2.412   0.344\n",
      "      nan   0.634   2.46      nan     nan     nan     nan   3.401     nan\n",
      "      nan   2.405]\n",
      " [    nan     nan     nan     nan     nan     nan     nan     nan     nan\n",
      "      nan     nan     nan     nan     nan     nan     nan     nan     nan\n",
      "      nan     nan]\n",
      " [    nan     nan     nan     nan     nan     nan     nan     nan     nan\n",
      "      nan     nan     nan     nan     nan     nan     nan     nan     nan\n",
      "      nan     nan]\n",
      " [ 13.681   9.711   5.452   5.669   9.485   8.567     nan  14.682   3.183\n",
      "      nan   5.234  14.795     nan     nan     nan     nan  22.336     nan\n",
      "      nan  12.483]\n",
      " [    nan     nan     nan     nan     nan     nan     nan     nan     nan\n",
      "      nan     nan     nan     nan     nan     nan     nan     nan     nan\n",
      "      nan     nan]\n",
      " [  4.018   4.215   1.785   1.967   2.927   3.074     nan   4.619   1.343\n",
      "      nan   1.772   4.312     nan     nan     nan     nan   6.658     nan\n",
      "      nan   3.149]\n",
      " [    nan     nan     nan     nan     nan     nan     nan     nan     nan\n",
      "      nan     nan     nan     nan     nan     nan     nan     nan     nan\n",
      "      nan     nan]\n",
      " [  9.429   7.15    3.584   4.262   6.158   6.544     nan   9.961   2.221\n",
      "      nan   3.725   9.857     nan     nan     nan     nan  14.56      nan\n",
      "      nan   8.513]]\n"
     ]
    }
   ],
   "source": [
    "R=P@np.transpose(Q)\n",
    "print('Tamaño R:',R.shape)\n",
    "print('Matriz R:\\n',R)"
   ]
  },
  {
   "cell_type": "code",
   "execution_count": 125,
   "metadata": {},
   "outputs": [
    {
     "data": {
      "text/html": [
       "<div>\n",
       "<style scoped>\n",
       "    .dataframe tbody tr th:only-of-type {\n",
       "        vertical-align: middle;\n",
       "    }\n",
       "\n",
       "    .dataframe tbody tr th {\n",
       "        vertical-align: top;\n",
       "    }\n",
       "\n",
       "    .dataframe thead th {\n",
       "        text-align: right;\n",
       "    }\n",
       "</style>\n",
       "<table border=\"1\" class=\"dataframe\">\n",
       "  <thead>\n",
       "    <tr style=\"text-align: right;\">\n",
       "      <th></th>\n",
       "      <th>0</th>\n",
       "      <th>1</th>\n",
       "      <th>2</th>\n",
       "    </tr>\n",
       "  </thead>\n",
       "  <tbody>\n",
       "    <tr>\n",
       "      <th>0</th>\n",
       "      <td>0.0</td>\n",
       "      <td>0.0</td>\n",
       "      <td>2.717571</td>\n",
       "    </tr>\n",
       "    <tr>\n",
       "      <th>1</th>\n",
       "      <td>0.0</td>\n",
       "      <td>1.0</td>\n",
       "      <td>4.433491</td>\n",
       "    </tr>\n",
       "    <tr>\n",
       "      <th>2</th>\n",
       "      <td>0.0</td>\n",
       "      <td>2.0</td>\n",
       "      <td>1.051146</td>\n",
       "    </tr>\n",
       "    <tr>\n",
       "      <th>3</th>\n",
       "      <td>0.0</td>\n",
       "      <td>3.0</td>\n",
       "      <td>1.980706</td>\n",
       "    </tr>\n",
       "    <tr>\n",
       "      <th>4</th>\n",
       "      <td>0.0</td>\n",
       "      <td>4.0</td>\n",
       "      <td>1.513539</td>\n",
       "    </tr>\n",
       "    <tr>\n",
       "      <th>...</th>\n",
       "      <td>...</td>\n",
       "      <td>...</td>\n",
       "      <td>...</td>\n",
       "    </tr>\n",
       "    <tr>\n",
       "      <th>139</th>\n",
       "      <td>17.0</td>\n",
       "      <td>8.0</td>\n",
       "      <td>2.221412</td>\n",
       "    </tr>\n",
       "    <tr>\n",
       "      <th>140</th>\n",
       "      <td>17.0</td>\n",
       "      <td>10.0</td>\n",
       "      <td>3.725379</td>\n",
       "    </tr>\n",
       "    <tr>\n",
       "      <th>141</th>\n",
       "      <td>17.0</td>\n",
       "      <td>11.0</td>\n",
       "      <td>9.857000</td>\n",
       "    </tr>\n",
       "    <tr>\n",
       "      <th>142</th>\n",
       "      <td>17.0</td>\n",
       "      <td>16.0</td>\n",
       "      <td>14.560449</td>\n",
       "    </tr>\n",
       "    <tr>\n",
       "      <th>143</th>\n",
       "      <td>17.0</td>\n",
       "      <td>19.0</td>\n",
       "      <td>8.512807</td>\n",
       "    </tr>\n",
       "  </tbody>\n",
       "</table>\n",
       "<p>144 rows × 3 columns</p>\n",
       "</div>"
      ],
      "text/plain": [
       "        0     1          2\n",
       "0     0.0   0.0   2.717571\n",
       "1     0.0   1.0   4.433491\n",
       "2     0.0   2.0   1.051146\n",
       "3     0.0   3.0   1.980706\n",
       "4     0.0   4.0   1.513539\n",
       "..    ...   ...        ...\n",
       "139  17.0   8.0   2.221412\n",
       "140  17.0  10.0   3.725379\n",
       "141  17.0  11.0   9.857000\n",
       "142  17.0  16.0  14.560449\n",
       "143  17.0  19.0   8.512807\n",
       "\n",
       "[144 rows x 3 columns]"
      ]
     },
     "execution_count": 125,
     "metadata": {},
     "output_type": "execute_result"
    }
   ],
   "source": [
    "#Podemos ver cómo se ve la matriz R en forma compacta\n",
    "compactar_matriz_rala(R)\n",
    "pd.DataFrame(compactar_matriz_rala(R))"
   ]
  },
  {
   "cell_type": "code",
   "execution_count": 39,
   "metadata": {},
   "outputs": [
    {
     "data": {
      "text/html": [
       "<div>\n",
       "<style scoped>\n",
       "    .dataframe tbody tr th:only-of-type {\n",
       "        vertical-align: middle;\n",
       "    }\n",
       "\n",
       "    .dataframe tbody tr th {\n",
       "        vertical-align: top;\n",
       "    }\n",
       "\n",
       "    .dataframe thead th {\n",
       "        text-align: right;\n",
       "    }\n",
       "</style>\n",
       "<table border=\"1\" class=\"dataframe\">\n",
       "  <thead>\n",
       "    <tr style=\"text-align: right;\">\n",
       "      <th></th>\n",
       "      <th>ren</th>\n",
       "      <th>col</th>\n",
       "      <th>calif</th>\n",
       "      <th>R_calif_est</th>\n",
       "      <th>mf_netflix_predict</th>\n",
       "    </tr>\n",
       "  </thead>\n",
       "  <tbody>\n",
       "    <tr>\n",
       "      <th>0</th>\n",
       "      <td>19.0</td>\n",
       "      <td>4.0</td>\n",
       "      <td>5.0</td>\n",
       "      <td>5.197598</td>\n",
       "      <td>5.197598</td>\n",
       "    </tr>\n",
       "    <tr>\n",
       "      <th>1</th>\n",
       "      <td>16.0</td>\n",
       "      <td>4.0</td>\n",
       "      <td>5.0</td>\n",
       "      <td>NaN</td>\n",
       "      <td>4.825397</td>\n",
       "    </tr>\n",
       "    <tr>\n",
       "      <th>2</th>\n",
       "      <td>17.0</td>\n",
       "      <td>4.0</td>\n",
       "      <td>3.0</td>\n",
       "      <td>8.488568</td>\n",
       "      <td>8.488568</td>\n",
       "    </tr>\n",
       "    <tr>\n",
       "      <th>3</th>\n",
       "      <td>15.0</td>\n",
       "      <td>4.0</td>\n",
       "      <td>1.0</td>\n",
       "      <td>NaN</td>\n",
       "      <td>4.825397</td>\n",
       "    </tr>\n",
       "    <tr>\n",
       "      <th>4</th>\n",
       "      <td>19.0</td>\n",
       "      <td>3.0</td>\n",
       "      <td>3.0</td>\n",
       "      <td>3.287389</td>\n",
       "      <td>3.287389</td>\n",
       "    </tr>\n",
       "    <tr>\n",
       "      <th>5</th>\n",
       "      <td>16.0</td>\n",
       "      <td>3.0</td>\n",
       "      <td>1.0</td>\n",
       "      <td>NaN</td>\n",
       "      <td>4.825397</td>\n",
       "    </tr>\n",
       "    <tr>\n",
       "      <th>6</th>\n",
       "      <td>13.0</td>\n",
       "      <td>3.0</td>\n",
       "      <td>3.0</td>\n",
       "      <td>NaN</td>\n",
       "      <td>4.825397</td>\n",
       "    </tr>\n",
       "  </tbody>\n",
       "</table>\n",
       "</div>"
      ],
      "text/plain": [
       "    ren  col  calif  R_calif_est  mf_netflix_predict\n",
       "0  19.0  4.0    5.0     5.197598            5.197598\n",
       "1  16.0  4.0    5.0          NaN            4.825397\n",
       "2  17.0  4.0    3.0     8.488568            8.488568\n",
       "3  15.0  4.0    1.0          NaN            4.825397\n",
       "4  19.0  3.0    3.0     3.287389            3.287389\n",
       "5  16.0  3.0    1.0          NaN            4.825397\n",
       "6  13.0  3.0    3.0          NaN            4.825397"
      ]
     },
     "metadata": {},
     "output_type": "display_data"
    },
    {
     "name": "stdout",
     "output_type": "stream",
     "text": [
      "Usuarios 13, 15 y 16 en MC_valida:\n"
     ]
    },
    {
     "data": {
      "text/html": [
       "<div>\n",
       "<style scoped>\n",
       "    .dataframe tbody tr th:only-of-type {\n",
       "        vertical-align: middle;\n",
       "    }\n",
       "\n",
       "    .dataframe tbody tr th {\n",
       "        vertical-align: top;\n",
       "    }\n",
       "\n",
       "    .dataframe thead th {\n",
       "        text-align: right;\n",
       "    }\n",
       "</style>\n",
       "<table border=\"1\" class=\"dataframe\">\n",
       "  <thead>\n",
       "    <tr style=\"text-align: right;\">\n",
       "      <th></th>\n",
       "      <th>ren</th>\n",
       "      <th>col</th>\n",
       "      <th>calif</th>\n",
       "    </tr>\n",
       "  </thead>\n",
       "  <tbody>\n",
       "    <tr>\n",
       "      <th>1</th>\n",
       "      <td>16</td>\n",
       "      <td>4</td>\n",
       "      <td>5</td>\n",
       "    </tr>\n",
       "    <tr>\n",
       "      <th>3</th>\n",
       "      <td>15</td>\n",
       "      <td>4</td>\n",
       "      <td>1</td>\n",
       "    </tr>\n",
       "    <tr>\n",
       "      <th>5</th>\n",
       "      <td>16</td>\n",
       "      <td>3</td>\n",
       "      <td>1</td>\n",
       "    </tr>\n",
       "    <tr>\n",
       "      <th>6</th>\n",
       "      <td>13</td>\n",
       "      <td>3</td>\n",
       "      <td>3</td>\n",
       "    </tr>\n",
       "  </tbody>\n",
       "</table>\n",
       "</div>"
      ],
      "text/plain": [
       "   ren  col  calif\n",
       "1   16    4      5\n",
       "3   15    4      1\n",
       "5   16    3      1\n",
       "6   13    3      3"
      ]
     },
     "metadata": {},
     "output_type": "display_data"
    },
    {
     "name": "stdout",
     "output_type": "stream",
     "text": [
      "Usuarios 13, 15 y 16 en MC_entrena:\n"
     ]
    },
    {
     "data": {
      "text/html": [
       "<div>\n",
       "<style scoped>\n",
       "    .dataframe tbody tr th:only-of-type {\n",
       "        vertical-align: middle;\n",
       "    }\n",
       "\n",
       "    .dataframe tbody tr th {\n",
       "        vertical-align: top;\n",
       "    }\n",
       "\n",
       "    .dataframe thead th {\n",
       "        text-align: right;\n",
       "    }\n",
       "</style>\n",
       "<table border=\"1\" class=\"dataframe\">\n",
       "  <thead>\n",
       "    <tr style=\"text-align: right;\">\n",
       "      <th></th>\n",
       "      <th>ren</th>\n",
       "      <th>col</th>\n",
       "      <th>calif</th>\n",
       "    </tr>\n",
       "  </thead>\n",
       "  <tbody>\n",
       "    <tr>\n",
       "      <th>32</th>\n",
       "      <td>15</td>\n",
       "      <td>2</td>\n",
       "      <td>1</td>\n",
       "    </tr>\n",
       "    <tr>\n",
       "      <th>34</th>\n",
       "      <td>16</td>\n",
       "      <td>1</td>\n",
       "      <td>5</td>\n",
       "    </tr>\n",
       "    <tr>\n",
       "      <th>40</th>\n",
       "      <td>15</td>\n",
       "      <td>0</td>\n",
       "      <td>3</td>\n",
       "    </tr>\n",
       "    <tr>\n",
       "      <th>56</th>\n",
       "      <td>13</td>\n",
       "      <td>2</td>\n",
       "      <td>2</td>\n",
       "    </tr>\n",
       "  </tbody>\n",
       "</table>\n",
       "</div>"
      ],
      "text/plain": [
       "    ren  col  calif\n",
       "32   15    2      1\n",
       "34   16    1      5\n",
       "40   15    0      3\n",
       "56   13    2      2"
      ]
     },
     "metadata": {},
     "output_type": "display_data"
    },
    {
     "name": "stdout",
     "output_type": "stream",
     "text": [
      "Se calificaron películas 3 y 4 en MC_valida?...sí\n"
     ]
    },
    {
     "data": {
      "text/html": [
       "<div>\n",
       "<style scoped>\n",
       "    .dataframe tbody tr th:only-of-type {\n",
       "        vertical-align: middle;\n",
       "    }\n",
       "\n",
       "    .dataframe tbody tr th {\n",
       "        vertical-align: top;\n",
       "    }\n",
       "\n",
       "    .dataframe thead th {\n",
       "        text-align: right;\n",
       "    }\n",
       "</style>\n",
       "<table border=\"1\" class=\"dataframe\">\n",
       "  <thead>\n",
       "    <tr style=\"text-align: right;\">\n",
       "      <th></th>\n",
       "      <th>ren</th>\n",
       "      <th>col</th>\n",
       "      <th>calif</th>\n",
       "    </tr>\n",
       "  </thead>\n",
       "  <tbody>\n",
       "    <tr>\n",
       "      <th>0</th>\n",
       "      <td>19</td>\n",
       "      <td>4</td>\n",
       "      <td>5</td>\n",
       "    </tr>\n",
       "    <tr>\n",
       "      <th>1</th>\n",
       "      <td>16</td>\n",
       "      <td>4</td>\n",
       "      <td>5</td>\n",
       "    </tr>\n",
       "    <tr>\n",
       "      <th>2</th>\n",
       "      <td>17</td>\n",
       "      <td>4</td>\n",
       "      <td>3</td>\n",
       "    </tr>\n",
       "    <tr>\n",
       "      <th>3</th>\n",
       "      <td>15</td>\n",
       "      <td>4</td>\n",
       "      <td>1</td>\n",
       "    </tr>\n",
       "    <tr>\n",
       "      <th>4</th>\n",
       "      <td>19</td>\n",
       "      <td>3</td>\n",
       "      <td>3</td>\n",
       "    </tr>\n",
       "    <tr>\n",
       "      <th>5</th>\n",
       "      <td>16</td>\n",
       "      <td>3</td>\n",
       "      <td>1</td>\n",
       "    </tr>\n",
       "    <tr>\n",
       "      <th>6</th>\n",
       "      <td>13</td>\n",
       "      <td>3</td>\n",
       "      <td>3</td>\n",
       "    </tr>\n",
       "  </tbody>\n",
       "</table>\n",
       "</div>"
      ],
      "text/plain": [
       "   ren  col  calif\n",
       "0   19    4      5\n",
       "1   16    4      5\n",
       "2   17    4      3\n",
       "3   15    4      1\n",
       "4   19    3      3\n",
       "5   16    3      1\n",
       "6   13    3      3"
      ]
     },
     "metadata": {},
     "output_type": "display_data"
    },
    {
     "name": "stdout",
     "output_type": "stream",
     "text": [
      "Se calificaron películas 3 y 4 en MC_entrena?...sí\n"
     ]
    },
    {
     "data": {
      "text/html": [
       "<div>\n",
       "<style scoped>\n",
       "    .dataframe tbody tr th:only-of-type {\n",
       "        vertical-align: middle;\n",
       "    }\n",
       "\n",
       "    .dataframe tbody tr th {\n",
       "        vertical-align: top;\n",
       "    }\n",
       "\n",
       "    .dataframe thead th {\n",
       "        text-align: right;\n",
       "    }\n",
       "</style>\n",
       "<table border=\"1\" class=\"dataframe\">\n",
       "  <thead>\n",
       "    <tr style=\"text-align: right;\">\n",
       "      <th></th>\n",
       "      <th>ren</th>\n",
       "      <th>col</th>\n",
       "      <th>calif</th>\n",
       "    </tr>\n",
       "  </thead>\n",
       "  <tbody>\n",
       "    <tr>\n",
       "      <th>2</th>\n",
       "      <td>18</td>\n",
       "      <td>3</td>\n",
       "      <td>4</td>\n",
       "    </tr>\n",
       "    <tr>\n",
       "      <th>3</th>\n",
       "      <td>5</td>\n",
       "      <td>4</td>\n",
       "      <td>1</td>\n",
       "    </tr>\n",
       "    <tr>\n",
       "      <th>10</th>\n",
       "      <td>2</td>\n",
       "      <td>3</td>\n",
       "      <td>1</td>\n",
       "    </tr>\n",
       "    <tr>\n",
       "      <th>11</th>\n",
       "      <td>3</td>\n",
       "      <td>3</td>\n",
       "      <td>1</td>\n",
       "    </tr>\n",
       "    <tr>\n",
       "      <th>13</th>\n",
       "      <td>1</td>\n",
       "      <td>4</td>\n",
       "      <td>3</td>\n",
       "    </tr>\n",
       "    <tr>\n",
       "      <th>14</th>\n",
       "      <td>18</td>\n",
       "      <td>4</td>\n",
       "      <td>2</td>\n",
       "    </tr>\n",
       "    <tr>\n",
       "      <th>17</th>\n",
       "      <td>14</td>\n",
       "      <td>4</td>\n",
       "      <td>1</td>\n",
       "    </tr>\n",
       "    <tr>\n",
       "      <th>21</th>\n",
       "      <td>7</td>\n",
       "      <td>3</td>\n",
       "      <td>5</td>\n",
       "    </tr>\n",
       "    <tr>\n",
       "      <th>24</th>\n",
       "      <td>11</td>\n",
       "      <td>4</td>\n",
       "      <td>2</td>\n",
       "    </tr>\n",
       "    <tr>\n",
       "      <th>27</th>\n",
       "      <td>6</td>\n",
       "      <td>3</td>\n",
       "      <td>5</td>\n",
       "    </tr>\n",
       "    <tr>\n",
       "      <th>28</th>\n",
       "      <td>4</td>\n",
       "      <td>3</td>\n",
       "      <td>3</td>\n",
       "    </tr>\n",
       "    <tr>\n",
       "      <th>31</th>\n",
       "      <td>0</td>\n",
       "      <td>4</td>\n",
       "      <td>4</td>\n",
       "    </tr>\n",
       "    <tr>\n",
       "      <th>35</th>\n",
       "      <td>14</td>\n",
       "      <td>3</td>\n",
       "      <td>2</td>\n",
       "    </tr>\n",
       "    <tr>\n",
       "      <th>41</th>\n",
       "      <td>12</td>\n",
       "      <td>3</td>\n",
       "      <td>1</td>\n",
       "    </tr>\n",
       "    <tr>\n",
       "      <th>43</th>\n",
       "      <td>7</td>\n",
       "      <td>4</td>\n",
       "      <td>2</td>\n",
       "    </tr>\n",
       "    <tr>\n",
       "      <th>44</th>\n",
       "      <td>6</td>\n",
       "      <td>4</td>\n",
       "      <td>2</td>\n",
       "    </tr>\n",
       "    <tr>\n",
       "      <th>45</th>\n",
       "      <td>12</td>\n",
       "      <td>4</td>\n",
       "      <td>5</td>\n",
       "    </tr>\n",
       "    <tr>\n",
       "      <th>52</th>\n",
       "      <td>1</td>\n",
       "      <td>3</td>\n",
       "      <td>1</td>\n",
       "    </tr>\n",
       "    <tr>\n",
       "      <th>53</th>\n",
       "      <td>2</td>\n",
       "      <td>4</td>\n",
       "      <td>3</td>\n",
       "    </tr>\n",
       "    <tr>\n",
       "      <th>59</th>\n",
       "      <td>4</td>\n",
       "      <td>4</td>\n",
       "      <td>5</td>\n",
       "    </tr>\n",
       "    <tr>\n",
       "      <th>60</th>\n",
       "      <td>9</td>\n",
       "      <td>4</td>\n",
       "      <td>4</td>\n",
       "    </tr>\n",
       "  </tbody>\n",
       "</table>\n",
       "</div>"
      ],
      "text/plain": [
       "    ren  col  calif\n",
       "2    18    3      4\n",
       "3     5    4      1\n",
       "10    2    3      1\n",
       "11    3    3      1\n",
       "13    1    4      3\n",
       "14   18    4      2\n",
       "17   14    4      1\n",
       "21    7    3      5\n",
       "24   11    4      2\n",
       "27    6    3      5\n",
       "28    4    3      3\n",
       "31    0    4      4\n",
       "35   14    3      2\n",
       "41   12    3      1\n",
       "43    7    4      2\n",
       "44    6    4      2\n",
       "45   12    4      5\n",
       "52    1    3      1\n",
       "53    2    4      3\n",
       "59    4    4      5\n",
       "60    9    4      4"
      ]
     },
     "metadata": {},
     "output_type": "display_data"
    }
   ],
   "source": [
    "#Notese que R justo contiene algunas de las estimaciones arrojadas por\n",
    "#el método predict, pero no todas\n",
    "comparativo=pd.DataFrame(columns=['ren','col','calif','R_calif_est','mf_netflix_predict'])\n",
    "for i in range(MC_valida.shape[0]):\n",
    "    comparativo.loc[i] = [MC_valida[i,0], MC_valida[i,1], MC_valida[i,2],R[MC_valida[i,0],MC_valida[i,1]],pred[i]]\n",
    "display(comparativo)\n",
    "\n",
    "#Observa que R no contiene todas las estimaciones que tiene predict\n",
    "#checamos unos casos particulares: 4, 9, 11, 12\n",
    "#nota que todos esos usuarios aparecen tanto en MC_entrena como \n",
    "#en MC_valida, y sin embargo la matriz R no tiene las calificaciones\n",
    "#ni del usuario 13, 15 y 16\n",
    "df_MC_valida=pd.DataFrame(MC_valida,columns=['ren','col','calif'])\n",
    "df_MC_entrena=pd.DataFrame(MC_entrena,columns=['ren','col','calif'])\n",
    "print('Usuarios 13, 15 y 16 en MC_valida:')\n",
    "display(df_MC_valida[df_MC_valida.ren.isin([13,15,16])])\n",
    "print('Usuarios 13, 15 y 16 en MC_entrena:')\n",
    "display(df_MC_entrena[df_MC_entrena.ren.isin([13,15,16])])\n",
    "\n",
    "\n",
    "#Obsérvese las películas que los usuarios 13, 15 y 16\n",
    "#Tanto en entrena como en valida aparecen estos usuarios\n",
    "#La base valida sólo tiene calificaciones de las películas\n",
    "#3 y 4\n",
    "print('Se calificaron películas 3 y 4 en MC_valida?...sí')\n",
    "display(df_MC_valida[df_MC_valida.col.isin([3,4])])\n",
    "print('Se calificaron películas 3 y 4 en MC_entrena?...sí')\n",
    "display(df_MC_entrena[df_MC_entrena.col.isin([3,4])])\n"
   ]
  },
  {
   "cell_type": "code",
   "execution_count": null,
   "metadata": {},
   "outputs": [],
   "source": []
  },
  {
   "cell_type": "code",
   "execution_count": null,
   "metadata": {},
   "outputs": [],
   "source": []
  },
  {
   "cell_type": "code",
   "execution_count": null,
   "metadata": {},
   "outputs": [],
   "source": []
  },
  {
   "cell_type": "code",
   "execution_count": null,
   "metadata": {},
   "outputs": [],
   "source": []
  },
  {
   "cell_type": "code",
   "execution_count": null,
   "metadata": {},
   "outputs": [],
   "source": []
  },
  {
   "cell_type": "markdown",
   "metadata": {},
   "source": [
    "# Obtención de muestra base netflix"
   ]
  },
  {
   "cell_type": "code",
   "execution_count": 1,
   "metadata": {},
   "outputs": [
    {
     "data": {
      "text/plain": [
       "'/datos/proyecto-final-equipo5-mno-2020-1/Implementation/Implementacion_final_base_muestra_Netflix'"
      ]
     },
     "execution_count": 1,
     "metadata": {},
     "output_type": "execute_result"
    }
   ],
   "source": [
    "pwd"
   ]
  },
  {
   "cell_type": "code",
   "execution_count": 23,
   "metadata": {},
   "outputs": [
    {
     "name": "stdout",
     "output_type": "stream",
     "text": [
      "/datos/datasets\n"
     ]
    },
    {
     "data": {
      "text/html": [
       "<div>\n",
       "<style scoped>\n",
       "    .dataframe tbody tr th:only-of-type {\n",
       "        vertical-align: middle;\n",
       "    }\n",
       "\n",
       "    .dataframe tbody tr th {\n",
       "        vertical-align: top;\n",
       "    }\n",
       "\n",
       "    .dataframe thead th {\n",
       "        text-align: right;\n",
       "    }\n",
       "</style>\n",
       "<table border=\"1\" class=\"dataframe\">\n",
       "  <thead>\n",
       "    <tr style=\"text-align: right;\">\n",
       "      <th></th>\n",
       "      <th>peli_id</th>\n",
       "      <th>año</th>\n",
       "      <th>nombre</th>\n",
       "    </tr>\n",
       "  </thead>\n",
       "  <tbody>\n",
       "    <tr>\n",
       "      <th>0</th>\n",
       "      <td>1</td>\n",
       "      <td>2003.0</td>\n",
       "      <td>Dinosaur Planet</td>\n",
       "    </tr>\n",
       "    <tr>\n",
       "      <th>1</th>\n",
       "      <td>2</td>\n",
       "      <td>2004.0</td>\n",
       "      <td>Isle of Man TT 2004 Review</td>\n",
       "    </tr>\n",
       "    <tr>\n",
       "      <th>2</th>\n",
       "      <td>3</td>\n",
       "      <td>1997.0</td>\n",
       "      <td>Character</td>\n",
       "    </tr>\n",
       "    <tr>\n",
       "      <th>3</th>\n",
       "      <td>4</td>\n",
       "      <td>1994.0</td>\n",
       "      <td>Paula Abdul's Get Up &amp; Dance</td>\n",
       "    </tr>\n",
       "    <tr>\n",
       "      <th>4</th>\n",
       "      <td>5</td>\n",
       "      <td>2004.0</td>\n",
       "      <td>The Rise and Fall of ECW</td>\n",
       "    </tr>\n",
       "    <tr>\n",
       "      <th>5</th>\n",
       "      <td>6</td>\n",
       "      <td>1997.0</td>\n",
       "      <td>Sick</td>\n",
       "    </tr>\n",
       "    <tr>\n",
       "      <th>6</th>\n",
       "      <td>7</td>\n",
       "      <td>1992.0</td>\n",
       "      <td>8 Man</td>\n",
       "    </tr>\n",
       "    <tr>\n",
       "      <th>7</th>\n",
       "      <td>8</td>\n",
       "      <td>2004.0</td>\n",
       "      <td>What the #$*! Do We Know!?</td>\n",
       "    </tr>\n",
       "    <tr>\n",
       "      <th>8</th>\n",
       "      <td>9</td>\n",
       "      <td>1991.0</td>\n",
       "      <td>Class of Nuke 'Em High 2</td>\n",
       "    </tr>\n",
       "    <tr>\n",
       "      <th>9</th>\n",
       "      <td>10</td>\n",
       "      <td>2001.0</td>\n",
       "      <td>Fighter</td>\n",
       "    </tr>\n",
       "  </tbody>\n",
       "</table>\n",
       "</div>"
      ],
      "text/plain": [
       "   peli_id     año                        nombre\n",
       "0        1  2003.0               Dinosaur Planet\n",
       "1        2  2004.0    Isle of Man TT 2004 Review\n",
       "2        3  1997.0                     Character\n",
       "3        4  1994.0  Paula Abdul's Get Up & Dance\n",
       "4        5  2004.0      The Rise and Fall of ECW\n",
       "5        6  1997.0                          Sick\n",
       "6        7  1992.0                         8 Man\n",
       "7        8  2004.0    What the #$*! Do We Know!?\n",
       "8        9  1991.0      Class of Nuke 'Em High 2\n",
       "9       10  2001.0                       Fighter"
      ]
     },
     "execution_count": 23,
     "metadata": {},
     "output_type": "execute_result"
    }
   ],
   "source": [
    "#ASEGURESE DE PONER LA UBICACIÓN CORRECTA DE LA UBICACIÓN DE LA CARPETA DE LAS BASES\n",
    "#movies_titles_fix.csv y dat_muestra_nflix.csv\n",
    "\n",
    "################################################################################################################\n",
    "################## LA ÚNICA BASE DE FELIPE QUE ENCONTRÉ EN EL REPO ESTÁ AQUÍ ###################################\n",
    "####### ESTA FUE LA ÚNICA PARTE DE LA OBTENCIÓN DE MUESTRA BASE NETFLIX QUE VOLVÍ A CORRER #####################\n",
    "################################################################################################################\n",
    "%cd /datos/datasets\n",
    "#Se guarda una variable con una muestra de las base de netflix (\"movies_title_fix.csv\")\n",
    "#A continuación se presentan las características de las películas, con el objeto\n",
    "#de conocer un poco más los datos utilizados (pero esta no será la base usada para el modelo)\n",
    "pelis_nombres=pd.read_csv('movies_title_fix.csv',names=[\"peli_id\", \"año\", \"nombre\"])\n",
    "pelis_nombres.head(10) #para ver cómo se encuentran los datos"
   ]
  },
  {
   "cell_type": "code",
   "execution_count": 45,
   "metadata": {},
   "outputs": [
    {
     "name": "stdout",
     "output_type": "stream",
     "text": [
      "/datos/datasets\n"
     ]
    },
    {
     "data": {
      "text/plain": [
       "(20968941, 3)"
      ]
     },
     "execution_count": 45,
     "metadata": {},
     "output_type": "execute_result"
    }
   ],
   "source": [
    "#La base tiene peli_id, usuario_id_orig, calif, fecha y usuario_id. Se trabajará solo\n",
    "#con las columnas de usuario, pelicula y calificación\n",
    "\n",
    "################################################################################################################\n",
    "################## A PARTIR DE AQUÍ SE REQUIERE LA BASE DE FELIPE dat_muestra_nflix.csv ########################\n",
    "#################################### PERO NO LA UBICQUÉ EN EL REPO #############################################\n",
    "################################################################################################################\n",
    "%cd /datos/datasets\n",
    "df_muestra_netflix=pd.read_csv('dat_muestra_nflix.csv')\n",
    "df_muestra_netflix_libmf=df_muestra_netflix[['usuario_id', 'peli_id', 'calif']]\n",
    "df_muestra_netflix_libmf.shape"
   ]
  },
  {
   "cell_type": "code",
   "execution_count": 46,
   "metadata": {},
   "outputs": [
    {
     "name": "stdout",
     "output_type": "stream",
     "text": [
      "/datos/datasets\n"
     ]
    }
   ],
   "source": [
    "#Se genera una base de validación que contendrá el 20% de los datos\n",
    "#y una base de entrenamiento que tendrá el restante 80%\n",
    "random.seed(28882)\n",
    "data_valida, data_entrena=muestra_val_ent(df_muestra_netflix_libmf,0.2)\n",
    "\n",
    "################################################################################################################\n",
    "#################### ESTO GUARDA LAS BASES QUE USA ESTE NOTEBOOK EN LA CARPETA DONDE ########################\n",
    "################################# ESTA GUARDADO ESTE NOTEBOOK ###############################################\n",
    "################################################################################################################\n",
    "#puedes guardar las bases como un .csv dentro del directorio donde está este notebook\n",
    "%cd /datos/datasets\n",
    "data_valida.to_csv(r'data_valida.csv', index = False)    \n",
    "data_entrena.to_csv(r'data_entrena.csv', index = False)    \n",
    "\n",
    "#Base de todos los usuarios\n",
    "usuarios=pd.DataFrame(df_muestra_netflix_libmf['usuario_id'].unique(), columns=['usuario_id'])\n",
    "#Muestreo de usuarios\n",
    "valida_usuarios=usuarios.sample(frac=0.2)  \n",
    "\n",
    "#Base de todas las películas\n",
    "peliculas=pd.DataFrame(df_muestra_netflix_libmf['peli_id'].unique(), columns=['peli_id'])\n",
    "#Muestreo de películas\n",
    "valida_pelis=peliculas.sample(frac=0.2)"
   ]
  },
  {
   "cell_type": "code",
   "execution_count": 47,
   "metadata": {},
   "outputs": [],
   "source": [
    "#df_valida tiene las columnas usuario_id, peli_id y calif, pero\n",
    "#sólo incluye los usuarios muestreados en valida_usuarios\n",
    "df_valida=pd.merge(df_muestra_netflix_libmf,valida_usuarios, on ='usuario_id', how='inner')\n",
    "#data_valida filtra de la base df_valida los pelis_id muestreas\n",
    "#en valida_pelis\n",
    "data_valida=pd.merge(df_valida,valida_pelis, on ='peli_id', how='inner')\n",
    "#guardamos data_valida como un .csv dentro del directorio donde está este notebook\n",
    "data_valida.to_csv(r'muestra_valida.csv', index = False)\n",
    "left= pd.merge(df_muestra_netflix_libmf, data_valida, how='left',on=['usuario_id', 'peli_id'])\n",
    "data_entrena=left[left.isnull().any(axis=1)][['usuario_id', 'peli_id','calif_x']]"
   ]
  },
  {
   "cell_type": "code",
   "execution_count": 48,
   "metadata": {},
   "outputs": [
    {
     "data": {
      "text/html": [
       "<div>\n",
       "<style scoped>\n",
       "    .dataframe tbody tr th:only-of-type {\n",
       "        vertical-align: middle;\n",
       "    }\n",
       "\n",
       "    .dataframe tbody tr th {\n",
       "        vertical-align: top;\n",
       "    }\n",
       "\n",
       "    .dataframe thead th {\n",
       "        text-align: right;\n",
       "    }\n",
       "</style>\n",
       "<table border=\"1\" class=\"dataframe\">\n",
       "  <thead>\n",
       "    <tr style=\"text-align: right;\">\n",
       "      <th></th>\n",
       "      <th>usuario_id</th>\n",
       "      <th>peli_id</th>\n",
       "      <th>calif</th>\n",
       "    </tr>\n",
       "  </thead>\n",
       "  <tbody>\n",
       "    <tr>\n",
       "      <th>0</th>\n",
       "      <td>3</td>\n",
       "      <td>14686</td>\n",
       "      <td>4</td>\n",
       "    </tr>\n",
       "    <tr>\n",
       "      <th>1</th>\n",
       "      <td>125</td>\n",
       "      <td>14686</td>\n",
       "      <td>3</td>\n",
       "    </tr>\n",
       "    <tr>\n",
       "      <th>2</th>\n",
       "      <td>2036</td>\n",
       "      <td>14686</td>\n",
       "      <td>3</td>\n",
       "    </tr>\n",
       "    <tr>\n",
       "      <th>3</th>\n",
       "      <td>2729</td>\n",
       "      <td>14686</td>\n",
       "      <td>3</td>\n",
       "    </tr>\n",
       "    <tr>\n",
       "      <th>4</th>\n",
       "      <td>4054</td>\n",
       "      <td>14686</td>\n",
       "      <td>3</td>\n",
       "    </tr>\n",
       "  </tbody>\n",
       "</table>\n",
       "</div>"
      ],
      "text/plain": [
       "   usuario_id  peli_id  calif\n",
       "0           3    14686      4\n",
       "1         125    14686      3\n",
       "2        2036    14686      3\n",
       "3        2729    14686      3\n",
       "4        4054    14686      3"
      ]
     },
     "metadata": {},
     "output_type": "display_data"
    },
    {
     "data": {
      "text/plain": [
       "(855270, 3)"
      ]
     },
     "execution_count": 48,
     "metadata": {},
     "output_type": "execute_result"
    }
   ],
   "source": [
    "display(data_valida.head(5))\n",
    "data_valida.shape"
   ]
  },
  {
   "cell_type": "code",
   "execution_count": 49,
   "metadata": {},
   "outputs": [
    {
     "data": {
      "text/html": [
       "<div>\n",
       "<style scoped>\n",
       "    .dataframe tbody tr th:only-of-type {\n",
       "        vertical-align: middle;\n",
       "    }\n",
       "\n",
       "    .dataframe tbody tr th {\n",
       "        vertical-align: top;\n",
       "    }\n",
       "\n",
       "    .dataframe thead th {\n",
       "        text-align: right;\n",
       "    }\n",
       "</style>\n",
       "<table border=\"1\" class=\"dataframe\">\n",
       "  <thead>\n",
       "    <tr style=\"text-align: right;\">\n",
       "      <th></th>\n",
       "      <th>usuario_id</th>\n",
       "      <th>peli_id</th>\n",
       "      <th>calif_x</th>\n",
       "    </tr>\n",
       "  </thead>\n",
       "  <tbody>\n",
       "    <tr>\n",
       "      <th>0</th>\n",
       "      <td>1</td>\n",
       "      <td>1</td>\n",
       "      <td>3</td>\n",
       "    </tr>\n",
       "    <tr>\n",
       "      <th>1</th>\n",
       "      <td>2</td>\n",
       "      <td>1</td>\n",
       "      <td>3</td>\n",
       "    </tr>\n",
       "    <tr>\n",
       "      <th>2</th>\n",
       "      <td>3</td>\n",
       "      <td>1</td>\n",
       "      <td>4</td>\n",
       "    </tr>\n",
       "    <tr>\n",
       "      <th>3</th>\n",
       "      <td>4</td>\n",
       "      <td>1</td>\n",
       "      <td>4</td>\n",
       "    </tr>\n",
       "    <tr>\n",
       "      <th>4</th>\n",
       "      <td>5</td>\n",
       "      <td>1</td>\n",
       "      <td>4</td>\n",
       "    </tr>\n",
       "  </tbody>\n",
       "</table>\n",
       "</div>"
      ],
      "text/plain": [
       "   usuario_id  peli_id  calif_x\n",
       "0           1        1        3\n",
       "1           2        1        3\n",
       "2           3        1        4\n",
       "3           4        1        4\n",
       "4           5        1        4"
      ]
     },
     "metadata": {},
     "output_type": "display_data"
    },
    {
     "data": {
      "text/plain": [
       "(20113671, 3)"
      ]
     },
     "execution_count": 49,
     "metadata": {},
     "output_type": "execute_result"
    }
   ],
   "source": [
    "display(data_entrena.head(5))\n",
    "data_entrena.shape"
   ]
  },
  {
   "cell_type": "code",
   "execution_count": 55,
   "metadata": {},
   "outputs": [
    {
     "name": "stdout",
     "output_type": "stream",
     "text": [
      "/home/miuser/libmf/demo\n"
     ]
    }
   ],
   "source": [
    "#podemos cambiar el directorio para que se guarde la base\n",
    "#dentro del directorio donde están las funciones de libmf\n",
    "#se guarda con la extensión .tr.txt porque es la extensión\n",
    "#que requiere la paquetería de libmf\n",
    "\n",
    "################################################################################################################\n",
    "################# CON ESTE CÓDIGO GUARDA LAS BASES CREADAS DE data_valida.te.txt Y #############################\n",
    "################### data_entrena.tr.txt REQUERIDAS PARA CORRER UN MODELO EN LIBMF ##############################\n",
    "############ PERO IGUAL ESTO QUEDA DESECHADO SI SÓLO SE VA A OCUPAR LA LIBRERÍA LIBMF-PYTHON ###################\n",
    "################################################################################################################\n",
    "%cd /datos/miuser/libmf/demo\n",
    "np.savetxt('data_valida.te.txt', data_valida.to_numpy(), delimiter=' ', fmt=\"%.0f\")\n",
    "np.savetxt('data_entrena.tr.txt', data_entrena.to_numpy(), delimiter=' ', fmt=\"%.0f\")"
   ]
  },
  {
   "cell_type": "code",
   "execution_count": 56,
   "metadata": {},
   "outputs": [
    {
     "name": "stdout",
     "output_type": "stream",
     "text": [
      "La suma de elementos de data_valida + data_entrena: 20968941\n",
      "El total de elementos de df_muestra_netflix_libmf es: 20968941\n"
     ]
    }
   ],
   "source": [
    "#La base de df_muestra_valida_libmf ha quedado dividida por\n",
    "#dos dataframes exluyenntes: data_valida y data_entrena\n",
    "print(\"La suma de elementos de data_valida + data_entrena:\",data_valida.shape[0] + data_entrena.shape[0])\n",
    "print(\"El total de elementos de df_muestra_netflix_libmf es:\",df_muestra_netflix_libmf.shape[0])"
   ]
  },
  {
   "cell_type": "code",
   "execution_count": 57,
   "metadata": {},
   "outputs": [
    {
     "data": {
      "text/html": [
       "<div>\n",
       "<style scoped>\n",
       "    .dataframe tbody tr th:only-of-type {\n",
       "        vertical-align: middle;\n",
       "    }\n",
       "\n",
       "    .dataframe tbody tr th {\n",
       "        vertical-align: top;\n",
       "    }\n",
       "\n",
       "    .dataframe thead th {\n",
       "        text-align: right;\n",
       "    }\n",
       "</style>\n",
       "<table border=\"1\" class=\"dataframe\">\n",
       "  <thead>\n",
       "    <tr style=\"text-align: right;\">\n",
       "      <th></th>\n",
       "      <th>row</th>\n",
       "      <th>col</th>\n",
       "      <th>mean_score_by_row</th>\n",
       "      <th>mean_score_by_col</th>\n",
       "      <th>total_score_mean</th>\n",
       "    </tr>\n",
       "    <tr>\n",
       "      <th>row</th>\n",
       "      <th></th>\n",
       "      <th></th>\n",
       "      <th></th>\n",
       "      <th></th>\n",
       "      <th></th>\n",
       "    </tr>\n",
       "  </thead>\n",
       "  <tbody>\n",
       "    <tr>\n",
       "      <th>4</th>\n",
       "      <td>4</td>\n",
       "      <td>128</td>\n",
       "      <td>4.207792</td>\n",
       "      <td>2.954545</td>\n",
       "      <td>3.609339</td>\n",
       "    </tr>\n",
       "    <tr>\n",
       "      <th>4</th>\n",
       "      <td>4</td>\n",
       "      <td>187</td>\n",
       "      <td>4.207792</td>\n",
       "      <td>3.078089</td>\n",
       "      <td>3.609339</td>\n",
       "    </tr>\n",
       "    <tr>\n",
       "      <th>4</th>\n",
       "      <td>4</td>\n",
       "      <td>571</td>\n",
       "      <td>4.207792</td>\n",
       "      <td>3.953481</td>\n",
       "      <td>3.609339</td>\n",
       "    </tr>\n",
       "    <tr>\n",
       "      <th>4</th>\n",
       "      <td>4</td>\n",
       "      <td>586</td>\n",
       "      <td>4.207792</td>\n",
       "      <td>3.247706</td>\n",
       "      <td>3.609339</td>\n",
       "    </tr>\n",
       "    <tr>\n",
       "      <th>4</th>\n",
       "      <td>4</td>\n",
       "      <td>708</td>\n",
       "      <td>4.207792</td>\n",
       "      <td>3.371808</td>\n",
       "      <td>3.609339</td>\n",
       "    </tr>\n",
       "    <tr>\n",
       "      <th>...</th>\n",
       "      <td>...</td>\n",
       "      <td>...</td>\n",
       "      <td>...</td>\n",
       "      <td>...</td>\n",
       "      <td>...</td>\n",
       "    </tr>\n",
       "    <tr>\n",
       "      <th>99912</th>\n",
       "      <td>99912</td>\n",
       "      <td>17307</td>\n",
       "      <td>5.000000</td>\n",
       "      <td>4.521127</td>\n",
       "      <td>3.609339</td>\n",
       "    </tr>\n",
       "    <tr>\n",
       "      <th>99928</th>\n",
       "      <td>99928</td>\n",
       "      <td>16169</td>\n",
       "      <td>2.000000</td>\n",
       "      <td>3.131050</td>\n",
       "      <td>3.609339</td>\n",
       "    </tr>\n",
       "    <tr>\n",
       "      <th>99937</th>\n",
       "      <td>99937</td>\n",
       "      <td>17293</td>\n",
       "      <td>3.000000</td>\n",
       "      <td>2.980172</td>\n",
       "      <td>3.609339</td>\n",
       "    </tr>\n",
       "    <tr>\n",
       "      <th>99957</th>\n",
       "      <td>99957</td>\n",
       "      <td>16982</td>\n",
       "      <td>4.000000</td>\n",
       "      <td>3.658824</td>\n",
       "      <td>3.609339</td>\n",
       "    </tr>\n",
       "    <tr>\n",
       "      <th>99963</th>\n",
       "      <td>99963</td>\n",
       "      <td>17147</td>\n",
       "      <td>4.000000</td>\n",
       "      <td>3.312950</td>\n",
       "      <td>3.609339</td>\n",
       "    </tr>\n",
       "  </tbody>\n",
       "</table>\n",
       "<p>877113 rows × 5 columns</p>\n",
       "</div>"
      ],
      "text/plain": [
       "         row    col  mean_score_by_row  mean_score_by_col  total_score_mean\n",
       "row                                                                        \n",
       "4          4    128           4.207792           2.954545          3.609339\n",
       "4          4    187           4.207792           3.078089          3.609339\n",
       "4          4    571           4.207792           3.953481          3.609339\n",
       "4          4    586           4.207792           3.247706          3.609339\n",
       "4          4    708           4.207792           3.371808          3.609339\n",
       "...      ...    ...                ...                ...               ...\n",
       "99912  99912  17307           5.000000           4.521127          3.609339\n",
       "99928  99928  16169           2.000000           3.131050          3.609339\n",
       "99937  99937  17293           3.000000           2.980172          3.609339\n",
       "99957  99957  16982           4.000000           3.658824          3.609339\n",
       "99963  99963  17147           4.000000           3.312950          3.609339\n",
       "\n",
       "[877113 rows x 5 columns]"
      ]
     },
     "execution_count": 57,
     "metadata": {},
     "output_type": "execute_result"
    }
   ],
   "source": [
    "modelo_base_ref(data_valida.to_numpy())"
   ]
  },
  {
   "cell_type": "markdown",
   "metadata": {},
   "source": [
    "# Implementación modelo"
   ]
  },
  {
   "cell_type": "code",
   "execution_count": null,
   "metadata": {},
   "outputs": [],
   "source": [
    "# EMPEZAR A CONTRUIR UN MODELO \"PEQUEÑO\", QUE LUEGO SEA ESCALABLE A LA BASE GRANDE EN LA INSTANCIA\n",
    "# PUEDE HACERSE EN OTRO ARCHIVO, YA INCLUSO CON LAS FUNCIONES AQUÍ EXPUESTAS EN UN .PY (LAS QUE SE USEN)"
   ]
  },
  {
   "cell_type": "code",
   "execution_count": null,
   "metadata": {},
   "outputs": [],
   "source": [
    "################################################################################################################\n",
    "###################### ESTO CORRE UN MODELO SIMPLE CON LIBMF A PARTIR DE LA BASE ###############################\n",
    "############################### CREADAS ARRIBA, PERO ESTO YA NO SE CORRIÓ ######################################\n",
    "################################################################################################################\n",
    "\n",
    "#Pruebese los diferentes modelos ejemplo con data_entrena y data_valida\n",
    "#En general estos algoritmos corren muy rápido\n",
    "!/home/miuser/libmf/mf-train data_entrena.tr.txt model"
   ]
  },
  {
   "cell_type": "code",
   "execution_count": null,
   "metadata": {},
   "outputs": [],
   "source": []
  },
  {
   "cell_type": "code",
   "execution_count": null,
   "metadata": {},
   "outputs": [],
   "source": []
  },
  {
   "cell_type": "code",
   "execution_count": null,
   "metadata": {},
   "outputs": [],
   "source": []
  },
  {
   "cell_type": "code",
   "execution_count": null,
   "metadata": {},
   "outputs": [],
   "source": []
  },
  {
   "cell_type": "code",
   "execution_count": null,
   "metadata": {},
   "outputs": [],
   "source": []
  },
  {
   "cell_type": "code",
   "execution_count": null,
   "metadata": {},
   "outputs": [],
   "source": []
  },
  {
   "cell_type": "code",
   "execution_count": null,
   "metadata": {},
   "outputs": [],
   "source": [
    "##################################### CON ESTO "
   ]
  },
  {
   "cell_type": "code",
   "execution_count": 1,
   "metadata": {},
   "outputs": [
    {
     "name": "stdout",
     "output_type": "stream",
     "text": [
      "Using file found in /home/miuser/.local/lib/python3.6/site-packages:\n",
      "/home/miuser/.local/lib/python3.6/site-packages/libmf.cpython-36m-x86_64-linux-gnu.so\n"
     ]
    }
   ],
   "source": [
    "import sys\n",
    "import numpy as np\n",
    "import types\n",
    "import scipy\n",
    "from scipy.sparse import random\n",
    "from scipy import stats\n",
    "import pandas as pd\n",
    "import copy\n",
    "import random\n",
    "from functools import partial\n",
    "from colorama import init\n",
    "\n",
    "import libmf\n",
    "from libmf import mf"
   ]
  },
  {
   "cell_type": "code",
   "execution_count": 2,
   "metadata": {},
   "outputs": [],
   "source": [
    "#Función para generar matrices ralas en su expresión compacta\n",
    "#Utilizada para varios ejemplos\n",
    "def crear_matriz_rala_compacta(n_ren, m_col, prop_elem_difer_nan):\n",
    "    \"\"\"\n",
    "    Construye matriz rala de n_renxm_col, seleccionando al azar los elementos\n",
    "    que serán distintos de nan. Éstos elementos distintos de nan serán\n",
    "    numero aleatorios entre 1 y 5 (uniforme discreta). Se dice compacta porque\n",
    "    es una matriz solo señala las coordenadas o entredas de la matriz que \n",
    "    son diferentes a nan\n",
    "    \n",
    "    params: n_ren               int numero de renglones que tiene la matriz\n",
    "            m_col               int numero de columnas que tiene la matriz\n",
    "            prop_elem_difer_nan float (0 < prop_elem_difer_nan < 1) indica\n",
    "                                la proporción de elementos distintos de nan\n",
    "    return: M  np.ndarray que contiene matriz rala \"compacta\"\n",
    "               (1era columna representa el índice de renglones,\n",
    "               2da columna representa el índice de columnas,\n",
    "               3era columna representa el valor del elemento\n",
    "               o calificación en el contexto de netflix)\n",
    "    \"\"\"\n",
    "    tot=int(n_ren*m_col)\n",
    "    k=int(tot*prop_elem_difer_nan)\n",
    "    M=random.sample(range(tot), k)\n",
    "    columnas=np.mod(M,m_col)\n",
    "    renglones=np.divide(M,m_col).astype(int)\n",
    "    aleatorios=np.random.randint(1, 6, k)\n",
    "    #M=np.concatenate([renglones, columnas, aleatorios])\n",
    "    #M=M.reshape(3,k).T\n",
    "    M=np.vstack((renglones,columnas,aleatorios)).transpose()\n",
    "#     for i in range(k):\n",
    "#         for j in range(3):\n",
    "#             M[i,j]=float(M[i,j])\n",
    "\n",
    "    return M"
   ]
  },
  {
   "cell_type": "code",
   "execution_count": 3,
   "metadata": {},
   "outputs": [],
   "source": [
    "########################## ESTO YA NO SIRVIÓ #############################\n",
    "def pasa_a_vstack(nparray):\n",
    "    if nparray.shape[1]==3:\n",
    "        return np.vstack((nparray[:,0],nparray[:,1],nparray[:,2])).transpose()\n",
    "    return np.vstack((nparray[:,0],nparray[:,1])).transpose()"
   ]
  },
  {
   "cell_type": "code",
   "execution_count": 4,
   "metadata": {},
   "outputs": [],
   "source": [
    "np.random.seed(104)\n",
    "random.seed(104)\n",
    "\n",
    "\n",
    "#jala los aleatorios de libmf\n",
    "a1=mf.generate_test_data(19, 4, 40)\n",
    "a2=mf.generate_test_data(19, 4, 15, indices_only=True)\n",
    "\n",
    "# test_data=np.empty((40,3,))\n",
    "# test_data[:]=np.nan\n",
    "# pred_data=np.empty((15,2,))\n",
    "# pred_data[:]=np.nan\n",
    "# for i in range(40):\n",
    "#     for j in range(3):\n",
    "#         if j<2:\n",
    "#             test_data[i,j]=float(a1[i,j])\n",
    "#         elif j==2:\n",
    "#             test_data[i,j]=int(a1[i,j]*10)\n",
    "#         if i<15 and j<2:\n",
    "#             pred_data[i,j]=a2[i,j]\n",
    "            \n",
    "# test_data=pasa_a_vstack(a1)\n",
    "# pred_data=pasa_a_vstack(a2)\n",
    "\n",
    "# test_data=a1\n",
    "# pred_data=a2\n",
    "\n",
    "\n",
    "#b1 y b2 generar matrices compactas\n",
    "b1=crear_matriz_rala_compacta(20,5,0.40)\n",
    "#b1=b1.astype(float)\n",
    "\n",
    "b2=crear_matriz_rala_compacta(20,5,0.15)\n",
    "#b2=b2.astype(float)\n",
    "b2=b2[:,0:2]\n",
    "\n",
    "################################ AL PARECER AQUÍ ESTÁ LA CLAVE ################\n",
    "\n",
    "test_data=np.empty((40,3,))\n",
    "test_data[:]=np.nan\n",
    "pred_data=np.empty((15,2,))\n",
    "pred_data[:]=np.nan\n",
    "for i in range(40):\n",
    "    for j in range(3):\n",
    "        if j<2:\n",
    "            test_data[i,j]=float(b1[i,j])\n",
    "        if i<15 and j<2:\n",
    "            pred_data[i,j]=float(b2[i,j]) #el tipo de dato puede ser\n",
    "\n",
    "#probando cuál es el bueno\n",
    "\n",
    "# test_data=pasa_a_vstack(b1)\n",
    "# pred_data=pasa_a_vstack(b2)\n",
    "\n",
    "# test_data=b1\n",
    "# pred_data=b2\n",
    "\n",
    "\n",
    "# test_data=mf.generate_test_data(19, 4, 40)\n",
    "# pred_data=mf.generate_test_data(19, 4, 15, indices_only=True)"
   ]
  },
  {
   "cell_type": "code",
   "execution_count": 5,
   "metadata": {},
   "outputs": [
    {
     "name": "stdout",
     "output_type": "stream",
     "text": [
      "[nan nan nan nan nan nan nan nan nan nan nan nan nan nan nan]\n",
      "testing factor-q\n",
      "(5, 8)\n",
      "testing factor-p\n",
      "(20, 8)\n"
     ]
    }
   ],
   "source": [
    "np.random.seed(104)\n",
    "random.seed(104)\n",
    "\n",
    "mf_engine = mf.MF()\n",
    "\n",
    "\n",
    "#test_data=crear_matriz_rala_compacta(20,5,0.40)\n",
    "#test_data=test_data.astype(float)\n",
    "#test_data[:,2]=test_data[:,2]/10\n",
    "#test_data=pasa_a_vstack(test_data)\n",
    "#print(test_data)\n",
    "\n",
    "#test_data = mf.generate_test_data(19, 4, 40)\n",
    "\n",
    "\n",
    "mf_engine.fit(test_data)\n",
    "# print(\"testing predict method\")\n",
    "# n = 1000\n",
    "\n",
    "\n",
    "# pred_data=crear_matriz_rala_compacta(20,5,0.15)\n",
    "# pred_data=pred_data.astype(float)\n",
    "# pred_data=pred_data[:,0:2]\n",
    "# pred_data=pasa_a_vstack(pred_data)\n",
    "# print(pred_data)\n",
    "\n",
    "#pred_data=mf.generate_test_data(19, 4, 15, indices_only=True)\n",
    "\n",
    "\n",
    "\n",
    "predictions = mf_engine.predict(pred_data)\n",
    "print(predictions)\n",
    "#self.assertTrue(len(predictions) == n)\n",
    "#for i in predictions.tolist():\n",
    "#    self.assertTrue(type(i) is float)\n",
    "#    self.assertFalse(math.isnan(i))\n",
    "\n",
    "# print(\"testing cross val method\")\n",
    "\n",
    "# val_data=crear_matriz_rala_compacta(20,5,0.15)\n",
    "# val_data=val_data.astype(float)\n",
    "# #val_data = mf.generate_test_data(19, 4, 15)\n",
    "# mf_engine.mf_cross_validation(val_data)\n",
    "\n",
    "\n",
    "print(\"testing factor-q\")\n",
    "q = mf_engine.q_factors()\n",
    "print(q.shape)\n",
    "#self.assertEqual(q.shape, (TestMF.mf_engine.model.n, TestMF.mf_engine.model.k))\n",
    "\n",
    "print(\"testing factor-p\")\n",
    "p = mf_engine.p_factors()\n",
    "print(p.shape)\n",
    "#self.assertEqual(p.shape, (TestMF.mf_engine.model.m, TestMF.mf_engine.model.k))\n",
    "\n",
    "#predict salió con putos n"
   ]
  },
  {
   "cell_type": "code",
   "execution_count": 6,
   "metadata": {},
   "outputs": [],
   "source": [
    "#utiliza libmf\n",
    "\n",
    "np.random.seed(104)\n",
    "random.seed(104)\n",
    "\n",
    "a1=mf.generate_test_data(19, 4, 40)\n",
    "a2=mf.generate_test_data(19, 4, 15, indices_only=True)\n",
    "\n",
    "# test_data=np.empty((40,3,))\n",
    "# test_data[:]=np.nan\n",
    "# pred_data=np.empty((15,2,))\n",
    "# pred_data[:]=np.nan\n",
    "# for i in range(40):\n",
    "#     for j in range(3):\n",
    "#         if j<2:\n",
    "#             test_data[i,j]=float(a1[i,j])\n",
    "#         elif j==2:\n",
    "#             test_data[i,j]=int(a1[i,j]*10)\n",
    "#         if i<15 and j<2:\n",
    "#             pred_data[i,j]=a2[i,j]\n",
    "            \n",
    "# test_data=pasa_a_vstack(a1)\n",
    "# pred_data=pasa_a_vstack(a2)\n",
    "\n",
    "test_data=a1\n",
    "pred_data=a2\n",
    "\n",
    "\n",
    "\n",
    "b1=crear_matriz_rala_compacta(20,5,0.40)\n",
    "#b1=b1.astype(float)\n",
    "\n",
    "b2=crear_matriz_rala_compacta(20,5,0.15)\n",
    "#b2=b2.astype(float)\n",
    "b2=b2[:,0:2]\n",
    "\n",
    "################################ AL PARECER AQUÍ ESTÁ LA CLAVE ################\n",
    "# test_data=np.empty((40,3,))\n",
    "# test_data[:]=np.nan\n",
    "# pred_data=np.empty((15,2,))\n",
    "# pred_data[:]=np.nan\n",
    "# for i in range(40):\n",
    "#     for j in range(3):\n",
    "#         if j<2:\n",
    "#             test_data[i,j]=float(b1[i,j])\n",
    "#         if i<15 and j<2:\n",
    "#             pred_data[i,j]=b2[i,j]\n",
    "\n",
    "\n",
    "# test_data=pasa_a_vstack(b1)\n",
    "# pred_data=pasa_a_vstack(b2)\n",
    "\n",
    "# test_data=b1\n",
    "# pred_data=b2\n",
    "\n",
    "\n",
    "# test_data=mf.generate_test_data(19, 4, 40)\n",
    "# pred_data=mf.generate_test_data(19, 4, 15, indices_only=True)"
   ]
  },
  {
   "cell_type": "code",
   "execution_count": 7,
   "metadata": {},
   "outputs": [
    {
     "name": "stdout",
     "output_type": "stream",
     "text": [
      "[0.         0.49464414 0.1833823  0.49464414 0.44012192 0.1833823\n",
      " 0.13079132 0.49464414 0.59220237 0.49464414 0.3232999  0.49464414\n",
      " 0.13483588 0.49464414 0.18804203]\n",
      "testing factor-q\n",
      "(5, 8)\n",
      "testing factor-p\n",
      "(19, 8)\n"
     ]
    }
   ],
   "source": [
    "np.random.seed(104)\n",
    "random.seed(104)\n",
    "\n",
    "mf_engine = mf.MF()\n",
    "\n",
    "\n",
    "#test_data=crear_matriz_rala_compacta(20,5,0.40)\n",
    "#test_data=test_data.astype(float)\n",
    "#test_data[:,2]=test_data[:,2]/10\n",
    "#test_data=pasa_a_vstack(test_data)\n",
    "#print(test_data)\n",
    "\n",
    "#test_data = mf.generate_test_data(19, 4, 40)\n",
    "\n",
    "\n",
    "mf_engine.fit(test_data)\n",
    "# print(\"testing predict method\")\n",
    "# n = 1000\n",
    "\n",
    "\n",
    "# pred_data=crear_matriz_rala_compacta(20,5,0.15)\n",
    "# pred_data=pred_data.astype(float)\n",
    "# pred_data=pred_data[:,0:2]\n",
    "# pred_data=pasa_a_vstack(pred_data)\n",
    "# print(pred_data)\n",
    "\n",
    "#pred_data=mf.generate_test_data(19, 4, 15, indices_only=True)\n",
    "\n",
    "\n",
    "\n",
    "predictions = mf_engine.predict(pred_data)\n",
    "print(predictions)\n",
    "#self.assertTrue(len(predictions) == n)\n",
    "#for i in predictions.tolist():\n",
    "#    self.assertTrue(type(i) is float)\n",
    "#    self.assertFalse(math.isnan(i))\n",
    "\n",
    "# print(\"testing cross val method\")\n",
    "\n",
    "# val_data=crear_matriz_rala_compacta(20,5,0.15)\n",
    "# val_data=val_data.astype(float)\n",
    "# #val_data = mf.generate_test_data(19, 4, 15)\n",
    "# mf_engine.mf_cross_validation(val_data)\n",
    "\n",
    "\n",
    "print(\"testing factor-q\")\n",
    "q = mf_engine.q_factors()\n",
    "print(q.shape)\n",
    "#self.assertEqual(q.shape, (TestMF.mf_engine.model.n, TestMF.mf_engine.model.k))\n",
    "\n",
    "print(\"testing factor-p\")\n",
    "p = mf_engine.p_factors()\n",
    "print(p.shape)\n",
    "#self.assertEqual(p.shape, (TestMF.mf_engine.model.m, TestMF.mf_engine.model.k))"
   ]
  }
 ],
 "metadata": {
  "kernelspec": {
   "display_name": "Python 3",
   "language": "python",
   "name": "python3"
  },
  "language_info": {
   "codemirror_mode": {
    "name": "ipython",
    "version": 3
   },
   "file_extension": ".py",
   "mimetype": "text/x-python",
   "name": "python",
   "nbconvert_exporter": "python",
   "pygments_lexer": "ipython3",
   "version": "3.6.9"
  }
 },
 "nbformat": 4,
 "nbformat_minor": 4
}
