{
 "cells": [
  {
   "cell_type": "markdown",
   "metadata": {},
   "source": [
    "# USO DE LA LIBRERÍA LIBMF CON PYTHON"
   ]
  },
  {
   "cell_type": "markdown",
   "metadata": {},
   "source": [
    "## OBJETIVO \n",
    "\n",
    "El objetivo de este notebook es mostrar la aplicación de algunas funciones/ métodos de la librería libmf con python, por lo que primero se importarán los siguientes paquetes. En caso de que no se tenga alguno instalado usar el comando `pip install`."
   ]
  },
  {
   "cell_type": "code",
   "execution_count": 1,
   "metadata": {},
   "outputs": [
    {
     "name": "stdout",
     "output_type": "stream",
     "text": [
      "Using file found in /opt/anaconda3/lib/python3.7/site-packages:\n",
      "/opt/anaconda3/lib/python3.7/site-packages/libmf.cpython-37m-darwin.so\n"
     ]
    }
   ],
   "source": [
    "import sys\n",
    "import numpy as np\n",
    "import types\n",
    "import scipy\n",
    "from scipy.sparse import random\n",
    "from scipy import stats\n",
    "import pandas as pd\n",
    "import copy\n",
    "import random\n",
    "from functools import partial\n",
    "from colorama import init\n",
    "\n",
    "import libmf\n",
    "from libmf import mf"
   ]
  },
  {
   "cell_type": "markdown",
   "metadata": {},
   "source": [
    "A continuación se crean algunas funciones auxiliares que contienen su respectiva documentación."
   ]
  },
  {
   "cell_type": "markdown",
   "metadata": {},
   "source": [
    "### Funciones auxiliares para generar matrices ralas (con muchas entradas nulas o ceros)"
   ]
  },
  {
   "cell_type": "code",
   "execution_count": 2,
   "metadata": {},
   "outputs": [],
   "source": [
    "def perform(fun, *args):\n",
    "    \"\"\"\n",
    "    Evalua una función con los argumentos indicados\n",
    "    \n",
    "    params: fun         Una función\n",
    "            *args       Parámetros que utiliza la función \"fun\"\n",
    "                        (se pueden meter cuantos parámetros tenga \n",
    "                        dicha funcion)\n",
    "    return: fun(*args)  Valor de fun con parámetros *args\n",
    "    \"\"\"\n",
    "    return fun(*args)"
   ]
  },
  {
   "cell_type": "code",
   "execution_count": 3,
   "metadata": {},
   "outputs": [],
   "source": [
    "def nan_or_value(x, f, *args):\n",
    "    \"\"\"\n",
    "    Devuelve el valor de una función evaluada con sus parámetros\n",
    "    *args acorde a la variable indicadora x\n",
    "    \n",
    "    params: x         boolean, si es 1 tómese valor de la función\n",
    "                      si no será nan\n",
    "            f         Una función\n",
    "            *args     Parámetros que utiliza la función \"f\"\n",
    "                      (se pueden meter cuantos parámetros tenga \n",
    "                      dicha funcion)\n",
    "            \n",
    "    return: \n",
    "        perform(f,*args) Si el valor de x es 1 y en otro caso regresa nan\n",
    "    \"\"\"\n",
    "    if(x==1):\n",
    "        return perform(f,*args)\n",
    "    else:\n",
    "        return np.nan"
   ]
  },
  {
   "cell_type": "code",
   "execution_count": 4,
   "metadata": {},
   "outputs": [],
   "source": [
    "#Con esta vectorización se podrá aplicar a todos los elementos de un np.array la función nan_or_value\n",
    "nan_or_value_vec=np.vectorize(nan_or_value, otypes=[object])"
   ]
  },
  {
   "cell_type": "markdown",
   "metadata": {},
   "source": [
    "La siguiente función es la que crea matrices aletorias ralas. Es importante señalar, que por la forma de construcción pudiera no ser eficiente para matrices de dimensiones grandes."
   ]
  },
  {
   "cell_type": "code",
   "execution_count": 5,
   "metadata": {},
   "outputs": [],
   "source": [
    "def crear_matriz_rala(n_ren,m_col,prop_elem_difer_nan,func_rand,*args_func_rand):\n",
    "    \"\"\"\n",
    "    Construye matriz rala de n_renxm_col, seleccionando al azar los elementos\n",
    "    que serán nan cumpliendo que la proporción de éstos es de \n",
    "    1-prop_elem_difer_nan, donde los numeros diferentes de nan serán aleatorios\n",
    "    generados a partir de una función aleatoria que se envíe como parámetro\n",
    "    (y sus argumentos)\n",
    "    \n",
    "    params: n_ren               int número de renglones que tiene la matriz\n",
    "            m_col               int número de columnas que tiene la matriz\n",
    "            prop_elem_difer_nan float (0 < prop_elem_difer_nan < 1) indica\n",
    "                                la proporción de elementos distintos de nan\n",
    "            func_rand           Función que genera un sólo número aleatorio de\n",
    "                                tipo float (no arreglos)\n",
    "            *args_fun_rand      Argumentos necesarios para ejecutar la\n",
    "                                función fun_rand\n",
    "            \n",
    "    return:  M                  np.ndarray que contiene matriz rala\n",
    "    \"\"\"\n",
    "    tot=int(n_ren*m_col)\n",
    "    k=int(tot*prop_elem_difer_nan)\n",
    "    #se juntan 2 arreglos, uno de ceros y otro de unos, para después\n",
    "    #reacomodarlos al azar\n",
    "    M=np.concatenate((np.zeros(tot-k).astype(int), np.ones(k).astype(int)))\n",
    "    M=np.array(random.sample(list(M),tot))\n",
    "    M=M.reshape(n_ren,m_col)\n",
    "    #Los unos se intercambias por numeros aleatorios y los ceros\n",
    "    #por nan (o se dejan como cero)\n",
    "    M=nan_or_value_vec(M,func_rand,*args_func_rand).astype(float)\n",
    "    return M"
   ]
  },
  {
   "cell_type": "markdown",
   "metadata": {},
   "source": [
    "### Función que compacta las matrices ralas (quita las entradas que sean na o ceros)"
   ]
  },
  {
   "cell_type": "code",
   "execution_count": 6,
   "metadata": {},
   "outputs": [],
   "source": [
    "def compactar_matriz_rala(M):\n",
    "    \"\"\"\n",
    "    Pasa una matriz rala a su expresión compacta\n",
    "    \n",
    "    params: M  np.ndarray que representa matriz rala\n",
    "    return: MC np.ndarray matriz en expresión compacta\n",
    "               (no se reportarán los elementos con valor\n",
    "               nan)\n",
    "    \"\"\"\n",
    "    if type(M) is not np.ndarray:\n",
    "        sys.exit('M debe ser de tipo numpy.ndarray')\n",
    "    elif np.isnan(M).sum()==len(M):\n",
    "        sys.exit('Todos los elementos de M son nan')\n",
    "    MC=np.zeros((M[np.isnan(M)==False].size,3))\n",
    "    k = 0\n",
    "    n,m=M.shape\n",
    "    for i in range(n): \n",
    "        for j in range(m): \n",
    "            if (~np.isnan(M[i,j])): \n",
    "                MC[k,0] = i\n",
    "                MC[k,1] = j\n",
    "                MC[k,2] = M[i,j] \n",
    "                k += 1\n",
    "    return MC"
   ]
  },
  {
   "cell_type": "markdown",
   "metadata": {},
   "source": [
    "### Función que crea una matriz aleatoria en el formato que lo requiere la librería LIBMF.\n",
    "\n",
    "Este formato debe tener en la primer columna el índice de la fila (se podría pensar como el id del usuario), en la segunda el índice de la columna (se podría pensar como el id de la película) y finalmente el valor/calificación."
   ]
  },
  {
   "cell_type": "code",
   "execution_count": 7,
   "metadata": {},
   "outputs": [],
   "source": [
    "def crear_matriz_rala_compacta(n_ren, m_col, prop_elem_difer_nan):\n",
    "    \"\"\"\n",
    "    Construye matriz de n_renxm_col, seleccionando al azar los elementos\n",
    "    que serán distintos de nan. Éstos elementos distintos de nan serán\n",
    "    números aleatorios entre 1 y 5 (uniforme discreta). Se dice compacta porque\n",
    "    en esta matriz solo señala las coordenadas o entradas de la matriz que \n",
    "    son diferentes a nan\n",
    "    \n",
    "    params: n_ren               int número de renglones que tiene la matriz\n",
    "            m_col               int número de columnas que tiene la matriz\n",
    "            prop_elem_difer_nan float (0 < prop_elem_difer_nan < 1) indica\n",
    "                                la proporción de elementos distintos de nan\n",
    "    return: M  np.ndarray que contiene la matriz \n",
    "               (1era columna representa el índice de renglones,\n",
    "               2da columna representa el índice de columnas,\n",
    "               3era columna representa el valor del elemento\n",
    "               o calificación en el contexto de netflix)\n",
    "    \"\"\"\n",
    "    tot=int(n_ren*m_col)\n",
    "    k=int(tot*prop_elem_difer_nan)\n",
    "    M=random.sample(range(tot), k)\n",
    "    columnas=np.mod(M,m_col)\n",
    "    renglones=np.divide(M,m_col).astype(int)\n",
    "    aleatorios=np.random.randint(1, 6, k)\n",
    "    \n",
    "    M=np.vstack((renglones,columnas,aleatorios)).transpose()\n",
    "\n",
    "\n",
    "    return M"
   ]
  },
  {
   "cell_type": "markdown",
   "metadata": {},
   "source": [
    "### Función para generar las muestras de entrenamiento y validación en el formato que lo requiere la librería LIBMF"
   ]
  },
  {
   "cell_type": "code",
   "execution_count": 8,
   "metadata": {},
   "outputs": [],
   "source": [
    "def muestra_val_ent(df,prop):\n",
    "    \"\"\"\n",
    "    Separa al azar una base dada en 2 bases acorde una proporción de elementos\n",
    "    dada\n",
    "    \n",
    "    params: df    pd.DataFrame (con 3 columnas=['usuario_id','peli_id',\n",
    "                  'calif_x'])\n",
    "            prop  float (0 < prop < 1) proporción de id_usuarios y\n",
    "                  proporción de id_peliculas que se seleccionarán\n",
    "    \n",
    "    return: data_test      pd.DataFrame que tiene la base que se usará\n",
    "                           para prueba (por construcción el número de\n",
    "                           elementos de esta base no necesariamente coincide\n",
    "                           con prop*total de elementos de df)\n",
    "            data_training  pd.DataFrame que tiene la base que se usará\n",
    "                           para entrenamiento\n",
    "    \"\"\"\n",
    "    #Base de todos los usuarios\n",
    "    usuarios=pd.DataFrame(df['usuario_id'].unique(), columns=['usuario_id'])\n",
    "    #Muestreo de usuarios\n",
    "    valida_usuarios=usuarios.sample(frac=prop)  \n",
    "\n",
    "    #Base de todas las películas\n",
    "    peliculas=pd.DataFrame(df['peli_id'].unique(), columns=['peli_id'])\n",
    "    #Muestreo de películas\n",
    "    valida_pelis=peliculas.sample(frac=prop)\n",
    "    \n",
    "    #df_valida tiene las columnas usuario_id, peli_id y calif, pero\n",
    "    #sólo incluye los usuarios muestreados en valida_usuarios\n",
    "    df_valida=pd.merge(df,valida_usuarios, on ='usuario_id', how='inner')\n",
    "    #data_valida filtra de la base df_valida los pelis_id muestreas\n",
    "    #en valida_pelis\n",
    "    data_test=pd.merge(df_valida,valida_pelis, on ='peli_id', how='inner')\n",
    "    left=pd.merge(df, data_test, how='left',on=['usuario_id', 'peli_id'])\n",
    "    data_training=left[left.isnull().any(axis=1)][['usuario_id', 'peli_id','calif_x']]\n",
    "    return data_test, data_training"
   ]
  },
  {
   "cell_type": "markdown",
   "metadata": {},
   "source": [
    "### Función que imprime el valor de los párametros que se usaron para realizar el entrenamiento."
   ]
  },
  {
   "cell_type": "code",
   "execution_count": 9,
   "metadata": {},
   "outputs": [],
   "source": [
    "def imprime_atributos_MF(Obj):\n",
    "    \"\"\"\n",
    "    Imprime los parámetros utilizados para factorización de la matriz contenida\n",
    "    en Obj, mismos que son atributos del atributo _options\n",
    "    \n",
    "    params: Obj  libmf.mf.MF objeto de la librería libmf-python que contiene\n",
    "                 la información requerida para hacer la factorización deseada\n",
    "    \n",
    "    return: None No regresa nada, sólo imprime los parámetros utilizados para\n",
    "                 hacer la factorización\n",
    "    \"\"\"\n",
    "    if type(Obj) is not libmf.mf.MF:\n",
    "        sys.exit('A y b deben ser de tipo libmf.mf.MF')\n",
    "    print('Atributos del modelo:')\n",
    "    print('fun={0:d}'.format(Obj._options.fun))\n",
    "    print('k={0:d}'.format(Obj._options.k))\n",
    "    print('nr_threads={0:d}'.format(Obj._options.nr_threads))\n",
    "    print('nr_bins={0:d}'.format(Obj._options.nr_bins))\n",
    "    print('nr_iters={0:d}'.format(Obj._options.nr_iters))\n",
    "    print('lambda_p1={0:0.4f}'.format(Obj._options.lambda_p1))\n",
    "    print('lambda_p2={0:0.4f}'.format(Obj._options.lambda_p2))\n",
    "    print('lambda_q1={0:0.4f}'.format(Obj._options.lambda_q1))\n",
    "    print('lambda_q2={0:0.4f}'.format(Obj._options.lambda_q2))\n",
    "    print('eta={0:0.4f}'.format(Obj._options.eta))\n",
    "    print('do_nmf=',Obj._options.do_nmf)\n",
    "    print('quiet=',Obj._options.quiet)\n",
    "    print('copy_data=',Obj._options.copy_data)\n",
    "    return None"
   ]
  },
  {
   "cell_type": "markdown",
   "metadata": {},
   "source": [
    "### Función que imprime los datos del modelo entrenado"
   ]
  },
  {
   "cell_type": "code",
   "execution_count": 10,
   "metadata": {},
   "outputs": [],
   "source": [
    "def imprime_atributos_model(Obj):\n",
    "    \"\"\"\n",
    "    Imprime los atributos del objeto model (definido dentro dentro de la\n",
    "    librería libmf)\n",
    "    \n",
    "    params: Obj  libmf.mf.MFModel objeto de la librería libmf-python que\n",
    "                 contiene los resultados obtenidos de la corrida del\n",
    "                 modelo de factorización\n",
    "                 \n",
    "    return: None No regresa nada, sólo imprime los resultados contenidos\n",
    "            en el objeto model, generado con los métodos del objeto MF\n",
    "    \"\"\"\n",
    "    if type(Obj) is not libmf.mf.MFModel:\n",
    "        sys.exit('A y b deben ser de tipo libmf.mf.MF')\n",
    "    print('Resultados model:')\n",
    "    print('fun={0:d}'.format(Obj.fun))\n",
    "    print('m={0:d}'.format(Obj.m))\n",
    "    print('n={0:d}'.format(Obj.n))\n",
    "    print('k={0:d}'.format(Obj.m))\n",
    "    print('b={0:0.4f}'.format(Obj.b))\n",
    "    print('P={0:0.4f}'.format(Obj.P.contents.value))\n",
    "    print('Q={0:0.4f}'.format(Obj.Q.contents.value))\n",
    "    return None"
   ]
  },
  {
   "cell_type": "markdown",
   "metadata": {},
   "source": [
    "Con las funciones definidas anteriormente, se procede a hacer uso de ellas para probar las funciones/métodos de la librería LIBMF de python.\n",
    "\n",
    "En primer lugar, se empezará por crear una matriz rala. Estas matrices son de nuestro interés ya que en el caso de las películas de Netflix, no todos los usuarios ven todas las películas o no todos califican las películas vistas, por lo que si se considera que el índice de las filas es el id de los usuarios y el índice de las columnas es el id de la película, entonces estas matrices contienen muchos \"huecos\". Por esta razón nos interesa generar ese tipo de matrices.\n",
    "\n",
    "No obstante lo anterior, debido al numero de usuarios y películas, existen muchos datos, y para no guardar todos los valores de cero (o NA), se opta por expresar y guardar dicha matriz en una forma compacta, la cual contiene por cada calificación el usuario que la generó y la película a la que corrresponde (es decir, es una matriz con 3 columnas).\n",
    "\n",
    "A continuación, se crea una matriz rala de 20 filas, 5 columnas, porcentaje de entradas diferentes de na del 25% (25 entradas diferentes de na) y con generación de enteros aleatorios entre el 1 y 5. \n",
    "\n",
    "No se omite señalar, que la generación de números enteros puede cambiarse por alguna otra función que se requiera, por ejemplo una constante o bernoulli.\n"
   ]
  },
  {
   "cell_type": "code",
   "execution_count": 11,
   "metadata": {},
   "outputs": [
    {
     "name": "stdout",
     "output_type": "stream",
     "text": [
      "Matriz M:\n",
      " [[nan nan  2. nan nan]\n",
      " [nan nan nan  4. nan]\n",
      " [nan nan nan  1. nan]\n",
      " [nan nan nan nan nan]\n",
      " [nan nan nan nan nan]\n",
      " [nan nan nan nan nan]\n",
      " [ 3. nan nan nan nan]\n",
      " [nan nan nan nan nan]\n",
      " [nan nan nan nan nan]\n",
      " [ 5.  3.  3. nan nan]\n",
      " [nan nan nan nan nan]\n",
      " [nan  2. nan  3. nan]\n",
      " [nan nan nan nan nan]\n",
      " [nan nan  3. nan nan]\n",
      " [ 3.  4.  2. nan nan]\n",
      " [ 3. nan  5. nan nan]\n",
      " [nan  1. nan  5. nan]\n",
      " [nan nan  2. nan  5.]\n",
      " [nan  3.  3. nan nan]\n",
      " [nan  3.  2.  3.  1.]]\n",
      "Tamaño M:\n",
      " (20, 5)\n",
      "Numero de elementos diferentes de nan:\n",
      " 25\n"
     ]
    }
   ],
   "source": [
    "M=crear_matriz_rala(20,5,0.25,stats.randint.rvs,*[1,6])\n",
    "\n",
    "print('Matriz M:\\n',M)\n",
    "print('Tamaño M:\\n',M.shape)\n",
    "print('Numero de elementos diferentes de nan:\\n',M[np.isnan(M)==False].size)"
   ]
  },
  {
   "cell_type": "markdown",
   "metadata": {},
   "source": [
    "A continuación se compacta la matriz anterior, es decir, solo considerando las entradas donde se tenga un valor y \n",
    "donde la primer columna representa el índice de la fila, la segunda el índice de la columna y la tercera el valor.\n",
    "\n",
    "**El formato descrito anteriormente es el que solicita la librería libmf.**\n",
    "\n",
    "En este ejemplo se tendrá una matriz de 25 filas (las diferentes de na)"
   ]
  },
  {
   "cell_type": "code",
   "execution_count": 12,
   "metadata": {},
   "outputs": [
    {
     "name": "stdout",
     "output_type": "stream",
     "text": [
      "Expresión compacta de M (MC):\n",
      " [[ 0.  2.  2.]\n",
      " [ 1.  3.  4.]\n",
      " [ 2.  3.  1.]\n",
      " [ 6.  0.  3.]\n",
      " [ 9.  0.  5.]\n",
      " [ 9.  1.  3.]\n",
      " [ 9.  2.  3.]\n",
      " [11.  1.  2.]\n",
      " [11.  3.  3.]\n",
      " [13.  2.  3.]\n",
      " [14.  0.  3.]\n",
      " [14.  1.  4.]\n",
      " [14.  2.  2.]\n",
      " [15.  0.  3.]\n",
      " [15.  2.  5.]\n",
      " [16.  1.  1.]\n",
      " [16.  3.  5.]\n",
      " [17.  2.  2.]\n",
      " [17.  4.  5.]\n",
      " [18.  1.  3.]\n",
      " [18.  2.  3.]\n",
      " [19.  1.  3.]\n",
      " [19.  2.  2.]\n",
      " [19.  3.  3.]\n",
      " [19.  4.  1.]]\n",
      "Tamaño MC:\n",
      " (25, 3)\n"
     ]
    }
   ],
   "source": [
    "MC=compactar_matriz_rala(M)\n",
    "print('Expresión compacta de M (MC):\\n',MC)\n",
    "print('Tamaño MC:\\n',MC.shape)"
   ]
  },
  {
   "cell_type": "markdown",
   "metadata": {},
   "source": [
    "Dado que la librería requiere el formato descrito anteriormente, usaremos directamente la función \"crea_matriz_rala_compacta\" indicandole el número de filas, de columnas y el porcentaje de entradas distinto de na para que directamente devuelva una matriz compacta en el diseño que lo requiere la librería.\n",
    "\n",
    "Dentro de las funciones de libmf existe una que se llama \"generate_test_data\" que genera las matrices en este formato, sin embargo, notamos que al usar ésta podría darse el caso de que una persona califique a una misma película con dos o más calificaciones diferentes, tal como se muestra en los registros marcados en rojo del siguiente ejemplo:"
   ]
  },
  {
   "cell_type": "code",
   "execution_count": 13,
   "metadata": {},
   "outputs": [
    {
     "name": "stdout",
     "output_type": "stream",
     "text": [
      "Matriz generada con mf.generate_test_data(20,5,25):\n",
      "\n",
      "\u001b[1;30;41m [0.         1.         0.16637107]\n",
      "\u001b[0;0;0m [19.          4.          0.30636304]\n",
      "\u001b[0;0;0m [14.          3.          0.14721805]\n",
      "\u001b[0;0;0m [18.          4.          0.22291025]\n",
      "\u001b[0;0;0m [18.          1.          0.53951716]\n",
      "\u001b[0;0;0m [15.          3.          0.74892651]\n",
      "\u001b[0;0;0m [2.         2.         0.42831194]\n",
      "\u001b[0;0;0m [11.          3.          0.10467911]\n",
      "\u001b[0;0;0m [9.         3.         0.75337018]\n",
      "\u001b[0;0;0m [8.         5.         0.59815912]\n",
      "\u001b[0;0;0m [13.          0.          0.48677848]\n",
      "\u001b[0;0;0m [8.         4.         0.97530286]\n",
      "\u001b[0;0;0m [9.         2.         0.80230277]\n",
      "\u001b[0;0;0m [15.          3.          0.33301479]\n",
      "\u001b[0;0;0m [7.         5.         0.54855018]\n",
      "\u001b[0;0;0m [4.         5.         0.31180599]\n",
      "\u001b[0;0;0m [16.          4.          0.06230988]\n",
      "\u001b[0;0;0m [6.         1.         0.90313856]\n",
      "\u001b[0;0;0m [18.          0.          0.86054759]\n",
      "\u001b[0;0;0m [3.        3.        0.6296915]\n",
      "\u001b[1;30;41m [0.         1.         0.21655643]\n",
      "\u001b[1;30;41m [0.        1.        0.5557169]\n",
      "\u001b[0;0;0m [16.          5.          0.10932898]\n",
      "\u001b[0;0;0m [6.         5.         0.55083566]\n",
      "\u001b[0;0;0m [7.        0.        0.5812561]\n",
      "Tamaño MC:\n",
      " (25, 3)\n"
     ]
    }
   ],
   "source": [
    "#El 1er parámetro indica que se seleccionará un valor\n",
    "#de entre 0 y 19 para la 1er columna (que representa el índice\n",
    "#de los renglones de la matriz rala que expresa); el 2do\n",
    "#parámetro indica que se seleccionara al azar valores entre\n",
    "#0 y 4 (que representa el índice de las columnas de la matriz\n",
    "#rala que expresa); el 3er parámetro indica el número de elementos\n",
    "#a generar \n",
    "\n",
    "np.random.seed(102)\n",
    "MC=mf.generate_test_data(20, 5, 25)\n",
    "print('Matriz generada con mf.generate_test_data(20,5,25):\\n')\n",
    "for i in range(MC.shape[0]):\n",
    "    if MC[i,0]==0:\n",
    "        print('\\033[1;30;41m',MC[i,:])\n",
    "    else:\n",
    "        print('\\033[0;0;0m',MC[i,:])\n",
    "print('Tamaño MC:\\n',MC.shape)"
   ]
  },
  {
   "cell_type": "code",
   "execution_count": 14,
   "metadata": {},
   "outputs": [
    {
     "name": "stdout",
     "output_type": "stream",
     "text": [
      "Expresión compacta de M (MC) ordenada por renglon:\n",
      " [[ 0  0  1]\n",
      " [ 0  1  2]\n",
      " [ 1  1  5]\n",
      " [ 2  3  1]\n",
      " [ 4  4  5]\n",
      " [ 4  3  2]\n",
      " [ 4  1  3]\n",
      " [ 5  4  5]\n",
      " [ 5  2  3]\n",
      " [ 7  1  4]\n",
      " [ 8  4  2]\n",
      " [10  1  3]\n",
      " [11  3  5]\n",
      " [11  1  1]\n",
      " [13  1  4]\n",
      " [14  0  4]\n",
      " [15  4  4]\n",
      " [15  2  4]\n",
      " [16  4  2]\n",
      " [16  2  4]\n",
      " [17  3  5]\n",
      " [17  1  1]\n",
      " [18  3  1]\n",
      " [19  4  3]\n",
      " [19  0  3]]\n",
      "Tamaño MC:\n",
      " (25, 3)\n"
     ]
    }
   ],
   "source": [
    "MC=crear_matriz_rala_compacta(20,5,0.25)\n",
    "print('Expresión compacta de M (MC) ordenada por renglon:\\n',MC[np.argsort(MC[:,0])])\n",
    "print('Tamaño MC:\\n',MC.shape)"
   ]
  },
  {
   "cell_type": "markdown",
   "metadata": {},
   "source": [
    "## CLASE MF DE LIBMF-PYTHON\n",
    "\n",
    "\n",
    "A continuación se describe la clase base de la librería libmf en python que es la de **MF**. Con esta clase se realiza la factorización de la matriz R en otras dos matrices P y Q (entrenamiento del modelo) y se realizan las predicciones que se necesitan para tener un sistema de recomendación.\n",
    "\n",
    "Se describe un resumen de su documentación:\n",
    "\n",
    "* Clase: MF<br/>\n",
    "Atributos:<br/>  \n",
    "            .model\n",
    "            ._options \n",
    "            .i\n",
    "            .j\n",
    " Métodos:<br/>\n",
    "          .fit -> < Objetivo: factorize the i x j data matrix X into (j, k) (k, i) \n",
    "                  <           sized matrices stored in MF.model\n",
    "                  < Parámetro X: (n, 3) shaped numpy array [known index and values \n",
    "                  <              of the data matrix]\n",
    "\n",
    "          .predict -> < Objetivo: assuming we have already run the fit method, predict\n",
    "                      <           the values at certain indices of the data matrix\n",
    "                      < Parámetro X: (n, 2) shaped numpy array\n",
    "                      < Regresa: numpy array of length n\n",
    "\n",
    "          .mf_cross_validation -> < Objetivo: Realizar cross-validation\n",
    "                                  < Parámetro X: (n, 3)\n",
    "                                  < Parámetro folds: number of train / test splits\n",
    "                                  < Regresa: score across all folds \n",
    "\n",
    "          .q_factors -> < Objetivo: Obtener la matriz Q\n",
    "\n",
    "          .p_factors -> < Objetivo:  Obtener la matriz P\n",
    "          \n"
   ]
  },
  {
   "cell_type": "markdown",
   "metadata": {},
   "source": [
    "En lo siguiente se muestran casos de su uso:"
   ]
  },
  {
   "cell_type": "code",
   "execution_count": 15,
   "metadata": {},
   "outputs": [
    {
     "name": "stdout",
     "output_type": "stream",
     "text": [
      "Tipo de objeto:  <class 'libmf.mf.MF'>\n",
      "Instance variables:  {'model': None, '_options': <libmf.mf.MFParam object at 0x1a19ae2320>, 'i': None, 'j': None}\n"
     ]
    }
   ],
   "source": [
    "#objeto de tipo MF para obtener la factorización deseada\n",
    "mf_netflix=mf.MF()\n",
    "\n",
    "#veamos algunas de las propiedades del objeto mf_netflix\n",
    "print('Tipo de objeto: ',type(mf_netflix))\n",
    "print('Instance variables: ',mf_netflix.__dict__)"
   ]
  },
  {
   "cell_type": "markdown",
   "metadata": {},
   "source": [
    "En la definición del objeto anterior no se especificó ningún parámetro, por lo que se usarán los valores de default de cada uno de ellos para entrenar el modelo (factorización de la matriz R).\n",
    "\n",
    "Veamos cuáles son estos valores default."
   ]
  },
  {
   "cell_type": "code",
   "execution_count": 16,
   "metadata": {},
   "outputs": [
    {
     "name": "stdout",
     "output_type": "stream",
     "text": [
      "Atributos del modelo:\n",
      "fun=0\n",
      "k=8\n",
      "nr_threads=12\n",
      "nr_bins=26\n",
      "nr_iters=20\n",
      "lambda_p1=0.0400\n",
      "lambda_p2=0.0000\n",
      "lambda_q1=0.0400\n",
      "lambda_q2=0.0000\n",
      "eta=0.1000\n",
      "do_nmf= False\n",
      "quiet= False\n",
      "copy_data= True\n"
     ]
    }
   ],
   "source": [
    "imprime_atributos_MF(mf_netflix)"
   ]
  },
  {
   "cell_type": "markdown",
   "metadata": {},
   "source": [
    "Observemos también que esos parámetros se encuentran definidos dentro de los atributos del objeto:"
   ]
  },
  {
   "cell_type": "code",
   "execution_count": 17,
   "metadata": {},
   "outputs": [
    {
     "name": "stdout",
     "output_type": "stream",
     "text": [
      "Atributos:  ['__class__', '__ctypes_from_outparam__', '__delattr__', '__dict__', '__dir__', '__doc__', '__eq__', '__format__', '__ge__', '__getattribute__', '__gt__', '__hash__', '__init__', '__init_subclass__', '__le__', '__lt__', '__module__', '__ne__', '__new__', '__reduce__', '__reduce_ex__', '__repr__', '__setattr__', '__setstate__', '__sizeof__', '__str__', '__subclasshook__', '__weakref__', '_b_base_', '_b_needsfree_', '_fields_', '_objects', 'copy_data', 'do_nmf', 'eta', 'fun', 'k', 'lambda_p1', 'lambda_p2', 'lambda_q1', 'lambda_q2', 'nr_bins', 'nr_iters', 'nr_threads', 'quiet']\n"
     ]
    }
   ],
   "source": [
    "print('Atributos: ', dir(mf_netflix._options))"
   ]
  },
  {
   "cell_type": "markdown",
   "metadata": {},
   "source": [
    "Sin embargo, en la definición del objeto se puede especificar el valor de cada parámetro para poder obtener la mejor factorización posible (sin llegar al sobreajuste)"
   ]
  },
  {
   "cell_type": "code",
   "execution_count": 18,
   "metadata": {},
   "outputs": [
    {
     "name": "stdout",
     "output_type": "stream",
     "text": [
      "Atributos del modelo:\n",
      "fun=0\n",
      "k=10\n",
      "nr_threads=12\n",
      "nr_bins=26\n",
      "nr_iters=20\n",
      "lambda_p1=0.0400\n",
      "lambda_p2=0.0000\n",
      "lambda_q1=0.0400\n",
      "lambda_q2=0.0000\n",
      "eta=0.1000\n",
      "do_nmf= False\n",
      "quiet= False\n",
      "copy_data= True\n"
     ]
    }
   ],
   "source": [
    "mf_netflix=mf.MF(fun=0,k=10,nr_threads=12,nr_bins=26,nr_iters=20,lambda_p1=0.04,lambda_p2=0.0,lambda_q1=0.04,lambda_q2=0.0,eta=0.1,do_nmf=False,quiet=False,copy_data=True)\n",
    "imprime_atributos_MF(mf_netflix)\n"
   ]
  },
  {
   "cell_type": "code",
   "execution_count": 19,
   "metadata": {},
   "outputs": [
    {
     "name": "stdout",
     "output_type": "stream",
     "text": [
      "Atributos del modelo:\n",
      "fun=0\n",
      "k=5\n",
      "nr_threads=12\n",
      "nr_bins=26\n",
      "nr_iters=21\n",
      "lambda_p1=0.0400\n",
      "lambda_p2=0.0000\n",
      "lambda_q1=0.0400\n",
      "lambda_q2=0.0000\n",
      "eta=0.1100\n",
      "do_nmf= False\n",
      "quiet= False\n",
      "copy_data= True\n"
     ]
    }
   ],
   "source": [
    "mf_netflix=mf.MF(eta=0.11,nr_iters=21, k=5)\n",
    "\n",
    "imprime_atributos_MF(mf_netflix)"
   ]
  },
  {
   "cell_type": "markdown",
   "metadata": {},
   "source": [
    "### MÉTODO FIT DE LA CLASE MF\n",
    "\n",
    "A este método se le tiene que pasar la matriz de entrenamiento (con el formato especificado anteriormente) y su objetivo es realizar la factorización de la matriz R, es decir, obtener P y Q.\n",
    "\n",
    "Primero generemos la matriz de entrenamiento y validación."
   ]
  },
  {
   "cell_type": "code",
   "execution_count": 20,
   "metadata": {},
   "outputs": [],
   "source": [
    "ME=crear_matriz_rala_compacta(20,5,0.40)\n",
    "MV=crear_matriz_rala_compacta(20,5,0.15)"
   ]
  },
  {
   "cell_type": "markdown",
   "metadata": {},
   "source": [
    "Posteriormente, a estas dos muestras les daremos el siguiente tratamiento.\n",
    "\n",
    "Es importante resaltar que solo vamos a considerar las primeras dos columnas (sin los valores/calificaciones) de \"MV\" dado que así lo requiere el método predict de esta clase para justo obtener las predicciones."
   ]
  },
  {
   "cell_type": "code",
   "execution_count": 21,
   "metadata": {},
   "outputs": [],
   "source": [
    "MV_index=MV[:,0:2]\n",
    "MC_entrena=np.empty((40,3,))\n",
    "MC_entrena[:]=np.nan\n",
    "MC_valida=np.empty((15,2,))\n",
    "MC_valida[:]=np.nan\n",
    "for i in range(40):\n",
    "    for j in range(3):\n",
    "        MC_entrena[i,j]=float(ME[i,j])\n",
    "        if i<15 and j<2:\n",
    "            MC_valida[i,j]=float(MV_index[i,j])"
   ]
  },
  {
   "cell_type": "code",
   "execution_count": 22,
   "metadata": {},
   "outputs": [
    {
     "data": {
      "text/plain": [
       "array([[11.,  3.,  5.],\n",
       "       [11.,  4.,  4.],\n",
       "       [10.,  4.,  5.],\n",
       "       [13.,  0.,  5.],\n",
       "       [18.,  4.,  3.],\n",
       "       [ 2.,  4.,  1.],\n",
       "       [ 0.,  1.,  5.],\n",
       "       [15.,  4.,  4.],\n",
       "       [17.,  4.,  2.],\n",
       "       [10.,  3.,  2.],\n",
       "       [ 7.,  3.,  2.],\n",
       "       [ 1.,  3.,  2.],\n",
       "       [ 9.,  0.,  1.],\n",
       "       [15.,  0.,  1.],\n",
       "       [16.,  3.,  3.],\n",
       "       [12.,  4.,  5.],\n",
       "       [11.,  2.,  1.],\n",
       "       [11.,  0.,  5.],\n",
       "       [ 4.,  1.,  3.],\n",
       "       [ 7.,  4.,  5.],\n",
       "       [ 1.,  2.,  5.],\n",
       "       [19.,  2.,  2.],\n",
       "       [12.,  2.,  4.],\n",
       "       [18.,  2.,  5.],\n",
       "       [12.,  0.,  3.],\n",
       "       [ 3.,  1.,  1.],\n",
       "       [17.,  0.,  3.],\n",
       "       [16.,  4.,  4.],\n",
       "       [14.,  4.,  1.],\n",
       "       [ 6.,  1.,  2.],\n",
       "       [ 8.,  3.,  1.],\n",
       "       [14.,  2.,  4.],\n",
       "       [13.,  4.,  4.],\n",
       "       [15.,  1.,  4.],\n",
       "       [ 5.,  0.,  1.],\n",
       "       [ 4.,  0.,  5.],\n",
       "       [ 6.,  2.,  3.],\n",
       "       [ 6.,  4.,  3.],\n",
       "       [10.,  1.,  4.],\n",
       "       [19.,  4.,  3.]])"
      ]
     },
     "execution_count": 22,
     "metadata": {},
     "output_type": "execute_result"
    }
   ],
   "source": [
    "MC_entrena"
   ]
  },
  {
   "cell_type": "markdown",
   "metadata": {},
   "source": [
    "Aplicamos el método fit  a la matriz de entrenamiento para obtener la factorización, en este ejemplo con los valores que se le asignan a los parámetros por default."
   ]
  },
  {
   "cell_type": "code",
   "execution_count": 23,
   "metadata": {},
   "outputs": [],
   "source": [
    "mf_netflix = mf.MF()\n",
    "mf_netflix.fit(MC_entrena)"
   ]
  },
  {
   "cell_type": "markdown",
   "metadata": {},
   "source": [
    "### MÉTODO VALIDACIÓN CRUZADA DE LA CLASE MF\n",
    "\n",
    "A este método se le tiene que pasar la matriz de entrenamiento (con el formato especificado anteriormente) y el número de folds a realizar, en caso de que no se requiera el de default (5) y devuelve el score.\n"
   ]
  },
  {
   "cell_type": "code",
   "execution_count": 24,
   "metadata": {},
   "outputs": [
    {
     "name": "stdout",
     "output_type": "stream",
     "text": [
      "Validación cruzada con 5 folds:  2.0833972022911675\n"
     ]
    }
   ],
   "source": [
    "print('Validación cruzada con 5 folds: ',mf_netflix.mf_cross_validation(MC_entrena))"
   ]
  },
  {
   "cell_type": "markdown",
   "metadata": {},
   "source": [
    "### MÉTODO PREDICT DE LA CLASE MF\n",
    "\n",
    "A este método se le tiene que pasar la matriz de validación (con el formato especificado anteriormente) y devuelve un vector con las predicciones, con número de entradas igual al número de filas de la matriz de validación.\n"
   ]
  },
  {
   "cell_type": "code",
   "execution_count": 25,
   "metadata": {},
   "outputs": [
    {
     "data": {
      "text/plain": [
       "array([3.8494096, 3.15     , 3.6547995, 3.15     , 0.870219 , 3.15     ,\n",
       "       3.2371597, 2.7428324, 2.5692482, 1.1390778, 0.9577841, 3.15     ,\n",
       "       3.6973605, 3.15     , 1.8846557], dtype=float32)"
      ]
     },
     "execution_count": 25,
     "metadata": {},
     "output_type": "execute_result"
    }
   ],
   "source": [
    "pred=mf_netflix.predict(MC_valida)\n",
    "pred"
   ]
  },
  {
   "cell_type": "code",
   "execution_count": 26,
   "metadata": {},
   "outputs": [
    {
     "name": "stdout",
     "output_type": "stream",
     "text": [
      "Los valores verdaderos de MC_valida son: [2 3 4 1 1 4 1 4 2 2 2 3 3 2 1]\n"
     ]
    }
   ],
   "source": [
    "print('Los valores verdaderos de MC_valida son:',MV[:,2])"
   ]
  },
  {
   "cell_type": "markdown",
   "metadata": {},
   "source": [
    "### MÉTODO Q_FACTORS DE LA CLASE MF\n",
    "\n",
    "Con este método se obtiene la información relacionada a la matriz Q"
   ]
  },
  {
   "cell_type": "code",
   "execution_count": 27,
   "metadata": {},
   "outputs": [
    {
     "name": "stdout",
     "output_type": "stream",
     "text": [
      "Tamaño Q: (5, 8)\n",
      "Matriz Q:\n",
      " [[ 0.92554075  0.13283074  0.42496398  1.330313    1.0461099   0.6722095\n",
      "   1.3373908   0.0312187 ]\n",
      " [ 0.73527586  0.96832305  0.2293356   0.62338495  0.7322146   1.3061383\n",
      "   0.4250327   1.0249578 ]\n",
      " [ 1.135339    0.22270554  1.1328886   0.43923956  1.6109912   0.7988438\n",
      "  -0.1837712   0.7920804 ]\n",
      " [ 0.36625618  0.58380556  0.2211914   1.0482459   0.5146589   0.2496472\n",
      "   1.2645755   0.06796654]\n",
      " [ 0.77889955  1.481756    0.28612852  0.72553825  0.9580456   1.0354813\n",
      "   0.8840778   0.61594087]]\n"
     ]
    }
   ],
   "source": [
    "Q=mf_netflix.q_factors()\n",
    "print('Tamaño Q:',Q.shape)\n",
    "print('Matriz Q:\\n',Q)"
   ]
  },
  {
   "cell_type": "markdown",
   "metadata": {},
   "source": [
    "### MÉTODO P_FACTORS DE LA CLASE MF\n",
    "\n",
    "Con este método se obtiene la información relacionada a la matriz P"
   ]
  },
  {
   "cell_type": "code",
   "execution_count": 28,
   "metadata": {},
   "outputs": [
    {
     "name": "stdout",
     "output_type": "stream",
     "text": [
      "Tamaño P: (20, 8)\n",
      "Matriz P:\n",
      " [[ 6.9187248e-01  7.4295610e-01  3.2220769e-01  7.1507949e-01\n",
      "   6.8657750e-01  1.1249733e+00  4.2700648e-01  8.9246488e-01]\n",
      " [ 8.6928946e-01  2.5296515e-01  7.7806997e-01  6.1749625e-01\n",
      "   1.0608798e+00  6.9095242e-01  8.2889527e-02  5.2232605e-01]\n",
      " [ 1.0159652e-01  9.5493324e-02  3.1206089e-01  3.4236616e-01\n",
      "   1.4865229e-01  1.2671061e-02  2.0785305e-01  7.3285259e-02]\n",
      " [ 8.1352569e-02  1.7207696e-01  1.1362135e-01  2.8049186e-01\n",
      "   2.3960888e-01  1.8999358e-01  1.9498384e-01  9.5334323e-03]\n",
      " [ 5.7262123e-01  1.0561044e-01  5.0034291e-01  1.0361123e+00\n",
      "   9.5461488e-01  5.5116171e-01  8.3611852e-01  1.7007367e-01]\n",
      " [ 2.0440505e-01  5.9684724e-02  2.7887881e-01  1.3237080e-01\n",
      "   2.3662038e-01  0.0000000e+00  1.5884811e-01  2.6819012e-01]\n",
      " [ 5.5866617e-01  4.5294949e-01  3.2025740e-01  1.6269134e-01\n",
      "   8.6215168e-01  3.1905976e-01  2.1563727e-01  1.1667450e-01]\n",
      " [ 6.5535396e-01  7.6827675e-01  4.8706904e-01  5.9386545e-01\n",
      "   7.1326995e-01  6.3563645e-01  5.2208370e-01  7.0935190e-01]\n",
      " [ 2.7169323e-01  3.0674779e-01  2.1839441e-01  2.7653712e-01\n",
      "   1.1496012e-02  8.7627806e-02  2.5637671e-01  1.8584532e-01]\n",
      " [ 2.3968764e-01  3.4022015e-01  0.0000000e+00  3.0746269e-01\n",
      "   1.2815696e-03  9.1977187e-02  1.6208096e-01  5.7525322e-02]\n",
      " [ 7.7709889e-01  9.0931284e-01  1.6689985e-01  4.7131032e-01\n",
      "   7.4185055e-01  7.9133135e-01  4.5842442e-01  5.0998127e-01]\n",
      " [ 4.3545499e-01  5.8997732e-01  8.8712938e-02  1.0667185e+00\n",
      "   4.4737512e-01  4.0171960e-01  1.5038308e+00  1.8928859e-02]\n",
      " [ 6.7286295e-01  8.4203690e-01  4.9276894e-01  5.0147939e-01\n",
      "   8.1764144e-01  7.8406310e-01  3.2987016e-01  4.1139221e-01]\n",
      " [ 8.2210290e-01  4.0990105e-01  2.7284098e-01  9.2577189e-01\n",
      "   8.5192871e-01  5.2244395e-01  9.0442669e-01  1.9921137e-01]\n",
      " [ 6.2090570e-01 -1.8397184e-01  5.8031511e-01  1.7709619e-01\n",
      "   8.0198365e-01  2.2956090e-01 -5.7571258e-02  4.4442606e-01]\n",
      " [ 2.7679563e-01  9.5987815e-01  7.2205000e-02  1.3204817e-01\n",
      "   4.7196424e-01  7.8621364e-01  1.8753932e-01  6.9120818e-01]\n",
      " [ 6.7458349e-01  8.0746382e-01  4.8250869e-01  7.6114076e-01\n",
      "   6.5827346e-01  2.6030260e-01  5.9288430e-01  3.5019454e-01]\n",
      " [ 3.4568176e-01  1.0971100e-01  1.2410949e-01  4.5726791e-01\n",
      "   4.9868450e-01  4.1866341e-01  6.2212050e-01  3.0220205e-02]\n",
      " [ 6.4637190e-01  1.4167382e-01  8.8985139e-01  5.0882190e-01\n",
      "   1.1561242e+00  5.1247448e-01  6.5898336e-02  4.5420468e-01]\n",
      " [ 1.8985075e-01  4.3747216e-01  1.6037831e-01  4.8096439e-01\n",
      "   3.9682400e-01  5.6722015e-01  5.4636014e-01  3.8544303e-01]]\n"
     ]
    }
   ],
   "source": [
    "P=mf_netflix.p_factors()\n",
    "print('Tamaño P:',P.shape)\n",
    "print('Matriz P:\\n',P)"
   ]
  },
  {
   "cell_type": "markdown",
   "metadata": {},
   "source": [
    "En el siguiente ejemplo se indica que se realice la factorización no negativa, dado que se observa que en la matriz P anterior hay entradas negativas, que el número de iteraciones sea igual a 30 y que el número de factores latentes sea igual a 5."
   ]
  },
  {
   "cell_type": "code",
   "execution_count": 29,
   "metadata": {},
   "outputs": [],
   "source": [
    "mf_netflix = mf.MF(do_nmf=True, nr_iters=30, k=5)\n",
    "mf_netflix.fit(MC_entrena)"
   ]
  },
  {
   "cell_type": "code",
   "execution_count": 30,
   "metadata": {},
   "outputs": [
    {
     "data": {
      "text/plain": [
       "array([4.3507032 , 3.15      , 3.40761   , 3.15      , 0.83365715,\n",
       "       3.15      , 3.1568196 , 3.309884  , 3.2439501 , 1.0403211 ,\n",
       "       0.9771335 , 3.15      , 3.990199  , 3.15      , 1.1636386 ],\n",
       "      dtype=float32)"
      ]
     },
     "execution_count": 30,
     "metadata": {},
     "output_type": "execute_result"
    }
   ],
   "source": [
    "pred=mf_netflix.predict(MC_valida)\n",
    "pred"
   ]
  },
  {
   "cell_type": "code",
   "execution_count": 31,
   "metadata": {},
   "outputs": [
    {
     "name": "stdout",
     "output_type": "stream",
     "text": [
      "Los valores verdaderos de MC_valida son: [2 3 4 1 1 4 1 4 2 2 2 3 3 2 1]\n"
     ]
    }
   ],
   "source": [
    "print('Los valores verdaderos de MC_valida son:',MV[:,2])"
   ]
  },
  {
   "cell_type": "code",
   "execution_count": 32,
   "metadata": {},
   "outputs": [
    {
     "name": "stdout",
     "output_type": "stream",
     "text": [
      "Tamaño Q: (5, 5)\n",
      "Matriz Q:\n",
      " [[5.7679170e-01 6.9930995e-01 1.5103151e-01 1.7653044e+00 1.7104127e+00]\n",
      " [6.4528549e-01 9.0039623e-01 1.7551240e+00 7.1617931e-01 5.4637313e-01]\n",
      " [4.9602729e-01 1.1153817e+00 1.4103149e+00 1.5069052e+00 1.8975930e-01]\n",
      " [7.6336819e-01 9.3359560e-01 7.6578872e-04 1.0700930e+00 9.1725242e-01]\n",
      " [1.6091663e+00 1.7668656e-01 1.6382926e+00 8.1129640e-01 9.2833775e-01]]\n"
     ]
    }
   ],
   "source": [
    "Q=mf_netflix.q_factors()\n",
    "print('Tamaño Q:',Q.shape)\n",
    "print('Matriz Q:\\n',Q)"
   ]
  },
  {
   "cell_type": "code",
   "execution_count": 33,
   "metadata": {},
   "outputs": [
    {
     "name": "stdout",
     "output_type": "stream",
     "text": [
      "Tamaño P: (20, 5)\n",
      "Matriz P:\n",
      " [[0.49245852 0.95934874 1.3640375  1.1355462  0.8962948 ]\n",
      " [0.74261147 0.67487544 1.0667952  1.1416166  0.39055252]\n",
      " [0.03595683 0.27906382 0.27610534 0.14800441 0.3048714 ]\n",
      " [0.40171784 0.05316391 0.18500192 0.13231511 0.4140084 ]\n",
      " [0.43175536 0.6130884  0.38441077 1.1495609  1.239467  ]\n",
      " [0.19832885 0.10852543 0.1832922  0.30321103 0.12648599]\n",
      " [0.56873876 0.38887435 0.35523087 0.9256571  0.53503114]\n",
      " [0.96073395 0.37673736 1.282539   0.7612451  0.4748032 ]\n",
      " [0.0977657  0.18049772 0.40306738 0.31192225 0.43091834]\n",
      " [0.         0.         0.15747258 0.24699706 0.30245635]\n",
      " [0.96224    0.20370173 1.3432026  0.73487204 0.5111935 ]\n",
      " [0.96691465 0.6736087  0.00632663 0.96218747 1.1770265 ]\n",
      " [0.931409   0.44646236 1.2183614  0.8374481  0.4067721 ]\n",
      " [0.62927043 0.53896785 0.629067   1.1563523  1.1169927 ]\n",
      " [0.         1.0614103  0.37191823 0.9469902  0.11275017]\n",
      " [0.7759942  0.57015043 1.5292933  0.04327297 0.00583384]\n",
      " [0.8968872  0.83259726 0.7246322  0.80705637 0.6065684 ]\n",
      " [0.04183318 0.23647526 0.2797433  0.7697743  0.80826515]\n",
      " [0.4800756  1.0454515  0.69428295 1.3023314  0.2663452 ]\n",
      " [0.54799104 0.11444302 0.5406126  0.49506634 0.758175  ]]\n"
     ]
    }
   ],
   "source": [
    "P=mf_netflix.p_factors()\n",
    "print('Tamaño P:',P.shape)\n",
    "print('Matriz P:\\n',P)"
   ]
  }
 ],
 "metadata": {
  "kernelspec": {
   "display_name": "Python 3",
   "language": "python",
   "name": "python3"
  },
  "language_info": {
   "codemirror_mode": {
    "name": "ipython",
    "version": 3
   },
   "file_extension": ".py",
   "mimetype": "text/x-python",
   "name": "python",
   "nbconvert_exporter": "python",
   "pygments_lexer": "ipython3",
   "version": "3.7.4"
  }
 },
 "nbformat": 4,
 "nbformat_minor": 4
}
