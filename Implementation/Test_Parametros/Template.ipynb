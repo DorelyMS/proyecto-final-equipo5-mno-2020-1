{
 "cells": [
  {
   "cell_type": "markdown",
   "metadata": {},
   "source": [
    "# Pruebas de parámetros en libmf"
   ]
  },
  {
   "cell_type": "markdown",
   "metadata": {},
   "source": [
    "**Fecha:** 18 de Mayo de 2020"
   ]
  },
  {
   "cell_type": "markdown",
   "metadata": {},
   "source": [
    "**Responsables de revisión:** Nombre Completo"
   ]
  },
  {
   "cell_type": "markdown",
   "metadata": {},
   "source": [
    "**Tipo de factorización:** RVMF o NMF (Indicar cuál)"
   ]
  },
  {
   "cell_type": "markdown",
   "metadata": {},
   "source": [
    "**Código implementado:**"
   ]
  },
  {
   "cell_type": "code",
   "execution_count": 5,
   "metadata": {},
   "outputs": [],
   "source": [
    "#Aquí se colocará la sección lista para jugar con los modelos"
   ]
  },
  {
   "cell_type": "markdown",
   "metadata": {},
   "source": [
    "A continuación se presentan los de las pruebas variando los parámetros que recibe el código la función en diferentes rangos para evaluar su comportamiento y/o detectar posibles fallos."
   ]
  },
  {
   "cell_type": "code",
   "execution_count": 10,
   "metadata": {},
   "outputs": [],
   "source": [
    "#Revisar página 16 de paper de referencia con los parámetros sugeridos para la base completa del concurso de Netflix con pérdida cuadrática: \n",
    "#https://www.csie.ntu.edu.tw/~cjlin/papers/libmf/libmf_journal.pdf"
   ]
  },
  {
   "cell_type": "markdown",
   "metadata": {},
   "source": [
    "**Test 1**"
   ]
  },
  {
   "cell_type": "markdown",
   "metadata": {},
   "source": [
    "**Objetivo del test 1:** Verificar que la función se comporta correctamente con los parámetros por default de la librería"
   ]
  },
  {
   "cell_type": "markdown",
   "metadata": {},
   "source": [
    "**Implementación del test 1:**"
   ]
  },
  {
   "cell_type": "code",
   "execution_count": 1,
   "metadata": {},
   "outputs": [],
   "source": [
    "#Aquí de coloca el código con los parámetros indicados para el Test"
   ]
  },
  {
   "cell_type": "markdown",
   "metadata": {},
   "source": [
    "**Principales hallazos del test 1:**"
   ]
  },
  {
   "cell_type": "markdown",
   "metadata": {},
   "source": [
    "**Test 2**"
   ]
  },
  {
   "cell_type": "markdown",
   "metadata": {},
   "source": [
    "**Objetivo del test 2:** Verificar que la predicción se comporta correctamente sólo incrementando k el número de factores latentes (k=40 es el sugerido por el paper para f=SE)"
   ]
  },
  {
   "cell_type": "markdown",
   "metadata": {},
   "source": [
    "**Implementación del test 2:**"
   ]
  },
  {
   "cell_type": "code",
   "execution_count": 7,
   "metadata": {},
   "outputs": [],
   "source": [
    "#Aquí de coloca el código con los parámetros indicados para el Test"
   ]
  },
  {
   "cell_type": "markdown",
   "metadata": {},
   "source": [
    "**Principales hallazos del test 2:**"
   ]
  },
  {
   "cell_type": "markdown",
   "metadata": {},
   "source": [
    "**Cuadro Resumen de Resultados:**"
   ]
  },
  {
   "cell_type": "markdown",
   "metadata": {},
   "source": [
    "| Test | Parámetros                                         | Tiempo de ejecución (secs) |  Iteraciones | Error |\n",
    "|:-:|-------------------------------------------------------|----------------------------|--------------|:--------:|\n",
    "| 1 | f=SE, k=8, s=12, n=26, lp1=0.04, lp2=0, lq1=0.04, lq2=0, eta=0.1, do_nmf=T, t=20, v=0  | 30.5 secs           | 25           | MAE=0.7865 |\n",
    "| 2 | f=SE, k=8, s=12, n=26, lp1=0.04, lp2=0, lq1=0.04, lq2=0, eta=0.1, do_nmf=T, t=20, v=0  | 30.5 secs                  | 25           | MAE=0.7865 |\n",
    "| 3 | f=SE, k=8, s=12, n=26, lp1=0.04, lp2=0, lq1=0.04, lq2=0, eta=0.1, do_nmf=T, t=20, v=0  | 30.5 secs                  | 25           | MAE=0.7865 |\n",
    "| 4 | f=SE, k=8, s=12, n=26, lp1=0.04, lp2=0, lq1=0.04, lq2=0, eta=0.1, do_nmf=T, t=20, v=0  | 30.5 secs                  | 25           | MAE=0.7865 |\n",
    "| 5 | f=SE, k=8, s=12, n=26, lp1=0.04, lp2=0, lq1=0.04, lq2=0, eta=0.1, do_nmf=T, t=20, v=0  | 30.5 secs                  | 25           | MAE=0.7865 |\n",
    "| 6 | f=SE, k=8, s=12, n=26, lp1=0.04, lp2=0, lq1=0.04, lq2=0, eta=0.1, do_nmf=T, t=20, v=0  | 30.5 secs                  | 25           | MAE=0.7865 |"
   ]
  },
  {
   "cell_type": "markdown",
   "metadata": {},
   "source": [
    "**Conclusiones y aprendizajes sobre la totalidad de las pruebas**\n",
    "\n",
    "* El mejor desempeño se obtuvo en el Test x\n",
    "* El número de iteraciones se reducen cuando...\n",
    "* El tiempo de ejecución aumenta significativamente si...\n",
    "* Al cambiar la función de pérdida..."
   ]
  }
 ],
 "metadata": {
  "kernelspec": {
   "display_name": "Python 3",
   "language": "python",
   "name": "python3"
  },
  "language_info": {
   "codemirror_mode": {
    "name": "ipython",
    "version": 3
   },
   "file_extension": ".py",
   "mimetype": "text/x-python",
   "name": "python",
   "nbconvert_exporter": "python",
   "pygments_lexer": "ipython3",
   "version": "3.6.9"
  }
 },
 "nbformat": 4,
 "nbformat_minor": 4
}
