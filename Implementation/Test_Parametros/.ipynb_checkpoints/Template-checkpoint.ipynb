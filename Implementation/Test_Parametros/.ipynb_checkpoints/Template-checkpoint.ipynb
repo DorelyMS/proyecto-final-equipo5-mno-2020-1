{
 "cells": [
  {
   "cell_type": "markdown",
   "metadata": {},
   "source": [
    "# Pruebas de parámetros en libmf"
   ]
  },
  {
   "cell_type": "markdown",
   "metadata": {},
   "source": [
    "**Fecha:** 18 de Mayo de 2020"
   ]
  },
  {
   "cell_type": "markdown",
   "metadata": {},
   "source": [
    "**Responsables de revisión:** Nombre Completo"
   ]
  },
  {
   "cell_type": "markdown",
   "metadata": {},
   "source": [
    "**Tipo de factorización:** RVMF o NMF (Indicar cuál)"
   ]
  },
  {
   "cell_type": "markdown",
   "metadata": {},
   "source": [
    "**Código implementado:**"
   ]
  },
  {
   "cell_type": "code",
   "execution_count": 5,
   "metadata": {},
   "outputs": [],
   "source": [
    "#Aquí se colocará la sección lista para jugar con los modelos"
   ]
  },
  {
   "cell_type": "markdown",
   "metadata": {},
   "source": [
    "A continuación se presentan los de las pruebas variando los parámetros que recibe el código la función en diferentes rangos para evaluar su comportamiento y/o detectar posibles fallos."
   ]
  },
  {
   "cell_type": "markdown",
   "metadata": {},
   "source": [
    "**Test 1**"
   ]
  },
  {
   "cell_type": "markdown",
   "metadata": {},
   "source": [
    "**Objetivo del test 1:** Verificar que la función se comporta correctamente con los parámetros por default de la librería y el tipo de factorización indicada"
   ]
  },
  {
   "cell_type": "markdown",
   "metadata": {},
   "source": [
    "**Implementación del test 1:**"
   ]
  },
  {
   "cell_type": "code",
   "execution_count": 8,
   "metadata": {},
   "outputs": [],
   "source": [
    "#Aquí de coloca el código con los parámetros indicados para el Test"
   ]
  },
  {
   "cell_type": "markdown",
   "metadata": {},
   "source": [
    "**Principales hallazos del test 1**"
   ]
  },
  {
   "cell_type": "markdown",
   "metadata": {},
   "source": [
    "Conclusiones Generales:"
   ]
  },
  {
   "cell_type": "markdown",
   "metadata": {},
   "source": [
    "**Cuadro Resumen de Resultados:**"
   ]
  },
  {
   "cell_type": "markdown",
   "metadata": {},
   "source": [
    "| Test | Parámetros                                         | Tiempo de ejecución (secs) |  Iteraciones | Error |\n",
    "|:-:|----------------------------------------------|-------------|-------------|:--------:|\n",
    "| 1 | f=SE, k=8, threads=12                   | 1           | [Exp1] |\n",
    "| 2 | Algoritmo One-Sided Jacobi                   | 2           | [Exp2] |\n",
    "| 3 | Método de eliminación por bloques usando SVD | 3           | [Exp3] |\n",
    "| 4 | Método de eliminación por bloques usando SVD | 4           | [Exp4] |\n",
    "| 5 | Método de eliminación por bloques usando SVD | 5           | [Exp5] |\n",
    "| 6 | Método de eliminación por bloques usando SVD | 6           | [Exp6] |"
   ]
  },
  {
   "cell_type": "markdown",
   "metadata": {},
   "source": [
    "**Conclusiones sobre la totalidad de las pruebas**"
   ]
  }
 ],
 "metadata": {
  "kernelspec": {
   "display_name": "Python 3",
   "language": "python",
   "name": "python3"
  },
  "language_info": {
   "codemirror_mode": {
    "name": "ipython",
    "version": 3
   },
   "file_extension": ".py",
   "mimetype": "text/x-python",
   "name": "python",
   "nbconvert_exporter": "python",
   "pygments_lexer": "ipython3",
   "version": "3.6.9"
  }
 },
 "nbformat": 4,
 "nbformat_minor": 4
}
