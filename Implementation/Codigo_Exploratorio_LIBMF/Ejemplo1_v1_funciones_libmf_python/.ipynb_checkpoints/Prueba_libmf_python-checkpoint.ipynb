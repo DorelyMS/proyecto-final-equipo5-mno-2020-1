{
 "cells": [
  {
   "cell_type": "code",
   "execution_count": 7,
   "metadata": {},
   "outputs": [],
   "source": [
    "#Para correr las funciones de la librería libmf de este notebook, debes clonar \n",
    "#el repo de https://github.com/PorkShoulderHolder/python-libmf.git\n",
    "#subir este notebook dentro de la carpeta /libmf/tests/"
   ]
  },
  {
   "cell_type": "code",
   "execution_count": 8,
   "metadata": {},
   "outputs": [],
   "source": [
    "#si queres correr este notebook a través de docker con la imagen de\n",
    "#jupyer numerical, debes instalar los siguientes paquetes:\n",
    "#pip install libmf\n",
    "#pip install colorama"
   ]
  },
  {
   "cell_type": "code",
   "execution_count": 9,
   "metadata": {},
   "outputs": [
    {
     "ename": "ModuleNotFoundError",
     "evalue": "No module named 'libmf'",
     "output_type": "error",
     "traceback": [
      "\u001b[0;31m---------------------------------------------------------------------------\u001b[0m",
      "\u001b[0;31mModuleNotFoundError\u001b[0m                       Traceback (most recent call last)",
      "\u001b[0;32m<ipython-input-9-04eb0596161e>\u001b[0m in \u001b[0;36m<module>\u001b[0;34m\u001b[0m\n\u001b[1;32m     11\u001b[0m \u001b[0;32mfrom\u001b[0m \u001b[0mcolorama\u001b[0m \u001b[0;32mimport\u001b[0m \u001b[0minit\u001b[0m\u001b[0;34m\u001b[0m\u001b[0;34m\u001b[0m\u001b[0m\n\u001b[1;32m     12\u001b[0m \u001b[0;34m\u001b[0m\u001b[0m\n\u001b[0;32m---> 13\u001b[0;31m \u001b[0;32mimport\u001b[0m \u001b[0mlibmf\u001b[0m\u001b[0;34m\u001b[0m\u001b[0;34m\u001b[0m\u001b[0m\n\u001b[0m\u001b[1;32m     14\u001b[0m \u001b[0;32mfrom\u001b[0m \u001b[0mlibmf\u001b[0m \u001b[0;32mimport\u001b[0m \u001b[0mmf\u001b[0m\u001b[0;34m\u001b[0m\u001b[0;34m\u001b[0m\u001b[0m\n",
      "\u001b[0;31mModuleNotFoundError\u001b[0m: No module named 'libmf'"
     ]
    }
   ],
   "source": [
    "import sys\n",
    "import numpy as np\n",
    "import types\n",
    "import scipy\n",
    "from scipy.sparse import random\n",
    "from scipy import stats\n",
    "import pandas as pd\n",
    "import copy\n",
    "import random\n",
    "from functools import partial\n",
    "from colorama import init\n",
    "\n",
    "import libmf\n",
    "from libmf import mf"
   ]
  },
  {
   "cell_type": "code",
   "execution_count": 3,
   "metadata": {},
   "outputs": [],
   "source": [
    "def constante(x,useless):\n",
    "    return x"
   ]
  },
  {
   "cell_type": "code",
   "execution_count": 4,
   "metadata": {},
   "outputs": [],
   "source": [
    "def perform(fun, *args):\n",
    "    return fun(*args)"
   ]
  },
  {
   "cell_type": "code",
   "execution_count": 5,
   "metadata": {},
   "outputs": [],
   "source": [
    "def nan_or_value(x, f, *args):\n",
    "    if(x==1):\n",
    "        return perform(f,*args)\n",
    "    else:\n",
    "        return np.nan"
   ]
  },
  {
   "cell_type": "code",
   "execution_count": 6,
   "metadata": {},
   "outputs": [],
   "source": [
    "nan_or_value_vec=np.vectorize(nan_or_value, otypes=[object])"
   ]
  },
  {
   "cell_type": "code",
   "execution_count": 7,
   "metadata": {},
   "outputs": [],
   "source": [
    "def crear_matriz_rala(n_ren,m_col,prop_elem_difer_nan,func_rand,*args_func_rand):\n",
    "    tot=int(n_ren*m_col)\n",
    "    k=int(tot*prop_elem_difer_nan)\n",
    "    M=np.concatenate((np.zeros(tot-k).astype(int), np.ones(k).astype(int)))\n",
    "    M=np.array(random.sample(list(M),tot))\n",
    "    M=M.reshape(n_ren,m_col)\n",
    "    M=nan_or_value_vec(M,func_rand,*args_func_rand).astype(float)\n",
    "    return M"
   ]
  },
  {
   "cell_type": "code",
   "execution_count": 8,
   "metadata": {},
   "outputs": [],
   "source": [
    "def crear_matriz_rala_compacta(n_ren, m_col, prop_elem_difer_nan):\n",
    "    tot=int(n_ren*m_col)\n",
    "    k=int(tot*prop_elem_difer_nan)\n",
    "    M=random.sample(range(tot), k)\n",
    "    columnas=np.mod(M,m_col)\n",
    "    renglones=np.divide(M,m_col).astype(int)\n",
    "    aleatorios=np.random.randint(1, 6, k)\n",
    "    M=np.concatenate([renglones, columnas, aleatorios])\n",
    "    M=M.reshape(3,k).T\n",
    "    return M"
   ]
  },
  {
   "cell_type": "code",
   "execution_count": 9,
   "metadata": {},
   "outputs": [],
   "source": [
    "def compactar_matriz_rala(M):\n",
    "    if type(M) is not np.ndarray:\n",
    "        sys.exit('M debe ser de tipo numpy.ndarray')\n",
    "    elif np.isnan(M).sum()==len(M):\n",
    "        sys.exit('Todos los elementos de M son nan')\n",
    "    MC=np.zeros((M[np.isnan(M)==False].size,3))\n",
    "    k = 0\n",
    "    n,m=M.shape\n",
    "    for i in range(n): \n",
    "        for j in range(m): \n",
    "            if (~np.isnan(M[i,j])): \n",
    "                MC[k,0] = i\n",
    "                MC[k,1] = j\n",
    "                MC[k,2] = M[i,j] \n",
    "                k += 1\n",
    "    return MC"
   ]
  },
  {
   "cell_type": "code",
   "execution_count": 10,
   "metadata": {},
   "outputs": [],
   "source": [
    "#Elegiremos un formato de general para visualizar las matrices exhibidas como ejemplo\n",
    "np.set_printoptions(sign=' ', precision=3)\n",
    "#np.set_printoptions(sign=' ',formatter={'float': lambda x: \"{0:0.3f}\".format(x)})"
   ]
  },
  {
   "cell_type": "code",
   "execution_count": 11,
   "metadata": {},
   "outputs": [],
   "source": [
    "def modelo_base_ref(MC):\n",
    "    df=pd.DataFrame(MC,columns=['row','col','score'])\n",
    "    #Media total\n",
    "    c=df['score'].mean(axis=0)\n",
    "\n",
    "    #media por columna\n",
    "    mean_by_col=df[['col','score']].groupby(['col']).mean()\n",
    "    mean_by_col.rename(columns={'score':'mean_score_by_col'}, inplace=True)\n",
    "    #media por renglon\n",
    "    mean_by_row=df[['row','score']].groupby(['row']).mean()\n",
    "    mean_by_row.rename(columns={'score':'mean_score_by_row'}, inplace=True)\n",
    "\n",
    "    #se unen todas los resultados obtenidos, incluyendo la columna de\n",
    "    #índice de columnas y renglones\n",
    "    df=df.set_index('col').join(mean_by_col,how='left')\n",
    "    df['col']=df.index\n",
    "    df=df.set_index('row').join(mean_by_row,how='left')\n",
    "    df['row']=df.index\n",
    "    df=df[['row','col','mean_score_by_row','mean_score_by_col']]\n",
    "    df['total_score_mean']=c\n",
    "    \n",
    "    return df"
   ]
  },
  {
   "cell_type": "code",
   "execution_count": null,
   "metadata": {},
   "outputs": [],
   "source": [
    "#Esta función filtra los 'indices de renglones (usuarios)' o\n",
    "#'indices de columna (peliculas)' cuyo conteo total es mayor a n\n",
    "def filtrar(MC,ren_o_col,n):\n",
    "    MC_df=pd.DataFrame(MC,columns=['row','col','score'])\n",
    "    \n",
    "    #este pequeño bloque calcula el total de elementos por columna o renglón\n",
    "    count_by=MC_df[[ren_o_col,'score']].groupby([ren_o_col]).count()\n",
    "    count_by.rename(columns={'score':'tot_counted'}, inplace=True)\n",
    "    count_by[ren_o_col]=count_by.index\n",
    "    count_by=count_by[[ren_o_col,'tot_counted']]\n",
    "    \n",
    "    #en este bloque se filtran los elementos de la matriz cuyo conteo por\n",
    "    #columna o renglón tienen más de n elementos\n",
    "    count_by=count_by[count_by.apply(lambda x: x['tot_counted'] > n, axis=1)]\n",
    "    count_by=MC_df.set_index(ren_o_col).join(count_by.set_index(ren_o_col),how='inner')\n",
    "    count_by[ren_o_col]=count_by.index\n",
    "    count_by=count_by[['row','col','score']]\n",
    "    \n",
    "    return count_by.to_numpy()"
   ]
  },
  {
   "cell_type": "code",
   "execution_count": 12,
   "metadata": {},
   "outputs": [
    {
     "name": "stdout",
     "output_type": "stream",
     "text": [
      "Matriz M:\n",
      " [[ nan  nan  nan  nan  nan]\n",
      " [  3.   3.  nan   4.  nan]\n",
      " [  2.  nan  nan  nan   5.]\n",
      " [ nan  nan   5.   5.  nan]\n",
      " [ nan  nan  nan  nan  nan]\n",
      " [ nan  nan  nan   5.   4.]\n",
      " [ nan  nan  nan  nan  nan]\n",
      " [ nan  nan   4.  nan  nan]\n",
      " [ nan  nan  nan  nan   4.]\n",
      " [  3.  nan  nan   3.  nan]\n",
      " [ nan  nan   2.  nan  nan]\n",
      " [ nan  nan  nan  nan  nan]\n",
      " [ nan   2.   4.  nan  nan]\n",
      " [ nan  nan  nan  nan   4.]\n",
      " [ nan  nan   4.  nan  nan]\n",
      " [  4.  nan  nan   4.  nan]\n",
      " [  2.  nan  nan  nan   4.]\n",
      " [ nan  nan  nan   5.   4.]\n",
      " [ nan  nan  nan  nan   1.]\n",
      " [ nan  nan  nan  nan  nan]]\n",
      "Tamaño M:\n",
      " (20, 5)\n",
      "Numero de elementos diferentes de nan:\n",
      " 25\n"
     ]
    }
   ],
   "source": [
    "#Crear matriz rala de tamaño 20x5, donde el 25% de sus elementos\n",
    "#será distinto de nan, señalando la distribución de probabilidad\n",
    "#que tendrán dichos elementos\n",
    "M=crear_matriz_rala(20,5,0.25,stats.randint.rvs,*[1,6])\n",
    "#Puedes cambiar la distribución aleatoria, prueba con las\n",
    "#distribuciones existentes en scipy.stats o la función constante\n",
    "#R=crear_matriz_rala(20,5,0.5,scipy.stats.uniform.rvs,*[1,4])\n",
    "#R=crear_matriz_rala(20,5,0.2,stats.binom.rvs,*[5,0.2])\n",
    "#R=crear_matriz_rala(20,5,0.5,constante,*[1,0])\n",
    "print('Matriz M:\\n',M)\n",
    "print('Tamaño M:\\n',M.shape)\n",
    "print('Numero de elementos diferentes de nan:\\n',M[np.isnan(M)==False].size)"
   ]
  },
  {
   "cell_type": "code",
   "execution_count": 13,
   "metadata": {},
   "outputs": [
    {
     "name": "stdout",
     "output_type": "stream",
     "text": [
      "Expresión compacta de M (MC):\n",
      " [[  1.   0.   3.]\n",
      " [  1.   1.   3.]\n",
      " [  1.   3.   4.]\n",
      " [  2.   0.   2.]\n",
      " [  2.   4.   5.]\n",
      " [  3.   2.   5.]\n",
      " [  3.   3.   5.]\n",
      " [  5.   3.   5.]\n",
      " [  5.   4.   4.]\n",
      " [  7.   2.   4.]\n",
      " [  8.   4.   4.]\n",
      " [  9.   0.   3.]\n",
      " [  9.   3.   3.]\n",
      " [ 10.   2.   2.]\n",
      " [ 12.   1.   2.]\n",
      " [ 12.   2.   4.]\n",
      " [ 13.   4.   4.]\n",
      " [ 14.   2.   4.]\n",
      " [ 15.   0.   4.]\n",
      " [ 15.   3.   4.]\n",
      " [ 16.   0.   2.]\n",
      " [ 16.   4.   4.]\n",
      " [ 17.   3.   5.]\n",
      " [ 17.   4.   4.]\n",
      " [ 18.   4.   1.]]\n",
      "Tamaño MC:\n",
      " (25, 3)\n"
     ]
    }
   ],
   "source": [
    "#Expresión compacta de la matriz rala (con 3 columnas: col1,col2,col3),\n",
    "#que señala el índice de renglón (col1) y columna (col2) de la matriz R,\n",
    "#correspondiente a los elementos distitnos de nan, así como el valor\n",
    "#de dicho elemento (col3)\n",
    "MC=compactar_matriz_rala(M)\n",
    "print('Expresión compacta de M (MC):\\n',MC)\n",
    "print('Tamaño MC:\\n',MC.shape)"
   ]
  },
  {
   "cell_type": "code",
   "execution_count": 14,
   "metadata": {},
   "outputs": [
    {
     "name": "stdout",
     "output_type": "stream",
     "text": [
      "Matriz generada con mf.generate_test_data(20,5,25):\n",
      "\n",
      "\u001b[1;30;41m [ 0.     1.     0.166]\n",
      "\u001b[0;0;0m [ 19.      4.      0.306]\n",
      "\u001b[0;0;0m [ 14.      3.      0.147]\n",
      "\u001b[0;0;0m [ 18.      4.      0.223]\n",
      "\u001b[0;0;0m [ 18.     1.     0.54]\n",
      "\u001b[0;0;0m [ 15.      3.      0.749]\n",
      "\u001b[0;0;0m [ 2.     2.     0.428]\n",
      "\u001b[0;0;0m [ 11.      3.      0.105]\n",
      "\u001b[0;0;0m [ 9.     3.     0.753]\n",
      "\u001b[0;0;0m [ 8.     5.     0.598]\n",
      "\u001b[0;0;0m [ 13.      0.      0.487]\n",
      "\u001b[0;0;0m [ 8.     4.     0.975]\n",
      "\u001b[0;0;0m [ 9.     2.     0.802]\n",
      "\u001b[0;0;0m [ 15.      3.      0.333]\n",
      "\u001b[0;0;0m [ 7.     5.     0.549]\n",
      "\u001b[0;0;0m [ 4.     5.     0.312]\n",
      "\u001b[0;0;0m [ 16.      4.      0.062]\n",
      "\u001b[0;0;0m [ 6.     1.     0.903]\n",
      "\u001b[0;0;0m [ 18.      0.      0.861]\n",
      "\u001b[0;0;0m [ 3.    3.    0.63]\n",
      "\u001b[1;30;41m [ 0.     1.     0.217]\n",
      "\u001b[1;30;41m [ 0.     1.     0.556]\n",
      "\u001b[0;0;0m [ 16.      5.      0.109]\n",
      "\u001b[0;0;0m [ 6.     5.     0.551]\n",
      "\u001b[0;0;0m [ 7.     0.     0.581]\n",
      "Tamaño MC:\n",
      " (25, 3)\n"
     ]
    }
   ],
   "source": [
    "#Entre las funciones de la librería libmf programado en python\n",
    "#se tiene un para generar matrices ralas compactas sin embargo\n",
    "#se observa que puede arrojar más de un valor para un mismo\n",
    "#elemento de la matriz rala, vease abajo el renglón [0,1]\n",
    "#tiene 3 valores asignados (0.166,0.217,0.556).\n",
    "\n",
    "#El 1er parámetro señala indica que se seleccionará un valor\n",
    "#de entre 0 y 19 para la 1er columna (que representa el índice\n",
    "#de los renglones de la matriz rala que expresa); el 2do\n",
    "#parámetro indica que se seleccionara al azar valores entre\n",
    "#0 y 4 (que representa el índice de las columnas de la matriz\n",
    "#rala que expresa); el 3er parámetro indica el número de elementos\n",
    "#a generar\n",
    "\n",
    "#Fijaremos una semilla para reproducibilidad\n",
    "np.random.seed(102)\n",
    "MC=mf.generate_test_data(20, 5, 25)\n",
    "\n",
    "print('Matriz generada con mf.generate_test_data(20,5,25):\\n')\n",
    "#np.set_printoptions(sign=' ',formatter={'float': lambda x: \"{0:0.3f}\".format(x)})\n",
    "for i in range(MC.shape[0]):\n",
    "    if MC[i,0]==0:\n",
    "        print('\\033[1;30;41m',MC[i,:])\n",
    "    else:\n",
    "        print('\\033[0;0;0m',MC[i,:])\n",
    "#print('Matriz generada con mf.generate_test_data(20,5,25):\\n',M_compacta)\n",
    "print('Tamaño MC:\\n',MC.shape)\n"
   ]
  },
  {
   "cell_type": "code",
   "execution_count": 76,
   "metadata": {},
   "outputs": [
    {
     "name": "stdout",
     "output_type": "stream",
     "text": [
      "Expresión compacta de M (MC) ordenada por renglon:\n",
      " [[ 0  3  4]\n",
      " [ 0  2  5]\n",
      " [ 1  4  3]\n",
      " [ 1  2  2]\n",
      " [ 2  3  5]\n",
      " [ 2  2  4]\n",
      " [ 4  3  3]\n",
      " [ 4  2  3]\n",
      " [ 4  0  1]\n",
      " [ 6  2  5]\n",
      " [ 8  3  3]\n",
      " [ 9  2  1]\n",
      " [10  1  3]\n",
      " [10  3  2]\n",
      " [12  1  4]\n",
      " [12  4  3]\n",
      " [13  2  3]\n",
      " [15  1  1]\n",
      " [15  2  3]\n",
      " [16  2  4]\n",
      " [16  4  5]\n",
      " [16  1  2]\n",
      " [16  3  1]\n",
      " [17  3  3]\n",
      " [18  4  2]]\n",
      "Tamaño MC:\n",
      " (25, 3)\n"
     ]
    }
   ],
   "source": [
    "#El presente trabajo plantea trabajar con bases de películas, donde\n",
    "#los ínidices i de renglones representan usuarios, los ínidces j de columnas\n",
    "#las películas, y el valor de elemento de la matriz la calificación\n",
    "#asignada a la película j por el usuari i\n",
    "#Por lo anterior, para crear matrices compactas ralas usaremos funciones propias\n",
    "#donde un usuario no califique más de una vez una misma película (lo cual \n",
    "#sucediería si se genera la matriz de calificaciones con la función de la\n",
    "#paquetería libmf). La calificación será un no. aleatorio entre 1 y 5\n",
    "#generada con una dist. uniforme discreta\n",
    "MC=crear_matriz_rala_compacta(20,5,0.25)\n",
    "print('Expresión compacta de M (MC) ordenada por renglon:\\n',MC[np.argsort(MC[:,0])])\n",
    "print('Tamaño MC:\\n',MC.shape)"
   ]
  },
  {
   "cell_type": "code",
   "execution_count": 77,
   "metadata": {},
   "outputs": [
    {
     "name": "stdout",
     "output_type": "stream",
     "text": [
      "16 3 1\n",
      "16 1 2\n",
      "12 1 4\n",
      "10 1 3\n",
      "15 2 3\n",
      "15 1 1\n",
      "0 2 5\n",
      "1 2 2\n",
      "6 2 5\n",
      "4 2 3\n",
      "18 4 2\n",
      "13 2 3\n",
      "2 3 5\n",
      "16 2 4\n",
      "2 2 4\n",
      "17 3 3\n",
      "4 3 3\n",
      "16 4 5\n",
      "10 3 2\n",
      "1 4 3\n",
      "8 3 3\n",
      "12 4 3\n",
      "9 2 1\n",
      "0 3 4\n",
      "4 0 1\n",
      "\n"
     ]
    }
   ],
   "source": [
    "#Aquí una forma de gardar la matriz compacta en un txt\n",
    "#que podría ser utilizado directamente con las funciones\n",
    "#de libmf a través de comandos bash\n",
    "np.savetxt('MC.txt', MC, delimiter=' ', fmt=\"%.0f\")\n",
    "f = open('MC.txt', 'r')\n",
    "file_contents = f.read()\n",
    "print (file_contents)\n",
    "f.close()"
   ]
  },
  {
   "cell_type": "code",
   "execution_count": 78,
   "metadata": {},
   "outputs": [
    {
     "data": {
      "text/html": [
       "<div>\n",
       "<style scoped>\n",
       "    .dataframe tbody tr th:only-of-type {\n",
       "        vertical-align: middle;\n",
       "    }\n",
       "\n",
       "    .dataframe tbody tr th {\n",
       "        vertical-align: top;\n",
       "    }\n",
       "\n",
       "    .dataframe thead th {\n",
       "        text-align: right;\n",
       "    }\n",
       "</style>\n",
       "<table border=\"1\" class=\"dataframe\">\n",
       "  <thead>\n",
       "    <tr style=\"text-align: right;\">\n",
       "      <th></th>\n",
       "      <th>row</th>\n",
       "      <th>col</th>\n",
       "      <th>mean_score_by_row</th>\n",
       "      <th>mean_score_by_col</th>\n",
       "      <th>total_score_mean</th>\n",
       "    </tr>\n",
       "    <tr>\n",
       "      <th>row</th>\n",
       "      <th></th>\n",
       "      <th></th>\n",
       "      <th></th>\n",
       "      <th></th>\n",
       "      <th></th>\n",
       "    </tr>\n",
       "  </thead>\n",
       "  <tbody>\n",
       "    <tr>\n",
       "      <th>0</th>\n",
       "      <td>0</td>\n",
       "      <td>2</td>\n",
       "      <td>4.500000</td>\n",
       "      <td>3.333333</td>\n",
       "      <td>3.0</td>\n",
       "    </tr>\n",
       "    <tr>\n",
       "      <th>0</th>\n",
       "      <td>0</td>\n",
       "      <td>3</td>\n",
       "      <td>4.500000</td>\n",
       "      <td>3.000000</td>\n",
       "      <td>3.0</td>\n",
       "    </tr>\n",
       "    <tr>\n",
       "      <th>1</th>\n",
       "      <td>1</td>\n",
       "      <td>2</td>\n",
       "      <td>2.500000</td>\n",
       "      <td>3.333333</td>\n",
       "      <td>3.0</td>\n",
       "    </tr>\n",
       "    <tr>\n",
       "      <th>1</th>\n",
       "      <td>1</td>\n",
       "      <td>4</td>\n",
       "      <td>2.500000</td>\n",
       "      <td>3.250000</td>\n",
       "      <td>3.0</td>\n",
       "    </tr>\n",
       "    <tr>\n",
       "      <th>2</th>\n",
       "      <td>2</td>\n",
       "      <td>2</td>\n",
       "      <td>4.500000</td>\n",
       "      <td>3.333333</td>\n",
       "      <td>3.0</td>\n",
       "    </tr>\n",
       "    <tr>\n",
       "      <th>2</th>\n",
       "      <td>2</td>\n",
       "      <td>3</td>\n",
       "      <td>4.500000</td>\n",
       "      <td>3.000000</td>\n",
       "      <td>3.0</td>\n",
       "    </tr>\n",
       "    <tr>\n",
       "      <th>4</th>\n",
       "      <td>4</td>\n",
       "      <td>0</td>\n",
       "      <td>2.333333</td>\n",
       "      <td>1.000000</td>\n",
       "      <td>3.0</td>\n",
       "    </tr>\n",
       "    <tr>\n",
       "      <th>4</th>\n",
       "      <td>4</td>\n",
       "      <td>2</td>\n",
       "      <td>2.333333</td>\n",
       "      <td>3.333333</td>\n",
       "      <td>3.0</td>\n",
       "    </tr>\n",
       "    <tr>\n",
       "      <th>4</th>\n",
       "      <td>4</td>\n",
       "      <td>3</td>\n",
       "      <td>2.333333</td>\n",
       "      <td>3.000000</td>\n",
       "      <td>3.0</td>\n",
       "    </tr>\n",
       "    <tr>\n",
       "      <th>6</th>\n",
       "      <td>6</td>\n",
       "      <td>2</td>\n",
       "      <td>5.000000</td>\n",
       "      <td>3.333333</td>\n",
       "      <td>3.0</td>\n",
       "    </tr>\n",
       "    <tr>\n",
       "      <th>8</th>\n",
       "      <td>8</td>\n",
       "      <td>3</td>\n",
       "      <td>3.000000</td>\n",
       "      <td>3.000000</td>\n",
       "      <td>3.0</td>\n",
       "    </tr>\n",
       "    <tr>\n",
       "      <th>9</th>\n",
       "      <td>9</td>\n",
       "      <td>2</td>\n",
       "      <td>1.000000</td>\n",
       "      <td>3.333333</td>\n",
       "      <td>3.0</td>\n",
       "    </tr>\n",
       "    <tr>\n",
       "      <th>10</th>\n",
       "      <td>10</td>\n",
       "      <td>1</td>\n",
       "      <td>2.500000</td>\n",
       "      <td>2.500000</td>\n",
       "      <td>3.0</td>\n",
       "    </tr>\n",
       "    <tr>\n",
       "      <th>10</th>\n",
       "      <td>10</td>\n",
       "      <td>3</td>\n",
       "      <td>2.500000</td>\n",
       "      <td>3.000000</td>\n",
       "      <td>3.0</td>\n",
       "    </tr>\n",
       "    <tr>\n",
       "      <th>12</th>\n",
       "      <td>12</td>\n",
       "      <td>1</td>\n",
       "      <td>3.500000</td>\n",
       "      <td>2.500000</td>\n",
       "      <td>3.0</td>\n",
       "    </tr>\n",
       "    <tr>\n",
       "      <th>12</th>\n",
       "      <td>12</td>\n",
       "      <td>4</td>\n",
       "      <td>3.500000</td>\n",
       "      <td>3.250000</td>\n",
       "      <td>3.0</td>\n",
       "    </tr>\n",
       "    <tr>\n",
       "      <th>13</th>\n",
       "      <td>13</td>\n",
       "      <td>2</td>\n",
       "      <td>3.000000</td>\n",
       "      <td>3.333333</td>\n",
       "      <td>3.0</td>\n",
       "    </tr>\n",
       "    <tr>\n",
       "      <th>15</th>\n",
       "      <td>15</td>\n",
       "      <td>1</td>\n",
       "      <td>2.000000</td>\n",
       "      <td>2.500000</td>\n",
       "      <td>3.0</td>\n",
       "    </tr>\n",
       "    <tr>\n",
       "      <th>15</th>\n",
       "      <td>15</td>\n",
       "      <td>2</td>\n",
       "      <td>2.000000</td>\n",
       "      <td>3.333333</td>\n",
       "      <td>3.0</td>\n",
       "    </tr>\n",
       "    <tr>\n",
       "      <th>16</th>\n",
       "      <td>16</td>\n",
       "      <td>1</td>\n",
       "      <td>3.000000</td>\n",
       "      <td>2.500000</td>\n",
       "      <td>3.0</td>\n",
       "    </tr>\n",
       "    <tr>\n",
       "      <th>16</th>\n",
       "      <td>16</td>\n",
       "      <td>2</td>\n",
       "      <td>3.000000</td>\n",
       "      <td>3.333333</td>\n",
       "      <td>3.0</td>\n",
       "    </tr>\n",
       "    <tr>\n",
       "      <th>16</th>\n",
       "      <td>16</td>\n",
       "      <td>3</td>\n",
       "      <td>3.000000</td>\n",
       "      <td>3.000000</td>\n",
       "      <td>3.0</td>\n",
       "    </tr>\n",
       "    <tr>\n",
       "      <th>16</th>\n",
       "      <td>16</td>\n",
       "      <td>4</td>\n",
       "      <td>3.000000</td>\n",
       "      <td>3.250000</td>\n",
       "      <td>3.0</td>\n",
       "    </tr>\n",
       "    <tr>\n",
       "      <th>17</th>\n",
       "      <td>17</td>\n",
       "      <td>3</td>\n",
       "      <td>3.000000</td>\n",
       "      <td>3.000000</td>\n",
       "      <td>3.0</td>\n",
       "    </tr>\n",
       "    <tr>\n",
       "      <th>18</th>\n",
       "      <td>18</td>\n",
       "      <td>4</td>\n",
       "      <td>2.000000</td>\n",
       "      <td>3.250000</td>\n",
       "      <td>3.0</td>\n",
       "    </tr>\n",
       "  </tbody>\n",
       "</table>\n",
       "</div>"
      ],
      "text/plain": [
       "     row  col  mean_score_by_row  mean_score_by_col  total_score_mean\n",
       "row                                                                  \n",
       "0      0    2           4.500000           3.333333               3.0\n",
       "0      0    3           4.500000           3.000000               3.0\n",
       "1      1    2           2.500000           3.333333               3.0\n",
       "1      1    4           2.500000           3.250000               3.0\n",
       "2      2    2           4.500000           3.333333               3.0\n",
       "2      2    3           4.500000           3.000000               3.0\n",
       "4      4    0           2.333333           1.000000               3.0\n",
       "4      4    2           2.333333           3.333333               3.0\n",
       "4      4    3           2.333333           3.000000               3.0\n",
       "6      6    2           5.000000           3.333333               3.0\n",
       "8      8    3           3.000000           3.000000               3.0\n",
       "9      9    2           1.000000           3.333333               3.0\n",
       "10    10    1           2.500000           2.500000               3.0\n",
       "10    10    3           2.500000           3.000000               3.0\n",
       "12    12    1           3.500000           2.500000               3.0\n",
       "12    12    4           3.500000           3.250000               3.0\n",
       "13    13    2           3.000000           3.333333               3.0\n",
       "15    15    1           2.000000           2.500000               3.0\n",
       "15    15    2           2.000000           3.333333               3.0\n",
       "16    16    1           3.000000           2.500000               3.0\n",
       "16    16    2           3.000000           3.333333               3.0\n",
       "16    16    3           3.000000           3.000000               3.0\n",
       "16    16    4           3.000000           3.250000               3.0\n",
       "17    17    3           3.000000           3.000000               3.0\n",
       "18    18    4           2.000000           3.250000               3.0"
      ]
     },
     "metadata": {},
     "output_type": "display_data"
    },
    {
     "name": "stdout",
     "output_type": "stream",
     "text": [
      "[[  0.      2.      4.5     3.333   3.   ]\n",
      " [  0.      3.      4.5     3.      3.   ]\n",
      " [  1.      2.      2.5     3.333   3.   ]\n",
      " [  1.      4.      2.5     3.25    3.   ]\n",
      " [  2.      2.      4.5     3.333   3.   ]\n",
      " [  2.      3.      4.5     3.      3.   ]\n",
      " [  4.      0.      2.333   1.      3.   ]\n",
      " [  4.      2.      2.333   3.333   3.   ]\n",
      " [  4.      3.      2.333   3.      3.   ]\n",
      " [  6.      2.      5.      3.333   3.   ]\n",
      " [  8.      3.      3.      3.      3.   ]\n",
      " [  9.      2.      1.      3.333   3.   ]\n",
      " [ 10.      1.      2.5     2.5     3.   ]\n",
      " [ 10.      3.      2.5     3.      3.   ]\n",
      " [ 12.      1.      3.5     2.5     3.   ]\n",
      " [ 12.      4.      3.5     3.25    3.   ]\n",
      " [ 13.      2.      3.      3.333   3.   ]\n",
      " [ 15.      1.      2.      2.5     3.   ]\n",
      " [ 15.      2.      2.      3.333   3.   ]\n",
      " [ 16.      1.      3.      2.5     3.   ]\n",
      " [ 16.      2.      3.      3.333   3.   ]\n",
      " [ 16.      3.      3.      3.      3.   ]\n",
      " [ 16.      4.      3.      3.25    3.   ]\n",
      " [ 17.      3.      3.      3.      3.   ]\n",
      " [ 18.      4.      2.      3.25    3.   ]]\n",
      "\n",
      " El modelo base de referencia es mean_ren + mean_col - mean_tot:\n"
     ]
    },
    {
     "data": {
      "text/plain": [
       "array([-2.5  , -1.5  ,  0.5  ,  2.5  , -0.5  ,  0.5  ,  1.667,  3.667,\n",
       "        4.667,  3.   ,  8.   , 10.   ,  8.5  , 10.5  ,  9.5  , 12.5  ,\n",
       "       12.   , 14.   , 15.   , 14.   , 15.   , 16.   , 17.   , 17.   ,\n",
       "       20.   ])"
      ]
     },
     "execution_count": 78,
     "metadata": {},
     "output_type": "execute_result"
    }
   ],
   "source": [
    "#Para plantear un modelo base de referencia, se calculan los medias\n",
    "#por renglones (mean_ren) y por columnas (mean_col), así como \n",
    "#una media total (mean_tot), luego se sustituyen los valores de \n",
    "#la matriz (x_ij) por: mean_ren + mean_col - mean_tot\n",
    "#La función modelo_base_ref regresa los promedios por renglon,\n",
    "#columna y total. Con ello se pude construir el modelo base referencia\n",
    "promedios=modelo_base_ref(MC)\n",
    "display(promedios)\n",
    "#podemos convertir a numpy array para realizar operaciones con\n",
    "#variables de este tipo\n",
    "promedios=promedios.to_numpy()\n",
    "print(promedios)\n",
    "#el modelo base de ref quedaría así:\n",
    "print('\\n El modelo base de referencia es mean_ren + mean_col - mean_tot:') \n",
    "#una media total (mean_tot):')\n",
    "promedios[:,0]+promedios[:,1]-promedios[:,2]"
   ]
  },
  {
   "cell_type": "code",
   "execution_count": 81,
   "metadata": {},
   "outputs": [
    {
     "data": {
      "text/plain": [
       "array([[ 4,  2,  3],\n",
       "       [ 4,  3,  3],\n",
       "       [ 4,  0,  1],\n",
       "       [16,  3,  1],\n",
       "       [16,  1,  2],\n",
       "       [16,  2,  4],\n",
       "       [16,  4,  5]])"
      ]
     },
     "metadata": {},
     "output_type": "display_data"
    },
    {
     "data": {
      "text/plain": [
       "array([[16,  1,  2],\n",
       "       [12,  1,  4],\n",
       "       [10,  1,  3],\n",
       "       [15,  1,  1],\n",
       "       [15,  2,  3],\n",
       "       [ 0,  2,  5],\n",
       "       [ 1,  2,  2],\n",
       "       [ 6,  2,  5],\n",
       "       [ 4,  2,  3],\n",
       "       [13,  2,  3],\n",
       "       [16,  2,  4],\n",
       "       [ 2,  2,  4],\n",
       "       [ 9,  2,  1],\n",
       "       [16,  3,  1],\n",
       "       [ 2,  3,  5],\n",
       "       [17,  3,  3],\n",
       "       [ 4,  3,  3],\n",
       "       [10,  3,  2],\n",
       "       [ 8,  3,  3],\n",
       "       [ 0,  3,  4],\n",
       "       [18,  4,  2],\n",
       "       [16,  4,  5],\n",
       "       [ 1,  4,  3],\n",
       "       [12,  4,  3]])"
      ]
     },
     "metadata": {},
     "output_type": "display_data"
    }
   ],
   "source": [
    "#Usuarios que calificaron más de 2 películas\n",
    "display(filtrar(MC,'row',2))\n",
    "display(filtrar(MC,'col',2))"
   ]
  },
  {
   "cell_type": "code",
   "execution_count": 34,
   "metadata": {},
   "outputs": [
    {
     "data": {
      "text/plain": [
       "libmf.mf.MF"
      ]
     },
     "execution_count": 34,
     "metadata": {},
     "output_type": "execute_result"
    }
   ],
   "source": [
    "mf_engine=mf.MF()\n",
    "type(mf_engine)"
   ]
  },
  {
   "cell_type": "code",
   "execution_count": 35,
   "metadata": {},
   "outputs": [
    {
     "data": {
      "text/plain": [
       "<libmf.mf.MF at 0x7ffbbc7bf5c0>"
      ]
     },
     "execution_count": 35,
     "metadata": {},
     "output_type": "execute_result"
    }
   ],
   "source": [
    "#fit method\n",
    "mf_engine.fit(MC)\n",
    "mf_engine"
   ]
  },
  {
   "cell_type": "code",
   "execution_count": 36,
   "metadata": {},
   "outputs": [
    {
     "name": "stdout",
     "output_type": "stream",
     "text": [
      "Matriz p:\n",
      " [[ 4.177e-01 -0.000e+00  2.319e-01  7.487e-02  2.519e-01  4.811e-01\n",
      "   4.126e-01  6.502e-01]\n",
      " [ 6.727e-02  1.067e+00  6.691e-01  3.153e-01  4.735e-01 -6.606e-04\n",
      "   3.509e-01  2.547e-01]\n",
      " [ 4.629e-01  6.447e-01  7.526e-01  7.045e-01  2.393e-01  2.458e-01\n",
      "   4.882e-01  2.082e-01]\n",
      " [-2.677e-01  8.860e-01  1.133e+00  4.991e-01  9.346e-01  1.978e-01\n",
      "   1.115e+00  4.990e-01]\n",
      " [ 7.422e-01  5.249e-01  3.339e-01  9.898e-02  7.368e-01  1.622e-01\n",
      "   4.002e-01  3.446e-01]\n",
      " [ 7.761e-01  5.916e-02  8.939e-02  8.674e-01  7.410e-01  9.414e-01\n",
      "   9.457e-01  1.058e+00]\n",
      " [ 2.031e+00  1.296e+00  2.948e-01  8.139e-01  5.543e-01  9.801e-01\n",
      "   1.003e+00  1.800e+00]\n",
      " [ 7.833e-01  1.402e+00  9.135e-01  5.687e-01  1.199e+00  4.755e-01\n",
      "   7.373e-01  9.758e-01]\n",
      " [       nan        nan        nan        nan        nan        nan\n",
      "         nan        nan]\n",
      " [ 6.410e-01  5.901e-01  1.191e+00  6.070e-01  1.230e+00  1.125e+00\n",
      "   1.211e+00  8.922e-01]\n",
      " [       nan        nan        nan        nan        nan        nan\n",
      "         nan        nan]\n",
      " [       nan        nan        nan        nan        nan        nan\n",
      "         nan        nan]\n",
      " [       nan        nan        nan        nan        nan        nan\n",
      "         nan        nan]\n",
      " [       nan        nan        nan        nan        nan        nan\n",
      "         nan        nan]\n",
      " [-0.000e+00  5.331e-02  4.626e-01  2.708e-01  3.196e-01  1.176e-01\n",
      "  -0.000e+00  4.168e-01]\n",
      " [ 5.002e-01  6.826e-01  8.399e-01  3.047e-01  8.376e-01  6.677e-01\n",
      "   5.411e-01  2.582e-01]\n",
      " [       nan        nan        nan        nan        nan        nan\n",
      "         nan        nan]\n",
      " [ 6.360e-01  1.398e+00  9.049e-01  5.127e-01  1.065e+00  7.826e-01\n",
      "   9.530e-01  8.170e-01]\n",
      " [       nan        nan        nan        nan        nan        nan\n",
      "         nan        nan]\n",
      " [ 1.340e+00  9.532e-01  1.155e+00  1.655e+00  6.791e-01  1.721e+00\n",
      "   1.546e+00  1.390e+00]]\n",
      "Tamaño p:\n",
      " (20, 8)\n"
     ]
    }
   ],
   "source": [
    "#testing factor-p\n",
    "P=mf_engine.p_factors()\n",
    "print('Matriz p:\\n',P)\n",
    "print('Tamaño p:\\n',P.shape)"
   ]
  },
  {
   "cell_type": "code",
   "execution_count": 37,
   "metadata": {},
   "outputs": [
    {
     "name": "stdout",
     "output_type": "stream",
     "text": [
      "Matriz Q:\n",
      " [[ 0.495  1.047  0.892  0.886  0.44   0.263  0.897  0.355]\n",
      " [ 1.9    0.838 -0.027  0.626  0.221  0.817  0.597  1.511]\n",
      " [ 0.485 -0.191 -0.033  0.608  0.308  0.852  0.69   0.862]\n",
      " [ 0.623  0.119  0.     0.529 -0.064  0.045 -0.063  0.068]\n",
      " [ 0.534  1.35   1.001  0.647  0.881  0.741  1.06   0.798]\n",
      " [ 0.202  0.58   0.987  0.594  0.74   0.442  1.131  1.015]\n",
      " [ 0.723  0.332  0.585  0.896  0.303  0.88   0.639  0.618]\n",
      " [   nan    nan    nan    nan    nan    nan    nan    nan]\n",
      " [-0.083  0.056 -0.039  0.226 -0.113  0.407  0.505  0.065]\n",
      " [ 0.505  0.385  0.712  0.615  0.712  0.845  0.556  0.19 ]\n",
      " [   nan    nan    nan    nan    nan    nan    nan    nan]\n",
      " [   nan    nan    nan    nan    nan    nan    nan    nan]\n",
      " [ 0.734  0.784  1.22   0.651  1.33   1.119  1.105  1.019]\n",
      " [ 0.847  1.773  1.281  0.619  1.45   0.876  1.262  1.245]\n",
      " [   nan    nan    nan    nan    nan    nan    nan    nan]\n",
      " [   nan    nan    nan    nan    nan    nan    nan    nan]\n",
      " [   nan    nan    nan    nan    nan    nan    nan    nan]\n",
      " [   nan    nan    nan    nan    nan    nan    nan    nan]\n",
      " [   nan    nan    nan    nan    nan    nan    nan    nan]\n",
      " [ 1.095  0.851  1.17   1.482  0.579  1.545  1.331  1.206]]\n",
      "Tamaño Q:\n",
      " (20, 8)\n"
     ]
    }
   ],
   "source": [
    "#testing factor-q\n",
    "Q=mf_engine.q_factors()\n",
    "print('Matriz Q:\\n',Q)\n",
    "print('Tamaño Q:\\n',Q.shape)"
   ]
  },
  {
   "cell_type": "code",
   "execution_count": 38,
   "metadata": {},
   "outputs": [
    {
     "name": "stdout",
     "output_type": "stream",
     "text": [
      "Matriz p:\n",
      " [[  1.318   2.512   1.574   0.324   2.038   1.883   1.67      nan   0.391\n",
      "    1.362     nan     nan   2.63    2.814     nan     nan     nan     nan\n",
      "      nan   3.062]\n",
      " [  2.64    1.9     0.606   0.3     3.342   2.486   1.602     nan   0.239\n",
      "    1.696     nan     nan   3.184   4.448     nan     nan     nan     nan\n",
      "      nan   3.279]\n",
      " [  2.881   2.7     1.305   0.717   3.403   2.678   2.35      nan   0.461\n",
      "    2.14      nan     nan   3.567   4.373     nan     nan     nan     nan\n",
      "      nan   4.399]\n",
      " [  3.887   2.303   1.623   0.116   5.059   4.42    2.689     nan   0.711\n",
      "    2.867     nan     nan   5.41    6.661     nan     nan     nan     nan\n",
      "      nan   5.457]\n",
      " [  2.151   2.958   1.247   0.535   2.972   2.262   1.83      nan   0.185\n",
      "    1.826     nan     nan   3.383   4.193     nan     nan     nan     nan\n",
      "      nan   3.422]\n",
      " [  3.092   5.16    3.485   0.957   4.342   3.902   3.722     nan   0.977\n",
      "    3.063     nan     nan   5.451   5.823     nan     nan     nan     nan\n",
      "      nan   6.709]\n",
      " [  5.388   9.689   4.474   1.918   7.371   5.742   5.585     nan   1.036\n",
      "    4.36      nan     nan   8.173  10.071     nan     nan     nan     nan\n",
      "      nan  10.22 ]\n",
      " [  4.835   5.563   2.553   0.92    6.563   5.133   3.933     nan   0.6\n",
      "    3.788     nan     nan   7.095   8.974     nan     nan     nan     nan\n",
      "      nan   7.55 ]\n",
      " [    nan     nan     nan     nan     nan     nan     nan     nan     nan\n",
      "      nan     nan     nan     nan     nan     nan     nan     nan     nan\n",
      "      nan     nan]\n",
      " [  4.775   5.322   3.471   0.747   6.636   5.69    4.589     nan   1.059\n",
      "    4.443     nan     nan   7.923   8.899     nan     nan     nan     nan\n",
      "      nan   8.636]\n",
      " [    nan     nan     nan     nan     nan     nan     nan     nan     nan\n",
      "      nan     nan     nan     nan     nan     nan     nan     nan     nan\n",
      "      nan     nan]\n",
      " [    nan     nan     nan     nan     nan     nan     nan     nan     nan\n",
      "      nan     nan     nan     nan     nan     nan     nan     nan     nan\n",
      "      nan     nan]\n",
      " [    nan     nan     nan     nan     nan     nan     nan     nan     nan\n",
      "      nan     nan     nan     nan     nan     nan     nan     nan     nan\n",
      "      nan     nan]\n",
      " [    nan     nan     nan     nan     nan     nan     nan     nan     nan\n",
      "      nan     nan     nan     nan     nan     nan     nan     nan     nan\n",
      "      nan     nan]\n",
      " [  1.028   0.998   0.697   0.163   1.411   1.36    0.989     nan   0.085\n",
      "    0.923     nan     nan   1.764   1.94      nan     nan     nan     nan\n",
      "      nan   1.857]\n",
      " [  3.103   3.134   1.693   0.514   4.238   3.296   2.7       nan   0.5\n",
      "    2.812     nan     nan   4.848   5.703     nan     nan     nan     nan\n",
      "      nan   5.111]\n",
      " [    nan     nan     nan     nan     nan     nan     nan     nan     nan\n",
      "      nan     nan     nan     nan     nan     nan     nan     nan     nan\n",
      "      nan     nan]\n",
      " [  4.859   5.354   2.681   0.796   6.644   5.178   4.039     nan   0.839\n",
      "    3.925     nan     nan   7.178   8.944     nan     nan     nan     nan\n",
      "      nan   7.784]\n",
      " [    nan     nan     nan     nan     nan     nan     nan     nan     nan\n",
      "      nan     nan     nan     nan     nan     nan     nan     nan     nan\n",
      "      nan     nan]\n",
      " [  6.789   8.928   5.378   1.855   8.849   7.368   7.011     nan   1.766\n",
      "    5.947     nan     nan  10.17   11.502     nan     nan     nan     nan\n",
      "      nan  12.868]]\n",
      "Tamaño p:\n",
      " (20, 20)\n"
     ]
    }
   ],
   "source": [
    "#np.where(np.isnan(P), 0, P)@np.transpose(np.where(np.isnan(Q), 0, Q))\n",
    "R_est=P@np.transpose(Q)\n",
    "print('Matriz p:\\n',R_est)\n",
    "print('Tamaño p:\\n',R_est.shape)"
   ]
  },
  {
   "cell_type": "code",
   "execution_count": 39,
   "metadata": {},
   "outputs": [
    {
     "data": {
      "text/plain": [
       "3.200094887204332"
      ]
     },
     "execution_count": 39,
     "metadata": {},
     "output_type": "execute_result"
    }
   ],
   "source": [
    "#validación cruzada\n",
    "mf_engine.mf_cross_validation(MC)"
   ]
  },
  {
   "cell_type": "code",
   "execution_count": 26,
   "metadata": {},
   "outputs": [],
   "source": []
  },
  {
   "cell_type": "code",
   "execution_count": null,
   "metadata": {},
   "outputs": [],
   "source": []
  },
  {
   "cell_type": "code",
   "execution_count": null,
   "metadata": {},
   "outputs": [],
   "source": []
  },
  {
   "cell_type": "code",
   "execution_count": null,
   "metadata": {},
   "outputs": [],
   "source": []
  },
  {
   "cell_type": "code",
   "execution_count": null,
   "metadata": {},
   "outputs": [],
   "source": []
  },
  {
   "cell_type": "code",
   "execution_count": null,
   "metadata": {},
   "outputs": [],
   "source": []
  },
  {
   "cell_type": "code",
   "execution_count": 82,
   "metadata": {},
   "outputs": [],
   "source": [
    "pelis_nombres=pd.read_csv('movies_title_fix.csv',names=[\"peli_id\", \"año\", \"nombre\"])"
   ]
  },
  {
   "cell_type": "code",
   "execution_count": 83,
   "metadata": {},
   "outputs": [
    {
     "data": {
      "text/html": [
       "<div>\n",
       "<style scoped>\n",
       "    .dataframe tbody tr th:only-of-type {\n",
       "        vertical-align: middle;\n",
       "    }\n",
       "\n",
       "    .dataframe tbody tr th {\n",
       "        vertical-align: top;\n",
       "    }\n",
       "\n",
       "    .dataframe thead th {\n",
       "        text-align: right;\n",
       "    }\n",
       "</style>\n",
       "<table border=\"1\" class=\"dataframe\">\n",
       "  <thead>\n",
       "    <tr style=\"text-align: right;\">\n",
       "      <th></th>\n",
       "      <th>peli_id</th>\n",
       "      <th>año</th>\n",
       "      <th>nombre</th>\n",
       "    </tr>\n",
       "  </thead>\n",
       "  <tbody>\n",
       "    <tr>\n",
       "      <th>0</th>\n",
       "      <td>1</td>\n",
       "      <td>2003.0</td>\n",
       "      <td>Dinosaur Planet</td>\n",
       "    </tr>\n",
       "    <tr>\n",
       "      <th>1</th>\n",
       "      <td>2</td>\n",
       "      <td>2004.0</td>\n",
       "      <td>Isle of Man TT 2004 Review</td>\n",
       "    </tr>\n",
       "    <tr>\n",
       "      <th>2</th>\n",
       "      <td>3</td>\n",
       "      <td>1997.0</td>\n",
       "      <td>Character</td>\n",
       "    </tr>\n",
       "    <tr>\n",
       "      <th>3</th>\n",
       "      <td>4</td>\n",
       "      <td>1994.0</td>\n",
       "      <td>Paula Abdul's Get Up &amp; Dance</td>\n",
       "    </tr>\n",
       "    <tr>\n",
       "      <th>4</th>\n",
       "      <td>5</td>\n",
       "      <td>2004.0</td>\n",
       "      <td>The Rise and Fall of ECW</td>\n",
       "    </tr>\n",
       "    <tr>\n",
       "      <th>5</th>\n",
       "      <td>6</td>\n",
       "      <td>1997.0</td>\n",
       "      <td>Sick</td>\n",
       "    </tr>\n",
       "    <tr>\n",
       "      <th>6</th>\n",
       "      <td>7</td>\n",
       "      <td>1992.0</td>\n",
       "      <td>8 Man</td>\n",
       "    </tr>\n",
       "    <tr>\n",
       "      <th>7</th>\n",
       "      <td>8</td>\n",
       "      <td>2004.0</td>\n",
       "      <td>What the #$*! Do We Know!?</td>\n",
       "    </tr>\n",
       "    <tr>\n",
       "      <th>8</th>\n",
       "      <td>9</td>\n",
       "      <td>1991.0</td>\n",
       "      <td>Class of Nuke 'Em High 2</td>\n",
       "    </tr>\n",
       "    <tr>\n",
       "      <th>9</th>\n",
       "      <td>10</td>\n",
       "      <td>2001.0</td>\n",
       "      <td>Fighter</td>\n",
       "    </tr>\n",
       "  </tbody>\n",
       "</table>\n",
       "</div>"
      ],
      "text/plain": [
       "   peli_id     año                        nombre\n",
       "0        1  2003.0               Dinosaur Planet\n",
       "1        2  2004.0    Isle of Man TT 2004 Review\n",
       "2        3  1997.0                     Character\n",
       "3        4  1994.0  Paula Abdul's Get Up & Dance\n",
       "4        5  2004.0      The Rise and Fall of ECW\n",
       "5        6  1997.0                          Sick\n",
       "6        7  1992.0                         8 Man\n",
       "7        8  2004.0    What the #$*! Do We Know!?\n",
       "8        9  1991.0      Class of Nuke 'Em High 2\n",
       "9       10  2001.0                       Fighter"
      ]
     },
     "execution_count": 83,
     "metadata": {},
     "output_type": "execute_result"
    }
   ],
   "source": [
    "pelis_nombres.head(10) #para ver cómo se encuentran los datos"
   ]
  },
  {
   "cell_type": "code",
   "execution_count": 85,
   "metadata": {},
   "outputs": [],
   "source": [
    "df_muestra_netflix=pd.read_csv('dat_muestra_nflix.csv')"
   ]
  },
  {
   "cell_type": "code",
   "execution_count": 86,
   "metadata": {},
   "outputs": [
    {
     "data": {
      "text/plain": [
       "<bound method NDFrame.head of           peli_id  usuario_id_orig  calif       fecha  usuario_id\n",
       "0               1             2442      3  2004-04-14           1\n",
       "1               1          1086807      3  2004-12-28           2\n",
       "2               1          2165002      4  2004-04-06           3\n",
       "3               1          1133214      4  2004-03-07           4\n",
       "4               1          1537427      4  2004-03-29           5\n",
       "...           ...              ...    ...         ...         ...\n",
       "20968936    17770           635735      4  2004-12-01       32710\n",
       "20968937    17770          1983962      2  2005-02-23       60537\n",
       "20968938    17770          1274035      4  2005-06-10        3921\n",
       "20968939    17770           516110      5  2004-08-26        5967\n",
       "20968940    17770           311124      3  2005-09-29        4674\n",
       "\n",
       "[20968941 rows x 5 columns]>"
      ]
     },
     "execution_count": 86,
     "metadata": {},
     "output_type": "execute_result"
    }
   ],
   "source": [
    "df_muestra_netflix.head"
   ]
  },
  {
   "cell_type": "code",
   "execution_count": null,
   "metadata": {},
   "outputs": [],
   "source": []
  },
  {
   "cell_type": "code",
   "execution_count": null,
   "metadata": {},
   "outputs": [],
   "source": []
  },
  {
   "cell_type": "code",
   "execution_count": null,
   "metadata": {},
   "outputs": [],
   "source": []
  },
  {
   "cell_type": "code",
   "execution_count": null,
   "metadata": {},
   "outputs": [],
   "source": []
  },
  {
   "cell_type": "code",
   "execution_count": null,
   "metadata": {},
   "outputs": [],
   "source": []
  },
  {
   "cell_type": "code",
   "execution_count": null,
   "metadata": {},
   "outputs": [],
   "source": []
  },
  {
   "cell_type": "code",
   "execution_count": null,
   "metadata": {},
   "outputs": [],
   "source": []
  },
  {
   "cell_type": "code",
   "execution_count": null,
   "metadata": {},
   "outputs": [],
   "source": []
  },
  {
   "cell_type": "code",
   "execution_count": null,
   "metadata": {},
   "outputs": [],
   "source": []
  },
  {
   "cell_type": "code",
   "execution_count": null,
   "metadata": {},
   "outputs": [],
   "source": []
  },
  {
   "cell_type": "code",
   "execution_count": null,
   "metadata": {},
   "outputs": [],
   "source": []
  },
  {
   "cell_type": "code",
   "execution_count": null,
   "metadata": {},
   "outputs": [],
   "source": []
  },
  {
   "cell_type": "code",
   "execution_count": null,
   "metadata": {},
   "outputs": [],
   "source": []
  },
  {
   "cell_type": "code",
   "execution_count": null,
   "metadata": {},
   "outputs": [],
   "source": [
    "# #testing predict method\n",
    "# pred_data = mf.generate_test_data(9, 4, 5, indices_only=True)\n",
    "# predictions = mf_engine.predict(pred_data)\n"
   ]
  },
  {
   "cell_type": "code",
   "execution_count": null,
   "metadata": {},
   "outputs": [],
   "source": [
    "# #$ python tests/mf_tests.py\n",
    "# %run 'mf_tests.py'\n"
   ]
  },
  {
   "cell_type": "code",
   "execution_count": 27,
   "metadata": {},
   "outputs": [],
   "source": [
    "# import csv\n",
    "# with open('dat_muestra_nflix.csv', newline='') as csvfile:\n",
    "#     spamreader = csv.reader(csvfile, delimiter=' ', quotechar='|')"
   ]
  },
  {
   "cell_type": "code",
   "execution_count": 1,
   "metadata": {},
   "outputs": [],
   "source": [
    "# spamreader[1]"
   ]
  },
  {
   "cell_type": "code",
   "execution_count": null,
   "metadata": {},
   "outputs": [],
   "source": [
    "# data = pd.read_csv(\"dat_muestra_nflix.csv\", sep=' ')"
   ]
  },
  {
   "cell_type": "code",
   "execution_count": null,
   "metadata": {},
   "outputs": [],
   "source": [
    "# def centralizar_valores(M):\n",
    "#     n=M.shape[0]\n",
    "    \n",
    " \n",
    "    \n",
    "#     #Se hace una copia de la matriz M\n",
    "#         M_copy=copy.copy(M)\n",
    "#         #Se agrega una 4ta columna\n",
    "#         M_copy=np.append(M, np.array(n*[np.nan]).reshape(n,1), axis=1)\n",
    "#         #Se ordena la matriz\n",
    "#         M_copy=M_copy[np.argsort(M_copy[:,0])]\n",
    "#         #k1 irá marcando el renglón donde van cambiando los valores de la 1era columna de M\n",
    "        \n",
    "        \n",
    "#         valores=np.zeros(1)\n",
    "#         for i in range(1,M_copy.shape[0]):\n",
    "#             if M_copy[i,2]!=M_copy[i-1,2]:\n",
    "#                 print('lo que sea')\n",
    "            \n",
    "            \n",
    "#             valores[k1]=np.r_[valores, np.zeros(1)]\n",
    "#             for j in range(k1,k2+1):\n",
    "#                 #M_copy[j,4]\n",
    "#                 print('lo que sea')\n",
    "# #     else:\n",
    "# #         calif_cent=np.nanmean(M, axis=1).reshape(n,1)\n",
    "# #         return M-calif_cent"
   ]
  },
  {
   "cell_type": "code",
   "execution_count": null,
   "metadata": {},
   "outputs": [],
   "source": [
    "# help(mf)"
   ]
  },
  {
   "cell_type": "code",
   "execution_count": null,
   "metadata": {},
   "outputs": [],
   "source": [
    "# print([getattr(mf, a)\n",
    "# for a in dir(mf)\n",
    "#   if isinstance(getattr(mf, a), types.FunctionType)])"
   ]
  },
  {
   "cell_type": "code",
   "execution_count": null,
   "metadata": {},
   "outputs": [],
   "source": [
    "#help(mf.generate_test_data)"
   ]
  },
  {
   "cell_type": "code",
   "execution_count": null,
   "metadata": {},
   "outputs": [],
   "source": [
    "#dir(mf_engine)"
   ]
  },
  {
   "cell_type": "code",
   "execution_count": null,
   "metadata": {},
   "outputs": [],
   "source": [
    "# #Uso de función generate_test_data\n",
    "# #para generar un dataset de prueba con mil renglones, \n",
    "# #cuyos elementos de la 1era, columna van de 0 a 100, \n",
    "# #y los de la segunda columna de 0 a 50, la tercera \n",
    "# #columna son numeros aleatorios \n",
    "# test_data = mf.generate_test_data(9, 4, 20)\n",
    "# print('Matriz de prueba:\\n',test_data)\n",
    "# print('Tamaño de la matriz:\\n',test_data.shape)"
   ]
  },
  {
   "cell_type": "code",
   "execution_count": null,
   "metadata": {},
   "outputs": [],
   "source": [
    "# def myFun(arg1, *argv): \n",
    "#     print(type(argv))\n",
    "#     if len(argv)==0:\n",
    "#         print('no hay argumentos variables')\n",
    "#     print (\"First argument :\", arg1) \n",
    "#     for arg in argv: \n",
    "#         print(\"Next argument through *argv :\", arg)\n",
    "# #myFun(['hola','tu','chales'])\n",
    "# myFun(*[3])"
   ]
  },
  {
   "cell_type": "code",
   "execution_count": null,
   "metadata": {},
   "outputs": [],
   "source": [
    "# nan_or_value_vec_one_arg=np.vectorize(nan_or_value)\n",
    "# nan_or_value_vec_mult_args=np.vectorize(nan_or_value, otypes=[object])\n",
    "# def nan_or_value_vec(M,f,*args):\n",
    "#     if len(args)==1:\n",
    "#         print('usase la función constante?')\n",
    "#         return nan_or_value_vec_one_arg(M,f,args)\n",
    "#     else:\n",
    "#         return nan_or_value_vec_mult_args(M,f,*args)"
   ]
  },
  {
   "cell_type": "code",
   "execution_count": 1009,
   "metadata": {},
   "outputs": [],
   "source": [
    "# print('Numero de elementos distintos de cero:\\n',np.count_nonzero(R))"
   ]
  },
  {
   "cell_type": "code",
   "execution_count": null,
   "metadata": {},
   "outputs": [],
   "source": [
    "#display(pd.DataFrame(MC).sort_values(by=['row','col'], ascending=True))"
   ]
  },
  {
   "cell_type": "code",
   "execution_count": null,
   "metadata": {},
   "outputs": [],
   "source": []
  },
  {
   "cell_type": "code",
   "execution_count": null,
   "metadata": {},
   "outputs": [],
   "source": []
  },
  {
   "cell_type": "code",
   "execution_count": null,
   "metadata": {},
   "outputs": [],
   "source": []
  }
 ],
 "metadata": {
  "kernelspec": {
   "display_name": "Python 3",
   "language": "python",
   "name": "python3"
  },
  "language_info": {
   "codemirror_mode": {
    "name": "ipython",
    "version": 3
   },
   "file_extension": ".py",
   "mimetype": "text/x-python",
   "name": "python",
   "nbconvert_exporter": "python",
   "pygments_lexer": "ipython3",
   "version": "3.7.6"
  }
 },
 "nbformat": 4,
 "nbformat_minor": 4
}
