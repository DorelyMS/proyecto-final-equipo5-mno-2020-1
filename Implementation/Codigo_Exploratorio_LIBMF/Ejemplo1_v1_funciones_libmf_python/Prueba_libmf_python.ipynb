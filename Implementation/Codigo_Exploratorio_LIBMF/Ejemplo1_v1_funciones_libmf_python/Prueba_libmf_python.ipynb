{
 "cells": [
  {
   "cell_type": "code",
   "execution_count": 1,
   "metadata": {},
   "outputs": [],
   "source": [
    "#Para correr las funciones de la librería libmf de este notebook, debes clonar \n",
    "#el repo de https://github.com/PorkShoulderHolder/python-libmf.git\n",
    "#subir este notebook dentro de la carpeta /libmf/tests/"
   ]
  },
  {
   "cell_type": "code",
   "execution_count": 16,
   "metadata": {},
   "outputs": [],
   "source": [
    "#si queres correr este notebook a través de docker con la imagen de\n",
    "#jupyter numerical, debes instalar los siguientes paquetes:\n",
    "#pip install libmf\n",
    "#pip install colorama"
   ]
  },
  {
   "cell_type": "code",
   "execution_count": 2,
   "metadata": {},
   "outputs": [
    {
     "name": "stdout",
     "output_type": "stream",
     "text": [
      "Using file found in /home/miuser/.local/lib/python3.6/site-packages:\n",
      "/home/miuser/.local/lib/python3.6/site-packages/libmf.cpython-36m-x86_64-linux-gnu.so\n"
     ]
    }
   ],
   "source": [
    "import sys\n",
    "import numpy as np\n",
    "import types\n",
    "import scipy\n",
    "from scipy.sparse import random\n",
    "from scipy import stats\n",
    "import pandas as pd\n",
    "import copy\n",
    "import random\n",
    "from functools import partial\n",
    "from colorama import init\n",
    "\n",
    "import libmf\n",
    "from libmf import mf"
   ]
  },
  {
   "cell_type": "code",
   "execution_count": 3,
   "metadata": {},
   "outputs": [],
   "source": [
    "def constante(x,useless):\n",
    "    return x"
   ]
  },
  {
   "cell_type": "code",
   "execution_count": 4,
   "metadata": {},
   "outputs": [],
   "source": [
    "def perform(fun, *args):\n",
    "    return fun(*args)"
   ]
  },
  {
   "cell_type": "code",
   "execution_count": 5,
   "metadata": {},
   "outputs": [],
   "source": [
    "def nan_or_value(x, f, *args):\n",
    "    if(x==1):\n",
    "        return perform(f,*args)\n",
    "    else:\n",
    "        return np.nan"
   ]
  },
  {
   "cell_type": "code",
   "execution_count": 6,
   "metadata": {},
   "outputs": [],
   "source": [
    "nan_or_value_vec=np.vectorize(nan_or_value, otypes=[object])"
   ]
  },
  {
   "cell_type": "code",
   "execution_count": 7,
   "metadata": {},
   "outputs": [],
   "source": [
    "def crear_matriz_rala(n_ren,m_col,prop_elem_difer_nan,func_rand,*args_func_rand):\n",
    "    tot=int(n_ren*m_col)\n",
    "    k=int(tot*prop_elem_difer_nan)\n",
    "    M=np.concatenate((np.zeros(tot-k).astype(int), np.ones(k).astype(int)))\n",
    "    M=np.array(random.sample(list(M),tot))\n",
    "    M=M.reshape(n_ren,m_col)\n",
    "    M=nan_or_value_vec(M,func_rand,*args_func_rand).astype(float)\n",
    "    return M"
   ]
  },
  {
   "cell_type": "code",
   "execution_count": 8,
   "metadata": {},
   "outputs": [],
   "source": [
    "def crear_matriz_rala_compacta(n_ren, m_col, prop_elem_difer_nan):\n",
    "    tot=int(n_ren*m_col)\n",
    "    k=int(tot*prop_elem_difer_nan)\n",
    "    M=random.sample(range(tot), k)\n",
    "    columnas=np.mod(M,m_col)\n",
    "    renglones=np.divide(M,m_col).astype(int)\n",
    "    aleatorios=np.random.randint(1, 6, k)\n",
    "    M=np.concatenate([renglones, columnas, aleatorios])\n",
    "    M=M.reshape(3,k).T\n",
    "    return M"
   ]
  },
  {
   "cell_type": "code",
   "execution_count": 9,
   "metadata": {},
   "outputs": [],
   "source": [
    "def compactar_matriz_rala(M):\n",
    "    if type(M) is not np.ndarray:\n",
    "        sys.exit('M debe ser de tipo numpy.ndarray')\n",
    "    elif np.isnan(M).sum()==len(M):\n",
    "        sys.exit('Todos los elementos de M son nan')\n",
    "    MC=np.zeros((M[np.isnan(M)==False].size,3))\n",
    "    k = 0\n",
    "    n,m=M.shape\n",
    "    for i in range(n): \n",
    "        for j in range(m): \n",
    "            if (~np.isnan(M[i,j])): \n",
    "                MC[k,0] = i\n",
    "                MC[k,1] = j\n",
    "                MC[k,2] = M[i,j] \n",
    "                k += 1\n",
    "    return MC"
   ]
  },
  {
   "cell_type": "code",
   "execution_count": 10,
   "metadata": {},
   "outputs": [],
   "source": [
    "#Elegiremos un formato de general para visualizar las matrices exhibidas como ejemplo\n",
    "np.set_printoptions(sign=' ', precision=3)\n",
    "#np.set_printoptions(sign=' ',formatter={'float': lambda x: \"{0:0.3f}\".format(x)})"
   ]
  },
  {
   "cell_type": "code",
   "execution_count": 11,
   "metadata": {},
   "outputs": [],
   "source": [
    "def modelo_base_ref(MC):\n",
    "    df=pd.DataFrame(MC,columns=['row','col','score'])\n",
    "    #Media total\n",
    "    c=df['score'].mean(axis=0)\n",
    "\n",
    "    #media por columna\n",
    "    mean_by_col=df[['col','score']].groupby(['col']).mean()\n",
    "    mean_by_col.rename(columns={'score':'mean_score_by_col'}, inplace=True)\n",
    "    #media por renglon\n",
    "    mean_by_row=df[['row','score']].groupby(['row']).mean()\n",
    "    mean_by_row.rename(columns={'score':'mean_score_by_row'}, inplace=True)\n",
    "\n",
    "    #se unen todas los resultados obtenidos, incluyendo la columna de\n",
    "    #índice de columnas y renglones\n",
    "    df=df.set_index('col').join(mean_by_col,how='left')\n",
    "    df['col']=df.index\n",
    "    df=df.set_index('row').join(mean_by_row,how='left')\n",
    "    df['row']=df.index\n",
    "    df=df[['row','col','mean_score_by_row','mean_score_by_col']]\n",
    "    df['total_score_mean']=c\n",
    "    \n",
    "    return df"
   ]
  },
  {
   "cell_type": "code",
   "execution_count": 12,
   "metadata": {},
   "outputs": [],
   "source": [
    "#Esta función filtra los 'indices de renglones (usuarios)' o\n",
    "#'indices de columna (peliculas)' cuyo conteo total es mayor a n\n",
    "def filtrar(MC,ren_o_col,n):\n",
    "    MC_df=pd.DataFrame(MC,columns=['row','col','score'])\n",
    "    \n",
    "    #este pequeño bloque calcula el total de elementos por columna o renglón\n",
    "    count_by=MC_df[[ren_o_col,'score']].groupby([ren_o_col]).count()\n",
    "    count_by.rename(columns={'score':'tot_counted'}, inplace=True)\n",
    "    count_by[ren_o_col]=count_by.index\n",
    "    count_by=count_by[[ren_o_col,'tot_counted']]\n",
    "    \n",
    "    #en este bloque se filtran los elementos de la matriz cuyo conteo por\n",
    "    #columna o renglón tienen más de n elementos\n",
    "    count_by=count_by[count_by.apply(lambda x: x['tot_counted'] > n, axis=1)]\n",
    "    count_by=MC_df.set_index(ren_o_col).join(count_by.set_index(ren_o_col),how='inner')\n",
    "    count_by[ren_o_col]=count_by.index\n",
    "    count_by=count_by[['row','col','score']]\n",
    "    \n",
    "    return count_by.to_numpy()"
   ]
  },
  {
   "cell_type": "code",
   "execution_count": 13,
   "metadata": {},
   "outputs": [
    {
     "name": "stdout",
     "output_type": "stream",
     "text": [
      "Matriz M:\n",
      " [[ nan   3.  nan   3.  nan]\n",
      " [ nan  nan  nan  nan  nan]\n",
      " [  4.  nan   3.  nan  nan]\n",
      " [ nan  nan  nan  nan  nan]\n",
      " [ nan  nan  nan  nan   3.]\n",
      " [ nan  nan  nan   4.  nan]\n",
      " [ nan  nan  nan  nan  nan]\n",
      " [ nan   2.  nan  nan  nan]\n",
      " [  5.  nan  nan   4.  nan]\n",
      " [ nan   4.  nan  nan  nan]\n",
      " [ nan  nan  nan  nan  nan]\n",
      " [ nan  nan  nan  nan  nan]\n",
      " [ nan  nan  nan  nan  nan]\n",
      " [ nan   3.  nan  nan  nan]\n",
      " [ nan  nan  nan   4.  nan]\n",
      " [  3.  nan   3.   2.   1.]\n",
      " [ nan   5.   1.  nan  nan]\n",
      " [ nan   4.   1.  nan  nan]\n",
      " [ nan  nan  nan   1.  nan]\n",
      " [  4.   5.   2.  nan   5.]]\n",
      "Tamaño M:\n",
      " (20, 5)\n",
      "Numero de elementos diferentes de nan:\n",
      " 25\n"
     ]
    }
   ],
   "source": [
    "#Crear matriz rala de tamaño 20x5, donde el 25% de sus elementos\n",
    "#será distinto de nan, señalando la distribución de probabilidad\n",
    "#que tendrán dichos elementos\n",
    "M=crear_matriz_rala(20,5,0.25,stats.randint.rvs,*[1,6])\n",
    "#Puedes cambiar la distribución aleatoria, prueba con las\n",
    "#distribuciones existentes en scipy.stats o la función constante\n",
    "#R=crear_matriz_rala(20,5,0.5,scipy.stats.uniform.rvs,*[1,4])\n",
    "#R=crear_matriz_rala(20,5,0.2,stats.binom.rvs,*[5,0.2])\n",
    "#R=crear_matriz_rala(20,5,0.5,constante,*[1,0])\n",
    "print('Matriz M:\\n',M)\n",
    "print('Tamaño M:\\n',M.shape)\n",
    "print('Numero de elementos diferentes de nan:\\n',M[np.isnan(M)==False].size)"
   ]
  },
  {
   "cell_type": "code",
   "execution_count": 14,
   "metadata": {},
   "outputs": [
    {
     "name": "stdout",
     "output_type": "stream",
     "text": [
      "Expresión compacta de M (MC):\n",
      " [[  0.   1.   3.]\n",
      " [  0.   3.   3.]\n",
      " [  2.   0.   4.]\n",
      " [  2.   2.   3.]\n",
      " [  4.   4.   3.]\n",
      " [  5.   3.   4.]\n",
      " [  7.   1.   2.]\n",
      " [  8.   0.   5.]\n",
      " [  8.   3.   4.]\n",
      " [  9.   1.   4.]\n",
      " [ 13.   1.   3.]\n",
      " [ 14.   3.   4.]\n",
      " [ 15.   0.   3.]\n",
      " [ 15.   2.   3.]\n",
      " [ 15.   3.   2.]\n",
      " [ 15.   4.   1.]\n",
      " [ 16.   1.   5.]\n",
      " [ 16.   2.   1.]\n",
      " [ 17.   1.   4.]\n",
      " [ 17.   2.   1.]\n",
      " [ 18.   3.   1.]\n",
      " [ 19.   0.   4.]\n",
      " [ 19.   1.   5.]\n",
      " [ 19.   2.   2.]\n",
      " [ 19.   4.   5.]]\n",
      "Tamaño MC:\n",
      " (25, 3)\n"
     ]
    }
   ],
   "source": [
    "#Expresión compacta de la matriz rala (con 3 columnas: col1,col2,col3),\n",
    "#que señala el índice de renglón (col1) y columna (col2) de la matriz R,\n",
    "#correspondiente a los elementos distitnos de nan, así como el valor\n",
    "#de dicho elemento (col3)\n",
    "MC=compactar_matriz_rala(M)\n",
    "print('Expresión compacta de M (MC):\\n',MC)\n",
    "print('Tamaño MC:\\n',MC.shape)"
   ]
  },
  {
   "cell_type": "code",
   "execution_count": 16,
   "metadata": {},
   "outputs": [
    {
     "name": "stdout",
     "output_type": "stream",
     "text": [
      "Matriz generada con mf.generate_test_data(20,5,25):\n",
      "\n",
      "\u001b[1;30;41m [ 0.     1.     0.166]\n",
      "\u001b[0;0;0m [ 19.      4.      0.306]\n",
      "\u001b[0;0;0m [ 14.      3.      0.147]\n",
      "\u001b[0;0;0m [ 18.      4.      0.223]\n",
      "\u001b[0;0;0m [ 18.     1.     0.54]\n",
      "\u001b[0;0;0m [ 15.      3.      0.749]\n",
      "\u001b[0;0;0m [ 2.     2.     0.428]\n",
      "\u001b[0;0;0m [ 11.      3.      0.105]\n",
      "\u001b[0;0;0m [ 9.     3.     0.753]\n",
      "\u001b[0;0;0m [ 8.     5.     0.598]\n",
      "\u001b[0;0;0m [ 13.      0.      0.487]\n",
      "\u001b[0;0;0m [ 8.     4.     0.975]\n",
      "\u001b[0;0;0m [ 9.     2.     0.802]\n",
      "\u001b[0;0;0m [ 15.      3.      0.333]\n",
      "\u001b[0;0;0m [ 7.     5.     0.549]\n",
      "\u001b[0;0;0m [ 4.     5.     0.312]\n",
      "\u001b[0;0;0m [ 16.      4.      0.062]\n",
      "\u001b[0;0;0m [ 6.     1.     0.903]\n",
      "\u001b[0;0;0m [ 18.      0.      0.861]\n",
      "\u001b[0;0;0m [ 3.    3.    0.63]\n",
      "\u001b[1;30;41m [ 0.     1.     0.217]\n",
      "\u001b[1;30;41m [ 0.     1.     0.556]\n",
      "\u001b[0;0;0m [ 16.      5.      0.109]\n",
      "\u001b[0;0;0m [ 6.     5.     0.551]\n",
      "\u001b[0;0;0m [ 7.     0.     0.581]\n",
      "Tamaño MC:\n",
      " (25, 3)\n"
     ]
    }
   ],
   "source": [
    "#Entre las funciones de la librería libmf programado en python\n",
    "#se tiene un para generar matrices ralas compactas sin embargo\n",
    "#se observa que puede arrojar más de un valor para un mismo\n",
    "#elemento de la matriz rala, vease abajo el renglón [0,1]\n",
    "#tiene 3 valores asignados (0.166,0.217,0.556).\n",
    "\n",
    "#El 1er parámetro señala indica que se seleccionará un valor\n",
    "#de entre 0 y 19 para la 1er columna (que representa el índice\n",
    "#de los renglones de la matriz rala que expresa); el 2do\n",
    "#parámetro indica que se seleccionara al azar valores entre\n",
    "#0 y 4 (que representa el índice de las columnas de la matriz\n",
    "#rala que expresa); el 3er parámetro indica el número de elementos\n",
    "#a generar\n",
    "\n",
    "#Fijaremos una semilla para reproducibilidad\n",
    "np.random.seed(102)\n",
    "MC=mf.generate_test_data(20, 5, 25)\n",
    "\n",
    "print('Matriz generada con mf.generate_test_data(20,5,25):\\n')\n",
    "#np.set_printoptions(sign=' ',formatter={'float': lambda x: \"{0:0.3f}\".format(x)})\n",
    "for i in range(MC.shape[0]):\n",
    "    if MC[i,0]==0:\n",
    "        print('\\033[1;30;41m',MC[i,:])\n",
    "    else:\n",
    "        print('\\033[0;0;0m',MC[i,:])\n",
    "#print('Matriz generada con mf.generate_test_data(20,5,25):\\n',M_compacta)\n",
    "print('Tamaño MC:\\n',MC.shape)\n"
   ]
  },
  {
   "cell_type": "code",
   "execution_count": 17,
   "metadata": {},
   "outputs": [
    {
     "name": "stdout",
     "output_type": "stream",
     "text": [
      "Expresión compacta de M (MC) ordenada por renglon:\n",
      " [[ 0  0  3]\n",
      " [ 0  3  4]\n",
      " [ 1  2  3]\n",
      " [ 2  4  5]\n",
      " [ 3  2  1]\n",
      " [ 3  3  1]\n",
      " [ 3  1  5]\n",
      " [ 3  4  1]\n",
      " [ 3  0  1]\n",
      " [ 4  1  2]\n",
      " [ 6  1  2]\n",
      " [ 7  0  1]\n",
      " [ 8  0  5]\n",
      " [ 8  1  4]\n",
      " [ 9  4  2]\n",
      " [ 9  2  2]\n",
      " [11  0  4]\n",
      " [12  1  3]\n",
      " [14  0  4]\n",
      " [16  3  4]\n",
      " [17  0  5]\n",
      " [17  3  3]\n",
      " [18  3  3]\n",
      " [19  0  5]\n",
      " [19  3  4]]\n",
      "Tamaño MC:\n",
      " (25, 3)\n"
     ]
    }
   ],
   "source": [
    "#El presente trabajo plantea trabajar con bases de películas, donde\n",
    "#los ínidices i de renglones representan usuarios, los ínidces j de columnas\n",
    "#las películas, y el valor de elemento de la matriz la calificación\n",
    "#asignada a la película j por el usuari i\n",
    "#Por lo anterior, para crear matrices compactas ralas usaremos funciones propias\n",
    "#donde un usuario no califique más de una vez una misma película (lo cual \n",
    "#sucediería si se genera la matriz de calificaciones con la función de la\n",
    "#paquetería libmf). La calificación será un no. aleatorio entre 1 y 5\n",
    "#generada con una dist. uniforme discreta\n",
    "MC=crear_matriz_rala_compacta(20,5,0.25)\n",
    "print('Expresión compacta de M (MC) ordenada por renglon:\\n',MC[np.argsort(MC[:,0])])\n",
    "print('Tamaño MC:\\n',MC.shape)"
   ]
  },
  {
   "cell_type": "code",
   "execution_count": 18,
   "metadata": {},
   "outputs": [
    {
     "name": "stdout",
     "output_type": "stream",
     "text": [
      "9 2 2\n",
      "1 2 3\n",
      "19 3 4\n",
      "2 4 5\n",
      "7 0 1\n",
      "16 3 4\n",
      "0 3 4\n",
      "3 3 1\n",
      "8 0 5\n",
      "6 1 2\n",
      "19 0 5\n",
      "4 1 2\n",
      "11 0 4\n",
      "18 3 3\n",
      "3 0 1\n",
      "3 4 1\n",
      "12 1 3\n",
      "17 0 5\n",
      "3 1 5\n",
      "8 1 4\n",
      "14 0 4\n",
      "0 0 3\n",
      "9 4 2\n",
      "17 3 3\n",
      "3 2 1\n",
      "\n"
     ]
    }
   ],
   "source": [
    "#Aquí una forma de gardar la matriz compacta en un txt\n",
    "#que podría ser utilizado directamente con las funciones\n",
    "#de libmf a través de comandos bash\n",
    "np.savetxt('MC.txt', MC, delimiter=' ', fmt=\"%.0f\")\n",
    "f = open('MC.txt', 'r')\n",
    "file_contents = f.read()\n",
    "print (file_contents)\n",
    "f.close()"
   ]
  },
  {
   "cell_type": "code",
   "execution_count": 19,
   "metadata": {},
   "outputs": [
    {
     "data": {
      "text/html": [
       "<div>\n",
       "<style scoped>\n",
       "    .dataframe tbody tr th:only-of-type {\n",
       "        vertical-align: middle;\n",
       "    }\n",
       "\n",
       "    .dataframe tbody tr th {\n",
       "        vertical-align: top;\n",
       "    }\n",
       "\n",
       "    .dataframe thead th {\n",
       "        text-align: right;\n",
       "    }\n",
       "</style>\n",
       "<table border=\"1\" class=\"dataframe\">\n",
       "  <thead>\n",
       "    <tr style=\"text-align: right;\">\n",
       "      <th></th>\n",
       "      <th>row</th>\n",
       "      <th>col</th>\n",
       "      <th>mean_score_by_row</th>\n",
       "      <th>mean_score_by_col</th>\n",
       "      <th>total_score_mean</th>\n",
       "    </tr>\n",
       "    <tr>\n",
       "      <th>row</th>\n",
       "      <th></th>\n",
       "      <th></th>\n",
       "      <th></th>\n",
       "      <th></th>\n",
       "      <th></th>\n",
       "    </tr>\n",
       "  </thead>\n",
       "  <tbody>\n",
       "    <tr>\n",
       "      <th>0</th>\n",
       "      <td>0</td>\n",
       "      <td>0</td>\n",
       "      <td>3.5</td>\n",
       "      <td>3.500000</td>\n",
       "      <td>3.08</td>\n",
       "    </tr>\n",
       "    <tr>\n",
       "      <th>0</th>\n",
       "      <td>0</td>\n",
       "      <td>3</td>\n",
       "      <td>3.5</td>\n",
       "      <td>3.166667</td>\n",
       "      <td>3.08</td>\n",
       "    </tr>\n",
       "    <tr>\n",
       "      <th>1</th>\n",
       "      <td>1</td>\n",
       "      <td>2</td>\n",
       "      <td>3.0</td>\n",
       "      <td>2.000000</td>\n",
       "      <td>3.08</td>\n",
       "    </tr>\n",
       "    <tr>\n",
       "      <th>2</th>\n",
       "      <td>2</td>\n",
       "      <td>4</td>\n",
       "      <td>5.0</td>\n",
       "      <td>2.666667</td>\n",
       "      <td>3.08</td>\n",
       "    </tr>\n",
       "    <tr>\n",
       "      <th>3</th>\n",
       "      <td>3</td>\n",
       "      <td>0</td>\n",
       "      <td>1.8</td>\n",
       "      <td>3.500000</td>\n",
       "      <td>3.08</td>\n",
       "    </tr>\n",
       "    <tr>\n",
       "      <th>3</th>\n",
       "      <td>3</td>\n",
       "      <td>1</td>\n",
       "      <td>1.8</td>\n",
       "      <td>3.200000</td>\n",
       "      <td>3.08</td>\n",
       "    </tr>\n",
       "    <tr>\n",
       "      <th>3</th>\n",
       "      <td>3</td>\n",
       "      <td>2</td>\n",
       "      <td>1.8</td>\n",
       "      <td>2.000000</td>\n",
       "      <td>3.08</td>\n",
       "    </tr>\n",
       "    <tr>\n",
       "      <th>3</th>\n",
       "      <td>3</td>\n",
       "      <td>3</td>\n",
       "      <td>1.8</td>\n",
       "      <td>3.166667</td>\n",
       "      <td>3.08</td>\n",
       "    </tr>\n",
       "    <tr>\n",
       "      <th>3</th>\n",
       "      <td>3</td>\n",
       "      <td>4</td>\n",
       "      <td>1.8</td>\n",
       "      <td>2.666667</td>\n",
       "      <td>3.08</td>\n",
       "    </tr>\n",
       "    <tr>\n",
       "      <th>4</th>\n",
       "      <td>4</td>\n",
       "      <td>1</td>\n",
       "      <td>2.0</td>\n",
       "      <td>3.200000</td>\n",
       "      <td>3.08</td>\n",
       "    </tr>\n",
       "    <tr>\n",
       "      <th>6</th>\n",
       "      <td>6</td>\n",
       "      <td>1</td>\n",
       "      <td>2.0</td>\n",
       "      <td>3.200000</td>\n",
       "      <td>3.08</td>\n",
       "    </tr>\n",
       "    <tr>\n",
       "      <th>7</th>\n",
       "      <td>7</td>\n",
       "      <td>0</td>\n",
       "      <td>1.0</td>\n",
       "      <td>3.500000</td>\n",
       "      <td>3.08</td>\n",
       "    </tr>\n",
       "    <tr>\n",
       "      <th>8</th>\n",
       "      <td>8</td>\n",
       "      <td>0</td>\n",
       "      <td>4.5</td>\n",
       "      <td>3.500000</td>\n",
       "      <td>3.08</td>\n",
       "    </tr>\n",
       "    <tr>\n",
       "      <th>8</th>\n",
       "      <td>8</td>\n",
       "      <td>1</td>\n",
       "      <td>4.5</td>\n",
       "      <td>3.200000</td>\n",
       "      <td>3.08</td>\n",
       "    </tr>\n",
       "    <tr>\n",
       "      <th>9</th>\n",
       "      <td>9</td>\n",
       "      <td>2</td>\n",
       "      <td>2.0</td>\n",
       "      <td>2.000000</td>\n",
       "      <td>3.08</td>\n",
       "    </tr>\n",
       "    <tr>\n",
       "      <th>9</th>\n",
       "      <td>9</td>\n",
       "      <td>4</td>\n",
       "      <td>2.0</td>\n",
       "      <td>2.666667</td>\n",
       "      <td>3.08</td>\n",
       "    </tr>\n",
       "    <tr>\n",
       "      <th>11</th>\n",
       "      <td>11</td>\n",
       "      <td>0</td>\n",
       "      <td>4.0</td>\n",
       "      <td>3.500000</td>\n",
       "      <td>3.08</td>\n",
       "    </tr>\n",
       "    <tr>\n",
       "      <th>12</th>\n",
       "      <td>12</td>\n",
       "      <td>1</td>\n",
       "      <td>3.0</td>\n",
       "      <td>3.200000</td>\n",
       "      <td>3.08</td>\n",
       "    </tr>\n",
       "    <tr>\n",
       "      <th>14</th>\n",
       "      <td>14</td>\n",
       "      <td>0</td>\n",
       "      <td>4.0</td>\n",
       "      <td>3.500000</td>\n",
       "      <td>3.08</td>\n",
       "    </tr>\n",
       "    <tr>\n",
       "      <th>16</th>\n",
       "      <td>16</td>\n",
       "      <td>3</td>\n",
       "      <td>4.0</td>\n",
       "      <td>3.166667</td>\n",
       "      <td>3.08</td>\n",
       "    </tr>\n",
       "    <tr>\n",
       "      <th>17</th>\n",
       "      <td>17</td>\n",
       "      <td>0</td>\n",
       "      <td>4.0</td>\n",
       "      <td>3.500000</td>\n",
       "      <td>3.08</td>\n",
       "    </tr>\n",
       "    <tr>\n",
       "      <th>17</th>\n",
       "      <td>17</td>\n",
       "      <td>3</td>\n",
       "      <td>4.0</td>\n",
       "      <td>3.166667</td>\n",
       "      <td>3.08</td>\n",
       "    </tr>\n",
       "    <tr>\n",
       "      <th>18</th>\n",
       "      <td>18</td>\n",
       "      <td>3</td>\n",
       "      <td>3.0</td>\n",
       "      <td>3.166667</td>\n",
       "      <td>3.08</td>\n",
       "    </tr>\n",
       "    <tr>\n",
       "      <th>19</th>\n",
       "      <td>19</td>\n",
       "      <td>0</td>\n",
       "      <td>4.5</td>\n",
       "      <td>3.500000</td>\n",
       "      <td>3.08</td>\n",
       "    </tr>\n",
       "    <tr>\n",
       "      <th>19</th>\n",
       "      <td>19</td>\n",
       "      <td>3</td>\n",
       "      <td>4.5</td>\n",
       "      <td>3.166667</td>\n",
       "      <td>3.08</td>\n",
       "    </tr>\n",
       "  </tbody>\n",
       "</table>\n",
       "</div>"
      ],
      "text/plain": [
       "     row  col  mean_score_by_row  mean_score_by_col  total_score_mean\n",
       "row                                                                  \n",
       "0      0    0                3.5           3.500000              3.08\n",
       "0      0    3                3.5           3.166667              3.08\n",
       "1      1    2                3.0           2.000000              3.08\n",
       "2      2    4                5.0           2.666667              3.08\n",
       "3      3    0                1.8           3.500000              3.08\n",
       "3      3    1                1.8           3.200000              3.08\n",
       "3      3    2                1.8           2.000000              3.08\n",
       "3      3    3                1.8           3.166667              3.08\n",
       "3      3    4                1.8           2.666667              3.08\n",
       "4      4    1                2.0           3.200000              3.08\n",
       "6      6    1                2.0           3.200000              3.08\n",
       "7      7    0                1.0           3.500000              3.08\n",
       "8      8    0                4.5           3.500000              3.08\n",
       "8      8    1                4.5           3.200000              3.08\n",
       "9      9    2                2.0           2.000000              3.08\n",
       "9      9    4                2.0           2.666667              3.08\n",
       "11    11    0                4.0           3.500000              3.08\n",
       "12    12    1                3.0           3.200000              3.08\n",
       "14    14    0                4.0           3.500000              3.08\n",
       "16    16    3                4.0           3.166667              3.08\n",
       "17    17    0                4.0           3.500000              3.08\n",
       "17    17    3                4.0           3.166667              3.08\n",
       "18    18    3                3.0           3.166667              3.08\n",
       "19    19    0                4.5           3.500000              3.08\n",
       "19    19    3                4.5           3.166667              3.08"
      ]
     },
     "metadata": {},
     "output_type": "display_data"
    },
    {
     "name": "stdout",
     "output_type": "stream",
     "text": [
      "[[  0.      0.      3.5     3.5     3.08 ]\n",
      " [  0.      3.      3.5     3.167   3.08 ]\n",
      " [  1.      2.      3.      2.      3.08 ]\n",
      " [  2.      4.      5.      2.667   3.08 ]\n",
      " [  3.      0.      1.8     3.5     3.08 ]\n",
      " [  3.      1.      1.8     3.2     3.08 ]\n",
      " [  3.      2.      1.8     2.      3.08 ]\n",
      " [  3.      3.      1.8     3.167   3.08 ]\n",
      " [  3.      4.      1.8     2.667   3.08 ]\n",
      " [  4.      1.      2.      3.2     3.08 ]\n",
      " [  6.      1.      2.      3.2     3.08 ]\n",
      " [  7.      0.      1.      3.5     3.08 ]\n",
      " [  8.      0.      4.5     3.5     3.08 ]\n",
      " [  8.      1.      4.5     3.2     3.08 ]\n",
      " [  9.      2.      2.      2.      3.08 ]\n",
      " [  9.      4.      2.      2.667   3.08 ]\n",
      " [ 11.      0.      4.      3.5     3.08 ]\n",
      " [ 12.      1.      3.      3.2     3.08 ]\n",
      " [ 14.      0.      4.      3.5     3.08 ]\n",
      " [ 16.      3.      4.      3.167   3.08 ]\n",
      " [ 17.      0.      4.      3.5     3.08 ]\n",
      " [ 17.      3.      4.      3.167   3.08 ]\n",
      " [ 18.      3.      3.      3.167   3.08 ]\n",
      " [ 19.      0.      4.5     3.5     3.08 ]\n",
      " [ 19.      3.      4.5     3.167   3.08 ]]\n",
      "\n",
      " El modelo base de referencia es mean_ren + mean_col - mean_tot:\n"
     ]
    },
    {
     "data": {
      "text/plain": [
       "array([-3.5, -0.5,  0. ,  1. ,  1.2,  2.2,  3.2,  4.2,  5.2,  3. ,  5. ,\n",
       "        6. ,  3.5,  4.5,  9. , 11. ,  7. , 10. , 10. , 15. , 13. , 16. ,\n",
       "       18. , 14.5, 17.5])"
      ]
     },
     "execution_count": 19,
     "metadata": {},
     "output_type": "execute_result"
    }
   ],
   "source": [
    "#Para plantear un modelo base de referencia, se calculan los medias\n",
    "#por renglones (mean_ren) y por columnas (mean_col), así como \n",
    "#una media total (mean_tot), luego se sustituyen los valores de \n",
    "#la matriz (x_ij) por: mean_ren + mean_col - mean_tot\n",
    "#La función modelo_base_ref regresa los promedios por renglon,\n",
    "#columna y total. Con ello se pude construir el modelo base referencia\n",
    "promedios=modelo_base_ref(MC)\n",
    "display(promedios)\n",
    "#podemos convertir a numpy array para realizar operaciones con\n",
    "#variables de este tipo\n",
    "promedios=promedios.to_numpy()\n",
    "print(promedios)\n",
    "#el modelo base de ref quedaría así:\n",
    "print('\\n El modelo base de referencia es mean_ren + mean_col - mean_tot:') \n",
    "#una media total (mean_tot):')\n",
    "promedios[:,0]+promedios[:,1]-promedios[:,2]"
   ]
  },
  {
   "cell_type": "code",
   "execution_count": 20,
   "metadata": {},
   "outputs": [
    {
     "data": {
      "text/plain": [
       "array([[3, 3, 1],\n",
       "       [3, 0, 1],\n",
       "       [3, 4, 1],\n",
       "       [3, 1, 5],\n",
       "       [3, 2, 1]])"
      ]
     },
     "metadata": {},
     "output_type": "display_data"
    },
    {
     "data": {
      "text/plain": [
       "array([[ 7,  0,  1],\n",
       "       [ 8,  0,  5],\n",
       "       [19,  0,  5],\n",
       "       [11,  0,  4],\n",
       "       [ 3,  0,  1],\n",
       "       [17,  0,  5],\n",
       "       [14,  0,  4],\n",
       "       [ 0,  0,  3],\n",
       "       [ 6,  1,  2],\n",
       "       [ 4,  1,  2],\n",
       "       [12,  1,  3],\n",
       "       [ 3,  1,  5],\n",
       "       [ 8,  1,  4],\n",
       "       [ 9,  2,  2],\n",
       "       [ 1,  2,  3],\n",
       "       [ 3,  2,  1],\n",
       "       [19,  3,  4],\n",
       "       [16,  3,  4],\n",
       "       [ 0,  3,  4],\n",
       "       [ 3,  3,  1],\n",
       "       [18,  3,  3],\n",
       "       [17,  3,  3],\n",
       "       [ 2,  4,  5],\n",
       "       [ 3,  4,  1],\n",
       "       [ 9,  4,  2]])"
      ]
     },
     "metadata": {},
     "output_type": "display_data"
    }
   ],
   "source": [
    "#Usuarios que calificaron más de 2 películas\n",
    "display(filtrar(MC,'row',2))\n",
    "display(filtrar(MC,'col',2))"
   ]
  },
  {
   "cell_type": "code",
   "execution_count": 21,
   "metadata": {},
   "outputs": [
    {
     "data": {
      "text/plain": [
       "libmf.mf.MF"
      ]
     },
     "execution_count": 21,
     "metadata": {},
     "output_type": "execute_result"
    }
   ],
   "source": [
    "mf_engine=mf.MF()\n",
    "type(mf_engine)"
   ]
  },
  {
   "cell_type": "code",
   "execution_count": 22,
   "metadata": {},
   "outputs": [
    {
     "data": {
      "text/plain": [
       "<libmf.mf.MF at 0x7fb042d92cc0>"
      ]
     },
     "execution_count": 22,
     "metadata": {},
     "output_type": "execute_result"
    }
   ],
   "source": [
    "#fit method\n",
    "mf_engine.fit(MC)\n",
    "mf_engine"
   ]
  },
  {
   "cell_type": "code",
   "execution_count": 23,
   "metadata": {},
   "outputs": [
    {
     "name": "stdout",
     "output_type": "stream",
     "text": [
      "Matriz p:\n",
      " [[ 1.295  0.187  0.892 -0.271  1.024  1.626  1.755  2.827]\n",
      " [ 0.671  0.776  1.095  0.543  1.212  0.887  0.645  0.21 ]\n",
      " [ 1.382  1.699  0.904  0.538  2.333 -0.069  1.378  1.028]\n",
      " [ 0.701  1.929  0.774  0.465  1.216  1.305  1.203  2.455]\n",
      " [ 0.137  0.133  0.937  0.75   0.735  0.531  0.164  0.489]\n",
      " [ 0.819  0.506 -0.008  0.813  0.337  1.012  1.354  0.728]\n",
      " [ 0.789  1.203  0.454  0.64   0.982  0.206  0.151  0.554]\n",
      " [   nan    nan    nan    nan    nan    nan    nan    nan]\n",
      " [   nan    nan    nan    nan    nan    nan    nan    nan]\n",
      " [ 1.284  2.302  2.568  2.607  0.319  0.434  1.614 -0.422]\n",
      " [   nan    nan    nan    nan    nan    nan    nan    nan]\n",
      " [ 0.261  0.104  0.853  0.434  0.582  0.821  0.956  0.403]]\n",
      "Tamaño p:\n",
      " (12, 8)\n"
     ]
    }
   ],
   "source": [
    "#testing factor-p\n",
    "P=mf_engine.p_factors()\n",
    "print('Matriz p:\\n',P)\n",
    "print('Tamaño p:\\n',P.shape)"
   ]
  },
  {
   "cell_type": "code",
   "execution_count": 24,
   "metadata": {},
   "outputs": [
    {
     "name": "stdout",
     "output_type": "stream",
     "text": [
      "Matriz Q:\n",
      " [[ 6.495e-01  1.943e-01  5.349e-02  6.467e-01  7.669e-01  4.574e-01\n",
      "   5.123e-01  3.444e-01]\n",
      " [ 8.107e-01  1.491e+00  1.904e+00  2.160e+00 -1.713e-01 -1.370e-01\n",
      "   9.279e-01 -1.295e+00]\n",
      " [ 2.661e-01 -5.013e-02 -2.438e-01  4.877e-01 -5.705e-02  7.045e-01\n",
      "   1.026e+00  1.064e-03]\n",
      " [ 7.897e-01 -6.153e-01  3.689e-02 -4.352e-02 -2.284e-01  9.170e-01\n",
      "   4.753e-01  1.264e+00]\n",
      " [ 2.178e-01  8.208e-02  7.457e-01  8.399e-01  6.917e-01  6.544e-01\n",
      "   1.262e-01 -3.688e-01]\n",
      " [ 1.281e-01  2.970e-01  3.231e-01  6.038e-01  1.363e-01  5.757e-01\n",
      "   6.056e-01  8.132e-01]\n",
      " [       nan        nan        nan        nan        nan        nan\n",
      "         nan        nan]\n",
      " [ 1.462e+00  1.842e+00  1.034e+00  7.090e-01  2.422e+00  8.745e-02\n",
      "   1.608e+00  1.430e+00]\n",
      " [ 1.293e+00  1.847e+00  8.875e-01  9.155e-01  8.908e-01  9.846e-01\n",
      "   1.267e+00  1.735e+00]\n",
      " [ 1.131e+00  6.662e-01  1.366e+00  1.492e-02  1.247e+00  1.558e+00\n",
      "   1.992e+00  2.421e+00]\n",
      " [       nan        nan        nan        nan        nan        nan\n",
      "         nan        nan]\n",
      " [       nan        nan        nan        nan        nan        nan\n",
      "         nan        nan]\n",
      " [ 9.169e-01  2.123e+00  1.364e+00  1.146e+00  9.784e-01  1.585e+00\n",
      "   1.537e+00  1.781e+00]\n",
      " [       nan        nan        nan        nan        nan        nan\n",
      "         nan        nan]\n",
      " [       nan        nan        nan        nan        nan        nan\n",
      "         nan        nan]\n",
      " [       nan        nan        nan        nan        nan        nan\n",
      "         nan        nan]\n",
      " [       nan        nan        nan        nan        nan        nan\n",
      "         nan        nan]\n",
      " [       nan        nan        nan        nan        nan        nan\n",
      "         nan        nan]\n",
      " [ 2.090e-01  2.776e-01  9.495e-01  6.422e-01  2.720e-01  7.723e-01\n",
      "   5.678e-01  4.172e-01]\n",
      " [ 6.450e-01  1.151e+00  3.917e-01  5.837e-01  8.237e-01  4.375e-01\n",
      "   2.755e-01  3.652e-01]]\n",
      "Tamaño Q:\n",
      " (20, 8)\n"
     ]
    }
   ],
   "source": [
    "#testing factor-q\n",
    "Q=mf_engine.q_factors()\n",
    "print('Matriz Q:\\n',Q)\n",
    "print('Tamaño Q:\\n',Q.shape)"
   ]
  },
  {
   "cell_type": "code",
   "execution_count": 25,
   "metadata": {},
   "outputs": [
    {
     "name": "stdout",
     "output_type": "stream",
     "text": [
      "Matriz p:\n",
      " [[ 4.151e+00  1.054e-02  2.876e+00  6.618e+00  1.686e+00  4.783e+00\n",
      "         nan  1.245e+01  1.220e+01  1.695e+01        nan        nan\n",
      "   1.380e+01        nan        nan        nan        nan        nan\n",
      "   4.706e+00  4.312e+00]\n",
      " [ 2.735e+00  4.956e+00  1.355e+00  1.178e+00  2.905e+00  2.235e+00\n",
      "         nan  8.279e+00  6.905e+00  7.466e+00        nan        nan\n",
      "   8.338e+00        nan        nan        nan        nan        nan\n",
      "   3.213e+00  3.713e+00]\n",
      " [ 4.441e+00  6.094e+00  1.557e+00  1.415e+00  2.929e+00  3.247e+00\n",
      "         nan  1.579e+01  1.176e+01  1.197e+01        nan        nan\n",
      "   1.285e+01        nan        nan        nan        nan        nan\n",
      "   3.757e+00  6.161e+00]\n",
      " [ 4.163e+00  3.475e+00  2.215e+00  3.969e+00  2.221e+00  4.835e+00\n",
      "         nan  1.421e+01  1.373e+01  1.503e+01        nan        nan\n",
      "   1.581e+01        nan        nan        nan        nan        nan\n",
      "   4.762e+00  6.048e+00]\n",
      " [ 1.709e+00  3.032e+00  6.676e-01  1.044e+00  2.065e+00  1.716e+00\n",
      "         nan  4.734e+00  4.174e+00  4.789e+00        nan        nan\n",
      "   5.230e+00        nan        nan        nan        nan        nan\n",
      "   2.344e+00  2.107e+00]\n",
      " [ 2.821e+00  3.276e+00  2.675e+00  2.715e+00  1.694e+00  2.784e+00\n",
      "         nan  6.821e+00  7.006e+00  7.722e+00        nan        nan\n",
      "   8.060e+00        nan        nan        nan        nan        nan\n",
      "   2.772e+00  2.942e+00]\n",
      " [ 2.300e+00  3.907e+00  5.959e-01  6.087e-01  1.776e+00  1.786e+00\n",
      "         nan  7.725e+00  6.461e+00  5.510e+00        nan        nan\n",
      "   7.138e+00        nan        nan        nan        nan        nan\n",
      "   2.084e+00  3.589e+00]\n",
      " [       nan        nan        nan        nan        nan        nan\n",
      "         nan        nan        nan        nan        nan        nan\n",
      "         nan        nan        nan        nan        nan        nan\n",
      "         nan        nan]\n",
      " [       nan        nan        nan        nan        nan        nan\n",
      "         nan        nan        nan        nan        nan        nan\n",
      "         nan        nan        nan        nan        nan        nan\n",
      "         nan        nan]\n",
      " [ 4.229e+00  1.693e+01  2.814e+00  1.371e-01  5.436e+00  4.180e+00\n",
      "         nan  1.342e+01  1.260e+01  9.798e+00        nan        nan\n",
      "   1.529e+01        nan        nan        nan        nan        nan\n",
      "   6.182e+00  6.749e+00]\n",
      " [       nan        nan        nan        nan        nan        nan\n",
      "         nan        nan        nan        nan        nan        nan\n",
      "         nan        nan        nan        nan        nan        nan\n",
      "         nan        nan]\n",
      " [ 1.967e+00  3.084e+00  1.595e+00  1.739e+00  1.978e+00  2.061e+00\n",
      "         nan  5.359e+00  4.922e+00  6.421e+00        nan        nan\n",
      "   6.182e+00        nan        nan        nan        nan        nan\n",
      "   2.676e+00  2.125e+00]]\n",
      "Tamaño p:\n",
      " (12, 20)\n"
     ]
    }
   ],
   "source": [
    "#np.where(np.isnan(P), 0, P)@np.transpose(np.where(np.isnan(Q), 0, Q))\n",
    "R_est=P@np.transpose(Q)\n",
    "print('Matriz p:\\n',R_est)\n",
    "print('Tamaño p:\\n',R_est.shape)"
   ]
  },
  {
   "cell_type": "code",
   "execution_count": 26,
   "metadata": {},
   "outputs": [
    {
     "data": {
      "text/plain": [
       "5.624800183473686"
      ]
     },
     "execution_count": 26,
     "metadata": {},
     "output_type": "execute_result"
    }
   ],
   "source": [
    "#validación cruzada\n",
    "mf_engine.mf_cross_validation(MC)"
   ]
  },
  {
   "cell_type": "code",
   "execution_count": null,
   "metadata": {},
   "outputs": [],
   "source": []
  },
  {
   "cell_type": "code",
   "execution_count": null,
   "metadata": {},
   "outputs": [],
   "source": []
  },
  {
   "cell_type": "code",
   "execution_count": null,
   "metadata": {},
   "outputs": [],
   "source": []
  },
  {
   "cell_type": "code",
   "execution_count": null,
   "metadata": {},
   "outputs": [],
   "source": []
  },
  {
   "cell_type": "code",
   "execution_count": null,
   "metadata": {},
   "outputs": [],
   "source": []
  },
  {
   "cell_type": "code",
   "execution_count": null,
   "metadata": {},
   "outputs": [],
   "source": []
  },
  {
   "cell_type": "code",
   "execution_count": 32,
   "metadata": {},
   "outputs": [],
   "source": [
    "pelis_nombres=pd.read_csv('/home/miuser/jupyter/proyecto-final-equipo5-mno-2020-1/Sampling_Design/Reference_Files/movies_title_fix.csv',names=[\"peli_id\", \"año\", \"nombre\"])"
   ]
  },
  {
   "cell_type": "code",
   "execution_count": 33,
   "metadata": {},
   "outputs": [
    {
     "data": {
      "text/html": [
       "<div>\n",
       "<style scoped>\n",
       "    .dataframe tbody tr th:only-of-type {\n",
       "        vertical-align: middle;\n",
       "    }\n",
       "\n",
       "    .dataframe tbody tr th {\n",
       "        vertical-align: top;\n",
       "    }\n",
       "\n",
       "    .dataframe thead th {\n",
       "        text-align: right;\n",
       "    }\n",
       "</style>\n",
       "<table border=\"1\" class=\"dataframe\">\n",
       "  <thead>\n",
       "    <tr style=\"text-align: right;\">\n",
       "      <th></th>\n",
       "      <th>peli_id</th>\n",
       "      <th>año</th>\n",
       "      <th>nombre</th>\n",
       "    </tr>\n",
       "  </thead>\n",
       "  <tbody>\n",
       "    <tr>\n",
       "      <th>0</th>\n",
       "      <td>1</td>\n",
       "      <td>2003.0</td>\n",
       "      <td>Dinosaur Planet</td>\n",
       "    </tr>\n",
       "    <tr>\n",
       "      <th>1</th>\n",
       "      <td>2</td>\n",
       "      <td>2004.0</td>\n",
       "      <td>Isle of Man TT 2004 Review</td>\n",
       "    </tr>\n",
       "    <tr>\n",
       "      <th>2</th>\n",
       "      <td>3</td>\n",
       "      <td>1997.0</td>\n",
       "      <td>Character</td>\n",
       "    </tr>\n",
       "    <tr>\n",
       "      <th>3</th>\n",
       "      <td>4</td>\n",
       "      <td>1994.0</td>\n",
       "      <td>Paula Abdul's Get Up &amp; Dance</td>\n",
       "    </tr>\n",
       "    <tr>\n",
       "      <th>4</th>\n",
       "      <td>5</td>\n",
       "      <td>2004.0</td>\n",
       "      <td>The Rise and Fall of ECW</td>\n",
       "    </tr>\n",
       "    <tr>\n",
       "      <th>5</th>\n",
       "      <td>6</td>\n",
       "      <td>1997.0</td>\n",
       "      <td>Sick</td>\n",
       "    </tr>\n",
       "    <tr>\n",
       "      <th>6</th>\n",
       "      <td>7</td>\n",
       "      <td>1992.0</td>\n",
       "      <td>8 Man</td>\n",
       "    </tr>\n",
       "    <tr>\n",
       "      <th>7</th>\n",
       "      <td>8</td>\n",
       "      <td>2004.0</td>\n",
       "      <td>What the #$*! Do We Know!?</td>\n",
       "    </tr>\n",
       "    <tr>\n",
       "      <th>8</th>\n",
       "      <td>9</td>\n",
       "      <td>1991.0</td>\n",
       "      <td>Class of Nuke 'Em High 2</td>\n",
       "    </tr>\n",
       "    <tr>\n",
       "      <th>9</th>\n",
       "      <td>10</td>\n",
       "      <td>2001.0</td>\n",
       "      <td>Fighter</td>\n",
       "    </tr>\n",
       "  </tbody>\n",
       "</table>\n",
       "</div>"
      ],
      "text/plain": [
       "   peli_id     año                        nombre\n",
       "0        1  2003.0               Dinosaur Planet\n",
       "1        2  2004.0    Isle of Man TT 2004 Review\n",
       "2        3  1997.0                     Character\n",
       "3        4  1994.0  Paula Abdul's Get Up & Dance\n",
       "4        5  2004.0      The Rise and Fall of ECW\n",
       "5        6  1997.0                          Sick\n",
       "6        7  1992.0                         8 Man\n",
       "7        8  2004.0    What the #$*! Do We Know!?\n",
       "8        9  1991.0      Class of Nuke 'Em High 2\n",
       "9       10  2001.0                       Fighter"
      ]
     },
     "execution_count": 33,
     "metadata": {},
     "output_type": "execute_result"
    }
   ],
   "source": [
    "pelis_nombres.head(10) #para ver cómo se encuentran los datos"
   ]
  },
  {
   "cell_type": "code",
   "execution_count": 35,
   "metadata": {},
   "outputs": [],
   "source": [
    "df_muestra_netflix=pd.read_csv('/home/miuser/jupyter/datasets/dat_muestra_nflix.csv')"
   ]
  },
  {
   "cell_type": "code",
   "execution_count": 36,
   "metadata": {},
   "outputs": [
    {
     "data": {
      "text/plain": [
       "<bound method NDFrame.head of           peli_id  usuario_id_orig  calif       fecha  usuario_id\n",
       "0               1             2442      3  2004-04-14           1\n",
       "1               1          1086807      3  2004-12-28           2\n",
       "2               1          2165002      4  2004-04-06           3\n",
       "3               1          1133214      4  2004-03-07           4\n",
       "4               1          1537427      4  2004-03-29           5\n",
       "...           ...              ...    ...         ...         ...\n",
       "20968936    17770           635735      4  2004-12-01       32710\n",
       "20968937    17770          1983962      2  2005-02-23       60537\n",
       "20968938    17770          1274035      4  2005-06-10        3921\n",
       "20968939    17770           516110      5  2004-08-26        5967\n",
       "20968940    17770           311124      3  2005-09-29        4674\n",
       "\n",
       "[20968941 rows x 5 columns]>"
      ]
     },
     "execution_count": 36,
     "metadata": {},
     "output_type": "execute_result"
    }
   ],
   "source": [
    "df_muestra_netflix.head"
   ]
  },
  {
   "cell_type": "code",
   "execution_count": null,
   "metadata": {},
   "outputs": [],
   "source": []
  },
  {
   "cell_type": "code",
   "execution_count": null,
   "metadata": {},
   "outputs": [],
   "source": []
  },
  {
   "cell_type": "code",
   "execution_count": null,
   "metadata": {},
   "outputs": [],
   "source": []
  },
  {
   "cell_type": "code",
   "execution_count": null,
   "metadata": {},
   "outputs": [],
   "source": []
  },
  {
   "cell_type": "code",
   "execution_count": null,
   "metadata": {},
   "outputs": [],
   "source": []
  },
  {
   "cell_type": "code",
   "execution_count": null,
   "metadata": {},
   "outputs": [],
   "source": []
  },
  {
   "cell_type": "code",
   "execution_count": null,
   "metadata": {},
   "outputs": [],
   "source": []
  },
  {
   "cell_type": "code",
   "execution_count": null,
   "metadata": {},
   "outputs": [],
   "source": []
  },
  {
   "cell_type": "code",
   "execution_count": null,
   "metadata": {},
   "outputs": [],
   "source": []
  },
  {
   "cell_type": "code",
   "execution_count": null,
   "metadata": {},
   "outputs": [],
   "source": []
  },
  {
   "cell_type": "code",
   "execution_count": null,
   "metadata": {},
   "outputs": [],
   "source": []
  },
  {
   "cell_type": "code",
   "execution_count": null,
   "metadata": {},
   "outputs": [],
   "source": []
  },
  {
   "cell_type": "code",
   "execution_count": null,
   "metadata": {},
   "outputs": [],
   "source": []
  },
  {
   "cell_type": "code",
   "execution_count": null,
   "metadata": {},
   "outputs": [],
   "source": [
    "# #testing predict method\n",
    "# pred_data = mf.generate_test_data(9, 4, 5, indices_only=True)\n",
    "# predictions = mf_engine.predict(pred_data)\n"
   ]
  },
  {
   "cell_type": "code",
   "execution_count": null,
   "metadata": {},
   "outputs": [],
   "source": [
    "# #$ python tests/mf_tests.py\n",
    "# %run 'mf_tests.py'\n"
   ]
  },
  {
   "cell_type": "code",
   "execution_count": 27,
   "metadata": {},
   "outputs": [],
   "source": [
    "# import csv\n",
    "# with open('dat_muestra_nflix.csv', newline='') as csvfile:\n",
    "#     spamreader = csv.reader(csvfile, delimiter=' ', quotechar='|')"
   ]
  },
  {
   "cell_type": "code",
   "execution_count": 1,
   "metadata": {},
   "outputs": [],
   "source": [
    "# spamreader[1]"
   ]
  },
  {
   "cell_type": "code",
   "execution_count": null,
   "metadata": {},
   "outputs": [],
   "source": [
    "# data = pd.read_csv(\"dat_muestra_nflix.csv\", sep=' ')"
   ]
  },
  {
   "cell_type": "code",
   "execution_count": null,
   "metadata": {},
   "outputs": [],
   "source": [
    "# def centralizar_valores(M):\n",
    "#     n=M.shape[0]\n",
    "    \n",
    " \n",
    "    \n",
    "#     #Se hace una copia de la matriz M\n",
    "#         M_copy=copy.copy(M)\n",
    "#         #Se agrega una 4ta columna\n",
    "#         M_copy=np.append(M, np.array(n*[np.nan]).reshape(n,1), axis=1)\n",
    "#         #Se ordena la matriz\n",
    "#         M_copy=M_copy[np.argsort(M_copy[:,0])]\n",
    "#         #k1 irá marcando el renglón donde van cambiando los valores de la 1era columna de M\n",
    "        \n",
    "        \n",
    "#         valores=np.zeros(1)\n",
    "#         for i in range(1,M_copy.shape[0]):\n",
    "#             if M_copy[i,2]!=M_copy[i-1,2]:\n",
    "#                 print('lo que sea')\n",
    "            \n",
    "            \n",
    "#             valores[k1]=np.r_[valores, np.zeros(1)]\n",
    "#             for j in range(k1,k2+1):\n",
    "#                 #M_copy[j,4]\n",
    "#                 print('lo que sea')\n",
    "# #     else:\n",
    "# #         calif_cent=np.nanmean(M, axis=1).reshape(n,1)\n",
    "# #         return M-calif_cent"
   ]
  },
  {
   "cell_type": "code",
   "execution_count": null,
   "metadata": {},
   "outputs": [],
   "source": [
    "# help(mf)"
   ]
  },
  {
   "cell_type": "code",
   "execution_count": null,
   "metadata": {},
   "outputs": [],
   "source": [
    "# print([getattr(mf, a)\n",
    "# for a in dir(mf)\n",
    "#   if isinstance(getattr(mf, a), types.FunctionType)])"
   ]
  },
  {
   "cell_type": "code",
   "execution_count": null,
   "metadata": {},
   "outputs": [],
   "source": [
    "#help(mf.generate_test_data)"
   ]
  },
  {
   "cell_type": "code",
   "execution_count": null,
   "metadata": {},
   "outputs": [],
   "source": [
    "#dir(mf_engine)"
   ]
  },
  {
   "cell_type": "code",
   "execution_count": null,
   "metadata": {},
   "outputs": [],
   "source": [
    "# #Uso de función generate_test_data\n",
    "# #para generar un dataset de prueba con mil renglones, \n",
    "# #cuyos elementos de la 1era, columna van de 0 a 100, \n",
    "# #y los de la segunda columna de 0 a 50, la tercera \n",
    "# #columna son numeros aleatorios \n",
    "# test_data = mf.generate_test_data(9, 4, 20)\n",
    "# print('Matriz de prueba:\\n',test_data)\n",
    "# print('Tamaño de la matriz:\\n',test_data.shape)"
   ]
  },
  {
   "cell_type": "code",
   "execution_count": null,
   "metadata": {},
   "outputs": [],
   "source": [
    "# def myFun(arg1, *argv): \n",
    "#     print(type(argv))\n",
    "#     if len(argv)==0:\n",
    "#         print('no hay argumentos variables')\n",
    "#     print (\"First argument :\", arg1) \n",
    "#     for arg in argv: \n",
    "#         print(\"Next argument through *argv :\", arg)\n",
    "# #myFun(['hola','tu','chales'])\n",
    "# myFun(*[3])"
   ]
  },
  {
   "cell_type": "code",
   "execution_count": null,
   "metadata": {},
   "outputs": [],
   "source": [
    "# nan_or_value_vec_one_arg=np.vectorize(nan_or_value)\n",
    "# nan_or_value_vec_mult_args=np.vectorize(nan_or_value, otypes=[object])\n",
    "# def nan_or_value_vec(M,f,*args):\n",
    "#     if len(args)==1:\n",
    "#         print('usase la función constante?')\n",
    "#         return nan_or_value_vec_one_arg(M,f,args)\n",
    "#     else:\n",
    "#         return nan_or_value_vec_mult_args(M,f,*args)"
   ]
  },
  {
   "cell_type": "code",
   "execution_count": 1009,
   "metadata": {},
   "outputs": [],
   "source": [
    "# print('Numero de elementos distintos de cero:\\n',np.count_nonzero(R))"
   ]
  },
  {
   "cell_type": "code",
   "execution_count": null,
   "metadata": {},
   "outputs": [],
   "source": [
    "#display(pd.DataFrame(MC).sort_values(by=['row','col'], ascending=True))"
   ]
  },
  {
   "cell_type": "code",
   "execution_count": null,
   "metadata": {},
   "outputs": [],
   "source": []
  },
  {
   "cell_type": "code",
   "execution_count": null,
   "metadata": {},
   "outputs": [],
   "source": []
  },
  {
   "cell_type": "code",
   "execution_count": null,
   "metadata": {},
   "outputs": [],
   "source": []
  }
 ],
 "metadata": {
  "kernelspec": {
   "display_name": "Python 3",
   "language": "python",
   "name": "python3"
  },
  "language_info": {
   "codemirror_mode": {
    "name": "ipython",
    "version": 3
   },
   "file_extension": ".py",
   "mimetype": "text/x-python",
   "name": "python",
   "nbconvert_exporter": "python",
   "pygments_lexer": "ipython3",
   "version": "3.6.9"
  }
 },
 "nbformat": 4,
 "nbformat_minor": 4
}
