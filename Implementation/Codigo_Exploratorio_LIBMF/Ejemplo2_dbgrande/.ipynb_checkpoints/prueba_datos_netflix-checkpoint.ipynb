{
 "cells": [
  {
   "cell_type": "code",
   "execution_count": null,
   "metadata": {},
   "outputs": [],
   "source": [
    "!pip install libmf\n",
    "!pip install dplython"
   ]
  },
  {
   "cell_type": "code",
   "execution_count": 7,
   "metadata": {},
   "outputs": [],
   "source": [
    "import os\n",
    "import numpy as np\n",
    "import pandas as pd\n",
    "from libmf import mf"
   ]
  },
  {
   "cell_type": "code",
   "execution_count": 8,
   "metadata": {},
   "outputs": [],
   "source": [
    "directorio = '/datos/datasets/'\n",
    "os.chdir(directorio)"
   ]
  },
  {
   "cell_type": "code",
   "execution_count": 9,
   "metadata": {},
   "outputs": [],
   "source": [
    "pelis_nombres = pd.read_csv('movies_title_fix.csv', header = 0, \n",
    "                            na_values = [\"\", \"NA\", \"NULL\"]) \n",
    "\n",
    "pelis_nombres.columns = ['peli_id', 'año', 'nombre']\n",
    "\n",
    "dat_netflix = pd.read_csv('dat_muestra_nflix.csv') \\\n",
    "    .drop(columns = ['usuario_id_orig'])"
   ]
  },
  {
   "cell_type": "code",
   "execution_count": 10,
   "metadata": {},
   "outputs": [],
   "source": [
    "np.random.seed(28882)\n",
    "usuarios = dat_netflix.loc[:,'usuario_id'].unique()\n",
    "valida_usuarios = pd.Series(usuarios).sample(frac = 0.02)\n",
    "peliculas = dat_netflix.loc[:,'peli_id'].unique()\n",
    "valida_pelis = pd.Series(peliculas).sample(frac = 0.02)"
   ]
  },
  {
   "cell_type": "code",
   "execution_count": 11,
   "metadata": {},
   "outputs": [],
   "source": [
    "from dplython import DplyFrame, X, select, sift, mutate, group_by, arrange, summarize\n",
    "from dplython import semi_join, anti_join, count, head, tail"
   ]
  },
  {
   "cell_type": "code",
   "execution_count": 13,
   "metadata": {},
   "outputs": [],
   "source": [
    "dat_netflix = DplyFrame(dat_netflix)\n",
    "usuarios = DplyFrame(usuarios)\n",
    "usuarios.columns = ['usuario_id']\n",
    "valida_usuarios = DplyFrame(valida_usuarios)\n",
    "valida_usuarios.columns = ['usuario_id']\n",
    "peliculas = DplyFrame(peliculas)\n",
    "peliculas.columns = ['peli_id']\n",
    "valida_pelis = DplyFrame(valida_pelis)\n",
    "valida_pelis.columns = ['peli_id']\n",
    "\n",
    "dat_valida = dat_netflix >> semi_join(valida_usuarios)\n",
    "\n",
    "dat_entrena = dat_netflix >> anti_join(dat_valida)"
   ]
  },
  {
   "cell_type": "code",
   "execution_count": 14,
   "metadata": {},
   "outputs": [],
   "source": [
    "def compact(X):\n",
    "    n = X.shape[0]\n",
    "    p = X.shape[1]\n",
    "    r = 1\n",
    "    Y = []\n",
    "    for i in np.arange(1, n+1):\n",
    "        for j in np.arange(1, p+1):\n",
    "            if ~(np.isnan(X[i-1, j-1])):\n",
    "                Y = Y + [i, j, X[i-1, j-1]]\n",
    "                r = r + 1\n",
    "                \n",
    "    return(np.reshape(Y, newshape = (int(len(Y)/3), 3)))\n",
    "\n",
    "#X = np.array([[1, 2, 3], \n",
    "#              [4, 5, 6], \n",
    "#              [7, 8, 9], \n",
    "#              [np.nan, 11, 12]])\n",
    "#X\n",
    "\n",
    "#compact(X)"
   ]
  },
  {
   "cell_type": "code",
   "execution_count": 15,
   "metadata": {},
   "outputs": [],
   "source": [
    "dat = (dat_entrena >> \n",
    "        select(X.usuario_id, X.peli_id, X.calif) >> \n",
    "        arrange(X.usuario_id, X.peli_id))\n",
    "dat = np.array(dat)"
   ]
  },
  {
   "cell_type": "code",
   "execution_count": 18,
   "metadata": {},
   "outputs": [],
   "source": [
    "def recm(calif, pred):\n",
    "  return (np.sqrt(np.mean((calif - pred)**2)))"
   ]
  },
  {
   "cell_type": "code",
   "execution_count": 42,
   "metadata": {},
   "outputs": [],
   "source": [
    "k = 7\n",
    "eta = 0.2\n",
    "nr_iters = 5000\n",
    "nr_threads = 12\n",
    "\n",
    "engine = mf.MF(fun = 0, k = k, eta = eta, nr_iters = nr_iters, nr_bins = 20, \n",
    "               nr_threads = nr_threads, \n",
    "               lambda_p2 = 0.1, lambda_q2 = 0.1, \n",
    "               quiet = False)"
   ]
  },
  {
   "cell_type": "code",
   "execution_count": null,
   "metadata": {},
   "outputs": [],
   "source": [
    "engine.fit(dat)"
   ]
  },
  {
   "cell_type": "code",
   "execution_count": 39,
   "metadata": {},
   "outputs": [],
   "source": [
    "pred = engine.predict(dat[:,:2])"
   ]
  },
  {
   "cell_type": "code",
   "execution_count": 40,
   "metadata": {},
   "outputs": [
    {
     "data": {
      "text/plain": [
       "19527.539341017873"
      ]
     },
     "execution_count": 40,
     "metadata": {},
     "output_type": "execute_result"
    }
   ],
   "source": [
    "recm(dat[:,3-1], pred)"
   ]
  },
  {
   "cell_type": "code",
   "execution_count": 41,
   "metadata": {},
   "outputs": [
    {
     "data": {
      "text/plain": [
       "count    2.054736e+07\n",
       "mean     1.531568e+04\n",
       "std      1.211884e+04\n",
       "min     -6.496214e+05\n",
       "25%      6.299735e+03\n",
       "50%      1.261481e+04\n",
       "75%      2.258356e+04\n",
       "max      8.664734e+05\n",
       "dtype: float64"
      ]
     },
     "execution_count": 41,
     "metadata": {},
     "output_type": "execute_result"
    }
   ],
   "source": [
    "pd.Series(pred).describe()"
   ]
  },
  {
   "cell_type": "code",
   "execution_count": 2,
   "metadata": {},
   "outputs": [
    {
     "data": {
      "text/plain": [
       "'/datos/proyecto-final-equipo5-mno-2020-1/Implementation/Ejemplo2_dbgrande'"
      ]
     },
     "execution_count": 2,
     "metadata": {},
     "output_type": "execute_result"
    }
   ],
   "source": [
    "pwd"
   ]
  },
  {
   "cell_type": "code",
   "execution_count": null,
   "metadata": {},
   "outputs": [],
   "source": []
  },
  {
   "cell_type": "code",
   "execution_count": null,
   "metadata": {},
   "outputs": [],
   "source": []
  },
  {
   "cell_type": "code",
   "execution_count": null,
   "metadata": {},
   "outputs": [],
   "source": []
  },
  {
   "cell_type": "code",
   "execution_count": null,
   "metadata": {},
   "outputs": [],
   "source": []
  },
  {
   "cell_type": "code",
   "execution_count": null,
   "metadata": {},
   "outputs": [],
   "source": []
  },
  {
   "cell_type": "code",
   "execution_count": null,
   "metadata": {},
   "outputs": [],
   "source": []
  },
  {
   "cell_type": "code",
   "execution_count": null,
   "metadata": {},
   "outputs": [],
   "source": []
  },
  {
   "cell_type": "code",
   "execution_count": null,
   "metadata": {},
   "outputs": [],
   "source": []
  },
  {
   "cell_type": "code",
   "execution_count": null,
   "metadata": {},
   "outputs": [],
   "source": []
  },
  {
   "cell_type": "code",
   "execution_count": null,
   "metadata": {},
   "outputs": [],
   "source": []
  },
  {
   "cell_type": "code",
   "execution_count": null,
   "metadata": {},
   "outputs": [],
   "source": []
  },
  {
   "cell_type": "code",
   "execution_count": null,
   "metadata": {},
   "outputs": [],
   "source": []
  }
 ],
 "metadata": {
  "kernelspec": {
   "display_name": "Python 3",
   "language": "python",
   "name": "python3"
  },
  "language_info": {
   "codemirror_mode": {
    "name": "ipython",
    "version": 3
   },
   "file_extension": ".py",
   "mimetype": "text/x-python",
   "name": "python",
   "nbconvert_exporter": "python",
   "pygments_lexer": "ipython3",
   "version": "3.6.9"
  }
 },
 "nbformat": 4,
 "nbformat_minor": 4
}
