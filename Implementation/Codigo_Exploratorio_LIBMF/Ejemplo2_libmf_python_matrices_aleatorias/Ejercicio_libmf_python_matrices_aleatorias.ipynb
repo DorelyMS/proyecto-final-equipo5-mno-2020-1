{
 "cells": [
  {
   "cell_type": "markdown",
   "metadata": {},
   "source": [
    "# USO DE LA LIBRERÍA LIBMF CON PYTHON"
   ]
  },
  {
   "cell_type": "markdown",
   "metadata": {},
   "source": [
    "## OBJETIVO \n",
    "\n",
    "El objetivo de este notebook es mostrar la aplicación de algunas funciones/ métodos de la librería libmf con python, por lo que primero se importarán los siguientes paquetes. En caso de que no se tenga alguno instalado usar el comando `pip install`."
   ]
  },
  {
   "cell_type": "code",
   "execution_count": 1,
   "metadata": {},
   "outputs": [
    {
     "name": "stdout",
     "output_type": "stream",
     "text": [
      "Using file found in /opt/anaconda3/lib/python3.7/site-packages:\n",
      "/opt/anaconda3/lib/python3.7/site-packages/libmf.cpython-37m-darwin.so\n"
     ]
    }
   ],
   "source": [
    "import sys\n",
    "import numpy as np\n",
    "import types\n",
    "import scipy\n",
    "from scipy.sparse import random\n",
    "from scipy import stats\n",
    "import pandas as pd\n",
    "import copy\n",
    "import random\n",
    "from functools import partial\n",
    "from colorama import init\n",
    "\n",
    "import libmf\n",
    "from libmf import mf"
   ]
  },
  {
   "cell_type": "markdown",
   "metadata": {},
   "source": [
    "A continuación se crean algunas funciones auxiliares que contienen su respectiva documentación."
   ]
  },
  {
   "cell_type": "markdown",
   "metadata": {},
   "source": [
    "### Funciones auxiliares para generar matrices ralas (con muchas entradas nulas o ceros)"
   ]
  },
  {
   "cell_type": "code",
   "execution_count": 2,
   "metadata": {},
   "outputs": [],
   "source": [
    "def perform(fun, *args):\n",
    "    \"\"\"\n",
    "    Evalua una función con los argumentos indicados\n",
    "    \n",
    "    params: fun         Una función\n",
    "            *args       Parámetros que utiliza la función \"fun\"\n",
    "                        (se pueden meter cuantos parámetros tenga \n",
    "                        dicha funcion)\n",
    "    return: fun(*args)  Valor de fun con parámetros *args\n",
    "    \"\"\"\n",
    "    return fun(*args)"
   ]
  },
  {
   "cell_type": "code",
   "execution_count": 3,
   "metadata": {},
   "outputs": [],
   "source": [
    "def nan_or_value(x, f, *args):\n",
    "    \"\"\"\n",
    "    Devuelve el valor de una función evaluada con sus parámetros\n",
    "    *args acorde a la variable indicadora x\n",
    "    \n",
    "    params: x         boolean, si es 1 tómese valor de la función\n",
    "                      si no será nan\n",
    "            f         Una función\n",
    "            *args     Parámetros que utiliza la función \"f\"\n",
    "                      (se pueden meter cuantos parámetros tenga \n",
    "                      dicha funcion)\n",
    "            \n",
    "    return: \n",
    "        perform(f,*args) Si el valor de x es 1 y en otro caso regresa nan\n",
    "    \"\"\"\n",
    "    if(x==1):\n",
    "        return perform(f,*args)\n",
    "    else:\n",
    "        return np.nan"
   ]
  },
  {
   "cell_type": "code",
   "execution_count": 4,
   "metadata": {},
   "outputs": [],
   "source": [
    "#Con esta vectorización se podrá aplicar a todos los elementos de un np.array la función nan_or_value\n",
    "nan_or_value_vec=np.vectorize(nan_or_value, otypes=[object])"
   ]
  },
  {
   "cell_type": "markdown",
   "metadata": {},
   "source": [
    "La siguiente función es la que crea matrices aletorias ralas. Es importante señalar, que por la forma de construcción pudiera no ser eficiente para matrices de dimensiones grandes."
   ]
  },
  {
   "cell_type": "code",
   "execution_count": 5,
   "metadata": {},
   "outputs": [],
   "source": [
    "def crear_matriz_rala(n_ren,m_col,prop_elem_difer_nan,func_rand,*args_func_rand):\n",
    "    \"\"\"\n",
    "    Construye matriz rala de n_renxm_col, seleccionando al azar los elementos\n",
    "    que serán nan cumpliendo que la proporción de éstos es de \n",
    "    1-prop_elem_difer_nan, donde los numeros diferentes de nan serán aleatorios\n",
    "    generados a partir de una función aleatoria que se envíe como parámetro\n",
    "    (y sus argumentos)\n",
    "    \n",
    "    params: n_ren               int número de renglones que tiene la matriz\n",
    "            m_col               int número de columnas que tiene la matriz\n",
    "            prop_elem_difer_nan float (0 < prop_elem_difer_nan < 1) indica\n",
    "                                la proporción de elementos distintos de nan\n",
    "            func_rand           Función que genera un sólo número aleatorio de\n",
    "                                tipo float (no arreglos)\n",
    "            *args_fun_rand      Argumentos necesarios para ejecutar la\n",
    "                                función fun_rand\n",
    "            \n",
    "    return:  M                  np.ndarray que contiene matriz rala\n",
    "    \"\"\"\n",
    "    tot=int(n_ren*m_col)\n",
    "    k=int(tot*prop_elem_difer_nan)\n",
    "    #se juntan 2 arreglos, uno de ceros y otro de unos, para después\n",
    "    #reacomodarlos al azar\n",
    "    M=np.concatenate((np.zeros(tot-k).astype(int), np.ones(k).astype(int)))\n",
    "    M=np.array(random.sample(list(M),tot))\n",
    "    M=M.reshape(n_ren,m_col)\n",
    "    #Los unos se intercambias por numeros aleatorios y los ceros\n",
    "    #por nan (o se dejan como cero)\n",
    "    M=nan_or_value_vec(M,func_rand,*args_func_rand).astype(float)\n",
    "    return M"
   ]
  },
  {
   "cell_type": "markdown",
   "metadata": {},
   "source": [
    "### Función que compacta las matrices ralas (quita las entradas que sean na o ceros)"
   ]
  },
  {
   "cell_type": "code",
   "execution_count": 6,
   "metadata": {},
   "outputs": [],
   "source": [
    "def compactar_matriz_rala(M):\n",
    "    \"\"\"\n",
    "    Pasa una matriz rala a su expresión compacta\n",
    "    \n",
    "    params: M  np.ndarray que representa matriz rala\n",
    "    return: MC np.ndarray matriz en expresión compacta\n",
    "               (no se reportarán los elementos con valor\n",
    "               nan)\n",
    "    \"\"\"\n",
    "    if type(M) is not np.ndarray:\n",
    "        sys.exit('M debe ser de tipo numpy.ndarray')\n",
    "    elif np.isnan(M).sum()==len(M):\n",
    "        sys.exit('Todos los elementos de M son nan')\n",
    "    MC=np.zeros((M[np.isnan(M)==False].size,3))\n",
    "    k = 0\n",
    "    n,m=M.shape\n",
    "    for i in range(n): \n",
    "        for j in range(m): \n",
    "            if (~np.isnan(M[i,j])): \n",
    "                MC[k,0] = i\n",
    "                MC[k,1] = j\n",
    "                MC[k,2] = M[i,j] \n",
    "                k += 1\n",
    "    return MC"
   ]
  },
  {
   "cell_type": "markdown",
   "metadata": {},
   "source": [
    "### Función que crea una matriz aleatoria en el formato que lo requiere la librería LIBMF.\n",
    "\n",
    "Este formato debe tener en la primer columna el índice de la fila (se podría pensar como el id del usuario), en la segunda el índice de la columna (se podría pensar como el id de la película) y finalmente el valor/calificación."
   ]
  },
  {
   "cell_type": "code",
   "execution_count": 7,
   "metadata": {},
   "outputs": [],
   "source": [
    "def crear_matriz_rala_compacta(n_ren, m_col, prop_elem_difer_nan):\n",
    "    \"\"\"\n",
    "    Construye matriz de n_renxm_col, seleccionando al azar los elementos\n",
    "    que serán distintos de nan. Éstos elementos distintos de nan serán\n",
    "    números aleatorios entre 1 y 5 (uniforme discreta). Se dice compacta porque\n",
    "    en esta matriz solo señala las coordenadas o entradas de la matriz que \n",
    "    son diferentes a nan\n",
    "    \n",
    "    params: n_ren               int número de renglones que tiene la matriz\n",
    "            m_col               int número de columnas que tiene la matriz\n",
    "            prop_elem_difer_nan float (0 < prop_elem_difer_nan < 1) indica\n",
    "                                la proporción de elementos distintos de nan\n",
    "    return: M  np.ndarray que contiene la matriz \n",
    "               (1era columna representa el índice de renglones,\n",
    "               2da columna representa el índice de columnas,\n",
    "               3era columna representa el valor del elemento\n",
    "               o calificación en el contexto de netflix)\n",
    "    \"\"\"\n",
    "    tot=int(n_ren*m_col)\n",
    "    k=int(tot*prop_elem_difer_nan)\n",
    "    M=random.sample(range(tot), k)\n",
    "    columnas=np.mod(M,m_col)\n",
    "    renglones=np.divide(M,m_col).astype(int)\n",
    "    aleatorios=np.random.randint(1, 6, k)\n",
    "    \n",
    "    M=np.vstack((renglones,columnas,aleatorios)).transpose()\n",
    "\n",
    "\n",
    "    return M"
   ]
  },
  {
   "cell_type": "markdown",
   "metadata": {},
   "source": [
    "### Función para generar las muestras de entrenamiento y validación en el formato que lo requiere la librería LIBMF"
   ]
  },
  {
   "cell_type": "code",
   "execution_count": 8,
   "metadata": {},
   "outputs": [],
   "source": [
    "def muestra_val_ent(df,prop):\n",
    "    \"\"\"\n",
    "    Separa al azar una base dada en 2 bases acorde una proporción de elementos\n",
    "    dada\n",
    "    \n",
    "    params: df    pd.DataFrame (con 3 columnas=['usuario_id','peli_id',\n",
    "                  'calif_x'])\n",
    "            prop  float (0 < prop < 1) proporción de id_usuarios y\n",
    "                  proporción de id_peliculas que se seleccionarán\n",
    "    \n",
    "    return: data_test      pd.DataFrame que tiene la base que se usará\n",
    "                           para prueba (por construcción el número de\n",
    "                           elementos de esta base no necesariamente coincide\n",
    "                           con prop*total de elementos de df)\n",
    "            data_training  pd.DataFrame que tiene la base que se usará\n",
    "                           para entrenamiento\n",
    "    \"\"\"\n",
    "    #Base de todos los usuarios\n",
    "    usuarios=pd.DataFrame(df['usuario_id'].unique(), columns=['usuario_id'])\n",
    "    #Muestreo de usuarios\n",
    "    valida_usuarios=usuarios.sample(frac=prop)  \n",
    "\n",
    "    #Base de todas las películas\n",
    "    peliculas=pd.DataFrame(df['peli_id'].unique(), columns=['peli_id'])\n",
    "    #Muestreo de películas\n",
    "    valida_pelis=peliculas.sample(frac=prop)\n",
    "    \n",
    "    #df_valida tiene las columnas usuario_id, peli_id y calif, pero\n",
    "    #sólo incluye los usuarios muestreados en valida_usuarios\n",
    "    df_valida=pd.merge(df,valida_usuarios, on ='usuario_id', how='inner')\n",
    "    #data_valida filtra de la base df_valida los pelis_id muestreas\n",
    "    #en valida_pelis\n",
    "    data_test=pd.merge(df_valida,valida_pelis, on ='peli_id', how='inner')\n",
    "    left=pd.merge(df, data_test, how='left',on=['usuario_id', 'peli_id'])\n",
    "    data_training=left[left.isnull().any(axis=1)][['usuario_id', 'peli_id','calif_x']]\n",
    "    return data_test, data_training"
   ]
  },
  {
   "cell_type": "markdown",
   "metadata": {},
   "source": [
    "### Función que imprime el valor de los párametros que se usaron para realizar el entrenamiento."
   ]
  },
  {
   "cell_type": "code",
   "execution_count": 9,
   "metadata": {},
   "outputs": [],
   "source": [
    "def imprime_atributos_MF(Obj):\n",
    "    \"\"\"\n",
    "    Imprime los parámetros utilizados para factorización de la matriz contenida\n",
    "    en Obj, mismos que son atributos del atributo _options\n",
    "    \n",
    "    params: Obj  libmf.mf.MF objeto de la librería libmf-python que contiene\n",
    "                 la información requerida para hacer la factorización deseada\n",
    "    \n",
    "    return: None No regresa nada, sólo imprime los parámetros utilizados para\n",
    "                 hacer la factorización\n",
    "    \"\"\"\n",
    "    if type(Obj) is not libmf.mf.MF:\n",
    "        sys.exit('A y b deben ser de tipo libmf.mf.MF')\n",
    "    print('Atributos del modelo:')\n",
    "    print('fun={0:d}'.format(Obj._options.fun))\n",
    "    print('k={0:d}'.format(Obj._options.k))\n",
    "    print('nr_threads={0:d}'.format(Obj._options.nr_threads))\n",
    "    print('nr_bins={0:d}'.format(Obj._options.nr_bins))\n",
    "    print('nr_iters={0:d}'.format(Obj._options.nr_iters))\n",
    "    print('lambda_p1={0:0.4f}'.format(Obj._options.lambda_p1))\n",
    "    print('lambda_p2={0:0.4f}'.format(Obj._options.lambda_p2))\n",
    "    print('lambda_q1={0:0.4f}'.format(Obj._options.lambda_q1))\n",
    "    print('lambda_q2={0:0.4f}'.format(Obj._options.lambda_q2))\n",
    "    print('eta={0:0.4f}'.format(Obj._options.eta))\n",
    "    print('do_nmf=',Obj._options.do_nmf)\n",
    "    print('quiet=',Obj._options.quiet)\n",
    "    print('copy_data=',Obj._options.copy_data)\n",
    "    return None"
   ]
  },
  {
   "cell_type": "markdown",
   "metadata": {},
   "source": [
    "### Función que imprime los datos del modelo entrenado"
   ]
  },
  {
   "cell_type": "code",
   "execution_count": 10,
   "metadata": {},
   "outputs": [],
   "source": [
    "def imprime_atributos_model(Obj):\n",
    "    \"\"\"\n",
    "    Imprime los atributos del objeto model (definido dentro dentro de la\n",
    "    librería libmf)\n",
    "    \n",
    "    params: Obj  libmf.mf.MFModel objeto de la librería libmf-python que\n",
    "                 contiene los resultados obtenidos de la corrida del\n",
    "                 modelo de factorización\n",
    "                 \n",
    "    return: None No regresa nada, sólo imprime los resultados contenidos\n",
    "            en el objeto model, generado con los métodos del objeto MF\n",
    "    \"\"\"\n",
    "    if type(Obj) is not libmf.mf.MFModel:\n",
    "        sys.exit('A y b deben ser de tipo libmf.mf.MF')\n",
    "    print('Resultados model:')\n",
    "    print('fun={0:d}'.format(Obj.fun))\n",
    "    print('m={0:d}'.format(Obj.m))\n",
    "    print('n={0:d}'.format(Obj.n))\n",
    "    print('k={0:d}'.format(Obj.m))\n",
    "    print('b={0:0.4f}'.format(Obj.b))\n",
    "    print('P={0:0.4f}'.format(Obj.P.contents.value))\n",
    "    print('Q={0:0.4f}'.format(Obj.Q.contents.value))\n",
    "    return None"
   ]
  },
  {
   "cell_type": "markdown",
   "metadata": {},
   "source": [
    "Con las funciones definidas anteriormente, se procede a hacer uso de ellas para probar las funciones/métodos de la librería LIBMF de python.\n",
    "\n",
    "En primer lugar, se empezará por crear una matriz rala. Estas matrices son de nuestro interés ya que en el caso de las películas de Netflix, no todos los usuarios ven todas las películas o no todos califican las películas vistas, por lo que si se considera que el índice de las filas es el id de los usuarios y el índice de las columnas es el id de la película, entonces estas matrices contienen muchos \"huecos\". Por esta razón nos interesa generar ese tipo de matrices.\n",
    "\n",
    "No obstante lo anterior, debido al numero de usuarios y películas, existen muchos datos, y para no guardar todos los valores de cero (o NA), se opta por expresar y guardar dicha matriz en una forma compacta, la cual contiene por cada calificación el usuario que la generó y la película a la que corrresponde (es decir, es una matriz con 3 columnas).\n",
    "\n",
    "A continuación, se crea una matriz rala de 20 filas, 5 columnas, porcentaje de entradas diferentes de na del 25% (25 entradas diferentes de na) y con generación de enteros aleatorios entre el 1 y 5. \n",
    "\n",
    "No se omite señalar, que la generación de números enteros puede cambiarse por alguna otra función que se requiera, por ejemplo una constante o bernoulli.\n"
   ]
  },
  {
   "cell_type": "code",
   "execution_count": 11,
   "metadata": {},
   "outputs": [
    {
     "name": "stdout",
     "output_type": "stream",
     "text": [
      "Matriz M:\n",
      " [[nan nan nan  3. nan]\n",
      " [nan  4. nan nan  1.]\n",
      " [ 3. nan  3. nan nan]\n",
      " [ 2. nan nan nan nan]\n",
      " [nan nan nan nan nan]\n",
      " [ 5. nan  1. nan nan]\n",
      " [nan nan  5. nan  2.]\n",
      " [nan nan nan  2. nan]\n",
      " [ 2. nan nan nan nan]\n",
      " [nan nan nan  3.  1.]\n",
      " [nan nan nan  2. nan]\n",
      " [nan  5. nan nan nan]\n",
      " [nan nan nan  1.  3.]\n",
      " [nan nan nan nan nan]\n",
      " [nan nan nan nan nan]\n",
      " [nan  3.  3.  3. nan]\n",
      " [nan nan nan nan nan]\n",
      " [nan  4. nan nan nan]\n",
      " [ 4. nan  2. nan nan]\n",
      " [ 2. nan nan nan nan]]\n",
      "Tamaño M:\n",
      " (20, 5)\n",
      "Numero de elementos diferentes de nan:\n",
      " 25\n"
     ]
    }
   ],
   "source": [
    "M=crear_matriz_rala(20,5,0.25,stats.randint.rvs,*[1,6])\n",
    "\n",
    "print('Matriz M:\\n',M)\n",
    "print('Tamaño M:\\n',M.shape)\n",
    "print('Numero de elementos diferentes de nan:\\n',M[np.isnan(M)==False].size)"
   ]
  },
  {
   "cell_type": "markdown",
   "metadata": {},
   "source": [
    "A continuación se compacta la matriz anterior, es decir, solo considerando las entradas donde se tenga un valor y \n",
    "donde la primer columna representa el índice de la fila, la segunda el índice de la columna y la tercera el valor.\n",
    "\n",
    "**El formato descrito anteriormente es el que solicita la librería libmf.**\n",
    "\n",
    "En este ejemplo se tendrá una matriz de 25 filas (las diferentes de na)"
   ]
  },
  {
   "cell_type": "code",
   "execution_count": 12,
   "metadata": {},
   "outputs": [
    {
     "name": "stdout",
     "output_type": "stream",
     "text": [
      "Expresión compacta de M (MC):\n",
      " [[ 0.  3.  3.]\n",
      " [ 1.  1.  4.]\n",
      " [ 1.  4.  1.]\n",
      " [ 2.  0.  3.]\n",
      " [ 2.  2.  3.]\n",
      " [ 3.  0.  2.]\n",
      " [ 5.  0.  5.]\n",
      " [ 5.  2.  1.]\n",
      " [ 6.  2.  5.]\n",
      " [ 6.  4.  2.]\n",
      " [ 7.  3.  2.]\n",
      " [ 8.  0.  2.]\n",
      " [ 9.  3.  3.]\n",
      " [ 9.  4.  1.]\n",
      " [10.  3.  2.]\n",
      " [11.  1.  5.]\n",
      " [12.  3.  1.]\n",
      " [12.  4.  3.]\n",
      " [15.  1.  3.]\n",
      " [15.  2.  3.]\n",
      " [15.  3.  3.]\n",
      " [17.  1.  4.]\n",
      " [18.  0.  4.]\n",
      " [18.  2.  2.]\n",
      " [19.  0.  2.]]\n",
      "Tamaño MC:\n",
      " (25, 3)\n"
     ]
    }
   ],
   "source": [
    "MC=compactar_matriz_rala(M)\n",
    "print('Expresión compacta de M (MC):\\n',MC)\n",
    "print('Tamaño MC:\\n',MC.shape)"
   ]
  },
  {
   "cell_type": "markdown",
   "metadata": {},
   "source": [
    "Dado que la librería requiere el formato descrito anteriormente, usaremos directamente la función \"crea_matriz_rala_compacta\" indicandole el número de filas, de columnas y el porcentaje de entradas distinto de na para que directamente devuelva una matriz compacta en el diseño que lo requiere la librería.\n",
    "\n",
    "Dentro de las funciones de libmf existe una que se llama \"generate_test_data\" que genera las matrices en este formato, sin embargo, notamos que al usar ésta podría darse el caso de que una persona califique a una misma película con dos o más calificaciones diferentes, tal como se muestra en los registros marcados en rojo del siguiente ejemplo:"
   ]
  },
  {
   "cell_type": "code",
   "execution_count": 13,
   "metadata": {},
   "outputs": [
    {
     "name": "stdout",
     "output_type": "stream",
     "text": [
      "Matriz generada con mf.generate_test_data(20,5,25):\n",
      "\n",
      "\u001b[1;30;41m [0.         1.         0.16637107]\n",
      "\u001b[0;0;0m [19.          4.          0.30636304]\n",
      "\u001b[0;0;0m [14.          3.          0.14721805]\n",
      "\u001b[0;0;0m [18.          4.          0.22291025]\n",
      "\u001b[0;0;0m [18.          1.          0.53951716]\n",
      "\u001b[0;0;0m [15.          3.          0.74892651]\n",
      "\u001b[0;0;0m [2.         2.         0.42831194]\n",
      "\u001b[0;0;0m [11.          3.          0.10467911]\n",
      "\u001b[0;0;0m [9.         3.         0.75337018]\n",
      "\u001b[0;0;0m [8.         5.         0.59815912]\n",
      "\u001b[0;0;0m [13.          0.          0.48677848]\n",
      "\u001b[0;0;0m [8.         4.         0.97530286]\n",
      "\u001b[0;0;0m [9.         2.         0.80230277]\n",
      "\u001b[0;0;0m [15.          3.          0.33301479]\n",
      "\u001b[0;0;0m [7.         5.         0.54855018]\n",
      "\u001b[0;0;0m [4.         5.         0.31180599]\n",
      "\u001b[0;0;0m [16.          4.          0.06230988]\n",
      "\u001b[0;0;0m [6.         1.         0.90313856]\n",
      "\u001b[0;0;0m [18.          0.          0.86054759]\n",
      "\u001b[0;0;0m [3.        3.        0.6296915]\n",
      "\u001b[1;30;41m [0.         1.         0.21655643]\n",
      "\u001b[1;30;41m [0.        1.        0.5557169]\n",
      "\u001b[0;0;0m [16.          5.          0.10932898]\n",
      "\u001b[0;0;0m [6.         5.         0.55083566]\n",
      "\u001b[0;0;0m [7.        0.        0.5812561]\n",
      "Tamaño MC:\n",
      " (25, 3)\n"
     ]
    }
   ],
   "source": [
    "#El 1er parámetro indica que se seleccionará un valor\n",
    "#de entre 0 y 19 para la 1er columna (que representa el índice\n",
    "#de los renglones de la matriz rala que expresa); el 2do\n",
    "#parámetro indica que se seleccionara al azar valores entre\n",
    "#0 y 4 (que representa el índice de las columnas de la matriz\n",
    "#rala que expresa); el 3er parámetro indica el número de elementos\n",
    "#a generar \n",
    "\n",
    "np.random.seed(102)\n",
    "MC=mf.generate_test_data(20, 5, 25)\n",
    "print('Matriz generada con mf.generate_test_data(20,5,25):\\n')\n",
    "for i in range(MC.shape[0]):\n",
    "    if MC[i,0]==0:\n",
    "        print('\\033[1;30;41m',MC[i,:])\n",
    "    else:\n",
    "        print('\\033[0;0;0m',MC[i,:])\n",
    "print('Tamaño MC:\\n',MC.shape)"
   ]
  },
  {
   "cell_type": "code",
   "execution_count": 14,
   "metadata": {},
   "outputs": [
    {
     "name": "stdout",
     "output_type": "stream",
     "text": [
      "Expresión compacta de M (MC) ordenada por renglon:\n",
      " [[ 0  0  2]\n",
      " [ 0  3  2]\n",
      " [ 2  3  4]\n",
      " [ 2  0  5]\n",
      " [ 3  1  2]\n",
      " [ 3  0  1]\n",
      " [ 4  3  5]\n",
      " [ 6  3  3]\n",
      " [ 8  0  1]\n",
      " [ 8  1  2]\n",
      " [10  2  5]\n",
      " [10  1  1]\n",
      " [11  3  3]\n",
      " [11  4  1]\n",
      " [13  2  4]\n",
      " [13  1  4]\n",
      " [13  0  3]\n",
      " [14  4  4]\n",
      " [15  0  5]\n",
      " [16  4  5]\n",
      " [16  3  4]\n",
      " [16  2  3]\n",
      " [17  4  3]\n",
      " [17  3  4]\n",
      " [19  3  1]]\n",
      "Tamaño MC:\n",
      " (25, 3)\n"
     ]
    }
   ],
   "source": [
    "MC=crear_matriz_rala_compacta(20,5,0.25)\n",
    "print('Expresión compacta de M (MC) ordenada por renglon:\\n',MC[np.argsort(MC[:,0])])\n",
    "print('Tamaño MC:\\n',MC.shape)"
   ]
  },
  {
   "cell_type": "markdown",
   "metadata": {},
   "source": [
    "## CLASE MF DE LIBMF-PYTHON\n",
    "\n",
    "\n",
    "A continuación se describe la clase base de la librería libmf en python que es la de **MF**. Con esta clase se realiza la factorización de la matriz R en otras dos matrices P y Q (entrenamiento del modelo) y se realizan las predicciones que se necesitan para tener un sistema de recomendación.\n",
    "\n",
    "Se describe un resumen de su documentación:\n",
    "\n",
    "* Clase: MF<br/>\n",
    "Atributos:<br/>  \n",
    "            .model\n",
    "            ._options \n",
    "            .i\n",
    "            .j\n",
    " Métodos:<br/>\n",
    "          .fit -> < Objetivo: factorize the i x j data matrix X into (j, k) (k, i) \n",
    "                  <           sized matrices stored in MF.model\n",
    "                  < Parámetro X: (n, 3) shaped numpy array [known index and values \n",
    "                  <              of the data matrix]\n",
    "\n",
    "          .predict -> < Objetivo: assuming we have already run the fit method, predict\n",
    "                      <           the values at certain indices of the data matrix\n",
    "                      < Parámetro X: (n, 2) shaped numpy array\n",
    "                      < Regresa: numpy array of length n\n",
    "\n",
    "          .mf_cross_validation -> < Objetivo: Realizar cross-validation\n",
    "                                  < Parámetro X: (n, 3)\n",
    "                                  < Parámetro folds: number of train / test splits\n",
    "                                  < Regresa: score across all folds \n",
    "\n",
    "          .q_factors -> < Objetivo: Obtener la matriz Q\n",
    "\n",
    "          .p_factors -> < Objetivo:  Obtener la matriz P\n",
    "          \n"
   ]
  },
  {
   "cell_type": "markdown",
   "metadata": {},
   "source": [
    "En lo siguiente se muestran casos de su uso:"
   ]
  },
  {
   "cell_type": "code",
   "execution_count": 15,
   "metadata": {},
   "outputs": [
    {
     "name": "stdout",
     "output_type": "stream",
     "text": [
      "Tipo de objeto:  <class 'libmf.mf.MF'>\n",
      "Instance variables:  {'model': None, '_options': <libmf.mf.MFParam object at 0x1a160a45f0>, 'i': None, 'j': None}\n"
     ]
    }
   ],
   "source": [
    "#objeto de tipo MF para obtener la factorización deseada\n",
    "mf_netflix=mf.MF()\n",
    "\n",
    "#veamos algunas de las propiedades del objeto mf_netflix\n",
    "print('Tipo de objeto: ',type(mf_netflix))\n",
    "print('Instance variables: ',mf_netflix.__dict__)"
   ]
  },
  {
   "cell_type": "markdown",
   "metadata": {},
   "source": [
    "En la definición del objeto anterior no se especificó ningún parámetro, por lo que se usarán los valores de default de cada uno de ellos para entrenar el modelo (factorización de la matriz R).\n",
    "\n",
    "Veamos cuáles son estos valores default."
   ]
  },
  {
   "cell_type": "code",
   "execution_count": 16,
   "metadata": {},
   "outputs": [
    {
     "name": "stdout",
     "output_type": "stream",
     "text": [
      "Atributos del modelo:\n",
      "fun=0\n",
      "k=8\n",
      "nr_threads=12\n",
      "nr_bins=26\n",
      "nr_iters=20\n",
      "lambda_p1=0.0400\n",
      "lambda_p2=0.0000\n",
      "lambda_q1=0.0400\n",
      "lambda_q2=0.0000\n",
      "eta=0.1000\n",
      "do_nmf= False\n",
      "quiet= False\n",
      "copy_data= True\n"
     ]
    }
   ],
   "source": [
    "imprime_atributos_MF(mf_netflix)"
   ]
  },
  {
   "cell_type": "markdown",
   "metadata": {},
   "source": [
    "Observemos también que esos parámetros se encuentran definidos dentro de los atributos del objeto:"
   ]
  },
  {
   "cell_type": "code",
   "execution_count": 17,
   "metadata": {},
   "outputs": [
    {
     "name": "stdout",
     "output_type": "stream",
     "text": [
      "Atributos:  ['__class__', '__ctypes_from_outparam__', '__delattr__', '__dict__', '__dir__', '__doc__', '__eq__', '__format__', '__ge__', '__getattribute__', '__gt__', '__hash__', '__init__', '__init_subclass__', '__le__', '__lt__', '__module__', '__ne__', '__new__', '__reduce__', '__reduce_ex__', '__repr__', '__setattr__', '__setstate__', '__sizeof__', '__str__', '__subclasshook__', '__weakref__', '_b_base_', '_b_needsfree_', '_fields_', '_objects', 'copy_data', 'do_nmf', 'eta', 'fun', 'k', 'lambda_p1', 'lambda_p2', 'lambda_q1', 'lambda_q2', 'nr_bins', 'nr_iters', 'nr_threads', 'quiet']\n"
     ]
    }
   ],
   "source": [
    "print('Atributos: ', dir(mf_netflix._options))"
   ]
  },
  {
   "cell_type": "markdown",
   "metadata": {},
   "source": [
    "Sin embargo, en la definición del objeto se puede especificar el valor de cada parámetro para poder obtener la mejor factorización posible (sin llegar al sobreajuste)"
   ]
  },
  {
   "cell_type": "code",
   "execution_count": 18,
   "metadata": {},
   "outputs": [
    {
     "name": "stdout",
     "output_type": "stream",
     "text": [
      "Atributos del modelo:\n",
      "fun=0\n",
      "k=10\n",
      "nr_threads=12\n",
      "nr_bins=26\n",
      "nr_iters=20\n",
      "lambda_p1=0.0400\n",
      "lambda_p2=0.0000\n",
      "lambda_q1=0.0400\n",
      "lambda_q2=0.0000\n",
      "eta=0.1000\n",
      "do_nmf= False\n",
      "quiet= False\n",
      "copy_data= True\n"
     ]
    }
   ],
   "source": [
    "mf_netflix=mf.MF(fun=0,k=10,nr_threads=12,nr_bins=26,nr_iters=20,lambda_p1=0.04,lambda_p2=0.0,lambda_q1=0.04,lambda_q2=0.0,eta=0.1,do_nmf=False,quiet=False,copy_data=True)\n",
    "imprime_atributos_MF(mf_netflix)\n"
   ]
  },
  {
   "cell_type": "code",
   "execution_count": 19,
   "metadata": {},
   "outputs": [
    {
     "name": "stdout",
     "output_type": "stream",
     "text": [
      "Atributos del modelo:\n",
      "fun=0\n",
      "k=5\n",
      "nr_threads=12\n",
      "nr_bins=26\n",
      "nr_iters=21\n",
      "lambda_p1=0.0400\n",
      "lambda_p2=0.0000\n",
      "lambda_q1=0.0400\n",
      "lambda_q2=0.0000\n",
      "eta=0.1100\n",
      "do_nmf= False\n",
      "quiet= False\n",
      "copy_data= True\n"
     ]
    }
   ],
   "source": [
    "mf_netflix=mf.MF(eta=0.11,nr_iters=21, k=5)\n",
    "\n",
    "imprime_atributos_MF(mf_netflix)"
   ]
  },
  {
   "cell_type": "markdown",
   "metadata": {},
   "source": [
    "### MÉTODO FIT DE LA CLASE MF\n",
    "\n",
    "A este método se le tiene que pasar la matriz de entrenamiento (con el formato especificado anteriormente) y su objetivo es realizar la factorización de la matriz R, es decir, obtener P y Q.\n",
    "\n",
    "Primero generemos la matriz de entrenamiento y validación."
   ]
  },
  {
   "cell_type": "code",
   "execution_count": 20,
   "metadata": {},
   "outputs": [],
   "source": [
    "ME=crear_matriz_rala_compacta(20,5,0.40)\n",
    "MV=crear_matriz_rala_compacta(20,5,0.15)"
   ]
  },
  {
   "cell_type": "markdown",
   "metadata": {},
   "source": [
    "Posteriormente, a estas dos muestras les daremos el siguiente tratamiento.\n",
    "\n",
    "Es importante resaltar que solo vamos a considerar las primeras dos columnas (sin los valores/calificaciones) de \"MV\" dado que así lo requiere el método predict de esta clase para justo obtener las predicciones."
   ]
  },
  {
   "cell_type": "code",
   "execution_count": 21,
   "metadata": {},
   "outputs": [],
   "source": [
    "MV_index=MV[:,0:2]\n",
    "MC_entrena=np.empty((40,3,))\n",
    "MC_entrena[:]=np.nan\n",
    "MC_valida=np.empty((15,2,))\n",
    "MC_valida[:]=np.nan\n",
    "for i in range(40):\n",
    "    for j in range(3):\n",
    "        MC_entrena[i,j]=float(ME[i,j])\n",
    "        if i<15 and j<2:\n",
    "            MC_valida[i,j]=float(MV_index[i,j])"
   ]
  },
  {
   "cell_type": "markdown",
   "metadata": {},
   "source": [
    "Aplicamos el método fit  a la matriz de entrenamiento para obtener la factorización, en este ejemplo con los valores que se le asignan a los parámetros por default."
   ]
  },
  {
   "cell_type": "code",
   "execution_count": 22,
   "metadata": {},
   "outputs": [],
   "source": [
    "mf_netflix = mf.MF()\n",
    "mf_netflix.fit(MC_entrena)"
   ]
  },
  {
   "cell_type": "markdown",
   "metadata": {},
   "source": [
    "### MÉTODO VALIDACIÓN CRUZADA DE LA CLASE MF\n",
    "\n",
    "A este método se le tiene que pasar la matriz de entrenamiento (con el formato especificado anteriormente) y el número de folds a realizar, en caso de que no se requiera el de default (5) y devuelve el score.\n"
   ]
  },
  {
   "cell_type": "code",
   "execution_count": 23,
   "metadata": {},
   "outputs": [
    {
     "name": "stdout",
     "output_type": "stream",
     "text": [
      "Validación cruzada con 5 folds:  2.3785476901224087\n"
     ]
    }
   ],
   "source": [
    "print('Validación cruzada con 5 folds: ',mf_netflix.mf_cross_validation(MC_entrena))"
   ]
  },
  {
   "cell_type": "markdown",
   "metadata": {},
   "source": [
    "### MÉTODO PREDICT DE LA CLASE MF\n",
    "\n",
    "A este método se le tiene que pasar la matriz de validación (con el formato especificado anteriormente) y devuelve un vector con las predicciones, con número de entradas igual al número de filas de la matriz de validación.\n"
   ]
  },
  {
   "cell_type": "code",
   "execution_count": 24,
   "metadata": {},
   "outputs": [
    {
     "data": {
      "text/plain": [
       "array([2.4787939, 4.764296 , 5.5202403, 3.15     , 1.6136359, 3.15     ,\n",
       "       3.443281 , 3.1817677, 1.3498484, 3.15     , 2.3174126, 3.15     ,\n",
       "       2.0276985, 3.15     , 3.7285702], dtype=float32)"
      ]
     },
     "execution_count": 24,
     "metadata": {},
     "output_type": "execute_result"
    }
   ],
   "source": [
    "pred=mf_netflix.predict(MC_valida)\n",
    "pred"
   ]
  },
  {
   "cell_type": "code",
   "execution_count": 25,
   "metadata": {},
   "outputs": [
    {
     "name": "stdout",
     "output_type": "stream",
     "text": [
      "Los valores verdaderos de MC_valida son: [2 3 4 1 1 4 1 4 2 2 2 3 3 2 1]\n"
     ]
    }
   ],
   "source": [
    "print('Los valores verdaderos de MC_valida son:',MV[:,2])"
   ]
  },
  {
   "cell_type": "markdown",
   "metadata": {},
   "source": [
    "### MÉTODO Q_FACTORS DE LA CLASE MF\n",
    "\n",
    "Con este método se obtiene la información relacionada a la matriz Q"
   ]
  },
  {
   "cell_type": "code",
   "execution_count": 26,
   "metadata": {},
   "outputs": [
    {
     "name": "stdout",
     "output_type": "stream",
     "text": [
      "Tamaño Q: (5, 8)\n",
      "Matriz Q:\n",
      " [[ 1.2824596   1.9227344  -0.08449509  1.3108523   0.4395189   0.72984236\n",
      "   0.49773955  0.72080266]\n",
      " [ 1.1942284   0.37021667  0.79143095  0.5503865   1.3743138   0.6316633\n",
      "   0.4063534   0.4624708 ]\n",
      " [ 0.6737016  -0.31932986  0.57967496  1.1403754   0.9068601   1.4687986\n",
      "   0.90021425  0.2944856 ]\n",
      " [ 0.15856102  0.95147526  0.91506606  0.1824376   0.97885257 -0.01941632\n",
      "   1.2071795   0.16623026]\n",
      " [ 0.8398119   0.5972035   0.97930104  1.0014008   1.1971345   0.7085809\n",
      "   0.65009934  0.9450503 ]]\n"
     ]
    }
   ],
   "source": [
    "Q=mf_netflix.q_factors()\n",
    "print('Tamaño Q:',Q.shape)\n",
    "print('Matriz Q:\\n',Q)"
   ]
  },
  {
   "cell_type": "markdown",
   "metadata": {},
   "source": [
    "### MÉTODO P_FACTORS DE LA CLASE MF\n",
    "\n",
    "Con este método se obtiene la información relacionada a la matriz P"
   ]
  },
  {
   "cell_type": "code",
   "execution_count": 27,
   "metadata": {},
   "outputs": [
    {
     "name": "stdout",
     "output_type": "stream",
     "text": [
      "Tamaño P: (20, 8)\n",
      "Matriz P:\n",
      " [[ 0.7206973   0.79033965 -0.04590722  0.9200396   0.16006885  0.7145977\n",
      "   0.20753103  0.5761762 ]\n",
      " [ 0.90166247  0.37017277  0.65797573  0.44417265  0.92398804  0.3595448\n",
      "   0.1421704   0.42120203]\n",
      " [ 0.33625796  0.95094436  0.69882685  0.37657622  0.7009829  -0.08166336\n",
      "   0.62619096  0.43196923]\n",
      " [ 0.82073414 -0.06259158  0.3736268   0.9593312   0.73475814  1.0537355\n",
      "   0.38770264  0.28462744]\n",
      " [ 0.58001685  0.3878115   0.71793765  0.8969061   1.0031044   0.58647907\n",
      "   0.50661594  0.7210087 ]\n",
      " [        nan         nan         nan         nan         nan         nan\n",
      "          nan         nan]\n",
      " [ 0.35646632  0.43328622  0.03154159  0.14622742  0.39964178  0.2189536\n",
      "   0.1432136   0.11157191]\n",
      " [ 0.46941173  0.21514976  0.50287503  0.52952814  0.36221027  0.32730952\n",
      "   0.1746976   0.6790201 ]\n",
      " [ 0.04431569  0.36034375  0.76247436  0.07356923  0.6243638   0.05653312\n",
      "   0.9295621   0.0743401 ]\n",
      " [ 0.8118005   0.23356949  0.576844    0.8040227   0.8855678   0.87211484\n",
      "   0.8421023   0.36604398]\n",
      " [ 0.77263534  1.1391507  -0.03622641  0.65015656  0.26240227  0.2951954\n",
      "   0.3448225   0.41188315]\n",
      " [ 0.7248758   1.1142404   0.11226043  0.7655211   0.14764158  0.18709247\n",
      "   0.25532764  0.38922748]\n",
      " [ 0.19252448  0.12073638  0.19148308  0.29108444  0.14244686  0.2607936\n",
      "   0.          0.01701461]\n",
      " [ 0.62976146  0.36675113  0.2884322   0.4540448   0.72418004  0.26886258\n",
      "   0.49810013  0.24943095]\n",
      " [ 0.21284887  0.02399383  0.06400983  0.0904124   0.2152396   0.02634837\n",
      "   0.2018018   0.21751948]\n",
      " [ 0.53184277  0.42980424  0.31869593  0.761192    0.6949034   0.8969187\n",
      "   0.66309404  0.40397424]\n",
      " [ 0.42421666 -0.4517526   0.74965066  0.38046792  0.80456513  0.5669832\n",
      "   0.52189285  0.29386103]\n",
      " [ 0.657322    1.2436509  -0.0154269   0.4197664   0.38942313  0.22511914\n",
      "   0.36301118  0.41009444]\n",
      " [ 0.64457357  0.61984813  0.79654306  0.9047103   1.1750343   0.80830586\n",
      "   0.9101542   0.37204006]\n",
      " [ 0.30809882  0.03156368  0.33326203  0.92075324  0.44146237  1.0252775\n",
      "   0.72349346  0.4128901 ]]\n"
     ]
    }
   ],
   "source": [
    "P=mf_netflix.p_factors()\n",
    "print('Tamaño P:',P.shape)\n",
    "print('Matriz P:\\n',P)"
   ]
  },
  {
   "cell_type": "markdown",
   "metadata": {},
   "source": [
    "En el siguiente ejemplo se indica que se realice la factorización no negativa, dado que se observa que en la matriz P anterior hay entradas negativas, que el número de iteraciones sea igual a 30 y que el número de factores latentes sea igual a 5."
   ]
  },
  {
   "cell_type": "code",
   "execution_count": 28,
   "metadata": {},
   "outputs": [],
   "source": [
    "mf_netflix = mf.MF(do_nmf=True, nr_iters=30, k=5)\n",
    "mf_netflix.fit(MC_entrena)"
   ]
  },
  {
   "cell_type": "code",
   "execution_count": 29,
   "metadata": {},
   "outputs": [
    {
     "data": {
      "text/plain": [
       "array([3.104402 , 4.9332056, 5.0038147, 3.15     , 1.588406 , 3.15     ,\n",
       "       2.9180102, 3.1985285, 2.6134772, 3.15     , 1.3019586, 3.15     ,\n",
       "       1.574866 , 3.15     , 4.2580276], dtype=float32)"
      ]
     },
     "execution_count": 29,
     "metadata": {},
     "output_type": "execute_result"
    }
   ],
   "source": [
    "pred=mf_netflix.predict(MC_valida)\n",
    "pred"
   ]
  },
  {
   "cell_type": "code",
   "execution_count": 30,
   "metadata": {},
   "outputs": [
    {
     "name": "stdout",
     "output_type": "stream",
     "text": [
      "Los valores verdaderos de MC_valida son: [2 3 4 1 1 4 1 4 2 2 2 3 3 2 1]\n"
     ]
    }
   ],
   "source": [
    "print('Los valores verdaderos de MC_valida son:',MV[:,2])"
   ]
  },
  {
   "cell_type": "code",
   "execution_count": 31,
   "metadata": {},
   "outputs": [
    {
     "name": "stdout",
     "output_type": "stream",
     "text": [
      "Tamaño Q: (5, 5)\n",
      "Matriz Q:\n",
      " [[0.88836735 1.0538342  0.37675676 1.9469827  1.6698848 ]\n",
      " [0.9974352  0.21269749 0.00997171 1.7231356  1.0290359 ]\n",
      " [1.4064696  0.25710207 1.4692172  0.6137302  0.8299677 ]\n",
      " [0.         1.2025989  1.7132851  0.20057307 0.59910977]\n",
      " [0.2856683  1.0702928  1.2035244  1.310636   0.95362276]]\n"
     ]
    }
   ],
   "source": [
    "Q=mf_netflix.q_factors()\n",
    "print('Tamaño Q:',Q.shape)\n",
    "print('Matriz Q:\\n',Q)"
   ]
  },
  {
   "cell_type": "code",
   "execution_count": 32,
   "metadata": {},
   "outputs": [
    {
     "name": "stdout",
     "output_type": "stream",
     "text": [
      "Tamaño P: (20, 5)\n",
      "Matriz P:\n",
      " [[6.7762518e-01 3.9102304e-01 9.7402394e-02 1.1923802e+00 9.3474168e-01]\n",
      " [7.0788229e-01 3.7968767e-01 0.0000000e+00 1.4646631e+00 9.2065686e-01]\n",
      " [0.0000000e+00 1.0929996e+00 8.3640170e-01 6.2606931e-01 5.4334170e-01]\n",
      " [1.3364741e+00 1.0597795e-01 5.2965903e-01 1.1503212e+00 8.8001317e-01]\n",
      " [4.6252418e-01 9.7816467e-01 9.8866612e-01 1.1759799e+00 1.0419403e+00]\n",
      " [          nan           nan           nan           nan           nan]\n",
      " [4.8608547e-01 3.8151646e-01 5.0716138e-01 2.8351045e-01 2.3018293e-01]\n",
      " [2.5578445e-01 5.2468550e-01 5.8995545e-01 9.0088099e-01 4.4530898e-01]\n",
      " [0.0000000e+00 5.7090628e-01 1.4106162e+00 1.8950461e-03 2.7044770e-01]\n",
      " [7.4149209e-01 4.8234680e-01 1.2242768e+00 1.1730905e+00 1.2739047e+00]\n",
      " [5.5356252e-01 4.7456071e-01 2.1302395e-01 1.1839507e+00 6.7052907e-01]\n",
      " [4.2669445e-01 9.4983858e-01 4.8905596e-01 7.2570872e-01 7.9190499e-01]\n",
      " [2.9646337e-01 3.6512226e-02 3.1079498e-01 2.3691502e-01 2.5772560e-01]\n",
      " [3.1486410e-01 1.0816628e-01 1.2003669e-01 8.6552942e-01 6.8003464e-01]\n",
      " [1.9222942e-01 1.8669271e-01 2.5178498e-01 3.0860281e-01 1.1951464e-03]\n",
      " [9.7785991e-01 6.7546374e-01 9.9627405e-01 6.0346258e-01 7.2806633e-01]\n",
      " [9.1584051e-01 2.4946998e-01 5.9709579e-01 3.9879656e-01 3.2071933e-01]\n",
      " [3.0996150e-01 5.6862849e-01 5.4451856e-03 9.3928367e-01 1.0259334e+00]\n",
      " [1.0199533e+00 9.5400959e-01 1.3090488e+00 9.9707878e-01 8.4844583e-01]\n",
      " [7.7126306e-01 4.8393679e-01 1.4482630e+00 4.6057907e-01 8.7279969e-01]]\n"
     ]
    }
   ],
   "source": [
    "P=mf_netflix.p_factors()\n",
    "print('Tamaño P:',P.shape)\n",
    "print('Matriz P:\\n',P)"
   ]
  }
 ],
 "metadata": {
  "kernelspec": {
   "display_name": "Python 3",
   "language": "python",
   "name": "python3"
  },
  "language_info": {
   "codemirror_mode": {
    "name": "ipython",
    "version": 3
   },
   "file_extension": ".py",
   "mimetype": "text/x-python",
   "name": "python",
   "nbconvert_exporter": "python",
   "pygments_lexer": "ipython3",
   "version": "3.7.4"
  }
 },
 "nbformat": 4,
 "nbformat_minor": 4
}
