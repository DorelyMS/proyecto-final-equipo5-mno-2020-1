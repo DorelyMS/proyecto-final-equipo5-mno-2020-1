{
 "cells": [
  {
   "cell_type": "code",
   "execution_count": 1,
   "metadata": {},
   "outputs": [
    {
     "name": "stdout",
     "output_type": "stream",
     "text": [
      "Defaulting to user installation because normal site-packages is not writeable\n",
      "Collecting libmf\n",
      "  Downloading libmf-0.9.2.tar.gz (21 kB)\n",
      "Requirement already satisfied: numpy in /home/miuser/.local/lib/python3.6/site-packages (from libmf) (1.18.1)\n",
      "Building wheels for collected packages: libmf\n",
      "  Building wheel for libmf (setup.py) ... \u001b[?25ldone\n",
      "\u001b[?25h  Created wheel for libmf: filename=libmf-0.9.2-cp36-cp36m-linux_x86_64.whl size=437311 sha256=5857147837cab23be05f05813de7e0951050cefcd67a51216c503e85a5b9116e\n",
      "  Stored in directory: /home/miuser/.cache/pip/wheels/ba/1a/0a/3e9f3910d9e15c8cb0774024f18228ae30e43513f1a99f8ef5\n",
      "Successfully built libmf\n",
      "Installing collected packages: libmf\n",
      "Successfully installed libmf-0.9.2\n",
      "\u001b[33mWARNING: You are using pip version 20.0.2; however, version 20.1 is available.\n",
      "You should consider upgrading via the '/usr/bin/python3 -m pip install --upgrade pip' command.\u001b[0m\n",
      "Note: you may need to restart the kernel to use updated packages.\n"
     ]
    }
   ],
   "source": [
    "pip install libmf"
   ]
  }
 ],
 "metadata": {
  "kernelspec": {
   "display_name": "Python 3",
   "language": "python",
   "name": "python3"
  },
  "language_info": {
   "codemirror_mode": {
    "name": "ipython",
    "version": 3
   },
   "file_extension": ".py",
   "mimetype": "text/x-python",
   "name": "python",
   "nbconvert_exporter": "python",
   "pygments_lexer": "ipython3",
   "version": "3.6.9"
  }
 },
 "nbformat": 4,
 "nbformat_minor": 4
}
