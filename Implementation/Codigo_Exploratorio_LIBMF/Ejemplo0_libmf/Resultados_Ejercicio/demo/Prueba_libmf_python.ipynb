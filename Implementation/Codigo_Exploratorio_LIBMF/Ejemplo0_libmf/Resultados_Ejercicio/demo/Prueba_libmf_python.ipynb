{
 "cells": [
  {
   "cell_type": "markdown",
   "metadata": {},
   "source": [
    "# Objetivo de este notebook"
   ]
  },
  {
   "cell_type": "markdown",
   "metadata": {},
   "source": [
    "Se exhibiran algunos conceptos, algoritmos o funciones para establecer un modelo de recomendación de películas."
   ]
  },
  {
   "cell_type": "code",
   "execution_count": 1,
   "metadata": {},
   "outputs": [],
   "source": [
    "#Para correr las funciones de la librería libmf de python de este notebook \n",
    "#se debe clonar el repo de https://github.com/PorkShoulderHolder/python-libmf.git\n",
    "#y subir este notebook dentro de la carpeta /libmf/tests/\n",
    "\n",
    "#Para correr las funciones de libmf de este notebook ejecutados con \n",
    "#Shell Commands (\"!\") y Shell-Related Magic Commands (\"%\")\n",
    "#se debe clonar el repo: https://github.com/cjlin1/libmf.git\n",
    "\n",
    "#El clonar estos archivos es necesario porque contienen funciones programadas o\n",
    "#ejemplos construidos para exhibir el uso de estos paquetes.\n",
    "\n",
    "#Existen bases que se requieren tener la carpeta donde se corra el código\n",
    "#a saber: movies_title_fix.csv dat_muestra_nflix.csv"
   ]
  },
  {
   "cell_type": "code",
   "execution_count": 2,
   "metadata": {},
   "outputs": [],
   "source": [
    "#Si se queire este notebook a través de docker con la imagen de\n",
    "#jupyer numerical se deben instalar los siguientes paquetes:\n",
    "#pip install libmf\n",
    "#pip install colorama"
   ]
  },
  {
   "cell_type": "code",
   "execution_count": 3,
   "metadata": {},
   "outputs": [
    {
     "name": "stdout",
     "output_type": "stream",
     "text": [
      "Using file found in /home/miuser/.local/lib/python3.6/site-packages:\n",
      "/home/miuser/.local/lib/python3.6/site-packages/libmf.cpython-36m-x86_64-linux-gnu.so\n"
     ]
    }
   ],
   "source": [
    "import sys\n",
    "import numpy as np\n",
    "import types\n",
    "import scipy\n",
    "from scipy.sparse import random\n",
    "from scipy import stats\n",
    "import pandas as pd\n",
    "import copy\n",
    "import random\n",
    "from functools import partial\n",
    "from colorama import init\n",
    "\n",
    "import libmf\n",
    "from libmf import mf"
   ]
  },
  {
   "cell_type": "markdown",
   "metadata": {},
   "source": [
    "# Funciones auxiliares\n",
    "Para explicar y ejemplificar el uso de libmf"
   ]
  },
  {
   "cell_type": "code",
   "execution_count": 4,
   "metadata": {},
   "outputs": [],
   "source": [
    "def constante(x,useless):\n",
    "    return x"
   ]
  },
  {
   "cell_type": "code",
   "execution_count": 5,
   "metadata": {},
   "outputs": [],
   "source": [
    "def perform(fun, *args):\n",
    "    return fun(*args)"
   ]
  },
  {
   "cell_type": "code",
   "execution_count": 6,
   "metadata": {},
   "outputs": [],
   "source": [
    "def nan_or_value(x, f, *args):\n",
    "    if(x==1):\n",
    "        return perform(f,*args)\n",
    "    else:\n",
    "        return np.nan"
   ]
  },
  {
   "cell_type": "code",
   "execution_count": 7,
   "metadata": {},
   "outputs": [],
   "source": [
    "nan_or_value_vec=np.vectorize(nan_or_value, otypes=[object])"
   ]
  },
  {
   "cell_type": "code",
   "execution_count": 8,
   "metadata": {},
   "outputs": [],
   "source": [
    "def crear_matriz_rala(n_ren,m_col,prop_elem_difer_nan,func_rand,*args_func_rand):\n",
    "    tot=int(n_ren*m_col)\n",
    "    k=int(tot*prop_elem_difer_nan)\n",
    "    M=np.concatenate((np.zeros(tot-k).astype(int), np.ones(k).astype(int)))\n",
    "    M=np.array(random.sample(list(M),tot))\n",
    "    M=M.reshape(n_ren,m_col)\n",
    "    M=nan_or_value_vec(M,func_rand,*args_func_rand).astype(float)\n",
    "    return M"
   ]
  },
  {
   "cell_type": "code",
   "execution_count": 9,
   "metadata": {},
   "outputs": [],
   "source": [
    "def crear_matriz_rala_compacta(n_ren, m_col, prop_elem_difer_nan):\n",
    "    tot=int(n_ren*m_col)\n",
    "    k=int(tot*prop_elem_difer_nan)\n",
    "    M=random.sample(range(tot), k)\n",
    "    columnas=np.mod(M,m_col)\n",
    "    renglones=np.divide(M,m_col).astype(int)\n",
    "    aleatorios=np.random.randint(1, 6, k)\n",
    "    M=np.concatenate([renglones, columnas, aleatorios])\n",
    "    M=M.reshape(3,k).T\n",
    "    return M"
   ]
  },
  {
   "cell_type": "code",
   "execution_count": 10,
   "metadata": {},
   "outputs": [],
   "source": [
    "def compactar_matriz_rala(M):\n",
    "    if type(M) is not np.ndarray:\n",
    "        sys.exit('M debe ser de tipo numpy.ndarray')\n",
    "    elif np.isnan(M).sum()==len(M):\n",
    "        sys.exit('Todos los elementos de M son nan')\n",
    "    MC=np.zeros((M[np.isnan(M)==False].size,3))\n",
    "    k = 0\n",
    "    n,m=M.shape\n",
    "    for i in range(n): \n",
    "        for j in range(m): \n",
    "            if (~np.isnan(M[i,j])): \n",
    "                MC[k,0] = i\n",
    "                MC[k,1] = j\n",
    "                MC[k,2] = M[i,j] \n",
    "                k += 1\n",
    "    return MC"
   ]
  },
  {
   "cell_type": "code",
   "execution_count": 11,
   "metadata": {},
   "outputs": [],
   "source": [
    "#Elegiremos un formato general para visualizar las matrices exhibidas como ejemplo\n",
    "np.set_printoptions(sign=' ', precision=3)\n",
    "#np.set_printoptions(sign=' ',formatter={'float': lambda x: \"{0:0.3f}\".format(x)})"
   ]
  },
  {
   "cell_type": "code",
   "execution_count": 12,
   "metadata": {},
   "outputs": [],
   "source": [
    "def modelo_base_ref(MC):\n",
    "    df=pd.DataFrame(MC,columns=['row','col','score'])\n",
    "    #Media total\n",
    "    c=df['score'].mean(axis=0)\n",
    "\n",
    "    #Media por columna\n",
    "    mean_by_col=df[['col','score']].groupby(['col']).mean()\n",
    "    mean_by_col.rename(columns={'score':'mean_score_by_col'}, inplace=True)\n",
    "    #Media por renglón\n",
    "    mean_by_row=df[['row','score']].groupby(['row']).mean()\n",
    "    mean_by_row.rename(columns={'score':'mean_score_by_row'}, inplace=True)\n",
    "\n",
    "    #Se unen todas los resultados obtenidos, incluyendo la columna de\n",
    "    #índice de columnas y renglones\n",
    "    df=df.set_index('col').join(mean_by_col,how='left')\n",
    "    df['col']=df.index\n",
    "    df=df.set_index('row').join(mean_by_row,how='left')\n",
    "    df['row']=df.index\n",
    "    df=df[['row','col','mean_score_by_row','mean_score_by_col']]\n",
    "    df['total_score_mean']=c\n",
    "    \n",
    "    return df"
   ]
  },
  {
   "cell_type": "code",
   "execution_count": 13,
   "metadata": {},
   "outputs": [],
   "source": [
    "#Esta función filtra los 'índices de renglones (usuarios)' o\n",
    "#'índices de columna (películas)' cuyo conteo total es mayor a n\n",
    "def filtrar(MC,ren_o_col,n):\n",
    "    MC_df=pd.DataFrame(MC,columns=['row','col','score'])\n",
    "    \n",
    "    #Este pequeño bloque calcula el total de elementos por columna o renglón\n",
    "    count_by=MC_df[[ren_o_col,'score']].groupby([ren_o_col]).count()\n",
    "    count_by.rename(columns={'score':'tot_counted'}, inplace=True)\n",
    "    count_by[ren_o_col]=count_by.index\n",
    "    count_by=count_by[[ren_o_col,'tot_counted']]\n",
    "    \n",
    "    #En este bloque se filtran los elementos de la matriz cuyo conteo por\n",
    "    #columna o renglón tienen más de n elementos\n",
    "    count_by=count_by[count_by.apply(lambda x: x['tot_counted'] > n, axis=1)]\n",
    "    count_by=MC_df.set_index(ren_o_col).join(count_by.set_index(ren_o_col),how='inner')\n",
    "    count_by[ren_o_col]=count_by.index\n",
    "    count_by=count_by[['row','col','score']]\n",
    "    \n",
    "    return count_by.to_numpy()"
   ]
  },
  {
   "cell_type": "code",
   "execution_count": 71,
   "metadata": {},
   "outputs": [],
   "source": [
    "def muestra_val_ent(df_netflix,prop):\n",
    "    #Base de todos los usuarios\n",
    "    usuarios=pd.DataFrame(df_netflix['usuario_id'].unique(), columns=['usuario_id'])\n",
    "    #Muestreo de usuarios\n",
    "    valida_usuarios=usuarios.sample(frac=prop)  \n",
    "\n",
    "    #Base de todas las películas\n",
    "    peliculas=pd.DataFrame(df_netflix['peli_id'].unique(), columns=['peli_id'])\n",
    "    #Muestreo de películas\n",
    "    valida_pelis=peliculas.sample(frac=0.2)\n",
    "    \n",
    "    #df_valida tiene las columnas usuario_id, peli_id y calif, pero\n",
    "    #sólo incluye los usuarios muestreados en valida_usuarios\n",
    "    df_valida=pd.merge(df_netflix,valida_usuarios, on ='usuario_id', how='inner')\n",
    "    #data_valida filtra de la base df_valida los pelis_id muestreas\n",
    "    #en valida_pelis\n",
    "    data_test=pd.merge(df_valida,valida_pelis, on ='peli_id', how='inner')\n",
    "    left=pd.merge(df_netflix, data_test, how='left',on=['usuario_id', 'peli_id'])\n",
    "    data_training=left[left.isnull().any(axis=1)][['usuario_id', 'peli_id','calif_x']]\n",
    "    return data_test, data_training"
   ]
  },
  {
   "cell_type": "markdown",
   "metadata": {},
   "source": [
    "# Matrices ralas (sparse)"
   ]
  },
  {
   "cell_type": "code",
   "execution_count": 14,
   "metadata": {},
   "outputs": [],
   "source": [
    "#En este proyecto se exhibe el uso de las funciones de la librería libmf\n",
    "#relacionadas a la factorización de matrices. El proyecto se enfoca al uso\n",
    "#de estos algoritmos/métodos para los sistemas de recomendación de películas\n",
    "#cuyo objetivo será obtener recomendaciones de películas para usuarios\n",
    "#contenidos dentro de una base de datos proporcionada por netflix\n",
    "\n",
    "#Si bien la base tiene datos como peli_id, usuario_id, calif, fecha, el\n",
    "#algoritmo solo trabajará con los datos de calificaciones. Si bien existen\n",
    "#diversos usuarios y películas, son pocas películas de las que se tienen\n",
    "#calificaciones (escala del 1 al 5) proporcionadas por usuarios, por lo que\n",
    "#la representación de estas calificaciones a través de una matriz (donde\n",
    "#los usuarios serán los índices de los rengloens, las películas los índices\n",
    "#de columnas y las calificaciones los valores de las entradas de la matriz),\n",
    "#contendrá muchos huecos o calificaciones inexistentes,\n",
    "#es decir, es una matriz rala (llena de ceros o valores no proporcionados)\n",
    "#No obstante lo anterior, debido al numero de usuarios y películas\n",
    "#existen muchos datos, y para no guardar todos los valores de cero (o NA)\n",
    "#se opta por expresar y guardar dicha matriz en una forma compacta,\n",
    "#la cual contiene por cada calificación, el usuario que la generó y la película\n",
    "#a la que corrresponde (es decir, es una matriz con 3 columnas)"
   ]
  },
  {
   "cell_type": "code",
   "execution_count": 15,
   "metadata": {},
   "outputs": [
    {
     "name": "stdout",
     "output_type": "stream",
     "text": [
      "Matriz M:\n",
      " [[ nan  nan   2.  nan   4.]\n",
      " [ nan  nan  nan   4.   4.]\n",
      " [ nan   5.  nan  nan  nan]\n",
      " [ nan  nan   3.  nan  nan]\n",
      " [ nan  nan  nan  nan   4.]\n",
      " [ nan   4.  nan  nan   4.]\n",
      " [  4.  nan  nan  nan  nan]\n",
      " [ nan  nan  nan  nan  nan]\n",
      " [ nan  nan  nan   1.  nan]\n",
      " [ nan  nan  nan  nan  nan]\n",
      " [ nan  nan  nan  nan  nan]\n",
      " [ nan  nan   5.   1.  nan]\n",
      " [ nan   5.   1.  nan  nan]\n",
      " [  2.  nan  nan  nan  nan]\n",
      " [  1.  nan  nan  nan   1.]\n",
      " [ nan  nan  nan   3.   5.]\n",
      " [ nan   3.  nan  nan   3.]\n",
      " [ nan  nan  nan  nan  nan]\n",
      " [ nan   5.   4.  nan  nan]\n",
      " [  1.  nan  nan  nan  nan]]\n",
      "Tamaño M:\n",
      " (20, 5)\n",
      "Numero de elementos diferentes de nan:\n",
      " 25\n"
     ]
    }
   ],
   "source": [
    "#Crear matriz rala de tamaño 20x5, donde el 25% de sus elementos\n",
    "#será distinto de nan, señalando la distribución de probabilidad\n",
    "#que tendrán dichos elementos\n",
    "M=crear_matriz_rala(20,5,0.25,stats.randint.rvs,*[1,6])\n",
    "#Se puede cambiar la distribución aleatoria. Probar con las\n",
    "#distribuciones existentes en scipy.stats o la función constante\n",
    "#R=crear_matriz_rala(20,5,0.5,scipy.stats.uniform.rvs,*[1,4])\n",
    "#R=crear_matriz_rala(20,5,0.2,stats.binom.rvs,*[5,0.2])\n",
    "#R=crear_matriz_rala(20,5,0.5,constante,*[1,0])\n",
    "print('Matriz M:\\n',M)\n",
    "print('Tamaño M:\\n',M.shape)\n",
    "print('Numero de elementos diferentes de nan:\\n',M[np.isnan(M)==False].size)"
   ]
  },
  {
   "cell_type": "code",
   "execution_count": 16,
   "metadata": {},
   "outputs": [
    {
     "name": "stdout",
     "output_type": "stream",
     "text": [
      "Expresión compacta de M (MC):\n",
      " [[  0.   2.   2.]\n",
      " [  0.   4.   4.]\n",
      " [  1.   3.   4.]\n",
      " [  1.   4.   4.]\n",
      " [  2.   1.   5.]\n",
      " [  3.   2.   3.]\n",
      " [  4.   4.   4.]\n",
      " [  5.   1.   4.]\n",
      " [  5.   4.   4.]\n",
      " [  6.   0.   4.]\n",
      " [  8.   3.   1.]\n",
      " [ 11.   2.   5.]\n",
      " [ 11.   3.   1.]\n",
      " [ 12.   1.   5.]\n",
      " [ 12.   2.   1.]\n",
      " [ 13.   0.   2.]\n",
      " [ 14.   0.   1.]\n",
      " [ 14.   4.   1.]\n",
      " [ 15.   3.   3.]\n",
      " [ 15.   4.   5.]\n",
      " [ 16.   1.   3.]\n",
      " [ 16.   4.   3.]\n",
      " [ 18.   1.   5.]\n",
      " [ 18.   2.   4.]\n",
      " [ 19.   0.   1.]]\n",
      "Tamaño MC:\n",
      " (25, 3)\n"
     ]
    }
   ],
   "source": [
    "#Expresión compacta de la matriz rala (con 3 columnas: col1,col2,col3),\n",
    "#que señala el índice de renglón (col1) y columna (col2) de la matriz R\n",
    "#correspondiente a los elementos distitnos de nan, así como el valor\n",
    "#de dicho elemento (col3)\n",
    "MC=compactar_matriz_rala(M)\n",
    "print('Expresión compacta de M (MC):\\n',MC)\n",
    "print('Tamaño MC:\\n',MC.shape)"
   ]
  },
  {
   "cell_type": "code",
   "execution_count": 17,
   "metadata": {},
   "outputs": [
    {
     "name": "stdout",
     "output_type": "stream",
     "text": [
      "Matriz generada con mf.generate_test_data(20,5,25):\n",
      "\n",
      "\u001b[1;30;41m [ 0.     1.     0.166]\n",
      "\u001b[0;0;0m [ 19.      4.      0.306]\n",
      "\u001b[0;0;0m [ 14.      3.      0.147]\n",
      "\u001b[0;0;0m [ 18.      4.      0.223]\n",
      "\u001b[0;0;0m [ 18.     1.     0.54]\n",
      "\u001b[0;0;0m [ 15.      3.      0.749]\n",
      "\u001b[0;0;0m [ 2.     2.     0.428]\n",
      "\u001b[0;0;0m [ 11.      3.      0.105]\n",
      "\u001b[0;0;0m [ 9.     3.     0.753]\n",
      "\u001b[0;0;0m [ 8.     5.     0.598]\n",
      "\u001b[0;0;0m [ 13.      0.      0.487]\n",
      "\u001b[0;0;0m [ 8.     4.     0.975]\n",
      "\u001b[0;0;0m [ 9.     2.     0.802]\n",
      "\u001b[0;0;0m [ 15.      3.      0.333]\n",
      "\u001b[0;0;0m [ 7.     5.     0.549]\n",
      "\u001b[0;0;0m [ 4.     5.     0.312]\n",
      "\u001b[0;0;0m [ 16.      4.      0.062]\n",
      "\u001b[0;0;0m [ 6.     1.     0.903]\n",
      "\u001b[0;0;0m [ 18.      0.      0.861]\n",
      "\u001b[0;0;0m [ 3.    3.    0.63]\n",
      "\u001b[1;30;41m [ 0.     1.     0.217]\n",
      "\u001b[1;30;41m [ 0.     1.     0.556]\n",
      "\u001b[0;0;0m [ 16.      5.      0.109]\n",
      "\u001b[0;0;0m [ 6.     5.     0.551]\n",
      "\u001b[0;0;0m [ 7.     0.     0.581]\n",
      "Tamaño MC:\n",
      " (25, 3)\n"
     ]
    }
   ],
   "source": [
    "#Entre las funciones de la librería libmf programado en python\n",
    "#existe una para generar matrices ralas compactas, sin embargo\n",
    "#se observa que puede arrojar más de un valor para un mismo\n",
    "#elemento de la matriz rala, vease el renglón [0,1]\n",
    "#tiene 3 valores asignados (0.166,0.217,0.556).\n",
    "\n",
    "#El 1er parámetro indica que se seleccionará un valor\n",
    "#entre 0 y 19 para la 1er columna (que representa el índice\n",
    "#de los renglones de la matriz rala que expresa); el 2do\n",
    "#parámetro indica que se seleccionara al azar un valor entre\n",
    "#0 y 4 (que representa el índice de las columnas de la matriz\n",
    "#rala que expresa); el 3er parámetro indica el número de elementos\n",
    "#a generar \n",
    "\n",
    "#Fijaremos una semilla para reproducibilidad\n",
    "np.random.seed(102)\n",
    "MC=mf.generate_test_data(20, 5, 25)\n",
    "print('Matriz generada con mf.generate_test_data(20,5,25):\\n')\n",
    "for i in range(MC.shape[0]):\n",
    "    if MC[i,0]==0:\n",
    "        print('\\033[1;30;41m',MC[i,:])\n",
    "    else:\n",
    "        print('\\033[0;0;0m',MC[i,:])\n",
    "print('Tamaño MC:\\n',MC.shape)"
   ]
  },
  {
   "cell_type": "code",
   "execution_count": 18,
   "metadata": {},
   "outputs": [
    {
     "name": "stdout",
     "output_type": "stream",
     "text": [
      "Expresión compacta de M (MC) ordenada por renglon:\n",
      " [[ 0  4  3]\n",
      " [ 1  0  5]\n",
      " [ 1  3  1]\n",
      " [ 2  2  5]\n",
      " [ 3  3  4]\n",
      " [ 4  1  4]\n",
      " [ 5  3  4]\n",
      " [ 5  2  4]\n",
      " [ 5  1  2]\n",
      " [ 7  1  5]\n",
      " [ 9  4  3]\n",
      " [10  4  3]\n",
      " [11  2  2]\n",
      " [11  0  1]\n",
      " [14  1  5]\n",
      " [15  4  2]\n",
      " [15  2  1]\n",
      " [15  3  3]\n",
      " [16  4  4]\n",
      " [16  0  2]\n",
      " [17  4  3]\n",
      " [17  3  1]\n",
      " [18  3  4]\n",
      " [19  2  1]\n",
      " [19  0  5]]\n",
      "Tamaño MC:\n",
      " (25, 3)\n"
     ]
    }
   ],
   "source": [
    "#El presente trabajo plantea trabajar con bases de películas donde\n",
    "#los ínidices i de renglones representan usuarios, los j de columnas\n",
    "#las películas, y el valor de elemento de la matriz la calificación\n",
    "#asignada a la película j por el usuario i\n",
    "#Por lo anterior, para crear matrices compactas ralas usaremos funciones propias\n",
    "#donde un usuario no califique más de una vez una misma película (lo cual \n",
    "#sucedería si se genera la matriz de calificaciones con la función de la\n",
    "#paquetería libmf). La calificación será un no. aleatorio entre 1 y 5\n",
    "#generada con una distribución uniforme discreta\n",
    "MC=crear_matriz_rala_compacta(20,5,0.25)\n",
    "print('Expresión compacta de M (MC) ordenada por renglon:\\n',MC[np.argsort(MC[:,0])])\n",
    "print('Tamaño MC:\\n',MC.shape)"
   ]
  },
  {
   "cell_type": "code",
   "execution_count": 19,
   "metadata": {},
   "outputs": [
    {
     "name": "stdout",
     "output_type": "stream",
     "text": [
      "16 0 2\n",
      "9 4 3\n",
      "18 3 4\n",
      "19 0 5\n",
      "17 3 1\n",
      "16 4 4\n",
      "3 3 4\n",
      "15 2 1\n",
      "1 0 5\n",
      "15 4 2\n",
      "14 1 5\n",
      "5 1 2\n",
      "4 1 4\n",
      "15 3 3\n",
      "19 2 1\n",
      "1 3 1\n",
      "17 4 3\n",
      "7 1 5\n",
      "2 2 5\n",
      "5 2 4\n",
      "5 3 4\n",
      "10 4 3\n",
      "11 2 2\n",
      "0 4 3\n",
      "11 0 1\n",
      "\n"
     ]
    }
   ],
   "source": [
    "#Se muestra una forma de guardar la matriz compacta en un txt\n",
    "#que podría ser utilizado directamente con las funciones\n",
    "#de libmf a través de Shell Commands (\"!\")\n",
    "np.savetxt('MC.txt', MC, delimiter=' ', fmt=\"%.0f\")\n",
    "f = open('MC.txt', 'r')\n",
    "file_contents = f.read()\n",
    "print (file_contents)\n",
    "f.close()"
   ]
  },
  {
   "cell_type": "markdown",
   "metadata": {},
   "source": [
    "# Calificaciones promedio por usuario y/o película"
   ]
  },
  {
   "cell_type": "code",
   "execution_count": 20,
   "metadata": {},
   "outputs": [
    {
     "data": {
      "text/html": [
       "<div>\n",
       "<style scoped>\n",
       "    .dataframe tbody tr th:only-of-type {\n",
       "        vertical-align: middle;\n",
       "    }\n",
       "\n",
       "    .dataframe tbody tr th {\n",
       "        vertical-align: top;\n",
       "    }\n",
       "\n",
       "    .dataframe thead th {\n",
       "        text-align: right;\n",
       "    }\n",
       "</style>\n",
       "<table border=\"1\" class=\"dataframe\">\n",
       "  <thead>\n",
       "    <tr style=\"text-align: right;\">\n",
       "      <th></th>\n",
       "      <th>row</th>\n",
       "      <th>col</th>\n",
       "      <th>mean_score_by_row</th>\n",
       "      <th>mean_score_by_col</th>\n",
       "      <th>total_score_mean</th>\n",
       "    </tr>\n",
       "    <tr>\n",
       "      <th>row</th>\n",
       "      <th></th>\n",
       "      <th></th>\n",
       "      <th></th>\n",
       "      <th></th>\n",
       "      <th></th>\n",
       "    </tr>\n",
       "  </thead>\n",
       "  <tbody>\n",
       "    <tr>\n",
       "      <th>0</th>\n",
       "      <td>0</td>\n",
       "      <td>4</td>\n",
       "      <td>3.000000</td>\n",
       "      <td>3.000000</td>\n",
       "      <td>3.08</td>\n",
       "    </tr>\n",
       "    <tr>\n",
       "      <th>1</th>\n",
       "      <td>1</td>\n",
       "      <td>0</td>\n",
       "      <td>3.000000</td>\n",
       "      <td>3.250000</td>\n",
       "      <td>3.08</td>\n",
       "    </tr>\n",
       "    <tr>\n",
       "      <th>1</th>\n",
       "      <td>1</td>\n",
       "      <td>3</td>\n",
       "      <td>3.000000</td>\n",
       "      <td>2.833333</td>\n",
       "      <td>3.08</td>\n",
       "    </tr>\n",
       "    <tr>\n",
       "      <th>2</th>\n",
       "      <td>2</td>\n",
       "      <td>2</td>\n",
       "      <td>5.000000</td>\n",
       "      <td>2.600000</td>\n",
       "      <td>3.08</td>\n",
       "    </tr>\n",
       "    <tr>\n",
       "      <th>3</th>\n",
       "      <td>3</td>\n",
       "      <td>3</td>\n",
       "      <td>4.000000</td>\n",
       "      <td>2.833333</td>\n",
       "      <td>3.08</td>\n",
       "    </tr>\n",
       "    <tr>\n",
       "      <th>4</th>\n",
       "      <td>4</td>\n",
       "      <td>1</td>\n",
       "      <td>4.000000</td>\n",
       "      <td>4.000000</td>\n",
       "      <td>3.08</td>\n",
       "    </tr>\n",
       "    <tr>\n",
       "      <th>5</th>\n",
       "      <td>5</td>\n",
       "      <td>1</td>\n",
       "      <td>3.333333</td>\n",
       "      <td>4.000000</td>\n",
       "      <td>3.08</td>\n",
       "    </tr>\n",
       "    <tr>\n",
       "      <th>5</th>\n",
       "      <td>5</td>\n",
       "      <td>2</td>\n",
       "      <td>3.333333</td>\n",
       "      <td>2.600000</td>\n",
       "      <td>3.08</td>\n",
       "    </tr>\n",
       "    <tr>\n",
       "      <th>5</th>\n",
       "      <td>5</td>\n",
       "      <td>3</td>\n",
       "      <td>3.333333</td>\n",
       "      <td>2.833333</td>\n",
       "      <td>3.08</td>\n",
       "    </tr>\n",
       "    <tr>\n",
       "      <th>7</th>\n",
       "      <td>7</td>\n",
       "      <td>1</td>\n",
       "      <td>5.000000</td>\n",
       "      <td>4.000000</td>\n",
       "      <td>3.08</td>\n",
       "    </tr>\n",
       "    <tr>\n",
       "      <th>9</th>\n",
       "      <td>9</td>\n",
       "      <td>4</td>\n",
       "      <td>3.000000</td>\n",
       "      <td>3.000000</td>\n",
       "      <td>3.08</td>\n",
       "    </tr>\n",
       "    <tr>\n",
       "      <th>10</th>\n",
       "      <td>10</td>\n",
       "      <td>4</td>\n",
       "      <td>3.000000</td>\n",
       "      <td>3.000000</td>\n",
       "      <td>3.08</td>\n",
       "    </tr>\n",
       "    <tr>\n",
       "      <th>11</th>\n",
       "      <td>11</td>\n",
       "      <td>0</td>\n",
       "      <td>1.500000</td>\n",
       "      <td>3.250000</td>\n",
       "      <td>3.08</td>\n",
       "    </tr>\n",
       "    <tr>\n",
       "      <th>11</th>\n",
       "      <td>11</td>\n",
       "      <td>2</td>\n",
       "      <td>1.500000</td>\n",
       "      <td>2.600000</td>\n",
       "      <td>3.08</td>\n",
       "    </tr>\n",
       "    <tr>\n",
       "      <th>14</th>\n",
       "      <td>14</td>\n",
       "      <td>1</td>\n",
       "      <td>5.000000</td>\n",
       "      <td>4.000000</td>\n",
       "      <td>3.08</td>\n",
       "    </tr>\n",
       "    <tr>\n",
       "      <th>15</th>\n",
       "      <td>15</td>\n",
       "      <td>2</td>\n",
       "      <td>2.000000</td>\n",
       "      <td>2.600000</td>\n",
       "      <td>3.08</td>\n",
       "    </tr>\n",
       "    <tr>\n",
       "      <th>15</th>\n",
       "      <td>15</td>\n",
       "      <td>3</td>\n",
       "      <td>2.000000</td>\n",
       "      <td>2.833333</td>\n",
       "      <td>3.08</td>\n",
       "    </tr>\n",
       "    <tr>\n",
       "      <th>15</th>\n",
       "      <td>15</td>\n",
       "      <td>4</td>\n",
       "      <td>2.000000</td>\n",
       "      <td>3.000000</td>\n",
       "      <td>3.08</td>\n",
       "    </tr>\n",
       "    <tr>\n",
       "      <th>16</th>\n",
       "      <td>16</td>\n",
       "      <td>0</td>\n",
       "      <td>3.000000</td>\n",
       "      <td>3.250000</td>\n",
       "      <td>3.08</td>\n",
       "    </tr>\n",
       "    <tr>\n",
       "      <th>16</th>\n",
       "      <td>16</td>\n",
       "      <td>4</td>\n",
       "      <td>3.000000</td>\n",
       "      <td>3.000000</td>\n",
       "      <td>3.08</td>\n",
       "    </tr>\n",
       "    <tr>\n",
       "      <th>17</th>\n",
       "      <td>17</td>\n",
       "      <td>3</td>\n",
       "      <td>2.000000</td>\n",
       "      <td>2.833333</td>\n",
       "      <td>3.08</td>\n",
       "    </tr>\n",
       "    <tr>\n",
       "      <th>17</th>\n",
       "      <td>17</td>\n",
       "      <td>4</td>\n",
       "      <td>2.000000</td>\n",
       "      <td>3.000000</td>\n",
       "      <td>3.08</td>\n",
       "    </tr>\n",
       "    <tr>\n",
       "      <th>18</th>\n",
       "      <td>18</td>\n",
       "      <td>3</td>\n",
       "      <td>4.000000</td>\n",
       "      <td>2.833333</td>\n",
       "      <td>3.08</td>\n",
       "    </tr>\n",
       "    <tr>\n",
       "      <th>19</th>\n",
       "      <td>19</td>\n",
       "      <td>0</td>\n",
       "      <td>3.000000</td>\n",
       "      <td>3.250000</td>\n",
       "      <td>3.08</td>\n",
       "    </tr>\n",
       "    <tr>\n",
       "      <th>19</th>\n",
       "      <td>19</td>\n",
       "      <td>2</td>\n",
       "      <td>3.000000</td>\n",
       "      <td>2.600000</td>\n",
       "      <td>3.08</td>\n",
       "    </tr>\n",
       "  </tbody>\n",
       "</table>\n",
       "</div>"
      ],
      "text/plain": [
       "     row  col  mean_score_by_row  mean_score_by_col  total_score_mean\n",
       "row                                                                  \n",
       "0      0    4           3.000000           3.000000              3.08\n",
       "1      1    0           3.000000           3.250000              3.08\n",
       "1      1    3           3.000000           2.833333              3.08\n",
       "2      2    2           5.000000           2.600000              3.08\n",
       "3      3    3           4.000000           2.833333              3.08\n",
       "4      4    1           4.000000           4.000000              3.08\n",
       "5      5    1           3.333333           4.000000              3.08\n",
       "5      5    2           3.333333           2.600000              3.08\n",
       "5      5    3           3.333333           2.833333              3.08\n",
       "7      7    1           5.000000           4.000000              3.08\n",
       "9      9    4           3.000000           3.000000              3.08\n",
       "10    10    4           3.000000           3.000000              3.08\n",
       "11    11    0           1.500000           3.250000              3.08\n",
       "11    11    2           1.500000           2.600000              3.08\n",
       "14    14    1           5.000000           4.000000              3.08\n",
       "15    15    2           2.000000           2.600000              3.08\n",
       "15    15    3           2.000000           2.833333              3.08\n",
       "15    15    4           2.000000           3.000000              3.08\n",
       "16    16    0           3.000000           3.250000              3.08\n",
       "16    16    4           3.000000           3.000000              3.08\n",
       "17    17    3           2.000000           2.833333              3.08\n",
       "17    17    4           2.000000           3.000000              3.08\n",
       "18    18    3           4.000000           2.833333              3.08\n",
       "19    19    0           3.000000           3.250000              3.08\n",
       "19    19    2           3.000000           2.600000              3.08"
      ]
     },
     "metadata": {},
     "output_type": "display_data"
    },
    {
     "name": "stdout",
     "output_type": "stream",
     "text": [
      "\n",
      " promedios como numpy array:\n",
      "[[  0.      4.      3.      3.      3.08 ]\n",
      " [  1.      0.      3.      3.25    3.08 ]\n",
      " [  1.      3.      3.      2.833   3.08 ]\n",
      " [  2.      2.      5.      2.6     3.08 ]\n",
      " [  3.      3.      4.      2.833   3.08 ]\n",
      " [  4.      1.      4.      4.      3.08 ]\n",
      " [  5.      1.      3.333   4.      3.08 ]\n",
      " [  5.      2.      3.333   2.6     3.08 ]\n",
      " [  5.      3.      3.333   2.833   3.08 ]\n",
      " [  7.      1.      5.      4.      3.08 ]\n",
      " [  9.      4.      3.      3.      3.08 ]\n",
      " [ 10.      4.      3.      3.      3.08 ]\n",
      " [ 11.      0.      1.5     3.25    3.08 ]\n",
      " [ 11.      2.      1.5     2.6     3.08 ]\n",
      " [ 14.      1.      5.      4.      3.08 ]\n",
      " [ 15.      2.      2.      2.6     3.08 ]\n",
      " [ 15.      3.      2.      2.833   3.08 ]\n",
      " [ 15.      4.      2.      3.      3.08 ]\n",
      " [ 16.      0.      3.      3.25    3.08 ]\n",
      " [ 16.      4.      3.      3.      3.08 ]\n",
      " [ 17.      3.      2.      2.833   3.08 ]\n",
      " [ 17.      4.      2.      3.      3.08 ]\n",
      " [ 18.      3.      4.      2.833   3.08 ]\n",
      " [ 19.      0.      3.      3.25    3.08 ]\n",
      " [ 19.      2.      3.      2.6     3.08 ]]\n",
      "\n",
      " El modelo base de referencia es mean_ren + mean_col - mean_tot:\n"
     ]
    },
    {
     "data": {
      "text/plain": [
       "array([ 1.   , -2.   ,  1.   , -1.   ,  2.   ,  1.   ,  2.667,  3.667,\n",
       "        4.667,  3.   , 10.   , 11.   ,  9.5  , 11.5  , 10.   , 15.   ,\n",
       "       16.   , 17.   , 13.   , 17.   , 18.   , 19.   , 17.   , 16.   ,\n",
       "       18.   ])"
      ]
     },
     "execution_count": 20,
     "metadata": {},
     "output_type": "execute_result"
    }
   ],
   "source": [
    "#Para plantear un \"modelo base de referencia\", se calculan los medias\n",
    "#por renglones (mean_ren) y por columnas (mean_col), así como \n",
    "#una media total (mean_tot), luego se sustituyen los valores de \n",
    "#la matriz (x_ij) por: mean_ren + mean_col - mean_tot\n",
    "#La función modelo_base_ref regresa los promedios por renglón,\n",
    "#columna y total. Con estos promedios se puede construir un modelo\n",
    "#para heterogenizar el uso de la escala (calificaciones)\n",
    "\n",
    "promedios=modelo_base_ref(MC)\n",
    "display(promedios)\n",
    "#Podemos convertir a numpy array para realizar operaciones con\n",
    "#variables de este tipo\n",
    "print('\\n promedios como numpy array:') \n",
    "promedios=promedios.to_numpy()\n",
    "print(promedios)\n",
    "#El modelo base de ref quedaría de la siguiente forma:\n",
    "print('\\n El modelo base de referencia es mean_ren + mean_col - mean_tot:') \n",
    "#Una media total (mean_tot):')\n",
    "promedios[:,0]+promedios[:,1]-promedios[:,2]"
   ]
  },
  {
   "cell_type": "code",
   "execution_count": 21,
   "metadata": {},
   "outputs": [
    {
     "data": {
      "text/plain": [
       "array([[ 5,  1,  2],\n",
       "       [ 5,  2,  4],\n",
       "       [ 5,  3,  4],\n",
       "       [15,  2,  1],\n",
       "       [15,  4,  2],\n",
       "       [15,  3,  3]])"
      ]
     },
     "metadata": {},
     "output_type": "display_data"
    },
    {
     "data": {
      "text/plain": [
       "array([[16,  0,  2],\n",
       "       [19,  0,  5],\n",
       "       [ 1,  0,  5],\n",
       "       [11,  0,  1],\n",
       "       [14,  1,  5],\n",
       "       [ 5,  1,  2],\n",
       "       [ 4,  1,  4],\n",
       "       [ 7,  1,  5],\n",
       "       [15,  2,  1],\n",
       "       [19,  2,  1],\n",
       "       [ 2,  2,  5],\n",
       "       [ 5,  2,  4],\n",
       "       [11,  2,  2],\n",
       "       [18,  3,  4],\n",
       "       [17,  3,  1],\n",
       "       [ 3,  3,  4],\n",
       "       [15,  3,  3],\n",
       "       [ 1,  3,  1],\n",
       "       [ 5,  3,  4],\n",
       "       [ 9,  4,  3],\n",
       "       [16,  4,  4],\n",
       "       [15,  4,  2],\n",
       "       [17,  4,  3],\n",
       "       [10,  4,  3],\n",
       "       [ 0,  4,  3]])"
      ]
     },
     "metadata": {},
     "output_type": "display_data"
    }
   ],
   "source": [
    "#En el camino para construir modelos adecuados puede ser de interés\n",
    "#o utilidad identificar los usuarios que tiene más películas calificadas\n",
    "#o las películas con más calificaciones, más precisamente, que tengan\n",
    "#más de \"n\" calificaciones.\n",
    "\n",
    "#Usuarios que calificaron más de 2 películas\n",
    "display(filtrar(MC,'row',2))\n",
    "#Películas que fueron calificadas por más de 2 usuarios\n",
    "display(filtrar(MC,'col',2))"
   ]
  },
  {
   "cell_type": "markdown",
   "metadata": {},
   "source": [
    "# Librería libmf python"
   ]
  },
  {
   "cell_type": "code",
   "execution_count": 22,
   "metadata": {},
   "outputs": [
    {
     "name": "stdout",
     "output_type": "stream",
     "text": [
      "/home/miuser/python-libmf/tests\n",
      "/home/miuser/python-libmf/tests\n",
      "/home/miuser/.local/lib/python3.6/site-packages/libmf/__init__.py\n",
      "Using file found in /home/miuser/.local/lib/python3.6/site-packages:\n",
      "/home/miuser/.local/lib/python3.6/site-packages/libmf.cpython-36m-x86_64-linux-gnu.so\n",
      "iter      tr_rmse          obj\n",
      "   0       0.5105   3.2420e+02\n",
      "   1       0.4821   3.0157e+02\n",
      "   2       0.4340   2.6363e+02\n",
      "   3       0.3761   2.1923e+02\n",
      "   4       0.3317   1.8722e+02\n",
      "   5       0.3064   1.6758e+02\n",
      "   6       0.2923   1.5558e+02\n",
      "   7       0.2880   1.5046e+02\n",
      "   8       0.2836   1.4531e+02\n",
      "   9       0.2817   1.4216e+02\n",
      "  10       0.2802   1.3963e+02\n",
      "  11       0.2789   1.3738e+02\n",
      "  12       0.2794   1.3651e+02\n",
      "  13       0.2786   1.3509e+02\n",
      "  14       0.2788   1.3438e+02\n",
      "  15       0.2785   1.3355e+02\n",
      "  16       0.2780   1.3269e+02\n",
      "  17       0.2785   1.3261e+02\n",
      "  18       0.2776   1.3176e+02\n",
      "  19       0.2773   1.3132e+02\n",
      "testing cross val method\n",
      "/home/miuser/.local/lib/python3.6/site-packages/libmf/mf.py:213: DeprecationWarning: This function is deprecated. Please call randint(0, 100 + 1) instead\n",
      "  rx = np.random.random_integers(0, xs, k)\n",
      "/home/miuser/.local/lib/python3.6/site-packages/libmf/mf.py:214: DeprecationWarning: This function is deprecated. Please call randint(0, 50 + 1) instead\n",
      "  ry = np.random.random_integers(0, ys, k)\n",
      "fold      rmse\n",
      "   0    0.3540\n",
      "   1    0.3331\n",
      "   2    0.3043\n",
      "   3    0.3340\n",
      "   4    0.3418\n",
      "==============\n",
      " avg    0.3334\n",
      ".testing factor-p\n",
      ".testing factor-q\n",
      ".testing fit method\n",
      "iter      tr_rmse          obj\n",
      "   0       0.5105   3.2420e+02\n",
      "   1       0.4822   3.0159e+02\n",
      "   2       0.4341   2.6374e+02\n",
      "   3       0.3784   2.2081e+02\n",
      "   4       0.3308   1.8617e+02\n",
      "   5       0.3058   1.6750e+02\n",
      "   6       0.2933   1.5644e+02\n",
      "   7       0.2869   1.4989e+02\n",
      "   8       0.2832   1.4511e+02\n",
      "   9       0.2823   1.4257e+02\n",
      "  10       0.2802   1.3966e+02\n",
      "  11       0.2795   1.3778e+02\n",
      "  12       0.2792   1.3649e+02\n",
      "  13       0.2792   1.3554e+02\n",
      "  14       0.2780   1.3413e+02\n",
      "  15       0.2784   1.3360e+02\n",
      "  16       0.2781   1.3284e+02\n",
      "  17       0.2776   1.3216e+02\n",
      "  18       0.2774   1.3163e+02\n",
      "  19       0.2774   1.3135e+02\n",
      ".testing predict method\n",
      ".\n",
      "----------------------------------------------------------------------\n",
      "Ran 5 tests in 0.105s\n",
      "\n",
      "OK\n"
     ]
    }
   ],
   "source": [
    "#la librería libmf-python programada en python implementa algunas de las funciones\n",
    "#de libmf. A continuación se corre un demo que exhibe el uso de estas funciones\n",
    "%cd /home/miuser/python-libmf/tests\n",
    "!pwd\n",
    "!python3 mf_tests.py"
   ]
  },
  {
   "cell_type": "code",
   "execution_count": 23,
   "metadata": {},
   "outputs": [
    {
     "data": {
      "text/plain": [
       "libmf.mf.MF"
      ]
     },
     "execution_count": 23,
     "metadata": {},
     "output_type": "execute_result"
    }
   ],
   "source": [
    "#Esta paquetería tiene unas clases definidas y métodos con los \n",
    "#cuales corre algunos de los algoritmos\n",
    "\n",
    "#Uno de los métodos utilizados para obtener un modelo de recomendación\n",
    "#es encontrar 2 matrices cuya multiplicación proporciona la estimación\n",
    "#de calificación. Ambas matrices contienen los llamados \"factores latentes\"\n",
    "#que se les puede dar una interpretación de características/gustos\n",
    "#Esta factorización puede quedar como P*Q_transpuesta\n",
    "\n",
    "mf_engine=mf.MF()\n",
    "type(mf_engine)"
   ]
  },
  {
   "cell_type": "code",
   "execution_count": 24,
   "metadata": {},
   "outputs": [
    {
     "data": {
      "text/plain": [
       "<libmf.mf.MF at 0x7fd3184bef98>"
      ]
     },
     "execution_count": 24,
     "metadata": {},
     "output_type": "execute_result"
    }
   ],
   "source": [
    "#fit method\n",
    "mf_engine.fit(MC)\n",
    "mf_engine"
   ]
  },
  {
   "cell_type": "code",
   "execution_count": 25,
   "metadata": {},
   "outputs": [
    {
     "name": "stdout",
     "output_type": "stream",
     "text": [
      "Matriz p:\n",
      " [[ 0.517  0.679  0.252  0.333  0.621 -0.007 -0.022  0.312]\n",
      " [-0.005  0.731  0.443  0.522  0.478  0.327  0.965  1.059]\n",
      " [ 0.849  0.98   1.052  1.073  0.294  0.736  0.617  0.471]\n",
      " [-0.134  1.26   0.244  0.715 -0.024 -0.396  0.347  1.177]\n",
      " [ 2.285  0.662  1.168  1.204  2.296  1.435  1.441  0.591]\n",
      " [ 0.827  0.226  0.415  0.919  0.841  0.892  0.828  0.813]\n",
      " [   nan    nan    nan    nan    nan    nan    nan    nan]\n",
      " [   nan    nan    nan    nan    nan    nan    nan    nan]\n",
      " [   nan    nan    nan    nan    nan    nan    nan    nan]\n",
      " [   nan    nan    nan    nan    nan    nan    nan    nan]\n",
      " [-0.014 -0.014  0.44   0.353  0.313  0.063 -0.143  0.389]\n",
      " [ 0.844  1.046  0.154  0.811  0.548  0.791  0.966  0.87 ]\n",
      " [   nan    nan    nan    nan    nan    nan    nan    nan]\n",
      " [   nan    nan    nan    nan    nan    nan    nan    nan]\n",
      " [   nan    nan    nan    nan    nan    nan    nan    nan]\n",
      " [ 0.828  1.148  0.887  0.163  0.932  0.643  0.686  0.616]\n",
      " [ 1.817  1.248  1.465  1.273  0.867  1.363  1.913  1.63 ]\n",
      " [   nan    nan    nan    nan    nan    nan    nan    nan]\n",
      " [   nan    nan    nan    nan    nan    nan    nan    nan]\n",
      " [ 1.411  0.678  1.215  1.157  1.186  1.484  1.868  1.65 ]]\n",
      "Tamaño p:\n",
      " (20, 8)\n"
     ]
    }
   ],
   "source": [
    "#testing factor-p\n",
    "P=mf_engine.p_factors()\n",
    "print('Matriz p:\\n',P)\n",
    "print('Tamaño p:\\n',P.shape)"
   ]
  },
  {
   "cell_type": "code",
   "execution_count": 26,
   "metadata": {},
   "outputs": [
    {
     "name": "stdout",
     "output_type": "stream",
     "text": [
      "Matriz Q:\n",
      " [[ 0.042  1.124 -0.021  0.476  0.041  0.23   0.39   0.627]\n",
      " [ 0.14   0.372  0.155  0.487  0.166  0.67   0.965  0.416]\n",
      " [ 0.494  0.174  0.695  0.785  0.431  0.847  0.529  0.497]\n",
      " [ 0.063  0.571  0.521  0.32  -0.251  0.672  0.275  0.121]\n",
      " [-0.229  0.742  0.339  0.708  0.011  0.175  0.722  1.264]\n",
      " [ 1.02   1.122  0.615  1.276  0.333  0.147  0.372  0.757]\n",
      " [   nan    nan    nan    nan    nan    nan    nan    nan]\n",
      " [   nan    nan    nan    nan    nan    nan    nan    nan]\n",
      " [   nan    nan    nan    nan    nan    nan    nan    nan]\n",
      " [ 1.818  1.403  1.519  1.41   0.835  1.302  1.953  1.519]\n",
      " [   nan    nan    nan    nan    nan    nan    nan    nan]\n",
      " [ 0.109  0.427  0.488 -0.055  0.314  0.349  0.757  0.459]\n",
      " [   nan    nan    nan    nan    nan    nan    nan    nan]\n",
      " [   nan    nan    nan    nan    nan    nan    nan    nan]\n",
      " [ 1.072  1.144  0.566  0.28   0.669  0.648  0.722  0.867]\n",
      " [ 2.222  0.572  1.206  1.295  2.183  1.723  1.45   0.474]\n",
      " [   nan    nan    nan    nan    nan    nan    nan    nan]\n",
      " [ 1.62   0.857  1.16   1.298  1.173  1.459  1.843  1.898]]\n",
      "Tamaño Q:\n",
      " (18, 8)\n"
     ]
    }
   ],
   "source": [
    "#testing factor-q\n",
    "Q=mf_engine.q_factors()\n",
    "print('Matriz Q:\\n',Q)\n",
    "print('Tamaño Q:\\n',Q.shape)"
   ]
  },
  {
   "cell_type": "code",
   "execution_count": 27,
   "metadata": {},
   "outputs": [
    {
     "name": "stdout",
     "output_type": "stream",
     "text": [
      "Matriz p:\n",
      " [[  1.149   0.734   1.215   0.529   1.091   2.303     nan     nan     nan\n",
      "    3.687     nan   0.771     nan     nan   2.233   3.734     nan   3.415]\n",
      " [  2.195   2.265   2.361   1.309   3.161   3.121     nan     nan     nan\n",
      "    6.743     nan   1.98      nan     nan   3.372   5.125     nan   6.636]\n",
      " [  2.343   2.503   3.474   2.153   2.823   4.775     nan     nan     nan\n",
      "    9.155     nan   1.998     nan     nan   4.454   8.134     nan   8.278]\n",
      " [  2.526   1.391   1.304   1.044   3.223   3.292     nan     nan     nan\n",
      "    4.83      nan   1.26      nan     nan   2.632   1.966     nan   4.339]\n",
      " [  2.746   4.314   6.261   2.373   3.28    7.287     nan     nan     nan\n",
      "   16.053     nan   3.62      nan     nan   8.223  18.28      nan  15.751]\n",
      " [  1.789   2.586   3.417   1.406   2.56    3.859     nan     nan     nan\n",
      "    8.462     nan   1.914     nan     nan   4.079   8.616     nan   8.564]\n",
      " [    nan     nan     nan     nan     nan     nan     nan     nan     nan\n",
      "      nan     nan     nan     nan     nan     nan     nan     nan     nan]\n",
      " [    nan     nan     nan     nan     nan     nan     nan     nan     nan\n",
      "      nan     nan     nan     nan     nan     nan     nan     nan     nan]\n",
      " [    nan     nan     nan     nan     nan     nan     nan     nan     nan\n",
      "      nan     nan     nan     nan     nan     nan     nan     nan     nan]\n",
      " [    nan     nan     nan     nan     nan     nan     nan     nan     nan\n",
      "      nan     nan     nan     nan     nan     nan     nan     nan     nan]\n",
      " [  0.357   0.351   0.879   0.305   0.794   1.045     nan     nan     nan\n",
      "    1.775     nan   0.379     nan     nan   0.8     1.716     nan   1.867]\n",
      " [  2.72    2.841   3.19    1.755   3.15    4.479     nan     nan     nan\n",
      "    9.072     nan   2.147     nan     nan   4.744   8.08      nan   8.72 ]\n",
      " [    nan     nan     nan     nan     nan     nan     nan     nan     nan\n",
      "      nan     nan     nan     nan     nan     nan     nan     nan     nan]\n",
      " [    nan     nan     nan     nan     nan     nan     nan     nan     nan\n",
      "      nan     nan     nan     nan     nan     nan     nan     nan     nan]\n",
      " [    nan     nan     nan     nan     nan     nan     nan     nan     nan\n",
      "      nan     nan     nan     nan     nan     nan     nan     nan     nan]\n",
      " [  2.224   2.265   2.968   1.684   2.475   4.012     nan     nan     nan\n",
      "    8.584     nan   2.323     nan     nan   4.817   8.207     nan   8.03 ]\n",
      " [  4.171   5.147   6.48    3.421   5.597   8.213     nan     nan     nan\n",
      "   17.785     nan   4.32      nan     nan   8.817  15.954     nan  16.988]\n",
      " [    nan     nan     nan     nan     nan     nan     nan     nan     nan\n",
      "      nan     nan     nan     nan     nan     nan     nan     nan     nan]\n",
      " [    nan     nan     nan     nan     nan     nan     nan     nan     nan\n",
      "      nan     nan     nan     nan     nan     nan     nan     nan     nan]\n",
      " [  3.499   4.882   6.143   2.894   5.118   6.981     nan     nan     nan\n",
      "   16.072     nan   4.035     nan     nan   7.833  15.124     nan  15.909]]\n",
      "Tamaño p:\n",
      " (20, 18)\n"
     ]
    }
   ],
   "source": [
    "#Se exhibe la multiplicación de matrices P y Q\n",
    "R_est=P@np.transpose(Q)\n",
    "print('Matriz p:\\n',R_est)\n",
    "print('Tamaño p:\\n',R_est.shape)"
   ]
  },
  {
   "cell_type": "code",
   "execution_count": 28,
   "metadata": {},
   "outputs": [
    {
     "data": {
      "text/plain": [
       "6.476004031332295"
      ]
     },
     "execution_count": 28,
     "metadata": {},
     "output_type": "execute_result"
    }
   ],
   "source": [
    "#Validación cruzada\n",
    "mf_engine.mf_cross_validation(MC)"
   ]
  },
  {
   "cell_type": "markdown",
   "metadata": {},
   "source": [
    "# Obtención de muestra base netflix"
   ]
  },
  {
   "cell_type": "code",
   "execution_count": 29,
   "metadata": {},
   "outputs": [
    {
     "data": {
      "text/html": [
       "<div>\n",
       "<style scoped>\n",
       "    .dataframe tbody tr th:only-of-type {\n",
       "        vertical-align: middle;\n",
       "    }\n",
       "\n",
       "    .dataframe tbody tr th {\n",
       "        vertical-align: top;\n",
       "    }\n",
       "\n",
       "    .dataframe thead th {\n",
       "        text-align: right;\n",
       "    }\n",
       "</style>\n",
       "<table border=\"1\" class=\"dataframe\">\n",
       "  <thead>\n",
       "    <tr style=\"text-align: right;\">\n",
       "      <th></th>\n",
       "      <th>peli_id</th>\n",
       "      <th>año</th>\n",
       "      <th>nombre</th>\n",
       "    </tr>\n",
       "  </thead>\n",
       "  <tbody>\n",
       "    <tr>\n",
       "      <th>0</th>\n",
       "      <td>1</td>\n",
       "      <td>2003.0</td>\n",
       "      <td>Dinosaur Planet</td>\n",
       "    </tr>\n",
       "    <tr>\n",
       "      <th>1</th>\n",
       "      <td>2</td>\n",
       "      <td>2004.0</td>\n",
       "      <td>Isle of Man TT 2004 Review</td>\n",
       "    </tr>\n",
       "    <tr>\n",
       "      <th>2</th>\n",
       "      <td>3</td>\n",
       "      <td>1997.0</td>\n",
       "      <td>Character</td>\n",
       "    </tr>\n",
       "    <tr>\n",
       "      <th>3</th>\n",
       "      <td>4</td>\n",
       "      <td>1994.0</td>\n",
       "      <td>Paula Abdul's Get Up &amp; Dance</td>\n",
       "    </tr>\n",
       "    <tr>\n",
       "      <th>4</th>\n",
       "      <td>5</td>\n",
       "      <td>2004.0</td>\n",
       "      <td>The Rise and Fall of ECW</td>\n",
       "    </tr>\n",
       "    <tr>\n",
       "      <th>5</th>\n",
       "      <td>6</td>\n",
       "      <td>1997.0</td>\n",
       "      <td>Sick</td>\n",
       "    </tr>\n",
       "    <tr>\n",
       "      <th>6</th>\n",
       "      <td>7</td>\n",
       "      <td>1992.0</td>\n",
       "      <td>8 Man</td>\n",
       "    </tr>\n",
       "    <tr>\n",
       "      <th>7</th>\n",
       "      <td>8</td>\n",
       "      <td>2004.0</td>\n",
       "      <td>What the #$*! Do We Know!?</td>\n",
       "    </tr>\n",
       "    <tr>\n",
       "      <th>8</th>\n",
       "      <td>9</td>\n",
       "      <td>1991.0</td>\n",
       "      <td>Class of Nuke 'Em High 2</td>\n",
       "    </tr>\n",
       "    <tr>\n",
       "      <th>9</th>\n",
       "      <td>10</td>\n",
       "      <td>2001.0</td>\n",
       "      <td>Fighter</td>\n",
       "    </tr>\n",
       "  </tbody>\n",
       "</table>\n",
       "</div>"
      ],
      "text/plain": [
       "   peli_id     año                        nombre\n",
       "0        1  2003.0               Dinosaur Planet\n",
       "1        2  2004.0    Isle of Man TT 2004 Review\n",
       "2        3  1997.0                     Character\n",
       "3        4  1994.0  Paula Abdul's Get Up & Dance\n",
       "4        5  2004.0      The Rise and Fall of ECW\n",
       "5        6  1997.0                          Sick\n",
       "6        7  1992.0                         8 Man\n",
       "7        8  2004.0    What the #$*! Do We Know!?\n",
       "8        9  1991.0      Class of Nuke 'Em High 2\n",
       "9       10  2001.0                       Fighter"
      ]
     },
     "execution_count": 29,
     "metadata": {},
     "output_type": "execute_result"
    }
   ],
   "source": [
    "#Se guarda una variable con una muestra de las base de netflix (\"movies_title_fix.csv\")\n",
    "#A continuación se presentan las características de las películas, con el objeto\n",
    "#de conocer un poco más los datos utilizados (pero esta no será la base usada para el modelo)\n",
    "pelis_nombres=pd.read_csv('movies_title_fix.csv',names=[\"peli_id\", \"año\", \"nombre\"])\n",
    "#Para ver cómo se encuentran los datos\n",
    "pelis_nombres.head(10) "
   ]
  },
  {
   "cell_type": "code",
   "execution_count": 30,
   "metadata": {},
   "outputs": [
    {
     "data": {
      "text/plain": [
       "(20968941, 3)"
      ]
     },
     "execution_count": 30,
     "metadata": {},
     "output_type": "execute_result"
    }
   ],
   "source": [
    "#La base tiene peli_id, usuario_id_orig, calif, fecha y usuario_id. Se trabajará solo\n",
    "#con las columnas de usuario, película y calificación\n",
    "df_muestra_netflix=pd.read_csv('dat_muestra_nflix.csv')\n",
    "df_muestra_netflix_libmf=df_muestra_netflix[['usuario_id', 'peli_id', 'calif']]\n",
    "df_muestra_netflix_libmf.shape"
   ]
  },
  {
   "cell_type": "code",
   "execution_count": 31,
   "metadata": {},
   "outputs": [],
   "source": [
    "#Se genera una base de validación que contendrá el 20% de los datos\n",
    "#y una base de entrenamiento que tendrá el restante 80%\n",
    "random.seed(28882)\n",
    "data_valida, data_entrena=muestra_val_ent(df_muestra_netflix_libmf,0.2)\n",
    "\n",
    "#Se pueden guardar las bases como un .csv dentro del directorio donde está este notebook\n",
    "data_valida.to_csv(r'data_valida.csv', index = False)    \n",
    "data_entrena.to_csv(r'data_entrena.csv', index = False)    \n",
    "\n",
    "# #Base de todos los usuarios\n",
    "# usuarios=pd.DataFrame(df_muestra_netflix_libmf['usuario_id'].unique(), columns=['usuario_id'])\n",
    "# #Muestreo de usuarios\n",
    "# valida_usuarios=usuarios.sample(frac=0.2)  \n",
    "\n",
    "# #Base de todas las películas\n",
    "# peliculas=pd.DataFrame(df_muestra_netflix_libmf['peli_id'].unique(), columns=['peli_id'])\n",
    "# #Muestreo de películas\n",
    "# valida_pelis=peliculas.sample(frac=0.2)"
   ]
  },
  {
   "cell_type": "code",
   "execution_count": 32,
   "metadata": {},
   "outputs": [],
   "source": [
    "# #df_valida tiene las columnas usuario_id, peli_id y calif, pero\n",
    "# #sólo incluye los usuarios muestreados en valida_usuarios\n",
    "# df_valida=pd.merge(df_muestra_netflix_libmf,valida_usuarios, on ='usuario_id', how='inner')\n",
    "# #data_valida filtra de la base df_valida los pelis_id muestreas\n",
    "# #en valida_pelis\n",
    "# data_valida=pd.merge(df_valida,valida_pelis, on ='peli_id', how='inner')\n",
    "# #Guardamos data_valida como un .csv dentro del directorio donde está este notebook\n",
    "# data_valida.to_csv(r'muestra_valida.csv', index = False)\n",
    "# left= pd.merge(df_muestra_netflix_libmf, data_valida, how='left',on=['usuario_id', 'peli_id'])\n",
    "# data_entrena=left[left.isnull().any(axis=1)][['usuario_id', 'peli_id','calif_x']]"
   ]
  },
  {
   "cell_type": "code",
   "execution_count": 33,
   "metadata": {},
   "outputs": [
    {
     "data": {
      "text/html": [
       "<div>\n",
       "<style scoped>\n",
       "    .dataframe tbody tr th:only-of-type {\n",
       "        vertical-align: middle;\n",
       "    }\n",
       "\n",
       "    .dataframe tbody tr th {\n",
       "        vertical-align: top;\n",
       "    }\n",
       "\n",
       "    .dataframe thead th {\n",
       "        text-align: right;\n",
       "    }\n",
       "</style>\n",
       "<table border=\"1\" class=\"dataframe\">\n",
       "  <thead>\n",
       "    <tr style=\"text-align: right;\">\n",
       "      <th></th>\n",
       "      <th>usuario_id</th>\n",
       "      <th>peli_id</th>\n",
       "      <th>calif</th>\n",
       "    </tr>\n",
       "  </thead>\n",
       "  <tbody>\n",
       "    <tr>\n",
       "      <th>0</th>\n",
       "      <td>7</td>\n",
       "      <td>28</td>\n",
       "      <td>3</td>\n",
       "    </tr>\n",
       "    <tr>\n",
       "      <th>1</th>\n",
       "      <td>12</td>\n",
       "      <td>28</td>\n",
       "      <td>2</td>\n",
       "    </tr>\n",
       "    <tr>\n",
       "      <th>2</th>\n",
       "      <td>18</td>\n",
       "      <td>28</td>\n",
       "      <td>3</td>\n",
       "    </tr>\n",
       "    <tr>\n",
       "      <th>3</th>\n",
       "      <td>34</td>\n",
       "      <td>28</td>\n",
       "      <td>2</td>\n",
       "    </tr>\n",
       "    <tr>\n",
       "      <th>4</th>\n",
       "      <td>42</td>\n",
       "      <td>28</td>\n",
       "      <td>5</td>\n",
       "    </tr>\n",
       "  </tbody>\n",
       "</table>\n",
       "</div>"
      ],
      "text/plain": [
       "   usuario_id  peli_id  calif\n",
       "0           7       28      3\n",
       "1          12       28      2\n",
       "2          18       28      3\n",
       "3          34       28      2\n",
       "4          42       28      5"
      ]
     },
     "metadata": {},
     "output_type": "display_data"
    },
    {
     "data": {
      "text/plain": [
       "(832603, 3)"
      ]
     },
     "execution_count": 33,
     "metadata": {},
     "output_type": "execute_result"
    }
   ],
   "source": [
    "display(data_valida.head(5))\n",
    "data_valida.shape"
   ]
  },
  {
   "cell_type": "code",
   "execution_count": 34,
   "metadata": {},
   "outputs": [
    {
     "data": {
      "text/html": [
       "<div>\n",
       "<style scoped>\n",
       "    .dataframe tbody tr th:only-of-type {\n",
       "        vertical-align: middle;\n",
       "    }\n",
       "\n",
       "    .dataframe tbody tr th {\n",
       "        vertical-align: top;\n",
       "    }\n",
       "\n",
       "    .dataframe thead th {\n",
       "        text-align: right;\n",
       "    }\n",
       "</style>\n",
       "<table border=\"1\" class=\"dataframe\">\n",
       "  <thead>\n",
       "    <tr style=\"text-align: right;\">\n",
       "      <th></th>\n",
       "      <th>usuario_id</th>\n",
       "      <th>peli_id</th>\n",
       "      <th>calif_x</th>\n",
       "    </tr>\n",
       "  </thead>\n",
       "  <tbody>\n",
       "    <tr>\n",
       "      <th>0</th>\n",
       "      <td>1</td>\n",
       "      <td>1</td>\n",
       "      <td>3</td>\n",
       "    </tr>\n",
       "    <tr>\n",
       "      <th>1</th>\n",
       "      <td>2</td>\n",
       "      <td>1</td>\n",
       "      <td>3</td>\n",
       "    </tr>\n",
       "    <tr>\n",
       "      <th>2</th>\n",
       "      <td>3</td>\n",
       "      <td>1</td>\n",
       "      <td>4</td>\n",
       "    </tr>\n",
       "    <tr>\n",
       "      <th>3</th>\n",
       "      <td>4</td>\n",
       "      <td>1</td>\n",
       "      <td>4</td>\n",
       "    </tr>\n",
       "    <tr>\n",
       "      <th>4</th>\n",
       "      <td>5</td>\n",
       "      <td>1</td>\n",
       "      <td>4</td>\n",
       "    </tr>\n",
       "  </tbody>\n",
       "</table>\n",
       "</div>"
      ],
      "text/plain": [
       "   usuario_id  peli_id  calif_x\n",
       "0           1        1        3\n",
       "1           2        1        3\n",
       "2           3        1        4\n",
       "3           4        1        4\n",
       "4           5        1        4"
      ]
     },
     "metadata": {},
     "output_type": "display_data"
    },
    {
     "data": {
      "text/plain": [
       "(20136338, 3)"
      ]
     },
     "execution_count": 34,
     "metadata": {},
     "output_type": "execute_result"
    }
   ],
   "source": [
    "display(data_entrena.head(5))\n",
    "data_entrena.shape"
   ]
  },
  {
   "cell_type": "code",
   "execution_count": 35,
   "metadata": {},
   "outputs": [
    {
     "name": "stdout",
     "output_type": "stream",
     "text": [
      "/home/miuser/libmf/demo\n"
     ]
    }
   ],
   "source": [
    "#Podemos cambiar el directorio para que se guarde la base\n",
    "#dentro del mismo donde están las funciones de libmf y\n",
    "#se guarda con la extensión .tr.txt porque es la requerida\n",
    "#por la paquetería de libmf\n",
    "%cd /home/miuser/libmf/demo\n",
    "np.savetxt('data_valida.te.txt', data_valida.to_numpy(), delimiter=' ', fmt=\"%.0f\")\n",
    "np.savetxt('data_entrena.tr.txt', data_entrena.to_numpy(), delimiter=' ', fmt=\"%.0f\")"
   ]
  },
  {
   "cell_type": "code",
   "execution_count": 36,
   "metadata": {},
   "outputs": [
    {
     "name": "stdout",
     "output_type": "stream",
     "text": [
      "La suma de elementos de data_valida + data_entrena: 20968941\n",
      "El total de elementos de df_muestra_netflix_libmf es: 20968941\n"
     ]
    }
   ],
   "source": [
    "#La base de df_muestra_valida_libmf ha quedado dividida por\n",
    "#dos dataframes excluyentes: data_valida y data_entrena\n",
    "print(\"La suma de elementos de data_valida + data_entrena:\",data_valida.shape[0] + data_entrena.shape[0])\n",
    "print(\"El total de elementos de df_muestra_netflix_libmf es:\",df_muestra_netflix_libmf.shape[0])"
   ]
  },
  {
   "cell_type": "code",
   "execution_count": 37,
   "metadata": {},
   "outputs": [
    {
     "data": {
      "text/html": [
       "<div>\n",
       "<style scoped>\n",
       "    .dataframe tbody tr th:only-of-type {\n",
       "        vertical-align: middle;\n",
       "    }\n",
       "\n",
       "    .dataframe tbody tr th {\n",
       "        vertical-align: top;\n",
       "    }\n",
       "\n",
       "    .dataframe thead th {\n",
       "        text-align: right;\n",
       "    }\n",
       "</style>\n",
       "<table border=\"1\" class=\"dataframe\">\n",
       "  <thead>\n",
       "    <tr style=\"text-align: right;\">\n",
       "      <th></th>\n",
       "      <th>row</th>\n",
       "      <th>col</th>\n",
       "      <th>mean_score_by_row</th>\n",
       "      <th>mean_score_by_col</th>\n",
       "      <th>total_score_mean</th>\n",
       "    </tr>\n",
       "    <tr>\n",
       "      <th>row</th>\n",
       "      <th></th>\n",
       "      <th></th>\n",
       "      <th></th>\n",
       "      <th></th>\n",
       "      <th></th>\n",
       "    </tr>\n",
       "  </thead>\n",
       "  <tbody>\n",
       "    <tr>\n",
       "      <th>7</th>\n",
       "      <td>7</td>\n",
       "      <td>28</td>\n",
       "      <td>4.186813</td>\n",
       "      <td>3.797207</td>\n",
       "      <td>3.589491</td>\n",
       "    </tr>\n",
       "    <tr>\n",
       "      <th>7</th>\n",
       "      <td>7</td>\n",
       "      <td>499</td>\n",
       "      <td>4.186813</td>\n",
       "      <td>3.047244</td>\n",
       "      <td>3.589491</td>\n",
       "    </tr>\n",
       "    <tr>\n",
       "      <th>7</th>\n",
       "      <td>7</td>\n",
       "      <td>1220</td>\n",
       "      <td>4.186813</td>\n",
       "      <td>4.011984</td>\n",
       "      <td>3.589491</td>\n",
       "    </tr>\n",
       "    <tr>\n",
       "      <th>7</th>\n",
       "      <td>7</td>\n",
       "      <td>1387</td>\n",
       "      <td>4.186813</td>\n",
       "      <td>2.545455</td>\n",
       "      <td>3.589491</td>\n",
       "    </tr>\n",
       "    <tr>\n",
       "      <th>7</th>\n",
       "      <td>7</td>\n",
       "      <td>1558</td>\n",
       "      <td>4.186813</td>\n",
       "      <td>3.008451</td>\n",
       "      <td>3.589491</td>\n",
       "    </tr>\n",
       "    <tr>\n",
       "      <th>...</th>\n",
       "      <td>...</td>\n",
       "      <td>...</td>\n",
       "      <td>...</td>\n",
       "      <td>...</td>\n",
       "      <td>...</td>\n",
       "    </tr>\n",
       "    <tr>\n",
       "      <th>99830</th>\n",
       "      <td>99830</td>\n",
       "      <td>13402</td>\n",
       "      <td>4.000000</td>\n",
       "      <td>3.878476</td>\n",
       "      <td>3.589491</td>\n",
       "    </tr>\n",
       "    <tr>\n",
       "      <th>99859</th>\n",
       "      <td>99859</td>\n",
       "      <td>14215</td>\n",
       "      <td>1.000000</td>\n",
       "      <td>2.831273</td>\n",
       "      <td>3.589491</td>\n",
       "    </tr>\n",
       "    <tr>\n",
       "      <th>99875</th>\n",
       "      <td>99875</td>\n",
       "      <td>14526</td>\n",
       "      <td>5.000000</td>\n",
       "      <td>3.675926</td>\n",
       "      <td>3.589491</td>\n",
       "    </tr>\n",
       "    <tr>\n",
       "      <th>99886</th>\n",
       "      <td>99886</td>\n",
       "      <td>14940</td>\n",
       "      <td>2.000000</td>\n",
       "      <td>3.434430</td>\n",
       "      <td>3.589491</td>\n",
       "    </tr>\n",
       "    <tr>\n",
       "      <th>99994</th>\n",
       "      <td>99994</td>\n",
       "      <td>17449</td>\n",
       "      <td>2.000000</td>\n",
       "      <td>3.845528</td>\n",
       "      <td>3.589491</td>\n",
       "    </tr>\n",
       "  </tbody>\n",
       "</table>\n",
       "<p>832603 rows × 5 columns</p>\n",
       "</div>"
      ],
      "text/plain": [
       "         row    col  mean_score_by_row  mean_score_by_col  total_score_mean\n",
       "row                                                                        \n",
       "7          7     28           4.186813           3.797207          3.589491\n",
       "7          7    499           4.186813           3.047244          3.589491\n",
       "7          7   1220           4.186813           4.011984          3.589491\n",
       "7          7   1387           4.186813           2.545455          3.589491\n",
       "7          7   1558           4.186813           3.008451          3.589491\n",
       "...      ...    ...                ...                ...               ...\n",
       "99830  99830  13402           4.000000           3.878476          3.589491\n",
       "99859  99859  14215           1.000000           2.831273          3.589491\n",
       "99875  99875  14526           5.000000           3.675926          3.589491\n",
       "99886  99886  14940           2.000000           3.434430          3.589491\n",
       "99994  99994  17449           2.000000           3.845528          3.589491\n",
       "\n",
       "[832603 rows x 5 columns]"
      ]
     },
     "execution_count": 37,
     "metadata": {},
     "output_type": "execute_result"
    }
   ],
   "source": [
    "modelo_base_ref(data_valida.to_numpy())"
   ]
  },
  {
   "cell_type": "markdown",
   "metadata": {},
   "source": [
    "# Librería libmf"
   ]
  },
  {
   "cell_type": "code",
   "execution_count": 38,
   "metadata": {},
   "outputs": [
    {
     "name": "stdout",
     "output_type": "stream",
     "text": [
      "/home/miuser/libmf/demo\n",
      "/home/miuser/libmf/demo\n",
      "--------------------------------\n",
      "Real-valued matrix factorization\n",
      "--------------------------------\n",
      "iter      tr_rmse      va_rmse          obj\n",
      "   0       2.4804       1.3263   3.2505e+04\n",
      "   1       1.1370       1.0718   8.1881e+03\n",
      "   2       0.8945       1.0377   5.7280e+03\n",
      "   3       0.8020       1.0173   4.9459e+03\n",
      "   4       0.7456       1.0091   4.4984e+03\n",
      "   5       0.6996       1.0113   4.1878e+03\n",
      "   6       0.6556       1.0048   3.9055e+03\n",
      "   7       0.6093       1.0056   3.6412e+03\n",
      "   8       0.5625       1.0072   3.4007e+03\n",
      "   9       0.5124       1.0048   3.1607e+03\n",
      "MAE = 0.7801\n",
      "---------------------------\n",
      "binary matrix factorization\n",
      "---------------------------\n",
      "iter   tr_logloss   va_logloss          obj\n",
      "   0       0.6888       0.8163   3.4252e+03\n",
      "   1       0.6957       0.8171   3.4580e+03\n",
      "   2       0.6816       0.8178   3.3886e+03\n",
      "   3       0.6666       0.8125   3.3169e+03\n",
      "   4       0.6506       0.8011   3.2421e+03\n",
      "   5       0.6321       0.7873   3.1561e+03\n",
      "   6       0.6097       0.7752   3.0534e+03\n",
      "   7       0.5806       0.7630   2.9202e+03\n",
      "   8       0.5462       0.7386   2.7628e+03\n",
      "   9       0.5062       0.7233   2.5811e+03\n",
      "  10       0.4620       0.7012   2.3806e+03\n",
      "  11       0.4164       0.6814   2.1755e+03\n",
      "  12       0.3705       0.6608   1.9689e+03\n",
      "  13       0.3286       0.6433   1.7824e+03\n",
      "  14       0.2877       0.6265   1.6010e+03\n",
      "  15       0.2535       0.6227   1.4510e+03\n",
      "  16       0.2213       0.6052   1.3109e+03\n",
      "  17       0.1944       0.5937   1.1954e+03\n",
      "  18       0.1715       0.5816   1.0980e+03\n",
      "  19       0.1520       0.5732   1.0161e+03\n",
      "ACCURACY = 0.7401\n",
      "-----------------------------------------------------------------\n",
      "one-class matrix factorization using a stochastic gradient method\n",
      "-----------------------------------------------------------------\n",
      "iter   tr_bprloss   va_bprloss          obj\n",
      "   0       0.5154       0.6272   2.6947e+03\n",
      "   1       0.5665       0.5938   2.9723e+03\n",
      "   2       0.5624       0.5700   2.9679e+03\n",
      "   3       0.5186       0.5278   2.7624e+03\n",
      "   4       0.4665       0.4993   2.5160e+03\n",
      "   5       0.4275       0.4826   2.3355e+03\n",
      "   6       0.3960       0.4679   2.1926e+03\n",
      "   7       0.3663       0.4600   2.0562e+03\n",
      "   8       0.3408       0.4192   1.9405e+03\n",
      "   9       0.3197       0.4162   1.8462e+03\n",
      "  10       0.2948       0.4318   1.7307e+03\n",
      "  11       0.2819       0.4265   1.6761e+03\n",
      "  12       0.2695       0.4264   1.6220e+03\n",
      "  13       0.2604       0.4356   1.5843e+03\n",
      "  14       0.2487       0.4222   1.5324e+03\n",
      "  15       0.2467       0.4354   1.5303e+03\n",
      "  16       0.2411       0.4061   1.5066e+03\n",
      "  17       0.2320       0.4216   1.4668e+03\n",
      "  18       0.2215       0.4387   1.4178e+03\n",
      "  19       0.2159       0.4263   1.3952e+03\n",
      "Row-wise MPR = 0.2656\n",
      "Row-wise AUC = 0.7051\n",
      "----------------------------------------------------------------\n",
      "one-class matrix factorization using a coordinate descent method\n",
      "----------------------------------------------------------------\n",
      "iter   tr_sqerror    tr_sqerror+    tr_sqerror-   va_sqerror    va_sqerror+    va_sqerror-          obj\n",
      "   0      76.2336         1.5680        74.6656     565.6766       488.6279        77.0487   1.5151e+02\n",
      "   1      54.0548         1.0864        52.9684     526.1029       470.7356        55.3673   1.0657e+02\n",
      "   2      48.0860         0.9305        47.1555     506.4531       456.8977        49.5554   9.2599e+01\n",
      "   3      45.0598         0.8688        44.1910     493.7473       447.1579        46.5894   8.5775e+01\n",
      "   4      43.1018         0.8283        42.2736     484.5283       439.8581        44.6702   8.1607e+01\n",
      "   5      41.6682         0.7977        40.8705     477.1668       433.9014        43.2654   7.8664e+01\n",
      "   6      40.5370         0.7726        39.7644     470.8978       428.7403        42.1575   7.6372e+01\n",
      "   7      39.5962         0.7506        38.8455     465.4009       424.1638        41.2371   7.4463e+01\n",
      "   8      38.7829         0.7329        38.0500     460.5379       420.0977        40.4402   7.2804e+01\n",
      "   9      38.0599         0.7211        37.3388     456.2107       416.4831        39.7276   7.1323e+01\n",
      "  10      37.4058         0.7178        36.6879     452.3463       413.2713        39.0750   6.9981e+01\n",
      "  11      36.8111         0.7255        36.0856     448.8667       410.3961        38.4707   6.8763e+01\n",
      "  12      36.2757         0.7445        35.5312     445.6393       407.7254        37.9139   6.7665e+01\n",
      "  13      35.8040         0.7733        35.0307     442.5715       405.1609        37.4107   6.6690e+01\n",
      "  14      35.3993         0.8086        34.5907     439.6341       402.6665        36.9677   6.5837e+01\n",
      "  15      35.0598         0.8464        34.2134     436.8235       400.2363        36.5873   6.5101e+01\n",
      "  16      34.7787         0.8828        33.8959     434.1496       397.8830        36.2666   6.4469e+01\n",
      "  17      34.5462         0.9145        33.6317     431.6379       395.6385        35.9994   6.3924e+01\n",
      "  18      34.3527         0.9400        33.4127     429.3078       393.5301        35.7777   6.3452e+01\n",
      "  19      34.1897         0.9589        33.2309     427.1552       391.5619        35.5933   6.3038e+01\n",
      "Row-wise MPR = 0.2018\n",
      "Row-wise AUC = 0.8237\n"
     ]
    }
   ],
   "source": [
    "#Probar correr el demo que viene en el la librería libmf\n",
    "%cd /home/miuser/libmf/demo\n",
    "!pwd\n",
    "!bash demo.sh"
   ]
  },
  {
   "cell_type": "code",
   "execution_count": 39,
   "metadata": {},
   "outputs": [
    {
     "name": "stdout",
     "output_type": "stream",
     "text": [
      "/home/miuser/libmf/demo\n"
     ]
    }
   ],
   "source": [
    "%cd /home/miuser/libmf/demo"
   ]
  },
  {
   "cell_type": "code",
   "execution_count": 40,
   "metadata": {},
   "outputs": [
    {
     "name": "stdout",
     "output_type": "stream",
     "text": [
      "iter      tr_rmse          obj\n",
      "   0       1.9774   2.2897e+04\n",
      "   1       0.9920   8.1689e+03\n",
      "   2       0.8694   6.9750e+03\n",
      "   3       0.8157   6.4784e+03\n",
      "   4       0.7858   6.1998e+03\n",
      "   5       0.7651   5.9973e+03\n",
      "   6       0.7521   5.8683e+03\n",
      "   7       0.7396   5.7746e+03\n",
      "   8       0.7320   5.6996e+03\n",
      "   9       0.7196   5.5783e+03\n",
      "  10       0.7167   5.5489e+03\n",
      "  11       0.7101   5.5005e+03\n",
      "  12       0.7072   5.4800e+03\n",
      "  13       0.7003   5.4107e+03\n",
      "  14       0.6934   5.3499e+03\n",
      "  15       0.6865   5.3164e+03\n",
      "  16       0.6876   5.3167e+03\n",
      "  17       0.6814   5.2760e+03\n",
      "  18       0.6778   5.2405e+03\n",
      "  19       0.6732   5.2029e+03\n"
     ]
    }
   ],
   "source": [
    "#train a model using the default parameters\n",
    "!/home/miuser/libmf/mf-train real_matrix.tr.txt model"
   ]
  },
  {
   "cell_type": "code",
   "execution_count": 41,
   "metadata": {},
   "outputs": [
    {
     "name": "stdout",
     "output_type": "stream",
     "text": [
      "iter      tr_rmse          obj\n",
      "   0       1.9895   2.2903e+04\n",
      "   1       0.9930   8.0382e+03\n",
      "   2       0.8601   6.8028e+03\n",
      "   3       0.8046   6.3472e+03\n",
      "   4       0.7703   6.0623e+03\n",
      "   5       0.7425   5.8543e+03\n",
      "   6       0.7222   5.6903e+03\n",
      "   7       0.7088   5.5888e+03\n",
      "   8       0.6937   5.4709e+03\n",
      "   9       0.6781   5.3715e+03\n",
      "  10       0.6662   5.2890e+03\n",
      "  11       0.6506   5.1755e+03\n",
      "  12       0.6371   5.0819e+03\n",
      "  13       0.6246   5.0102e+03\n",
      "  14       0.6123   4.9264e+03\n",
      "  15       0.5985   4.8426e+03\n",
      "  16       0.5847   4.7569e+03\n",
      "  17       0.5748   4.6928e+03\n",
      "  18       0.5617   4.6187e+03\n",
      "  19       0.5511   4.5604e+03\n"
     ]
    }
   ],
   "source": [
    "#train a model with the following regularization coefficients:\n",
    "#coefficient of L1-norm regularization on P = 0.05\n",
    "#coefficient of L1-norm regularization on Q = 0.05\n",
    "#coefficient of L2-norm regularization on P = 0.01\n",
    "#coefficient of L2-norm regularization on Q = 0.01\n",
    "!/home/miuser/libmf/mf-train -l1 0.05 -l2 0.01 real_matrix.tr.txt model"
   ]
  },
  {
   "cell_type": "code",
   "execution_count": 42,
   "metadata": {},
   "outputs": [
    {
     "name": "stdout",
     "output_type": "stream",
     "text": [
      "iter      tr_rmse          obj\n",
      "   0       1.9589   1.9665e+04\n",
      "   1       0.9769   5.2544e+03\n",
      "   2       0.8479   4.0808e+03\n",
      "   3       0.7934   3.6375e+03\n",
      "   4       0.7633   3.4040e+03\n",
      "   5       0.7379   3.2165e+03\n",
      "   6       0.7228   3.1081e+03\n",
      "   7       0.7074   2.9989e+03\n",
      "   8       0.6924   2.8970e+03\n",
      "   9       0.6789   2.8042e+03\n",
      "  10       0.6652   2.7150e+03\n",
      "  11       0.6514   2.6260e+03\n",
      "  12       0.6382   2.5434e+03\n",
      "  13       0.6238   2.4547e+03\n",
      "  14       0.6107   2.3764e+03\n",
      "  15       0.5956   2.2874e+03\n",
      "  16       0.5829   2.2149e+03\n",
      "  17       0.5706   2.1459e+03\n",
      "  18       0.5566   2.0692e+03\n",
      "  19       0.5435   1.9992e+03\n"
     ]
    }
   ],
   "source": [
    "#train a model with the following regularization coefficients:\n",
    "#coefficient of L1-norm regularization on P = 0.05\n",
    "#coefficient of L1-norm regularization on Q = 0\n",
    "#coefficient of L2-norm regularization on P = 0.01\n",
    "#coefficient of L2-norm regularization on Q = 0.03\n",
    "!/home/miuser/libmf/mf-train -l1 0.015,0 -l2 0.01,0.005 real_matrix.tr.txt model"
   ]
  },
  {
   "cell_type": "code",
   "execution_count": 43,
   "metadata": {},
   "outputs": [
    {
     "name": "stdout",
     "output_type": "stream",
     "text": [
      "iter      tr_rmse          obj\n",
      "   0       1.9589   1.9665e+04\n",
      "   1       0.9769   5.2544e+03\n",
      "   2       0.8479   4.0808e+03\n",
      "   3       0.7951   3.6525e+03\n",
      "   4       0.7634   3.4054e+03\n",
      "   5       0.7413   3.2408e+03\n",
      "   6       0.7231   3.1106e+03\n",
      "   7       0.7047   2.9793e+03\n",
      "   8       0.6928   2.8977e+03\n",
      "   9       0.6730   2.7658e+03\n",
      "  10       0.6650   2.7141e+03\n",
      "  11       0.6494   2.6133e+03\n",
      "  12       0.6373   2.5373e+03\n",
      "  13       0.6244   2.4578e+03\n",
      "  14       0.6106   2.3754e+03\n",
      "  15       0.5952   2.2843e+03\n",
      "  16       0.5837   2.2192e+03\n",
      "  17       0.5697   2.1414e+03\n",
      "  18       0.5573   2.0732e+03\n",
      "  19       0.5441   2.0025e+03\n"
     ]
    }
   ],
   "source": [
    "#train a model with the following regularization coefficients:\n",
    "#coefficient of L1-norm regularization on P = 0.05\n",
    "#coefficient of L1-norm regularization on Q = 0\n",
    "#coefficient of L2-norm regularization on P = 0.01\n",
    "#coefficient of L2-norm regularization on Q = 0.03\n",
    "!/home/miuser/libmf/mf-train -l1 0.015,0 -l2 0.01,0.005 real_matrix.tr.txt model"
   ]
  },
  {
   "cell_type": "code",
   "execution_count": 44,
   "metadata": {},
   "outputs": [
    {
     "name": "stdout",
     "output_type": "stream",
     "text": [
      "iter   tr_logloss          obj\n",
      "   0       0.6573   3.8976e+03\n",
      "   1       0.6948   4.0099e+03\n",
      "   2       0.6915   3.9364e+03\n",
      "   3       0.6891   3.8791e+03\n",
      "   4       0.6872   3.8318e+03\n",
      "   5       0.6859   3.7937e+03\n",
      "   6       0.6848   3.7616e+03\n",
      "   7       0.6840   3.7351e+03\n",
      "   8       0.6834   3.7128e+03\n",
      "   9       0.6828   3.6929e+03\n",
      "  10       0.6824   3.6765e+03\n",
      "  11       0.6820   3.6620e+03\n",
      "  12       0.6817   3.6491e+03\n",
      "  13       0.6815   3.6380e+03\n",
      "  14       0.6813   3.6276e+03\n",
      "  15       0.6811   3.6187e+03\n",
      "  16       0.6810   3.6106e+03\n",
      "  17       0.6808   3.6031e+03\n",
      "  18       0.6807   3.5962e+03\n",
      "  19       0.6806   3.5904e+03\n",
      "  20       0.6805   3.5848e+03\n",
      "  21       0.6804   3.5796e+03\n",
      "  22       0.6804   3.5749e+03\n",
      "  23       0.6803   3.5703e+03\n",
      "  24       0.6803   3.5663e+03\n",
      "  25       0.6802   3.5622e+03\n",
      "  26       0.6802   3.5587e+03\n",
      "  27       0.6801   3.5554e+03\n",
      "  28       0.6801   3.5522e+03\n",
      "  29       0.6801   3.5493e+03\n"
     ]
    }
   ],
   "source": [
    "#train a BMF model using logarithmic loss and the following parameters:\n",
    "#coefficient of L1-norm regularization on P = 0\n",
    "#coefficient of L1-norm regularization on Q = 0.01\n",
    "#latent factors = 100\n",
    "#iterations = 30\n",
    "#learning rate = 0.02\n",
    "#threads = 4\n",
    "!/home/miuser/libmf/mf-train -f 5 -l1 0,0.02 -k 100 -t 30 -r 0.02 -s 4 binary_matrix.tr.txt model"
   ]
  },
  {
   "cell_type": "code",
   "execution_count": 45,
   "metadata": {},
   "outputs": [
    {
     "name": "stdout",
     "output_type": "stream",
     "text": [
      "iter      tr_rmse      va_rmse          obj\n",
      "   0       1.9775       1.1537   2.2900e+04\n",
      "   1       0.9888       1.0483   8.1391e+03\n",
      "   2       0.8672       1.0284   6.9628e+03\n",
      "   3       0.8163       1.0161   6.4664e+03\n",
      "   4       0.7837       1.0120   6.1815e+03\n",
      "   5       0.7667       1.0084   6.0290e+03\n",
      "   6       0.7522       1.0065   5.8825e+03\n",
      "   7       0.7404       1.0132   5.7769e+03\n",
      "   8       0.7321       1.0027   5.7059e+03\n",
      "   9       0.7237       1.0045   5.6217e+03\n",
      "  10       0.7169       1.0056   5.5626e+03\n",
      "  11       0.7103       1.0033   5.5057e+03\n",
      "  12       0.7042       1.0042   5.4677e+03\n",
      "  13       0.7009       1.0042   5.4101e+03\n",
      "  14       0.6950       1.0082   5.3894e+03\n",
      "  15       0.6878       1.0055   5.3017e+03\n",
      "  16       0.6886       1.0047   5.3340e+03\n",
      "  17       0.6820       1.0049   5.2721e+03\n",
      "  18       0.6763       1.0071   5.2148e+03\n",
      "  19       0.6720       1.0082   5.1932e+03\n"
     ]
    }
   ],
   "source": [
    "#use real_matrix.te.txt for hold-out validation\n",
    "!/home/miuser/libmf/mf-train -p real_matrix.te.txt real_matrix.tr.txt model"
   ]
  },
  {
   "cell_type": "code",
   "execution_count": 46,
   "metadata": {},
   "outputs": [
    {
     "name": "stdout",
     "output_type": "stream",
     "text": [
      "fold      rmse\n",
      "   0    1.4038\n",
      "   1    1.4244\n",
      "   2    1.5077\n",
      "   3    1.5475\n",
      "   4    1.5100\n",
      "==============\n",
      " avg    1.4787\n"
     ]
    }
   ],
   "source": [
    "#do five fold cross validation\n",
    "!/home/miuser/libmf/mf-train -v 5 real_matrix.tr.txt"
   ]
  },
  {
   "cell_type": "code",
   "execution_count": 47,
   "metadata": {},
   "outputs": [
    {
     "name": "stdout",
     "output_type": "stream",
     "text": [
      "iter       tr_gkl          obj\n",
      "   0       0.9901   8.0001e+03\n",
      "   1       0.2301   3.9768e+03\n",
      "   2       0.1756   3.6750e+03\n",
      "   3       0.1564   3.5405e+03\n",
      "   4       0.1453   3.4320e+03\n",
      "   5       0.1382   3.3839e+03\n",
      "   6       0.1322   3.3386e+03\n",
      "   7       0.1278   3.3060e+03\n",
      "   8       0.1234   3.2575e+03\n",
      "   9       0.1214   3.2492e+03\n",
      "  10       0.1180   3.2155e+03\n",
      "  11       0.1162   3.1949e+03\n",
      "  12       0.1145   3.1802e+03\n",
      "  13       0.1124   3.1601e+03\n",
      "  14       0.1117   3.1581e+03\n",
      "  15       0.1096   3.1399e+03\n",
      "  16       0.1086   3.1186e+03\n",
      "  17       0.1083   3.1339e+03\n",
      "  18       0.1069   3.1187e+03\n",
      "  19       0.1058   3.1196e+03\n"
     ]
    }
   ],
   "source": [
    "#do non-negative matrix factorization with generalized KL-divergence\n",
    "!/home/miuser/libmf/mf-train -f 2 --nmf real_matrix.tr.txt"
   ]
  },
  {
   "cell_type": "code",
   "execution_count": 48,
   "metadata": {},
   "outputs": [],
   "source": [
    "#do not print message to screen\n",
    "!/home/miuser/libmf/mf-train --quiet real_matrix.tr.txt"
   ]
  },
  {
   "cell_type": "code",
   "execution_count": 49,
   "metadata": {},
   "outputs": [
    {
     "name": "stdout",
     "output_type": "stream",
     "text": [
      "iter      tr_rmse          obj\n",
      "   0       1.7077   1.7882e+04\n",
      "   1       1.1646   9.9921e+03\n",
      "   2       0.8696   6.9916e+03\n",
      "   3       0.8046   6.4085e+03\n",
      "   4       0.7730   6.0870e+03\n",
      "   5       0.7558   5.9400e+03\n",
      "   6       0.7463   5.8392e+03\n",
      "   7       0.7351   5.7426e+03\n",
      "   8       0.7240   5.6205e+03\n",
      "   9       0.7198   5.5841e+03\n",
      "  10       0.7112   5.5185e+03\n",
      "  11       0.7067   5.4698e+03\n",
      "  12       0.7020   5.4230e+03\n",
      "  13       0.6955   5.3818e+03\n",
      "  14       0.6896   5.3262e+03\n",
      "  15       0.6859   5.3009e+03\n",
      "  16       0.6776   5.2387e+03\n",
      "  17       0.6733   5.2200e+03\n",
      "  18       0.6705   5.1927e+03\n",
      "  19       0.6665   5.1421e+03\n"
     ]
    }
   ],
   "source": [
    "#do disk-level training\n",
    "!/home/miuser/libmf/mf-train --disk real_matrix.tr.txt"
   ]
  },
  {
   "cell_type": "code",
   "execution_count": 50,
   "metadata": {},
   "outputs": [
    {
     "name": "stdout",
     "output_type": "stream",
     "text": [
      "RMSE = 1.0082\n"
     ]
    }
   ],
   "source": [
    "#do prediction\n",
    "!/home/miuser/libmf/mf-predict real_matrix.te.txt model output"
   ]
  },
  {
   "cell_type": "code",
   "execution_count": 51,
   "metadata": {},
   "outputs": [
    {
     "name": "stdout",
     "output_type": "stream",
     "text": [
      "MAE = 0.7858\n"
     ]
    }
   ],
   "source": [
    "#do prediction and output MAE\n",
    "!/home/miuser/libmf/mf-predict -e 1 real_matrix.te.txt model output"
   ]
  },
  {
   "cell_type": "code",
   "execution_count": 52,
   "metadata": {},
   "outputs": [
    {
     "name": "stdout",
     "output_type": "stream",
     "text": [
      "iter      tr_rmse          obj\n",
      "   0       0.9814   3.0187e+07\n",
      "   1       0.9347   2.8346e+07\n",
      "   2       0.9301   2.8165e+07\n",
      "   3       0.9256   2.8044e+07\n",
      "   4       0.9190   2.7872e+07\n",
      "   5       0.9112   2.7666e+07\n",
      "   6       0.9045   2.7490e+07\n",
      "   7       0.8998   2.7364e+07\n",
      "   8       0.8966   2.7275e+07\n",
      "   9       0.8944   2.7215e+07\n",
      "  10       0.8928   2.7178e+07\n",
      "  11       0.8917   2.7142e+07\n",
      "  12       0.8907   2.7116e+07\n",
      "  13       0.8900   2.7101e+07\n",
      "  14       0.8893   2.7085e+07\n",
      "  15       0.8888   2.7068e+07\n",
      "  16       0.8883   2.7056e+07\n",
      "  17       0.8879   2.7048e+07\n",
      "  18       0.8874   2.7039e+07\n",
      "  19       0.8870   2.7023e+07\n"
     ]
    }
   ],
   "source": [
    "#Pruebese los diferentes modelos ejemplo con data_entrena y data_valida\n",
    "#En general estos algoritmos corren muy rápido\n",
    "!/home/miuser/libmf/mf-train data_entrena.tr.txt model"
   ]
  },
  {
   "cell_type": "code",
   "execution_count": null,
   "metadata": {},
   "outputs": [],
   "source": []
  },
  {
   "cell_type": "code",
   "execution_count": null,
   "metadata": {},
   "outputs": [],
   "source": []
  },
  {
   "cell_type": "code",
   "execution_count": null,
   "metadata": {},
   "outputs": [],
   "source": []
  },
  {
   "cell_type": "code",
   "execution_count": null,
   "metadata": {},
   "outputs": [],
   "source": []
  },
  {
   "cell_type": "code",
   "execution_count": null,
   "metadata": {},
   "outputs": [],
   "source": []
  },
  {
   "cell_type": "code",
   "execution_count": null,
   "metadata": {},
   "outputs": [],
   "source": []
  },
  {
   "cell_type": "code",
   "execution_count": 53,
   "metadata": {},
   "outputs": [],
   "source": [
    "######################## BASURA / CÓDIGO DESECHADO #######################"
   ]
  },
  {
   "cell_type": "code",
   "execution_count": 54,
   "metadata": {},
   "outputs": [],
   "source": [
    "# #testing predict method\n",
    "# pred_data = mf.generate_test_data(9, 4, 5, indices_only=True)\n",
    "# predictions = mf_engine.predict(pred_data)\n"
   ]
  },
  {
   "cell_type": "code",
   "execution_count": 55,
   "metadata": {},
   "outputs": [],
   "source": [
    "# #$ python tests/mf_tests.py\n",
    "# %run 'mf_tests.py'\n"
   ]
  },
  {
   "cell_type": "code",
   "execution_count": 56,
   "metadata": {},
   "outputs": [],
   "source": [
    "# import csv\n",
    "# with open('dat_muestra_nflix.csv', newline='') as csvfile:\n",
    "#     spamreader = csv.reader(csvfile, delimiter=' ', quotechar='|')"
   ]
  },
  {
   "cell_type": "code",
   "execution_count": 57,
   "metadata": {},
   "outputs": [],
   "source": [
    "# spamreader[1]"
   ]
  },
  {
   "cell_type": "code",
   "execution_count": 58,
   "metadata": {},
   "outputs": [],
   "source": [
    "# data = pd.read_csv(\"dat_muestra_nflix.csv\", sep=' ')"
   ]
  },
  {
   "cell_type": "code",
   "execution_count": 59,
   "metadata": {},
   "outputs": [],
   "source": [
    "# def centralizar_valores(M):\n",
    "#     n=M.shape[0]\n",
    "    \n",
    " \n",
    "    \n",
    "#     #Se hace una copia de la matriz M\n",
    "#         M_copy=copy.copy(M)\n",
    "#         #Se agrega una 4ta columna\n",
    "#         M_copy=np.append(M, np.array(n*[np.nan]).reshape(n,1), axis=1)\n",
    "#         #Se ordena la matriz\n",
    "#         M_copy=M_copy[np.argsort(M_copy[:,0])]\n",
    "#         #k1 irá marcando el renglón donde van cambiando los valores de la 1era columna de M\n",
    "        \n",
    "        \n",
    "#         valores=np.zeros(1)\n",
    "#         for i in range(1,M_copy.shape[0]):\n",
    "#             if M_copy[i,2]!=M_copy[i-1,2]:\n",
    "#                 print('lo que sea')\n",
    "            \n",
    "            \n",
    "#             valores[k1]=np.r_[valores, np.zeros(1)]\n",
    "#             for j in range(k1,k2+1):\n",
    "#                 #M_copy[j,4]\n",
    "#                 print('lo que sea')\n",
    "# #     else:\n",
    "# #         calif_cent=np.nanmean(M, axis=1).reshape(n,1)\n",
    "# #         return M-calif_cent"
   ]
  },
  {
   "cell_type": "code",
   "execution_count": 60,
   "metadata": {},
   "outputs": [],
   "source": [
    "# help(mf)"
   ]
  },
  {
   "cell_type": "code",
   "execution_count": 61,
   "metadata": {},
   "outputs": [],
   "source": [
    "# print([getattr(mf, a)\n",
    "# for a in dir(mf)\n",
    "#   if isinstance(getattr(mf, a), types.FunctionType)])"
   ]
  },
  {
   "cell_type": "code",
   "execution_count": 62,
   "metadata": {},
   "outputs": [],
   "source": [
    "#help(mf.generate_test_data)"
   ]
  },
  {
   "cell_type": "code",
   "execution_count": 63,
   "metadata": {},
   "outputs": [],
   "source": [
    "#dir(mf_engine)"
   ]
  },
  {
   "cell_type": "code",
   "execution_count": 64,
   "metadata": {},
   "outputs": [],
   "source": [
    "# #Uso de función generate_test_data\n",
    "# #para generar un dataset de prueba con mil renglones, \n",
    "# #cuyos elementos de la 1era, columna van de 0 a 100, \n",
    "# #y los de la segunda columna de 0 a 50, la tercera \n",
    "# #columna son numeros aleatorios \n",
    "# test_data = mf.generate_test_data(9, 4, 20)\n",
    "# print('Matriz de prueba:\\n',test_data)\n",
    "# print('Tamaño de la matriz:\\n',test_data.shape)"
   ]
  },
  {
   "cell_type": "code",
   "execution_count": 65,
   "metadata": {},
   "outputs": [],
   "source": [
    "# def myFun(arg1, *argv): \n",
    "#     print(type(argv))\n",
    "#     if len(argv)==0:\n",
    "#         print('no hay argumentos variables')\n",
    "#     print (\"First argument :\", arg1) \n",
    "#     for arg in argv: \n",
    "#         print(\"Next argument through *argv :\", arg)\n",
    "# #myFun(['hola','tu','chales'])\n",
    "# myFun(*[3])"
   ]
  },
  {
   "cell_type": "code",
   "execution_count": 66,
   "metadata": {},
   "outputs": [],
   "source": [
    "# nan_or_value_vec_one_arg=np.vectorize(nan_or_value)\n",
    "# nan_or_value_vec_mult_args=np.vectorize(nan_or_value, otypes=[object])\n",
    "# def nan_or_value_vec(M,f,*args):\n",
    "#     if len(args)==1:\n",
    "#         print('usase la función constante?')\n",
    "#         return nan_or_value_vec_one_arg(M,f,args)\n",
    "#     else:\n",
    "#         return nan_or_value_vec_mult_args(M,f,*args)"
   ]
  },
  {
   "cell_type": "code",
   "execution_count": 67,
   "metadata": {},
   "outputs": [],
   "source": [
    "# print('Numero de elementos distintos de cero:\\n',np.count_nonzero(R))"
   ]
  },
  {
   "cell_type": "code",
   "execution_count": 68,
   "metadata": {},
   "outputs": [],
   "source": [
    "#display(pd.DataFrame(MC).sort_values(by=['row','col'], ascending=True))"
   ]
  },
  {
   "cell_type": "code",
   "execution_count": 69,
   "metadata": {},
   "outputs": [],
   "source": [
    "#f = open('data_valida.txt', 'r')\n",
    "#file_contents = f.read()\n",
    "#print (file_contents)\n",
    "#f.close()"
   ]
  },
  {
   "cell_type": "code",
   "execution_count": 70,
   "metadata": {},
   "outputs": [],
   "source": [
    "#np.set_printoptions(sign=' ',formatter={'float': lambda x: \"{0:0.3f}\".format(x)})"
   ]
  },
  {
   "cell_type": "code",
   "execution_count": null,
   "metadata": {},
   "outputs": [],
   "source": []
  }
 ],
 "metadata": {
  "kernelspec": {
   "display_name": "Python 3",
   "language": "python",
   "name": "python3"
  },
  "language_info": {
   "codemirror_mode": {
    "name": "ipython",
    "version": 3
   },
   "file_extension": ".py",
   "mimetype": "text/x-python",
   "name": "python",
   "nbconvert_exporter": "python",
   "pygments_lexer": "ipython3",
   "version": "3.6.9"
  }
 },
 "nbformat": 4,
 "nbformat_minor": 4
}
