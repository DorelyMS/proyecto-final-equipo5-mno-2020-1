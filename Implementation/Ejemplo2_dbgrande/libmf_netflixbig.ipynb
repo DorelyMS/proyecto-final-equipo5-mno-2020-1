{
 "cells": [
  {
   "cell_type": "code",
   "execution_count": 3,
   "metadata": {},
   "outputs": [
    {
     "name": "stdout",
     "output_type": "stream",
     "text": [
      "Using file found in /home/miuser/.local/lib/python3.6/site-packages:\n",
      "/home/miuser/.local/lib/python3.6/site-packages/libmf.cpython-36m-x86_64-linux-gnu.so\n"
     ]
    }
   ],
   "source": [
    "import os\n",
    "import numpy as np\n",
    "import pandas as pd\n",
    "from libmf import mf"
   ]
  },
  {
   "cell_type": "code",
   "execution_count": 2,
   "metadata": {},
   "outputs": [
    {
     "name": "stdout",
     "output_type": "stream",
     "text": [
      "Defaulting to user installation because normal site-packages is not writeable\n",
      "Collecting libmf\n",
      "  Downloading libmf-0.9.2.tar.gz (21 kB)\n",
      "Requirement already satisfied: numpy in /home/miuser/.local/lib/python3.6/site-packages (from libmf) (1.18.1)\n",
      "Building wheels for collected packages: libmf\n",
      "  Building wheel for libmf (setup.py) ... \u001b[?25ldone\n",
      "\u001b[?25h  Created wheel for libmf: filename=libmf-0.9.2-cp36-cp36m-linux_x86_64.whl size=437317 sha256=9408e543c41dc873cc836974ed76ef0f8c77fda5f2bd5936d6481d9098d0521e\n",
      "  Stored in directory: /home/miuser/.cache/pip/wheels/ba/1a/0a/3e9f3910d9e15c8cb0774024f18228ae30e43513f1a99f8ef5\n",
      "Successfully built libmf\n",
      "Installing collected packages: libmf\n",
      "Successfully installed libmf-0.9.2\n",
      "\u001b[33mWARNING: You are using pip version 20.0.2; however, version 20.1 is available.\n",
      "You should consider upgrading via the '/usr/bin/python3 -m pip install --upgrade pip' command.\u001b[0m\n"
     ]
    }
   ],
   "source": [
    "import sys\n",
    "!{sys.executable} -m pip install libmf"
   ]
  },
  {
   "cell_type": "code",
   "execution_count": 5,
   "metadata": {},
   "outputs": [
    {
     "name": "stdout",
     "output_type": "stream",
     "text": [
      "/datos/proyecto-final-equipo5-mno-2020-1/Implementation/Ejemplo2_dbgrande\n"
     ]
    }
   ],
   "source": [
    "!pwd\n",
    "directorio = '/datos/datasets/'\n",
    "os.chdir(directorio)"
   ]
  },
  {
   "cell_type": "code",
   "execution_count": 8,
   "metadata": {},
   "outputs": [],
   "source": [
    "datos_val = pd.read_csv('netflix_test.txt',sep=' ', header = None, names = ['Cust_Id','Movie_Id','Rating'], usecols = [0,1,2])"
   ]
  },
  {
   "cell_type": "code",
   "execution_count": 9,
   "metadata": {},
   "outputs": [],
   "source": [
    "datos_ent = pd.read_csv('netflix_train.txt',sep=' ', header = None, names = ['Cust_Id','Movie_Id','Rating'], usecols = [0,1,2])"
   ]
  },
  {
   "cell_type": "code",
   "execution_count": 11,
   "metadata": {},
   "outputs": [
    {
     "name": "stdout",
     "output_type": "stream",
     "text": [
      "472331\n",
      "17769\n"
     ]
    }
   ],
   "source": [
    "X = np.array(datos_ent)\n",
    "Y = np.array(datos_val)\n",
    "\n",
    "n = np.unique(datos_val['Cust_Id'])\n",
    "n=len(n)\n",
    "print(n)                        \n",
    "p = np.unique(datos_val['Movie_Id'])\n",
    "p=len(p)\n",
    "print(p)"
   ]
  },
  {
   "cell_type": "code",
   "execution_count": 12,
   "metadata": {},
   "outputs": [],
   "source": [
    "k = 2\n",
    "eta = 0.1\n",
    "nr_iters = 10\n",
    "\n",
    "engine = mf.MF(fun = 0, k = k, eta = eta, nr_iters = nr_iters, quiet = False, \n",
    "               lambda_p2 = 0, lambda_q2 = 0)"
   ]
  },
  {
   "cell_type": "code",
   "execution_count": 13,
   "metadata": {},
   "outputs": [
    {
     "data": {
      "text/plain": [
       "array([  35983.78 ,   39904.613,   48233.22 , ...,   30364.832,\n",
       "         52690.41 , 1197620.5  ], dtype=float32)"
      ]
     },
     "execution_count": 13,
     "metadata": {},
     "output_type": "execute_result"
    }
   ],
   "source": [
    "engine.fit(X)\n",
    "engine.predict(Y[:,:2])"
   ]
  },
  {
   "cell_type": "code",
   "execution_count": null,
   "metadata": {},
   "outputs": [],
   "source": []
  }
 ],
 "metadata": {
  "kernelspec": {
   "display_name": "Python 3",
   "language": "python",
   "name": "python3"
  },
  "language_info": {
   "codemirror_mode": {
    "name": "ipython",
    "version": 3
   },
   "file_extension": ".py",
   "mimetype": "text/x-python",
   "name": "python",
   "nbconvert_exporter": "python",
   "pygments_lexer": "ipython3",
   "version": "3.6.9"
  }
 },
 "nbformat": 4,
 "nbformat_minor": 4
}
